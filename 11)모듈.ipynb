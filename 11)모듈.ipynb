{
 "cells": [
  {
   "cell_type": "markdown",
   "id": "e8cbdb13-5dbd-4ea4-80c1-eec5654b90e7",
   "metadata": {},
   "source": [
    "# 모듈이란\n",
    "- 함수나 변수 또는 클래스를 모아둔 파\n",
    "- 다른 파이썬 프로그램에서 불러와 사용할 수 있게 만든 파이썬 파일\n",
    "- 종류\n",
    "    - 표준모듈 : 파이썬에서 기본적으로 내장되어 있는 모듈\n",
    "    - 외부모듈 : 다른 사람들이 만들어서 공개한 모듈"
   ]
  },
  {
   "cell_type": "markdown",
   "id": "903479f7-7f87-44d9-9d52-c0044078b508",
   "metadata": {},
   "source": [
    "# 모듈 사용\n",
    "- import 모듈\n",
    "- from 모듈 improt 함수\n",
    "- from 모듈 improt 함수1, 함수2\n",
    "- from 모듈 import *"
   ]
  },
  {
   "cell_type": "code",
   "execution_count": 1,
   "id": "29f06c34-ead6-43cb-b67e-bf218f53e2d3",
   "metadata": {},
   "outputs": [],
   "source": [
    "import add_sub_module"
   ]
  },
  {
   "cell_type": "code",
   "execution_count": 2,
   "id": "d86ae785-1fb6-4e19-b3d4-e6c8e42e9f3d",
   "metadata": {},
   "outputs": [
    {
     "name": "stdout",
     "output_type": "stream",
     "text": [
      "7\n"
     ]
    }
   ],
   "source": [
    "print(add_sub_module.add(3, 4))"
   ]
  },
  {
   "cell_type": "code",
   "execution_count": 3,
   "id": "bb5a3bc3-0c1f-4f5a-a6ce-65fce5023678",
   "metadata": {},
   "outputs": [
    {
     "name": "stdout",
     "output_type": "stream",
     "text": [
      "2\n"
     ]
    }
   ],
   "source": [
    "print(add_sub_module.sub(4, 2))"
   ]
  },
  {
   "cell_type": "code",
   "execution_count": 4,
   "id": "603edb4e-bed2-478f-a431-e7f27033743c",
   "metadata": {},
   "outputs": [],
   "source": [
    "from add_sub_module import add, sub"
   ]
  },
  {
   "cell_type": "code",
   "execution_count": 5,
   "id": "1d7d6ce4-3ab5-4c4e-9e92-f023979a07d0",
   "metadata": {},
   "outputs": [
    {
     "data": {
      "text/plain": [
       "7"
      ]
     },
     "execution_count": 5,
     "metadata": {},
     "output_type": "execute_result"
    }
   ],
   "source": [
    "add(3, 4)"
   ]
  },
  {
   "cell_type": "code",
   "execution_count": 6,
   "id": "df5ca734-38db-415d-b4a9-4d56cff29a1d",
   "metadata": {},
   "outputs": [
    {
     "data": {
      "text/plain": [
       "1"
      ]
     },
     "execution_count": 6,
     "metadata": {},
     "output_type": "execute_result"
    }
   ],
   "source": [
    "sub(4, 3)"
   ]
  },
  {
   "cell_type": "code",
   "execution_count": 7,
   "id": "e237b111-d106-4e46-99ea-882a23a33bdd",
   "metadata": {},
   "outputs": [
    {
     "name": "stdout",
     "output_type": "stream",
     "text": [
      "<function add at 0x7fe980c481f0>\n"
     ]
    }
   ],
   "source": [
    "print(add)"
   ]
  },
  {
   "cell_type": "code",
   "execution_count": 8,
   "id": "58721c29-743a-4752-b707-8a13d69a8fc5",
   "metadata": {},
   "outputs": [],
   "source": [
    "import converter"
   ]
  },
  {
   "cell_type": "code",
   "execution_count": 10,
   "id": "ebf603ee-7541-45d7-a8fb-4db9da75d038",
   "metadata": {},
   "outputs": [
    {
     "name": "stdout",
     "output_type": "stream",
     "text": [
      "160km = 99.41936miles\n"
     ]
    }
   ],
   "source": [
    "miles = converter.kilometer_to_miles(160)\n",
    "print(f\"160km = {miles}miles\")"
   ]
  },
  {
   "cell_type": "code",
   "execution_count": 11,
   "id": "06af25d9-c491-4bdc-8a81-8082d805f9ee",
   "metadata": {},
   "outputs": [
    {
     "name": "stdout",
     "output_type": "stream",
     "text": [
      "1000g = 2.20462pounds\n"
     ]
    }
   ],
   "source": [
    "pounds = converter.gram_to_pounds(1000)\n",
    "print(f\"1000g = {pounds}pounds\")"
   ]
  },
  {
   "cell_type": "code",
   "execution_count": 12,
   "id": "045567df-1822-44c9-b040-2d1c5b5ba5cc",
   "metadata": {},
   "outputs": [],
   "source": [
    "from converter import *"
   ]
  },
  {
   "cell_type": "code",
   "execution_count": 13,
   "id": "77d232e4-eb1d-4aa6-808f-258601dddd06",
   "metadata": {},
   "outputs": [
    {
     "name": "stdout",
     "output_type": "stream",
     "text": [
      "86.99194\n"
     ]
    }
   ],
   "source": [
    "miles = kilometer_to_miles(140)\n",
    "print(miles)"
   ]
  },
  {
   "cell_type": "code",
   "execution_count": 14,
   "id": "3c0338c4-aa59-471f-aa43-31a050b3bcac",
   "metadata": {},
   "outputs": [
    {
     "name": "stdout",
     "output_type": "stream",
     "text": [
      "0.220462\n"
     ]
    }
   ],
   "source": [
    "pounds = gram_to_pounds(100)\n",
    "print(pounds)"
   ]
  },
  {
   "cell_type": "markdown",
   "id": "6e80b30a-c329-435e-8a7f-441886558fcf",
   "metadata": {},
   "source": [
    "# 별명 사용하기"
   ]
  },
  {
   "cell_type": "code",
   "execution_count": 15,
   "id": "0b234f70-e435-491f-9d09-9fb867b268bc",
   "metadata": {},
   "outputs": [
    {
     "name": "stdout",
     "output_type": "stream",
     "text": [
      "93.20565\n",
      "2.20462\n"
     ]
    }
   ],
   "source": [
    "import converter as cvt\n",
    "miles = cvt.kilometer_to_miles(150)\n",
    "print(miles)\n",
    "\n",
    "pounds = cvt.gram_to_pounds(1000)\n",
    "print(pounds)"
   ]
  },
  {
   "cell_type": "code",
   "execution_count": 16,
   "id": "c0193248-fc08-4ae8-b872-a881e9a9d7ec",
   "metadata": {},
   "outputs": [],
   "source": [
    "from converter import kilometer_to_miles as k2m"
   ]
  },
  {
   "cell_type": "code",
   "execution_count": 19,
   "id": "4f971295-5316-4a83-9f38-7504e0d66a42",
   "metadata": {},
   "outputs": [
    {
     "name": "stdout",
     "output_type": "stream",
     "text": [
      "99.41936\n"
     ]
    }
   ],
   "source": [
    "miles = k2m(160)\n",
    "print(miles)"
   ]
  },
  {
   "cell_type": "markdown",
   "id": "a734a463-6c0d-428d-9065-81205c8353d7",
   "metadata": {},
   "source": [
    "# 표준모듈\n",
    "- 파이썬에서 기본적으로 설치되어 있는 모듈\n",
    "- 별도의 설치 없이 import 사용 가능"
   ]
  },
  {
   "cell_type": "markdown",
   "id": "a32894fd-f0db-4c60-9818-5d4441ba0f63",
   "metadata": {},
   "source": [
    "## math\n",
    "- 수학과 관련된 값과 함수를 제공"
   ]
  },
  {
   "cell_type": "code",
   "execution_count": 20,
   "id": "54ebe399-92d6-4d89-a5c1-c173f525b673",
   "metadata": {},
   "outputs": [],
   "source": [
    "import math"
   ]
  },
  {
   "cell_type": "code",
   "execution_count": 21,
   "id": "92114d20-5844-4feb-92bf-d2c884ebe960",
   "metadata": {},
   "outputs": [
    {
     "data": {
      "text/plain": [
       "3.141592653589793"
      ]
     },
     "execution_count": 21,
     "metadata": {},
     "output_type": "execute_result"
    }
   ],
   "source": [
    "# 원주율\n",
    "math.pi"
   ]
  },
  {
   "cell_type": "code",
   "execution_count": 23,
   "id": "2d12a762-eac9-4249-beb0-04bc529191e2",
   "metadata": {},
   "outputs": [
    {
     "name": "stdout",
     "output_type": "stream",
     "text": [
      "2\n",
      "1\n"
     ]
    }
   ],
   "source": [
    "# 올림과 내림\n",
    "print(math.ceil(1.1)) # 올림\n",
    "print(math.floor(1.9)) # 내림"
   ]
  },
  {
   "cell_type": "code",
   "execution_count": 25,
   "id": "654eb564-4ad8-4d54-9fbd-6deced158458",
   "metadata": {},
   "outputs": [
    {
     "name": "stdout",
     "output_type": "stream",
     "text": [
      "-1\n",
      "-2\n"
     ]
    }
   ],
   "source": [
    "# 소수점 이하 절사\n",
    "print(math.trunc(-1.9)) # 절사\n",
    "print(math.floor(-1.9)) # 내림"
   ]
  },
  {
   "cell_type": "code",
   "execution_count": 26,
   "id": "26b7f02a-27b5-48f6-afbf-b44df06d21f5",
   "metadata": {},
   "outputs": [
    {
     "data": {
      "text/plain": [
       "5.0"
      ]
     },
     "execution_count": 26,
     "metadata": {},
     "output_type": "execute_result"
    }
   ],
   "source": [
    "# 제곱근\n",
    "math.sqrt(25) # 루트 25"
   ]
  },
  {
   "cell_type": "code",
   "execution_count": 27,
   "id": "574c6a01-be1b-4dc2-9b13-a07b61ab1e76",
   "metadata": {},
   "outputs": [
    {
     "data": {
      "text/plain": [
       "8.0"
      ]
     },
     "execution_count": 27,
     "metadata": {},
     "output_type": "execute_result"
    }
   ],
   "source": [
    "# 제곱\n",
    "math.pow(2, 3) # 2 ** 3"
   ]
  },
  {
   "cell_type": "markdown",
   "id": "92fce9e4-bd22-4e2c-beb1-2ba24abbad65",
   "metadata": {},
   "source": [
    "## random\n",
    "- 난수 생성 모듈"
   ]
  },
  {
   "cell_type": "code",
   "execution_count": 28,
   "id": "2a9fb00c-7830-44f7-9445-71b9de8cd83a",
   "metadata": {},
   "outputs": [],
   "source": [
    "import random"
   ]
  },
  {
   "cell_type": "markdown",
   "id": "f5fd060c-3d50-4e76-a51e-fac43b0f1cf0",
   "metadata": {},
   "source": [
    "- randint()\n",
    "    - 전달하는 두 인수 사이의 정수를 임의로 생성"
   ]
  },
  {
   "cell_type": "code",
   "execution_count": 43,
   "id": "b4a93c7b-b008-42ee-9020-a6c825ce99d8",
   "metadata": {},
   "outputs": [
    {
     "data": {
      "text/plain": [
       "3"
      ]
     },
     "execution_count": 43,
     "metadata": {},
     "output_type": "execute_result"
    }
   ],
   "source": [
    "random.randint(1, 10)"
   ]
  },
  {
   "cell_type": "markdown",
   "id": "e9f3aabf-c488-4c0a-8e6d-d8f830201519",
   "metadata": {},
   "source": [
    "- randrange()\n",
    "    - 특정 범위에 속한 정수 중에서 하나를 임의로 생성"
   ]
  },
  {
   "cell_type": "code",
   "execution_count": 67,
   "id": "c5a72959-7d3a-47e3-ac2a-3cbf8387cc3e",
   "metadata": {},
   "outputs": [
    {
     "data": {
      "text/plain": [
       "3"
      ]
     },
     "execution_count": 67,
     "metadata": {},
     "output_type": "execute_result"
    }
   ],
   "source": [
    "random.randrange(10)"
   ]
  },
  {
   "cell_type": "markdown",
   "id": "d26d2ba3-143c-48e3-a122-9ad5b0e891cd",
   "metadata": {},
   "source": [
    "- random()\n",
    "    - 0이상 1미만 범위에서 임의의 실수를 생성\n",
    "    - 0% 이상 100% 미만으로 확률을 처리할 때도 사용"
   ]
  },
  {
   "cell_type": "code",
   "execution_count": 68,
   "id": "42b7e98e-8473-475f-8cda-97cfdea3c810",
   "metadata": {},
   "outputs": [
    {
     "data": {
      "text/plain": [
       "0.7459847513136493"
      ]
     },
     "execution_count": 68,
     "metadata": {},
     "output_type": "execute_result"
    }
   ],
   "source": [
    "random.random()"
   ]
  },
  {
   "cell_type": "code",
   "execution_count": 91,
   "id": "2a51b434-09f6-4b3b-9160-a71f4aad7c56",
   "metadata": {},
   "outputs": [
    {
     "name": "stdout",
     "output_type": "stream",
     "text": [
      "안녕하세요\n"
     ]
    }
   ],
   "source": [
    "# 50% 확률로 안녕하세요를 출력하는 코드\n",
    "\n",
    "if random.random() < 0.5:\n",
    "    print(\"안녕하세요\")"
   ]
  },
  {
   "cell_type": "markdown",
   "id": "16b4feb5-e71a-49ad-8b82-ee94dda6bb6f",
   "metadata": {},
   "source": [
    "- choice()\n",
    "    - 전달된 시퀀스 자료형에 속한 요소 중에서 하나를 임의로 반환"
   ]
  },
  {
   "cell_type": "code",
   "execution_count": 92,
   "id": "7e5a8ed3-9fe2-470f-80f3-aa65f2c5a4eb",
   "metadata": {},
   "outputs": [
    {
     "data": {
      "text/plain": [
       "'fall'"
      ]
     },
     "execution_count": 92,
     "metadata": {},
     "output_type": "execute_result"
    }
   ],
   "source": [
    "seasons = [\"spring\", \"summer\", \"fall\", \"winter\"]\n",
    "random.choice(seasons)"
   ]
  },
  {
   "cell_type": "markdown",
   "id": "d6a74529-35be-4326-ac19-992b1ada278a",
   "metadata": {},
   "source": [
    "- sample()\n",
    "    - 전달된 시퀀스 자료형에 속한 요소 중 지정된 개수의 요소를 임의로 반환\n",
    "    - 반환 결과는 리스트 자료형\n",
    "    - 중복 없이 선택"
   ]
  },
  {
   "cell_type": "code",
   "execution_count": 93,
   "id": "ddd9206d-a867-405a-b8bc-28f200e67ec5",
   "metadata": {},
   "outputs": [
    {
     "data": {
      "text/plain": [
       "[4, 21, 43, 44, 10, 39]"
      ]
     },
     "execution_count": 93,
     "metadata": {},
     "output_type": "execute_result"
    }
   ],
   "source": [
    "random.sample(range(1, 46), 6)"
   ]
  },
  {
   "cell_type": "code",
   "execution_count": 94,
   "id": "a22db95d-93ea-4baa-b93e-4b38230ab8f9",
   "metadata": {},
   "outputs": [
    {
     "data": {
      "text/plain": [
       "[3, 4, 23, 28, 34, 43]"
      ]
     },
     "execution_count": 94,
     "metadata": {},
     "output_type": "execute_result"
    }
   ],
   "source": [
    "sorted(random.sample(range(1, 46), 6))"
   ]
  },
  {
   "cell_type": "markdown",
   "id": "da1150c7-17e8-49e2-a519-1dbcb398a38e",
   "metadata": {},
   "source": [
    "- shuffle()\n",
    "    - 임의로 섞는 것\n",
    "    - 전달된 시퀀스 자료형에 속한 요소의 순서를 임의로 조정하여 다시 재배치\n",
    "    - 실제로 전달된 시퀀스 자료형의 순서가 재배치됨\n",
    "    - str 이나 튜플 자료형을 전달하면 에러"
   ]
  },
  {
   "cell_type": "code",
   "execution_count": 95,
   "id": "2ff7a59d-208f-4265-b552-daab1a35937a",
   "metadata": {},
   "outputs": [],
   "source": [
    "my_list = [1, 2, 3, 4, 5]\n",
    "random.shuffle(my_list)"
   ]
  },
  {
   "cell_type": "code",
   "execution_count": 96,
   "id": "80a83443-1eb7-454f-8a65-7d4accc166fc",
   "metadata": {},
   "outputs": [
    {
     "name": "stdout",
     "output_type": "stream",
     "text": [
      "[4, 3, 5, 2, 1]\n"
     ]
    }
   ],
   "source": [
    "print(my_list)"
   ]
  },
  {
   "cell_type": "markdown",
   "id": "c9e2e2d2-3e57-4aa3-8b1c-2378507e983c",
   "metadata": {},
   "source": [
    "# time\n",
    "- 시간처리와 관련된 모듈"
   ]
  },
  {
   "cell_type": "code",
   "execution_count": 97,
   "id": "3def2657-7445-4cec-a218-21035b14ce5d",
   "metadata": {},
   "outputs": [],
   "source": [
    "import time"
   ]
  },
  {
   "cell_type": "markdown",
   "id": "ba7f7793-c112-4a23-a272-451f46d3844a",
   "metadata": {},
   "source": [
    "- time()\n",
    "    - 1970년 1월 1일 0시 0분 0초부터 현재까지 경과된 시간을 반환(UNIX OS 배포 날짜)\n",
    "    - 소수점 이하는 마이크로초를 의미"
   ]
  },
  {
   "cell_type": "code",
   "execution_count": 99,
   "id": "ca8cde5f-4a14-4705-b6c1-563c5bff976f",
   "metadata": {},
   "outputs": [
    {
     "data": {
      "text/plain": [
       "1682580766.715432"
      ]
     },
     "execution_count": 99,
     "metadata": {},
     "output_type": "execute_result"
    }
   ],
   "source": [
    "time.time()"
   ]
  },
  {
   "cell_type": "markdown",
   "id": "b0a94860-39fe-4c3e-a88a-68ff89ffda19",
   "metadata": {},
   "source": [
    "- ctime()\n",
    "    - 인수로 전달된 시간을 형식을 갖춰서 반환"
   ]
  },
  {
   "cell_type": "code",
   "execution_count": 100,
   "id": "215337e2-77c3-4f2c-8d73-b84b78754eee",
   "metadata": {},
   "outputs": [
    {
     "data": {
      "text/plain": [
       "'Thu Apr 27 16:33:50 2023'"
      ]
     },
     "execution_count": 100,
     "metadata": {},
     "output_type": "execute_result"
    }
   ],
   "source": [
    "time.ctime(time.time())"
   ]
  },
  {
   "cell_type": "markdown",
   "id": "e576d267-55fb-4ecc-a6a0-544574ee1a55",
   "metadata": {},
   "source": [
    "- sleep()\n",
    "    - 인수로 전달된 초 만큼 일시 정지"
   ]
  },
  {
   "cell_type": "code",
   "execution_count": 101,
   "id": "dd1795ab-76c3-4570-9d63-4541a1c689ca",
   "metadata": {},
   "outputs": [],
   "source": [
    "time.sleep(1) # 1초간 일시정지"
   ]
  },
  {
   "cell_type": "code",
   "execution_count": 103,
   "id": "e48bf466-955f-4120-a76d-4fd21657016f",
   "metadata": {},
   "outputs": [
    {
     "name": "stdout",
     "output_type": "stream",
     "text": [
      "1.005573034286499\n"
     ]
    }
   ],
   "source": [
    "s = time.time()\n",
    "time.sleep(1)\n",
    "print(time.time() - s)"
   ]
  },
  {
   "cell_type": "markdown",
   "id": "8c7d7cfd-65e9-4b26-b199-e13d263c8c3e",
   "metadata": {},
   "source": [
    "## datetime\n",
    "- 날짜와 시간 데이터를 처리"
   ]
  },
  {
   "cell_type": "code",
   "execution_count": 104,
   "id": "4be32063-7973-477b-9339-448816d104f2",
   "metadata": {},
   "outputs": [],
   "source": [
    "import datetime"
   ]
  },
  {
   "cell_type": "markdown",
   "id": "736009f3-04a4-42d8-bc93-fc5d754d2212",
   "metadata": {},
   "source": [
    "- now()\n",
    "    - 시스템의 현재 날짜와 시간을 반환"
   ]
  },
  {
   "cell_type": "code",
   "execution_count": 106,
   "id": "c529054e-0f50-4201-8c2e-0e5cf1745f3e",
   "metadata": {},
   "outputs": [
    {
     "name": "stdout",
     "output_type": "stream",
     "text": [
      "2023-04-27 16:40:35.775238\n"
     ]
    }
   ],
   "source": [
    "print(datetime.datetime.now())"
   ]
  },
  {
   "cell_type": "markdown",
   "id": "0415c8c7-24e2-4ecf-95d2-3f9ded3974f6",
   "metadata": {},
   "source": [
    "- date()\n",
    "    - 특정 날짜를 만들어서 반환"
   ]
  },
  {
   "cell_type": "code",
   "execution_count": 108,
   "id": "94a7b583-f7b2-4f9b-9278-7fcb646ff847",
   "metadata": {},
   "outputs": [
    {
     "name": "stdout",
     "output_type": "stream",
     "text": [
      "2014-08-25\n"
     ]
    }
   ],
   "source": [
    "print(datetime.date(2014, 8, 25))"
   ]
  },
  {
   "cell_type": "markdown",
   "id": "b0dd86ba-ff00-4cba-8047-51208ec1b702",
   "metadata": {},
   "source": [
    "- time()\n",
    "    - 특정 시간을 만들어서 반환"
   ]
  },
  {
   "cell_type": "code",
   "execution_count": 110,
   "id": "ee612886-05ad-40ac-90e9-7dabec16a33c",
   "metadata": {},
   "outputs": [
    {
     "name": "stdout",
     "output_type": "stream",
     "text": [
      "10:48:00\n"
     ]
    }
   ],
   "source": [
    "print(datetime.time(10, 48, 0))"
   ]
  },
  {
   "cell_type": "markdown",
   "id": "4fefdc83-2156-4d12-93ce-5a55e454f557",
   "metadata": {},
   "source": [
    "- 날짜/시간 관련 필드값"
   ]
  },
  {
   "cell_type": "code",
   "execution_count": 112,
   "id": "9d99935e-715f-4a32-8520-6f2d22bc648b",
   "metadata": {},
   "outputs": [],
   "source": [
    "today = datetime.datetime.now()"
   ]
  },
  {
   "cell_type": "code",
   "execution_count": 113,
   "id": "b8c2e91f-ee93-49be-af62-7f77313e00af",
   "metadata": {},
   "outputs": [
    {
     "data": {
      "text/plain": [
       "2023"
      ]
     },
     "execution_count": 113,
     "metadata": {},
     "output_type": "execute_result"
    }
   ],
   "source": [
    "today.year"
   ]
  },
  {
   "cell_type": "code",
   "execution_count": 114,
   "id": "7b9cf406-449e-4b18-865e-2bde09055202",
   "metadata": {},
   "outputs": [
    {
     "data": {
      "text/plain": [
       "4"
      ]
     },
     "execution_count": 114,
     "metadata": {},
     "output_type": "execute_result"
    }
   ],
   "source": [
    "today.month"
   ]
  },
  {
   "cell_type": "code",
   "execution_count": 115,
   "id": "c334d7f6-1851-4f36-aab2-1d89a9114521",
   "metadata": {},
   "outputs": [
    {
     "data": {
      "text/plain": [
       "27"
      ]
     },
     "execution_count": 115,
     "metadata": {},
     "output_type": "execute_result"
    }
   ],
   "source": [
    "today.day"
   ]
  },
  {
   "cell_type": "code",
   "execution_count": 116,
   "id": "d463b056-0287-4092-9f9e-76f6cc288858",
   "metadata": {},
   "outputs": [
    {
     "data": {
      "text/plain": [
       "16"
      ]
     },
     "execution_count": 116,
     "metadata": {},
     "output_type": "execute_result"
    }
   ],
   "source": [
    "today.hour"
   ]
  },
  {
   "cell_type": "code",
   "execution_count": 117,
   "id": "a4e4c74b-fe67-46f5-985c-5b3f47bae205",
   "metadata": {},
   "outputs": [
    {
     "data": {
      "text/plain": [
       "44"
      ]
     },
     "execution_count": 117,
     "metadata": {},
     "output_type": "execute_result"
    }
   ],
   "source": [
    "today.minute"
   ]
  },
  {
   "cell_type": "code",
   "execution_count": 118,
   "id": "b98fbc4d-091a-468c-9f93-dc1d9e072577",
   "metadata": {},
   "outputs": [
    {
     "data": {
      "text/plain": [
       "31"
      ]
     },
     "execution_count": 118,
     "metadata": {},
     "output_type": "execute_result"
    }
   ],
   "source": [
    "today.second"
   ]
  },
  {
   "cell_type": "markdown",
   "id": "817ed365-7377-4691-9222-7d02c6b49624",
   "metadata": {},
   "source": [
    "- timedelta()\n",
    "    - 날짜/시간 데이터의 연산을 위해 사용"
   ]
  },
  {
   "cell_type": "code",
   "execution_count": 119,
   "id": "ed5ef1be-1bc8-4503-b9c8-075b12f51606",
   "metadata": {},
   "outputs": [
    {
     "name": "stdout",
     "output_type": "stream",
     "text": [
      "2023-04-26 16:49:03.412061\n",
      "2023-04-28 16:49:03.412061\n"
     ]
    }
   ],
   "source": [
    "today = datetime.datetime.now()\n",
    "yesterday = today - datetime.timedelta(days = 1)\n",
    "tomorrow = today + datetime.timedelta(days = 1)\n",
    "print(yesterday)\n",
    "print(tomorrow)"
   ]
  },
  {
   "cell_type": "code",
   "execution_count": null,
   "id": "f6f87909-80d4-477e-9de1-50de65b75952",
   "metadata": {},
   "outputs": [],
   "source": []
  },
  {
   "cell_type": "code",
   "execution_count": null,
   "id": "ea857015-ddc9-4b1a-9ad9-fc018d26425e",
   "metadata": {},
   "outputs": [],
   "source": []
  },
  {
   "cell_type": "code",
   "execution_count": null,
   "id": "80b5b031-e805-490b-b8e2-1b360a91ab9c",
   "metadata": {},
   "outputs": [],
   "source": []
  },
  {
   "cell_type": "code",
   "execution_count": null,
   "id": "cf5b1adb-6212-4d9e-ac26-350bd08c8138",
   "metadata": {},
   "outputs": [],
   "source": []
  },
  {
   "cell_type": "code",
   "execution_count": null,
   "id": "ba8df6ba-73ae-428a-a272-1d4673661914",
   "metadata": {},
   "outputs": [],
   "source": []
  },
  {
   "cell_type": "code",
   "execution_count": null,
   "id": "ccbcbf79-65c0-4122-9094-057d8132ec60",
   "metadata": {},
   "outputs": [],
   "source": []
  },
  {
   "cell_type": "code",
   "execution_count": null,
   "id": "0f5e5bc9-a909-4c2e-82c8-eb965c9b5d09",
   "metadata": {},
   "outputs": [],
   "source": []
  },
  {
   "cell_type": "code",
   "execution_count": null,
   "id": "6bdb3359-1fe8-4984-940f-9f6b4f19c788",
   "metadata": {},
   "outputs": [],
   "source": []
  },
  {
   "cell_type": "code",
   "execution_count": null,
   "id": "b1207858-2f10-40ca-9e3a-9ce291be56f7",
   "metadata": {},
   "outputs": [],
   "source": []
  },
  {
   "cell_type": "code",
   "execution_count": null,
   "id": "0cc03456-9e18-49b2-bf55-6f7c06fe29ec",
   "metadata": {},
   "outputs": [],
   "source": []
  },
  {
   "cell_type": "code",
   "execution_count": null,
   "id": "7ad29615-7a59-4e7e-8f32-74961a5212d0",
   "metadata": {},
   "outputs": [],
   "source": []
  },
  {
   "cell_type": "code",
   "execution_count": null,
   "id": "78000c9d-22a2-4e02-a5eb-ad19b95896e4",
   "metadata": {},
   "outputs": [],
   "source": []
  },
  {
   "cell_type": "code",
   "execution_count": null,
   "id": "9743669e-4196-4f5c-acd6-5167dfad43e2",
   "metadata": {},
   "outputs": [],
   "source": []
  },
  {
   "cell_type": "code",
   "execution_count": null,
   "id": "ea362a83-878e-4499-8d07-8660ba4e6f9e",
   "metadata": {},
   "outputs": [],
   "source": []
  },
  {
   "cell_type": "code",
   "execution_count": null,
   "id": "618c688b-ac9a-41a9-9ad8-042b21b25754",
   "metadata": {},
   "outputs": [],
   "source": []
  },
  {
   "cell_type": "code",
   "execution_count": null,
   "id": "209aba82-2c79-413d-a7fb-0affa648e537",
   "metadata": {},
   "outputs": [],
   "source": []
  },
  {
   "cell_type": "code",
   "execution_count": null,
   "id": "4aa4a0cf-617c-469a-b708-30905fd1eefb",
   "metadata": {},
   "outputs": [],
   "source": []
  },
  {
   "cell_type": "code",
   "execution_count": null,
   "id": "70f09123-ec9e-47d3-b8d9-f6feb1f0e4fc",
   "metadata": {},
   "outputs": [],
   "source": []
  },
  {
   "cell_type": "code",
   "execution_count": null,
   "id": "59b1dacb-870c-434f-93de-33b69fd5848b",
   "metadata": {},
   "outputs": [],
   "source": []
  },
  {
   "cell_type": "code",
   "execution_count": null,
   "id": "6ecea0dd-6bfe-41e9-a28c-d37c734038a4",
   "metadata": {},
   "outputs": [],
   "source": []
  },
  {
   "cell_type": "code",
   "execution_count": null,
   "id": "1064a3d5-2797-4354-9cb9-c59dadaca0f8",
   "metadata": {},
   "outputs": [],
   "source": []
  },
  {
   "cell_type": "code",
   "execution_count": null,
   "id": "eb02c81c-bf5b-4316-b5ad-03c11743c302",
   "metadata": {},
   "outputs": [],
   "source": []
  }
 ],
 "metadata": {
  "kernelspec": {
   "display_name": "Python 3 (ipykernel)",
   "language": "python",
   "name": "python3"
  },
  "language_info": {
   "codemirror_mode": {
    "name": "ipython",
    "version": 3
   },
   "file_extension": ".py",
   "mimetype": "text/x-python",
   "name": "python",
   "nbconvert_exporter": "python",
   "pygments_lexer": "ipython3",
   "version": "3.10.9"
  }
 },
 "nbformat": 4,
 "nbformat_minor": 5
}
