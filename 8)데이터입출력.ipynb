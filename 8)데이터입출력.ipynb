{
 "cells": [
  {
   "cell_type": "markdown",
   "id": "faa1986e-0341-4b03-a53d-64b3deaf63e1",
   "metadata": {},
   "source": [
    "# 사용자 입력\n",
    "- 사용자가 값을 입력하게 하고 싶을 때"
   ]
  },
  {
   "cell_type": "markdown",
   "id": "5e52ee4d-51a0-4d64-bb85-1e26e17d945e",
   "metadata": {},
   "source": [
    "## input()"
   ]
  },
  {
   "cell_type": "code",
   "execution_count": 3,
   "id": "1afbff26-402f-4db1-bb95-4fb894169e52",
   "metadata": {},
   "outputs": [
    {
     "name": "stdin",
     "output_type": "stream",
     "text": [
      " 파이썬\n"
     ]
    }
   ],
   "source": [
    "a = input()"
   ]
  },
  {
   "cell_type": "code",
   "execution_count": 4,
   "id": "8c342062-2201-414f-888c-fabbd771f628",
   "metadata": {},
   "outputs": [
    {
     "name": "stdout",
     "output_type": "stream",
     "text": [
      "파이썬\n"
     ]
    }
   ],
   "source": [
    "print(a)"
   ]
  },
  {
   "cell_type": "code",
   "execution_count": 7,
   "id": "745cff53-503c-4e9a-b2e1-d58cad2cb3dd",
   "metadata": {},
   "outputs": [
    {
     "name": "stdin",
     "output_type": "stream",
     "text": [
      "숫자를 입력하세요 :  4\n"
     ]
    }
   ],
   "source": [
    "number = input(\"숫자를 입력하세요 : \")"
   ]
  },
  {
   "cell_type": "code",
   "execution_count": 8,
   "id": "f0ad0769-1d96-4ee0-98f3-0f2ec64cec47",
   "metadata": {},
   "outputs": [
    {
     "name": "stdout",
     "output_type": "stream",
     "text": [
      "4\n"
     ]
    }
   ],
   "source": [
    "print(number)"
   ]
  },
  {
   "cell_type": "code",
   "execution_count": 10,
   "id": "4a9f00e1-2490-49bd-bed6-9aefae570c26",
   "metadata": {},
   "outputs": [
    {
     "name": "stdout",
     "output_type": "stream",
     "text": [
      "<class 'str'>\n"
     ]
    }
   ],
   "source": [
    "# input은 입력되는 모든 데이터를 문자열로 취급한다.\n",
    "print(type(number))"
   ]
  },
  {
   "cell_type": "markdown",
   "id": "0b791565-09d9-44ee-8f4a-104cd37234b1",
   "metadata": {},
   "source": [
    "# 파일 처리\n",
    "- 파일 처리를 위해서는 파일 열기(open)를 먼저 해야함\n",
    "    - 파일을 열면 파일 읽기(read) 또는 쓰기(write)를 할 수 있음\n",
    "    - 파일 입력(읽기) : 파일의 내용을 읽어들이는 것\n",
    "    - 파일 출력(쓰기) : 파일에 새로운 내용을 추가하거나 새 파일을 생성하는것"
   ]
  },
  {
   "cell_type": "markdown",
   "id": "e3c7cb2d-ed0a-47ed-97ce-9dbb5b7b1b7a",
   "metadata": {},
   "source": [
    "## 파일 생성\n",
    "- 파일 객체 = open(파일이름(경로), 파일열기모드)"
   ]
  },
  {
   "cell_type": "code",
   "execution_count": 11,
   "id": "b145aad3-0001-4340-89e6-691727cf38f0",
   "metadata": {},
   "outputs": [],
   "source": [
    "f = open(\"new_file.txt\", \"w\")\n",
    "f.close() # 파일 닫기"
   ]
  },
  {
   "cell_type": "markdown",
   "id": "882fd86c-d4a8-424a-8955-a1ee6568dd70",
   "metadata": {},
   "source": [
    "- 파일 열기 모드\n",
    "    - r(읽기)\n",
    "        - 파일을 읽기만 할 때\n",
    "        - 파일이 없으면 error\n",
    "    - w(쓰기)\n",
    "        - 파일에 내용을 쓸 때\n",
    "        - 파일이 없으면 새로 만듦\n",
    "        - 기존 파일에 있던 데이터를 완전히 지우고 다시 작성\n",
    "    - a(추가)\n",
    "        - 파일의 마지막에 새로운 내용을 추가할 때 사용\n",
    "        - 파일이 없으면 새로 생성"
   ]
  },
  {
   "cell_type": "code",
   "execution_count": 13,
   "id": "357644da-781b-4490-af9c-d5ae218ea989",
   "metadata": {},
   "outputs": [],
   "source": [
    "f = open(\"new_file.txt\", \"w\")\n",
    "\n",
    "for i in range(1, 11):\n",
    "    f.write(str(i) + \"\\n\")\n",
    "    \n",
    "f.close()"
   ]
  },
  {
   "cell_type": "markdown",
   "id": "f2f00fcd-b779-4e6d-b69a-f52a886b3d39",
   "metadata": {},
   "source": [
    "## 파일 입력"
   ]
  },
  {
   "cell_type": "markdown",
   "id": "d7dc0be6-11a6-444f-97de-eb961e20d7d6",
   "metadata": {},
   "source": [
    "- readline()"
   ]
  },
  {
   "cell_type": "code",
   "execution_count": 15,
   "id": "f936b0b3-72f3-4c99-ae9e-569903536518",
   "metadata": {},
   "outputs": [
    {
     "name": "stdout",
     "output_type": "stream",
     "text": [
      "1\n",
      "\n"
     ]
    }
   ],
   "source": [
    "f = open(\"new_file.txt\", \"r\")\n",
    "# 파일의 첫번째 줄을 읽음\n",
    "line = f.readline()\n",
    "print(line)\n",
    "f.close()"
   ]
  },
  {
   "cell_type": "code",
   "execution_count": 18,
   "id": "d56d0444-0c6f-4443-b068-26f95afae07e",
   "metadata": {},
   "outputs": [
    {
     "name": "stdout",
     "output_type": "stream",
     "text": [
      "1\n",
      "2\n",
      "3\n",
      "4\n",
      "5\n",
      "6\n",
      "7\n",
      "8\n",
      "9\n",
      "10\n"
     ]
    }
   ],
   "source": [
    "# 모든 줄을 읽고 싶다면 반복문 작성\n",
    "f = open(\"new_file.txt\", \"r\")\n",
    "while True:\n",
    "    line = f.readline()\n",
    "    \n",
    "    if not line:\n",
    "        break\n",
    "    \n",
    "    #print(line)\n",
    "    print(line, end = \"\")\n",
    "\n",
    "f.close()"
   ]
  },
  {
   "cell_type": "markdown",
   "id": "40b058a8-43c1-42f2-ad02-b527b35495c0",
   "metadata": {
    "tags": []
   },
   "source": [
    "- readlines()\n",
    "    - 파일의 모든 줄을 읽어서 각각의 줄을 요소로 갖는 리스트가 반환된다."
   ]
  },
  {
   "cell_type": "code",
   "execution_count": 19,
   "id": "db3aafaf-9c9e-4d8d-9882-d1ad5250a2ac",
   "metadata": {},
   "outputs": [
    {
     "name": "stdout",
     "output_type": "stream",
     "text": [
      "1\n",
      "\n",
      "2\n",
      "\n",
      "3\n",
      "\n",
      "4\n",
      "\n",
      "5\n",
      "\n",
      "6\n",
      "\n",
      "7\n",
      "\n",
      "8\n",
      "\n",
      "9\n",
      "\n",
      "10\n",
      "\n"
     ]
    }
   ],
   "source": [
    "f = open(\"new_file.txt\", \"r\")\n",
    "lines = f.readlines()\n",
    "\n",
    "for line in lines:\n",
    "    print(line)\n",
    "\n",
    "f.close()"
   ]
  },
  {
   "cell_type": "code",
   "execution_count": 21,
   "id": "29493e3d-9781-4731-bc27-3143820c1a00",
   "metadata": {},
   "outputs": [
    {
     "data": {
      "text/plain": [
       "['1\\n', '2\\n', '3\\n', '4\\n', '5\\n', '6\\n', '7\\n', '8\\n', '9\\n', '10\\n']"
      ]
     },
     "execution_count": 21,
     "metadata": {},
     "output_type": "execute_result"
    }
   ],
   "source": [
    "lines"
   ]
  },
  {
   "cell_type": "markdown",
   "id": "90dc8614-3b36-4cf7-987c-f67a18ad82c0",
   "metadata": {},
   "source": [
    "- read()\n",
    "    - 파일 내용 전체를 문자열로 반환"
   ]
  },
  {
   "cell_type": "code",
   "execution_count": 22,
   "id": "6de221a3-1878-4cbe-ab42-0d2f436c2f11",
   "metadata": {},
   "outputs": [
    {
     "name": "stdout",
     "output_type": "stream",
     "text": [
      "1\n",
      "2\n",
      "3\n",
      "4\n",
      "5\n",
      "6\n",
      "7\n",
      "8\n",
      "9\n",
      "10\n",
      "\n"
     ]
    }
   ],
   "source": [
    "f = open(\"new_file.txt\", \"r\")\n",
    "data = f.read()\n",
    "print(data)\n",
    "f.close()"
   ]
  },
  {
   "cell_type": "code",
   "execution_count": 25,
   "id": "946ded57-caf8-455f-ab64-58be7a802c4e",
   "metadata": {},
   "outputs": [
    {
     "data": {
      "text/plain": [
       "'1\\n2\\n3\\n4\\n5\\n6\\n7\\n8\\n9\\n10\\n'"
      ]
     },
     "execution_count": 25,
     "metadata": {},
     "output_type": "execute_result"
    }
   ],
   "source": [
    "data"
   ]
  },
  {
   "cell_type": "markdown",
   "id": "0ff817e7-e69d-434f-8307-c5afac1a8e40",
   "metadata": {},
   "source": [
    "## 파일 수정"
   ]
  },
  {
   "cell_type": "code",
   "execution_count": 1,
   "id": "9740ef17-8488-4d2c-acdb-55428a8c56e2",
   "metadata": {},
   "outputs": [],
   "source": [
    "f = open(\"new_file.txt\", \"a\")\n",
    "\n",
    "for i in range(11, 20):\n",
    "    f.write(str(i) + \"\\n\")\n",
    "    \n",
    "f.close()"
   ]
  },
  {
   "cell_type": "markdown",
   "id": "37de0c44-0c32-477d-8f58-da0b65fa6315",
   "metadata": {},
   "source": [
    "# with 문\n",
    "- 파일 사용이 끝난 다음에는 반드시 close()로 파일을 닫아주어야 한다.\n",
    "- 자동으로 파일을 닫아주는 문법이 with문"
   ]
  },
  {
   "cell_type": "code",
   "execution_count": 2,
   "id": "8cd75dfe-21ca-4304-9140-a88d8148c295",
   "metadata": {},
   "outputs": [
    {
     "name": "stdout",
     "output_type": "stream",
     "text": [
      "1\n",
      "2\n",
      "3\n",
      "4\n",
      "5\n",
      "6\n",
      "7\n",
      "8\n",
      "9\n",
      "10\n",
      "11\n",
      "12\n",
      "13\n",
      "14\n",
      "15\n",
      "16\n",
      "17\n",
      "18\n",
      "19\n",
      "\n"
     ]
    }
   ],
   "source": [
    "with open(\"new_file.txt\", \"r\") as f:\n",
    "    data = f.read()\n",
    "    print(data)"
   ]
  },
  {
   "cell_type": "code",
   "execution_count": 3,
   "id": "678a0e8a-1e0d-42e8-8c93-2ffacdea5b51",
   "metadata": {},
   "outputs": [
    {
     "ename": "ValueError",
     "evalue": "I/O operation on closed file.",
     "output_type": "error",
     "traceback": [
      "\u001b[0;31m---------------------------------------------------------------------------\u001b[0m",
      "\u001b[0;31mValueError\u001b[0m                                Traceback (most recent call last)",
      "Cell \u001b[0;32mIn[3], line 1\u001b[0m\n\u001b[0;32m----> 1\u001b[0m \u001b[43mf\u001b[49m\u001b[38;5;241;43m.\u001b[39;49m\u001b[43mread\u001b[49m\u001b[43m(\u001b[49m\u001b[43m)\u001b[49m\n",
      "\u001b[0;31mValueError\u001b[0m: I/O operation on closed file."
     ]
    }
   ],
   "source": [
    "f.read()"
   ]
  }
 ],
 "metadata": {
  "kernelspec": {
   "display_name": "Python 3 (ipykernel)",
   "language": "python",
   "name": "python3"
  },
  "language_info": {
   "codemirror_mode": {
    "name": "ipython",
    "version": 3
   },
   "file_extension": ".py",
   "mimetype": "text/x-python",
   "name": "python",
   "nbconvert_exporter": "python",
   "pygments_lexer": "ipython3",
   "version": "3.10.9"
  }
 },
 "nbformat": 4,
 "nbformat_minor": 5
}
