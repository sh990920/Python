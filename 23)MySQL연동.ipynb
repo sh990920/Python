{
 "cells": [
  {
   "cell_type": "code",
   "execution_count": 1,
   "id": "a8ced4ec-efc3-4786-bc84-74876267fce6",
   "metadata": {},
   "outputs": [],
   "source": [
    "import pymysql"
   ]
  },
  {
   "cell_type": "markdown",
   "id": "dc54d347-4f8b-46f6-b14f-f6d726abd6b0",
   "metadata": {},
   "source": [
    "# 파이썬과 MySQL의 연동\n",
    "- pymysql 라이브러리를 이용하면 파이썬과 MySQL을 연동하는 데이터베이스 연동 프로그램을 작성할 수 있음"
   ]
  },
  {
   "cell_type": "markdown",
   "id": "751e6fc5-0fe7-44e4-a49f-38d72c7de454",
   "metadata": {},
   "source": [
    "## 파이썬에서 데이터 입력\n",
    "1. mysql 연결하기\n",
    "    - 연결자 = pymysql.connect(연결 옵션)\n",
    "    \n",
    "2. 커서 생성하기\n",
    "    - 커서이름 = 연결자.cursor()\n",
    "    \n",
    "3. 테이블 만들기\n",
    "    - 커서이름.execute(\"CREATE TABLE 문장\")\n",
    "\n",
    "4. 데이터 입력하기\n",
    "    - 커서이름.execute(\"INSERT 문장\")\n",
    "    \n",
    "5. 입력한 데이터 저장하기\n",
    "    - 연결자.commit()\n",
    "    \n",
    "6. MySQL 연결 종료하기\n",
    "    - 연결자.close()"
   ]
  },
  {
   "cell_type": "markdown",
   "id": "7e07276f-6b66-41ab-9160-89fc233539bb",
   "metadata": {},
   "source": [
    "### mysql 연결\n",
    "    - pymysql.connect(host = 서버IP주소, user = 사용자, password = 암호, db = 데이터베이스, charset = 문자세트)"
   ]
  },
  {
   "cell_type": "code",
   "execution_count": 2,
   "id": "cc899b3d-b203-46b1-a10a-3b0f5e14edbb",
   "metadata": {},
   "outputs": [],
   "source": [
    "conn = pymysql.connect(host = \"127.0.0.1\", user = \"root\", password = \"root\",\n",
    "                      db = \"soloDB\", charset = \"utf8\")"
   ]
  },
  {
   "cell_type": "markdown",
   "id": "cfa11b87-8cd1-4652-8041-836aad794e2f",
   "metadata": {},
   "source": [
    "- conn : 연결자를 의미하는 connection의 약자\n",
    "    - 관습적으로 conn 또는 con 이라는 변수명을 사용함"
   ]
  },
  {
   "cell_type": "markdown",
   "id": "4055f856-f785-44bc-a7b8-0d6b1adff8cf",
   "metadata": {},
   "source": [
    "### 커서 생성\n",
    "- 커서(cursor) : 데이터베이스에 sql문을 실행하거나 실행된 결과를 받는 통로\n",
    "- 커서는 앞 단계에서 연결한 연결자에 만들어야 함"
   ]
  },
  {
   "cell_type": "code",
   "execution_count": 3,
   "id": "7407c550-18ea-4330-a171-fb76abbc8da8",
   "metadata": {},
   "outputs": [],
   "source": [
    "cur = conn.cursor()"
   ]
  },
  {
   "cell_type": "markdown",
   "id": "278fe433-9bc8-47af-b8f3-6c9a0dc81e3f",
   "metadata": {},
   "source": [
    "### 테이블 생성\n",
    "- 테이블을 실행하는 sql문을 커서이름.execute()함수의 매개변수로 전달"
   ]
  },
  {
   "cell_type": "code",
   "execution_count": 4,
   "id": "32976ca3-36d9-4bb0-8ad2-1d24899d1bb7",
   "metadata": {},
   "outputs": [
    {
     "data": {
      "text/plain": [
       "0"
      ]
     },
     "execution_count": 4,
     "metadata": {},
     "output_type": "execute_result"
    }
   ],
   "source": [
    "cur.execute(\"\"\"\n",
    "CREATE TABLE userTable (\n",
    "id char(4),\n",
    "userName char(15),\n",
    "email char(20),\n",
    "birthYear int\n",
    ");\n",
    "\"\"\")"
   ]
  },
  {
   "cell_type": "markdown",
   "id": "dc292153-cc88-4933-b9d6-ae33e225f207",
   "metadata": {},
   "source": [
    "### 데이터 입력"
   ]
  },
  {
   "cell_type": "code",
   "execution_count": 5,
   "id": "8c976c6b-afbb-4aae-83e7-e733a6ed9f4f",
   "metadata": {},
   "outputs": [
    {
     "data": {
      "text/plain": [
       "1"
      ]
     },
     "execution_count": 5,
     "metadata": {},
     "output_type": "execute_result"
    }
   ],
   "source": [
    "cur.execute(\"\"\"\n",
    "INSERT INTO userTable VALUES(\"hong\", \"홍지윤\", \"hong@naver.com\", 1996);\n",
    "\"\"\")\n",
    "cur.execute(\"\"\"\n",
    "INSERT INTO userTable VALUES(\"kim\", \"김태연\", \"kim@naver.com\", 2011);\n",
    "\"\"\")\n",
    "cur.execute(\"\"\"\n",
    "INSERT INTO userTable VALUES(\"star\", \"별사랑\", \"star@naver.com\", 1990);\n",
    "\"\"\")\n",
    "cur.execute(\"\"\"\n",
    "INSERT INTO userTable VALUES(\"yang\", \"양지은\", \"yang@naver.com\", 1993);\n",
    "\"\"\")"
   ]
  },
  {
   "cell_type": "markdown",
   "id": "81982fd1-7f1b-420a-b345-82e04fae636d",
   "metadata": {},
   "source": [
    "### 입력한 데이터 저장\n",
    "- 앞 단계에서 입력한 데이터가 아직 데이터베이스에 완전히 반영되지 않았음\n",
    "- 현재까지의 입력 데이터를 완전히 데이터베이스에 반영하는 것을 커밋(commit)이라고 함"
   ]
  },
  {
   "cell_type": "code",
   "execution_count": 6,
   "id": "b0b631a6-5383-4046-8547-4c30fcb586e8",
   "metadata": {},
   "outputs": [],
   "source": [
    "conn.commit()"
   ]
  },
  {
   "cell_type": "markdown",
   "id": "023b1743-7506-487b-a346-32ed40e2e67c",
   "metadata": {},
   "source": [
    "### 연결 종료\n",
    "- 데이터베이스 사용 후에는 연결자를 닫아줘야 함"
   ]
  },
  {
   "cell_type": "code",
   "execution_count": 7,
   "id": "19f288bd-18a2-4b78-b8b7-933fcc511b33",
   "metadata": {},
   "outputs": [],
   "source": [
    "conn.close()"
   ]
  },
  {
   "cell_type": "markdown",
   "id": "8e9ccbe9-15fa-4b20-b825-a418f5fa61fa",
   "metadata": {},
   "source": [
    "## 연동프로그래밍 활용"
   ]
  },
  {
   "cell_type": "code",
   "execution_count": 8,
   "id": "0d677c22-5dc6-4c65-a114-32ac91390e75",
   "metadata": {},
   "outputs": [
    {
     "name": "stdin",
     "output_type": "stream",
     "text": [
      "사용자 ID ==>  su\n",
      "사용자 이름 ==>  수지\n",
      "사용자 이메일 ==>  suji@naver.com\n",
      "사용자 출생연도 ==>  1994\n"
     ]
    }
   ],
   "source": [
    "conn = pymysql.connect(host = \"127.0.0.1\", user = \"root\", password = \"root\",\n",
    "                       db = \"soloDB\", charset = \"utf8\")\n",
    "\n",
    "cur = conn.cursor()\n",
    "\n",
    "user_id = input(\"사용자 ID ==> \")\n",
    "user_name = input(\"사용자 이름 ==> \")\n",
    "user_email = input(\"사용자 이메일 ==> \")\n",
    "user_birth = input(\"사용자 출생연도 ==> \")\n",
    "\n",
    "sql = f\"\"\"INSERT INTO userTable VALUES('{user_id}', '{user_name}', '{user_email}', '{int(user_birth)}')\"\"\"\n",
    "\n",
    "cur.execute(sql)\n",
    "\n",
    "conn.commit()\n",
    "conn.close()"
   ]
  },
  {
   "cell_type": "markdown",
   "id": "bc1f1efe-1389-446b-a6be-a632b734c90e",
   "metadata": {},
   "source": [
    "## 데이터 조회\n",
    "1. mysql 연결\n",
    "    - 연결자 = pymysql.connect(연결 옵션)\n",
    "\n",
    "2. 커서 생성\n",
    "    - 커서이름 = 연결자.cursor()\n",
    "    \n",
    "3. 데이터 조회\n",
    "    - 커서이름.execute(\"SELECT 문장\")\n",
    "    \n",
    "4. 조회한 데이터 출력\n",
    "    - 커서이름.fetch\n",
    "        - fetchone()\n",
    "        - fetchall()\n",
    "        - fetchmany()\n",
    "        \n",
    "5. MySQL연결 종료\n",
    "    - 연결자.close()\n",
    "    \n",
    "- 조회는 데이터를 입력하거나 변경하는 것이 아니므로 굳이 저장(커밋)을 할 필요는 없음"
   ]
  },
  {
   "cell_type": "code",
   "execution_count": 10,
   "id": "9459e5ea-fd86-4b53-a19c-98a9b06a7a27",
   "metadata": {},
   "outputs": [
    {
     "name": "stdout",
     "output_type": "stream",
     "text": [
      "사용자ID\t사용자이름\t이메일\t출생년도\n",
      "----------------------------------------\n",
      "hong\t홍지윤\thong@naver.com\t1996\n",
      "kim\t김태연\tkim@naver.com\t2011\n",
      "star\t별사랑\tstar@naver.com\t1990\n",
      "yang\t양지은\tyang@naver.com\t1993\n",
      "su\t수지\tsuji@naver.com\t1994\n"
     ]
    }
   ],
   "source": [
    "conn = pymysql.connect(host = \"127.0.0.1\", user = \"root\", password = \"root\",\n",
    "                       db = \"soloDB\", charset = \"utf8\")\n",
    "\n",
    "cur = conn.cursor()\n",
    "\n",
    "cur.execute(\"SELECT * FROM userTable\")\n",
    "\n",
    "print(\"사용자ID\\t사용자이름\\t이메일\\t출생년도\")\n",
    "print(\"-\" * 40)\n",
    "while True:\n",
    "    row = cur.fetchone()\n",
    "    \n",
    "    if row == None:\n",
    "        break\n",
    "    \n",
    "    print(f\"{row[0]}\\t{row[1]}\\t{row[2]}\\t{row[3]}\")\n",
    "\n",
    "conn.close()"
   ]
  },
  {
   "cell_type": "code",
   "execution_count": 12,
   "id": "0b57fb9f-8fd3-438a-a0ed-00d354c96c5d",
   "metadata": {},
   "outputs": [
    {
     "name": "stdout",
     "output_type": "stream",
     "text": [
      "사용자ID\t사용자이름\t이메일\t출생년도\n",
      "----------------------------------------\n",
      "hong\t홍지윤\thong@naver.com\t1996\n",
      "kim\t김태연\tkim@naver.com\t2011\n",
      "star\t별사랑\tstar@naver.com\t1990\n",
      "yang\t양지은\tyang@naver.com\t1993\n",
      "su\t수지\tsuji@naver.com\t1994\n"
     ]
    }
   ],
   "source": [
    "conn = pymysql.connect(host = \"127.0.0.1\", user = \"root\", password = \"root\",\n",
    "                       db = \"soloDB\", charset = \"utf8\")\n",
    "\n",
    "cur = conn.cursor()\n",
    "\n",
    "cur.execute(\"SELECT * FROM userTable\")\n",
    "\n",
    "print(\"사용자ID\\t사용자이름\\t이메일\\t출생년도\")\n",
    "print(\"-\" * 40)\n",
    "\n",
    "row = cur.fetchall()\n",
    "\n",
    "for i in row:\n",
    "    print(f\"{i[0]}\\t{i[1]}\\t{i[2]}\\t{i[3]}\")\n",
    "    \n",
    "conn.close()"
   ]
  },
  {
   "cell_type": "code",
   "execution_count": 13,
   "id": "a83d7e37-cfc0-47a6-b371-3f3554542544",
   "metadata": {},
   "outputs": [
    {
     "name": "stdout",
     "output_type": "stream",
     "text": [
      "사용자ID\t사용자이름\t이메일\t출생년도\n",
      "----------------------------------------\n",
      "hong\t홍지윤\thong@naver.com\t1996\n",
      "kim\t김태연\tkim@naver.com\t2011\n",
      "star\t별사랑\tstar@naver.com\t1990\n",
      "yang\t양지은\tyang@naver.com\t1993\n",
      "su\t수지\tsuji@naver.com\t1994\n"
     ]
    }
   ],
   "source": [
    "with pymysql.connect(host = \"127.0.0.1\", user = \"root\", password = \"root\",\n",
    "                     db = \"soloDB\", charset = \"utf8\") as conn:\n",
    "    with conn.cursor() as cur:\n",
    "        cur.execute(\"SELECT * FROM userTable\")\n",
    "\n",
    "        print(\"사용자ID\\t사용자이름\\t이메일\\t출생년도\")\n",
    "        print(\"-\" * 40)\n",
    "        while True:\n",
    "            row = cur.fetchone()\n",
    "    \n",
    "            if row == None:\n",
    "                break\n",
    "    \n",
    "            print(f\"{row[0]}\\t{row[1]}\\t{row[2]}\\t{row[3]}\")"
   ]
  },
  {
   "cell_type": "code",
   "execution_count": null,
   "id": "8ff9f7a1-587a-472f-a2ba-a9e8adf48326",
   "metadata": {},
   "outputs": [],
   "source": []
  },
  {
   "cell_type": "code",
   "execution_count": null,
   "id": "359c7518-d3b5-4ab0-8a6e-3dd2e89413f1",
   "metadata": {},
   "outputs": [],
   "source": []
  }
 ],
 "metadata": {
  "kernelspec": {
   "display_name": "Python 3 (ipykernel)",
   "language": "python",
   "name": "python3"
  },
  "language_info": {
   "codemirror_mode": {
    "name": "ipython",
    "version": 3
   },
   "file_extension": ".py",
   "mimetype": "text/x-python",
   "name": "python",
   "nbconvert_exporter": "python",
   "pygments_lexer": "ipython3",
   "version": "3.10.9"
  }
 },
 "nbformat": 4,
 "nbformat_minor": 5
}
