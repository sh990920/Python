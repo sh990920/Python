{
 "cells": [
  {
   "cell_type": "markdown",
   "id": "4b8fbe9c-ffda-4b00-95a6-1101ec9057cf",
   "metadata": {},
   "source": [
    "# 컬렉션\n",
    "- 여려 값을 하나의 이름으로 묶어서 관리하는 자료형\n",
    "\n",
    "| 컬렉션 | 생성함수 | 특징 | 예시 |\n",
    "| :--: | :--: | :--: | :--: |\n",
    "| 리스트 | list() | 추가, 수정, 삭제가 언제나 가능 | a = [1, 2, 3] |\n",
    "| 튜플 | tuple() | 생성되고 나면 변경이 불가능 | a = (1, 2, 3) |\n",
    "| 세트 | set() | 중복된 값의 저장이 불가능 | a = {1, 2, 3} |\n",
    "| 딕셔너리 | dict() | 키 + 값으로 관리 | a = {\"age\" : 25} |\n",
    "\n",
    "- 이 중에서 저장된 값들의 순서가 있는 컬렉션을 '시퀀스(sequence)'라고 부름\n",
    "    - 시퀀스 : 리스트, 튜플"
   ]
  },
  {
   "cell_type": "code",
   "execution_count": 2,
   "id": "d46ba4e1-bda9-403d-ad6a-2596327efe3e",
   "metadata": {},
   "outputs": [
    {
     "name": "stdout",
     "output_type": "stream",
     "text": [
      "[1, 2, 3, 4, 5]\n",
      "<class 'list'>\n",
      "{1, 2, 3, 4}\n",
      "<class 'set'>\n",
      "(2, 2, 3, 4, 5)\n",
      "<class 'tuple'>\n",
      "{'aaa': 1, 'bbb': 2, 'ccc': 3}\n",
      "<class 'dict'>\n"
     ]
    }
   ],
   "source": [
    "li = [1, 2, 3, 4, 5] # 리스트\n",
    "set_ = {2, 4, 3, 3, 1} # 세트\n",
    "tu = (2, 2, 3, 4, 5) # 튜플\n",
    "dic = {\"aaa\" : 1, \"bbb\" : 2, \"ccc\" : 3} # 딕셔너리\n",
    "\n",
    "print(li)\n",
    "print(type(li))\n",
    "print(set_)\n",
    "print(type(set_))\n",
    "print(tu)\n",
    "print(type(tu))\n",
    "print(dic)\n",
    "print(type(dic))"
   ]
  },
  {
   "cell_type": "markdown",
   "id": "76495286-4c84-46f1-8b0b-9ea09f91f68f",
   "metadata": {},
   "source": [
    "# 리스트(list)\n",
    "- 여러 가지 자료를 저장할 수 있는 자료\n",
    "    - 지금까지 활용한 숫자, 문자, 수식 등이 개별적인 자료라면, 리스트는 이런 자료들을 모아서 사용할 수 있게 해주는 특별한 형태의 자료\n",
    "- 리스트 생성하는 법 : 대괄호에 자료를 쉼표로 구분해서 입력\n",
    "    - [요소, 요소, 요소...]\n",
    "    - 대괄호 내부에 넣는 자료를 요소(element)라고 함"
   ]
  },
  {
   "cell_type": "code",
   "execution_count": 3,
   "id": "734f5303-d5e2-4b5a-8d55-e4be2fd4ef7b",
   "metadata": {},
   "outputs": [],
   "source": [
    "# 숫자만으로 구성된 리스트\n",
    "listNum = [1, 2, 3, 4]\n",
    "\n",
    "# 문자열만으로 구성된 리스트\n",
    "listStr = [\"a\", \"b\", \"c\"]\n",
    "\n",
    "# 여러 자료형으로 구성된 리스트\n",
    "listMix = [273, 32, 103.243, \"문자열\", True, False]"
   ]
  },
  {
   "cell_type": "code",
   "execution_count": 4,
   "id": "1f682ed6-bb84-4380-aa57-da51f4f4b79b",
   "metadata": {},
   "outputs": [
    {
     "data": {
      "text/plain": [
       "1"
      ]
     },
     "execution_count": 4,
     "metadata": {},
     "output_type": "execute_result"
    }
   ],
   "source": [
    "# 인덱싱, 슬라이싱\n",
    "listNum[0]"
   ]
  },
  {
   "cell_type": "code",
   "execution_count": 5,
   "id": "ef4ccb4f-c6c3-42a5-855b-397bd6b8c177",
   "metadata": {},
   "outputs": [
    {
     "data": {
      "text/plain": [
       "4"
      ]
     },
     "execution_count": 5,
     "metadata": {},
     "output_type": "execute_result"
    }
   ],
   "source": [
    "listNum[-1]"
   ]
  },
  {
   "cell_type": "code",
   "execution_count": 25,
   "id": "07571c85-4201-428f-b416-9222fddd4d96",
   "metadata": {},
   "outputs": [],
   "source": [
    "# 이중 리스트\n",
    "li = [1, 2, 3, [\"a\", \"b\", \"c\"]]"
   ]
  },
  {
   "cell_type": "code",
   "execution_count": 10,
   "id": "943ab937-dfb5-4cb0-9128-bb7346b1ea8b",
   "metadata": {},
   "outputs": [
    {
     "name": "stdout",
     "output_type": "stream",
     "text": [
      "['a', 'b', 'c']\n"
     ]
    }
   ],
   "source": [
    "print(li[-1])"
   ]
  },
  {
   "cell_type": "code",
   "execution_count": 11,
   "id": "a8c53ee4-f5c1-45df-ae3b-e1b6e121446d",
   "metadata": {},
   "outputs": [
    {
     "name": "stdout",
     "output_type": "stream",
     "text": [
      "a\n"
     ]
    }
   ],
   "source": [
    "print(li[-1][0])"
   ]
  },
  {
   "cell_type": "code",
   "execution_count": 12,
   "id": "4604aa0f-d4bf-4ce8-a62e-23b63a61a13b",
   "metadata": {},
   "outputs": [
    {
     "name": "stdout",
     "output_type": "stream",
     "text": [
      "[1, 2, 3]\n"
     ]
    }
   ],
   "source": [
    "print(li[:3])"
   ]
  },
  {
   "cell_type": "markdown",
   "id": "93e35249-a023-4388-9207-5be75d69536c",
   "metadata": {},
   "source": [
    "## 리스트 연산\n",
    "- 문자열에 적용할 수 있는 연산자는 리스트에도 할용할 수 있음"
   ]
  },
  {
   "cell_type": "code",
   "execution_count": 13,
   "id": "4e771b30-19c0-442b-9398-90e6980ecd1b",
   "metadata": {},
   "outputs": [
    {
     "data": {
      "text/plain": [
       "[1, 2, 3, 4, 5, 6]"
      ]
     },
     "execution_count": 13,
     "metadata": {},
     "output_type": "execute_result"
    }
   ],
   "source": [
    "# 리스트 병합\n",
    "a = [1, 2, 3]\n",
    "b = [4, 5, 6]\n",
    "\n",
    "a + b"
   ]
  },
  {
   "cell_type": "code",
   "execution_count": 15,
   "id": "55d4220f-2761-469a-a061-2dda9690a35e",
   "metadata": {},
   "outputs": [
    {
     "name": "stdout",
     "output_type": "stream",
     "text": [
      "[1, 2, 3, 1, 2, 3]\n"
     ]
    }
   ],
   "source": [
    "# 리스트 반복\n",
    "print(a * 2)"
   ]
  },
  {
   "cell_type": "markdown",
   "id": "4a98a44c-e3f1-4987-8a72-104fb2f8e779",
   "metadata": {},
   "source": [
    "## 리스트 수정, 삭제"
   ]
  },
  {
   "cell_type": "code",
   "execution_count": 26,
   "id": "9250fe32-92f3-47fa-8c47-0253e0864542",
   "metadata": {},
   "outputs": [
    {
     "name": "stdout",
     "output_type": "stream",
     "text": [
      "[1, 2, 3, ['a', 'b', 'c']]\n"
     ]
    }
   ],
   "source": [
    "print(li)"
   ]
  },
  {
   "cell_type": "code",
   "execution_count": 27,
   "id": "fc7eacbe-8ad0-4490-b1da-6aed0d6b62bb",
   "metadata": {},
   "outputs": [],
   "source": [
    "# 요소를 인덱스로 삭제\n",
    "del li[-1] # 슬라이싱도 사용 가능"
   ]
  },
  {
   "cell_type": "code",
   "execution_count": 28,
   "id": "4207f85f-076f-475d-a48c-f0a18ffb75dc",
   "metadata": {},
   "outputs": [
    {
     "name": "stdout",
     "output_type": "stream",
     "text": [
      "[1, 2, 3]\n"
     ]
    }
   ],
   "source": [
    "print(li)"
   ]
  },
  {
   "cell_type": "code",
   "execution_count": 29,
   "id": "5fd2b200-f038-4635-bc54-4fc888d58a3b",
   "metadata": {},
   "outputs": [],
   "source": [
    "# 수정\n",
    "li[2] = 4"
   ]
  },
  {
   "cell_type": "code",
   "execution_count": 30,
   "id": "f4d718ce-3aba-4467-ba2e-b641cab99547",
   "metadata": {},
   "outputs": [
    {
     "name": "stdout",
     "output_type": "stream",
     "text": [
      "[1, 2, 4]\n"
     ]
    }
   ],
   "source": [
    "print(li)"
   ]
  },
  {
   "cell_type": "code",
   "execution_count": 31,
   "id": "b4ee11a2-1b57-45f4-94e7-8c2b01b03acc",
   "metadata": {},
   "outputs": [],
   "source": [
    "# remove 함수를 이용한 삭제\n",
    "li.remove(4)"
   ]
  },
  {
   "cell_type": "code",
   "execution_count": 32,
   "id": "67d2a2c8-3c09-4b5d-ab75-85c345c7364b",
   "metadata": {},
   "outputs": [
    {
     "name": "stdout",
     "output_type": "stream",
     "text": [
      "[1, 2]\n"
     ]
    }
   ],
   "source": [
    "print(li)"
   ]
  },
  {
   "cell_type": "code",
   "execution_count": 35,
   "id": "103a4da8-93f3-4085-89ad-339f26e02850",
   "metadata": {},
   "outputs": [
    {
     "name": "stdout",
     "output_type": "stream",
     "text": [
      "[1, 2, 1, 2, 3]\n"
     ]
    }
   ],
   "source": [
    "# remove 함수는 리스트에서 첫 번째로 나오는 특정 요소를 삭제하는 함수\n",
    "li = [1, 2, 3, 1, 2, 3]\n",
    "li.remove(3)\n",
    "print(li)"
   ]
  },
  {
   "cell_type": "code",
   "execution_count": 36,
   "id": "fa6e4a21-a53b-4cc3-a066-c8c83ebbb523",
   "metadata": {},
   "outputs": [
    {
     "data": {
      "text/plain": [
       "3"
      ]
     },
     "execution_count": 36,
     "metadata": {},
     "output_type": "execute_result"
    }
   ],
   "source": [
    "# pop 함수를 이용한 삭제\n",
    "# 제거할 위치를 입력하지 않으면 기본값(-1)을 적용해서 리스트의 맨 마지막 요소를 반환하고\n",
    "# 해당 요소를 삭제\n",
    "li = [1, 2, 3]\n",
    "li.pop()"
   ]
  },
  {
   "cell_type": "code",
   "execution_count": 37,
   "id": "6a464aa3-5a00-461b-933d-2401ac7ffe8d",
   "metadata": {},
   "outputs": [
    {
     "name": "stdout",
     "output_type": "stream",
     "text": [
      "[1, 2]\n"
     ]
    }
   ],
   "source": [
    "print(li)"
   ]
  },
  {
   "cell_type": "code",
   "execution_count": 38,
   "id": "f75e3395-8a8c-40c8-8143-7e173c7d4960",
   "metadata": {},
   "outputs": [
    {
     "data": {
      "text/plain": [
       "1"
      ]
     },
     "execution_count": 38,
     "metadata": {},
     "output_type": "execute_result"
    }
   ],
   "source": [
    "# 특정 인덱스의 요소를 반환하는 것도 가능\n",
    "li.pop(0)"
   ]
  },
  {
   "cell_type": "code",
   "execution_count": 39,
   "id": "cd8d5f20-266f-4d42-ada0-aa739cd2b540",
   "metadata": {},
   "outputs": [
    {
     "name": "stdout",
     "output_type": "stream",
     "text": [
      "[2]\n"
     ]
    }
   ],
   "source": [
    "print(li)"
   ]
  },
  {
   "cell_type": "markdown",
   "id": "5d060436-f61d-4c83-9243-1eb0ce9e4762",
   "metadata": {},
   "source": [
    "## 리스트 관련 함수"
   ]
  },
  {
   "cell_type": "code",
   "execution_count": 40,
   "id": "c3fdbbd9-ea61-43f7-aff0-2984f58844eb",
   "metadata": {},
   "outputs": [],
   "source": [
    "# 요소 추가\n",
    "# 리스트 뒤에 요소를 추가\n",
    "li.append(5)"
   ]
  },
  {
   "cell_type": "code",
   "execution_count": 41,
   "id": "cd2c54c8-b337-4ce0-a5fc-e60460671cfc",
   "metadata": {},
   "outputs": [
    {
     "name": "stdout",
     "output_type": "stream",
     "text": [
      "[2, 5]\n"
     ]
    }
   ],
   "source": [
    "print(li)"
   ]
  },
  {
   "cell_type": "code",
   "execution_count": 43,
   "id": "d63ae266-9650-4209-b24d-b66432cf49e3",
   "metadata": {},
   "outputs": [],
   "source": [
    "li.append([1, 2, 3])"
   ]
  },
  {
   "cell_type": "code",
   "execution_count": 44,
   "id": "6407746a-68e0-4019-a11a-4f7eb4ab801a",
   "metadata": {},
   "outputs": [
    {
     "name": "stdout",
     "output_type": "stream",
     "text": [
      "[2, 5, [1, 2, 3]]\n"
     ]
    }
   ],
   "source": [
    "print(li)"
   ]
  },
  {
   "cell_type": "code",
   "execution_count": 46,
   "id": "e8cacb00-3588-4d29-a568-8eadcfd805e4",
   "metadata": {},
   "outputs": [
    {
     "name": "stdout",
     "output_type": "stream",
     "text": [
      "[4, 1, 2, 3]\n"
     ]
    }
   ],
   "source": [
    "# 요소 삽입\n",
    "# 괄호 안에서 정한 위치에 요소를 삽입\n",
    "# 해당 위치의 요소는 뒤로 하나씩 밀림\n",
    "li = [1, 2, 3]\n",
    "li.insert(0, 4)\n",
    "print(li)"
   ]
  },
  {
   "cell_type": "code",
   "execution_count": 47,
   "id": "5098bf41-e96e-448b-aa5b-39317cd8dba0",
   "metadata": {},
   "outputs": [
    {
     "name": "stdout",
     "output_type": "stream",
     "text": [
      "[4, 1, 2, 3]\n"
     ]
    }
   ],
   "source": [
    "# 리스트 확장\n",
    "# 리스트 뒤에 새로운 리스트의 요소를 모두 추가\n",
    "# 한 번에 여러 요소를 추가하고 싶을 때 사용\n",
    "print(li)"
   ]
  },
  {
   "cell_type": "code",
   "execution_count": 48,
   "id": "511bd11b-5b0f-430d-ac9a-601a633800a0",
   "metadata": {},
   "outputs": [],
   "source": [
    "li.extend([4, 5])"
   ]
  },
  {
   "cell_type": "code",
   "execution_count": 49,
   "id": "77840fcb-3ee1-410e-910e-f85246c9fab2",
   "metadata": {},
   "outputs": [
    {
     "name": "stdout",
     "output_type": "stream",
     "text": [
      "[4, 1, 2, 3, 4, 5]\n"
     ]
    }
   ],
   "source": [
    "print(li)"
   ]
  },
  {
   "cell_type": "markdown",
   "id": "57e4db2f-baa5-4dca-8b46-c5a4d3bf446d",
   "metadata": {},
   "source": [
    "### 리스트 연결 연산자와 리스트 확장의 차이\n",
    "- 공통점\n",
    "    - 리스트 연결 연산자와 extend()함수는 비슷한 형태로 동작\n",
    "        - 리스트와 리스트를 연결\n",
    "\n",
    "- 차이점\n",
    "    - 리스트 연결 연산자(+)는 원본 리스트에 아무런 영항을 주지 않는다.\n",
    "        - 비파괴적\n",
    "    - extend()함수는 원본 리스트에 직접적인 영항을 줌\n",
    "        - 파괴적\n",
    "        \n",
    "- 기본적으로 자료는 비파괴적으로 사용하는 것이 편리\n",
    "    - 원본으로도 활용할 수 있고 새로운 결과도 활용할 수 있으므로 선택지가 더 넓기 때문\n",
    "    - 따라서 기본 자료형(숫자, 문자열, 불)과 관련된 것들은 비파괴적으로 작동\n",
    "\n",
    "- 하지만 리스트는 용량이 매우 커질 수 있음\n",
    "    - 용량이 얼마나 커질 지 알 수 없기 때문에 원본과 결과 두 가지 상태를 다 생성하는 것은 위험할 수 있음\n",
    "    - 이런 경우 원본 데이터를 직접 조작하는 기능을 통해 위험을 회피\n"
   ]
  },
  {
   "cell_type": "code",
   "execution_count": 53,
   "id": "aa684807-8b16-41dd-a943-0cf044bc5679",
   "metadata": {},
   "outputs": [
    {
     "name": "stdout",
     "output_type": "stream",
     "text": [
      "[1, 2, 3, 4]\n"
     ]
    }
   ],
   "source": [
    "# 리스트 오름차순 정렬\n",
    "li = [1, 4, 3, 2]\n",
    "\n",
    "li.sort()\n",
    "print(li)"
   ]
  },
  {
   "cell_type": "code",
   "execution_count": 55,
   "id": "dc45166a-91d6-48d9-801c-1d1101ab2657",
   "metadata": {},
   "outputs": [
    {
     "name": "stdout",
     "output_type": "stream",
     "text": [
      "[4, 3, 2, 1]\n"
     ]
    }
   ],
   "source": [
    "# 리스트 내림차순 정렬\n",
    "li.sort(reverse = True)\n",
    "print(li)"
   ]
  },
  {
   "cell_type": "code",
   "execution_count": 56,
   "id": "036d30f6-e6ee-40bd-a43b-34f9771f4009",
   "metadata": {},
   "outputs": [
    {
     "name": "stdout",
     "output_type": "stream",
     "text": [
      "['d', 'b', 'c', 'a']\n"
     ]
    }
   ],
   "source": [
    "# 리스트 뒤집기\n",
    "li = [\"a\", \"c\", \"b\", \"d\"]\n",
    "li.reverse()\n",
    "print(li)"
   ]
  },
  {
   "cell_type": "code",
   "execution_count": 58,
   "id": "ac6d1742-e534-4a96-aabc-a23231b4f5cb",
   "metadata": {},
   "outputs": [
    {
     "data": {
      "text/plain": [
       "['d', 'c']"
      ]
     },
     "execution_count": 58,
     "metadata": {},
     "output_type": "execute_result"
    }
   ],
   "source": [
    "#li[시작:종료:증감값]\n",
    "li[0:4:2]"
   ]
  },
  {
   "cell_type": "code",
   "execution_count": 59,
   "id": "ec9ad041-0670-431d-8a00-6cff56e9284b",
   "metadata": {},
   "outputs": [
    {
     "data": {
      "text/plain": [
       "['a', 'c', 'b', 'd']"
      ]
     },
     "execution_count": 59,
     "metadata": {},
     "output_type": "execute_result"
    }
   ],
   "source": [
    "li[::-1]"
   ]
  },
  {
   "cell_type": "code",
   "execution_count": 60,
   "id": "bf71fce6-309d-47a1-9cda-b694328a00e9",
   "metadata": {},
   "outputs": [
    {
     "data": {
      "text/plain": [
       "2"
      ]
     },
     "execution_count": 60,
     "metadata": {},
     "output_type": "execute_result"
    }
   ],
   "source": [
    "# 위치 반환\n",
    "li = [1, 2, 3]\n",
    "li.index(3)"
   ]
  },
  {
   "cell_type": "code",
   "execution_count": 62,
   "id": "fbd9ebb7-4de5-4365-b0f7-e8e8f6e833ef",
   "metadata": {},
   "outputs": [
    {
     "data": {
      "text/plain": [
       "2"
      ]
     },
     "execution_count": 62,
     "metadata": {},
     "output_type": "execute_result"
    }
   ],
   "source": [
    "# 리스트에 포함된 요소의 개수 세기\n",
    "li = [1, 2, 3, 1]\n",
    "li.count(1)"
   ]
  },
  {
   "cell_type": "code",
   "execution_count": 63,
   "id": "0c638da9-5131-4002-af55-8963acf1c927",
   "metadata": {},
   "outputs": [
    {
     "data": {
      "text/plain": [
       "4"
      ]
     },
     "execution_count": 63,
     "metadata": {},
     "output_type": "execute_result"
    }
   ],
   "source": [
    "# 리스트 길이 구하기\n",
    "len(li)"
   ]
  },
  {
   "cell_type": "code",
   "execution_count": 64,
   "id": "5f8bb93d-85e6-43aa-9822-94ab6e7fd763",
   "metadata": {},
   "outputs": [
    {
     "name": "stdout",
     "output_type": "stream",
     "text": [
      "[]\n"
     ]
    }
   ],
   "source": [
    "# 리스트 내부 요소를 모두 제거\n",
    "li.clear()\n",
    "print(li)"
   ]
  },
  {
   "cell_type": "markdown",
   "id": "15a5caf4-9dbc-4a3b-a3e2-cfab89177ff6",
   "metadata": {},
   "source": [
    "## 확인문제"
   ]
  },
  {
   "cell_type": "code",
   "execution_count": 65,
   "id": "cffc4346-eb57-4e23-a73c-9292db501df0",
   "metadata": {},
   "outputs": [],
   "source": [
    "# 1. listA 를 적절하게 가공해서 문제에서 제시하는 데이터 만들기\n",
    "listA = [0, 1, 2, 3, 4, 5]"
   ]
  },
  {
   "cell_type": "code",
   "execution_count": 79,
   "id": "12d64ba7-dd79-41ed-8376-419b2b074968",
   "metadata": {},
   "outputs": [
    {
     "name": "stdout",
     "output_type": "stream",
     "text": [
      "결과 : [0, 1, 2, 3, 4, 5, 0, 1, 2, 3, 4, 5]\n"
     ]
    }
   ],
   "source": [
    "# 1-1. [0, 1, 2, 3, 4, 5, 0, 1, 2, 3, 4, 5]\n",
    "listA = [0, 1, 2, 3, 4, 5]\n",
    "# listA *= 2\n",
    "listA.extend(listA)\n",
    "print(\"결과 :\", listA)"
   ]
  },
  {
   "cell_type": "code",
   "execution_count": 82,
   "id": "ae0a27a5-9228-47b3-b428-f34e1523d8e7",
   "metadata": {},
   "outputs": [
    {
     "name": "stdout",
     "output_type": "stream",
     "text": [
      "결과 : [0, 1, 2, 3, 4, 5, 10]\n"
     ]
    }
   ],
   "source": [
    "# 1-2. [0, 1, 2, 3, 4, 5, 10]\n",
    "listA = [0, 1, 2, 3, 4, 5]\n",
    "listA.append(10)\n",
    "print(\"결과 :\", listA)"
   ]
  },
  {
   "cell_type": "code",
   "execution_count": 83,
   "id": "9243d18d-317f-4972-a01b-9c533dd9a225",
   "metadata": {},
   "outputs": [
    {
     "name": "stdout",
     "output_type": "stream",
     "text": [
      "결과 : [0, 1, 2, 0, 3, 4, 5]\n"
     ]
    }
   ],
   "source": [
    "# 1-3. [0, 1, 2, 0, 3, 4, 5]\n",
    "listA = [0, 1, 2, 3, 4, 5]\n",
    "listA.insert(3, 0)\n",
    "print(\"결과 :\", listA)"
   ]
  },
  {
   "cell_type": "code",
   "execution_count": 81,
   "id": "93ed0263-342e-481b-a783-729bcc7719b5",
   "metadata": {},
   "outputs": [
    {
     "name": "stdout",
     "output_type": "stream",
     "text": [
      "결과 : [0, 1, 2, 4, 5]\n"
     ]
    }
   ],
   "source": [
    "# 1-4. [0, 1, 2, 4, 5]\n",
    "listA = [0, 1, 2, 3, 4, 5]\n",
    "listA.remove(3)\n",
    "print(\"결과 :\", listA)"
   ]
  },
  {
   "cell_type": "code",
   "execution_count": 80,
   "id": "681c80e9-1f6f-414d-8fbe-08c61c82da51",
   "metadata": {},
   "outputs": [
    {
     "name": "stdout",
     "output_type": "stream",
     "text": [
      "결과 : [0, 1, 2, 3, 4]\n"
     ]
    }
   ],
   "source": [
    "# 1-5. [0, 1, 2, 3, 4]\n",
    "listA = [0, 1, 2, 3, 4, 5]\n",
    "listA.pop()\n",
    "print(\"결과 :\", listA)"
   ]
  },
  {
   "cell_type": "markdown",
   "id": "c90d54d5-be46-463a-a619-ec25fbe9fb3e",
   "metadata": {},
   "source": [
    "# 튜플\n",
    "- 리스트와 유사하지만 튜플은 값의 추가, 삭제, 수정이 불가\n",
    "    - 프로그램이 실행되는 동안 값이 변하면 안되는 경우 주로 사용"
   ]
  },
  {
   "cell_type": "code",
   "execution_count": 84,
   "id": "88fac8c1-32a5-4122-8662-5acff8179d8f",
   "metadata": {},
   "outputs": [
    {
     "name": "stdout",
     "output_type": "stream",
     "text": [
      "(2, 2, 3, 4, 5)\n"
     ]
    }
   ],
   "source": [
    "tu = (2, 2, 3, 4, 5)\n",
    "print(tu)"
   ]
  },
  {
   "cell_type": "code",
   "execution_count": 85,
   "id": "13e5fb4a-fa87-4846-ba96-901d94f035a7",
   "metadata": {},
   "outputs": [
    {
     "ename": "TypeError",
     "evalue": "'tuple' object doesn't support item deletion",
     "output_type": "error",
     "traceback": [
      "\u001b[0;31m---------------------------------------------------------------------------\u001b[0m",
      "\u001b[0;31mTypeError\u001b[0m                                 Traceback (most recent call last)",
      "Cell \u001b[0;32mIn[85], line 1\u001b[0m\n\u001b[0;32m----> 1\u001b[0m \u001b[38;5;28;01mdel\u001b[39;00m tu[\u001b[38;5;241m0\u001b[39m]\n",
      "\u001b[0;31mTypeError\u001b[0m: 'tuple' object doesn't support item deletion"
     ]
    }
   ],
   "source": [
    "del tu[0]"
   ]
  },
  {
   "cell_type": "code",
   "execution_count": 86,
   "id": "8145f041-111a-48ec-9210-b100f4b83725",
   "metadata": {},
   "outputs": [
    {
     "ename": "TypeError",
     "evalue": "'tuple' object does not support item assignment",
     "output_type": "error",
     "traceback": [
      "\u001b[0;31m---------------------------------------------------------------------------\u001b[0m",
      "\u001b[0;31mTypeError\u001b[0m                                 Traceback (most recent call last)",
      "Cell \u001b[0;32mIn[86], line 1\u001b[0m\n\u001b[0;32m----> 1\u001b[0m tu[\u001b[38;5;241m0\u001b[39m] \u001b[38;5;241m=\u001b[39m \u001b[38;5;241m0\u001b[39m\n",
      "\u001b[0;31mTypeError\u001b[0m: 'tuple' object does not support item assignment"
     ]
    }
   ],
   "source": [
    "tu[0] = 0"
   ]
  },
  {
   "cell_type": "markdown",
   "id": "3621c46d-b9c8-432f-95e0-71b5aab539bc",
   "metadata": {},
   "source": [
    "- 인덱싱, 슬라이싱"
   ]
  },
  {
   "cell_type": "code",
   "execution_count": 87,
   "id": "1a510eb8-4067-459f-a4b7-01fc269bdea2",
   "metadata": {},
   "outputs": [
    {
     "name": "stdout",
     "output_type": "stream",
     "text": [
      "2\n"
     ]
    }
   ],
   "source": [
    "print(tu[0])"
   ]
  },
  {
   "cell_type": "code",
   "execution_count": 88,
   "id": "d9be5988-a09d-4275-a706-c905e3131a54",
   "metadata": {},
   "outputs": [
    {
     "name": "stdout",
     "output_type": "stream",
     "text": [
      "(2, 3, 4, 5)\n"
     ]
    }
   ],
   "source": [
    "print(tu[1:])"
   ]
  },
  {
   "cell_type": "markdown",
   "id": "5d08f13f-67ac-488e-9cac-64e94a74e236",
   "metadata": {
    "tags": []
   },
   "source": [
    "- 튜플 연산"
   ]
  },
  {
   "cell_type": "code",
   "execution_count": 95,
   "id": "efe491c9-755a-4eae-a15e-a1ff65c1c0de",
   "metadata": {},
   "outputs": [
    {
     "name": "stdout",
     "output_type": "stream",
     "text": [
      "(1, 2, 3, 4)\n"
     ]
    }
   ],
   "source": [
    "tu1 = (1, 2)\n",
    "tu2 = (3, 4)\n",
    "print(tu1 + tu2)"
   ]
  },
  {
   "cell_type": "code",
   "execution_count": 96,
   "id": "981418ab-8287-46b3-b5f0-e59bc132767c",
   "metadata": {},
   "outputs": [
    {
     "name": "stdout",
     "output_type": "stream",
     "text": [
      "(1, 2, 1, 2)\n"
     ]
    }
   ],
   "source": [
    "print(tu1 * 2)"
   ]
  },
  {
   "cell_type": "code",
   "execution_count": 98,
   "id": "3703591d-353f-4591-8cf1-76a046b0352d",
   "metadata": {},
   "outputs": [
    {
     "data": {
      "text/plain": [
       "140378619664320"
      ]
     },
     "execution_count": 98,
     "metadata": {},
     "output_type": "execute_result"
    }
   ],
   "source": [
    "tu1 = (1, 2)\n",
    "id(tu1)"
   ]
  },
  {
   "cell_type": "code",
   "execution_count": 99,
   "id": "31c3838d-932b-4cff-82b2-4c49a3c2846f",
   "metadata": {},
   "outputs": [
    {
     "data": {
      "text/plain": [
       "140378619633936"
      ]
     },
     "execution_count": 99,
     "metadata": {},
     "output_type": "execute_result"
    }
   ],
   "source": [
    "tu1 += tu2\n",
    "id(tu1)"
   ]
  },
  {
   "cell_type": "markdown",
   "id": "3ead5166-d83b-4b65-85b2-7e75fc5528d4",
   "metadata": {},
   "source": [
    "# 딕셔너리\n",
    "- 자료의 대응 관계를 나타내는 자료형\n",
    "    - 연관 배열(Associative array) 또는 해시(Hash)\n",
    "    \n",
    "- 데이터를 조회할 때 key를 통해 value를 구함\n",
    "- 딕셔너리 선언\n",
    "    - 중괄호{}로 선언\n",
    "    - 키:값 의 형태를 콤마(,)로 연결해서 만듦\n",
    "        - 키는 문자열, 숫자, 불 등으로 선언할 수 있지만 일반적으로는 문자열을 주로 사용\n",
    "        "
   ]
  },
  {
   "cell_type": "code",
   "execution_count": 100,
   "id": "4bca6a50-060b-4923-bfab-00d865864279",
   "metadata": {},
   "outputs": [],
   "source": [
    "dic = {\"name\" : \"andy\", \"birth\" : \"1118\"}"
   ]
  },
  {
   "cell_type": "code",
   "execution_count": 101,
   "id": "e9e33c85-43d3-4d35-bc64-7293b81be0bd",
   "metadata": {},
   "outputs": [
    {
     "name": "stdout",
     "output_type": "stream",
     "text": [
      "{'a': [1, 2, 3]}\n"
     ]
    }
   ],
   "source": [
    "dic = {\"a\" : [1, 2, 3]}\n",
    "print(dic)"
   ]
  },
  {
   "cell_type": "markdown",
   "id": "b4ef92f6-aa39-47a6-8ef6-59822d949155",
   "metadata": {},
   "source": [
    "- 딕셔너리 추가, 삭제"
   ]
  },
  {
   "cell_type": "code",
   "execution_count": 102,
   "id": "608bfeed-a69f-42cc-b18f-c59412219dfb",
   "metadata": {},
   "outputs": [
    {
     "name": "stdout",
     "output_type": "stream",
     "text": [
      "{'a': [1, 2, 3], 'name': 'andy'}\n"
     ]
    }
   ],
   "source": [
    "# 키를 기반으로 값을 입력\n",
    "dic[\"name\"] = \"andy\"\n",
    "print(dic)"
   ]
  },
  {
   "cell_type": "code",
   "execution_count": 103,
   "id": "359b3a9a-8338-409a-a5c2-122885c4443c",
   "metadata": {},
   "outputs": [
    {
     "name": "stdout",
     "output_type": "stream",
     "text": [
      "{'a': [1, 2, 3], 'name': 'apple'}\n"
     ]
    }
   ],
   "source": [
    "# 이미 존재하는 키를 지정하고 값을 넣으면 기존의 값을 새로운 값으로 대체\n",
    "dic[\"name\"] = \"apple\"\n",
    "print(dic)"
   ]
  },
  {
   "cell_type": "code",
   "execution_count": 104,
   "id": "58790238-4d1d-4c23-b117-a5def330cb0a",
   "metadata": {},
   "outputs": [
    {
     "name": "stdout",
     "output_type": "stream",
     "text": [
      "{'a': [1, 2, 3]}\n"
     ]
    }
   ],
   "source": [
    "# 딕셔너리 삭제\n",
    "del dic[\"name\"]\n",
    "print(dic)"
   ]
  },
  {
   "cell_type": "markdown",
   "id": "11089137-aee9-4b29-87b6-a44a472beae3",
   "metadata": {},
   "source": [
    "- 딕셔너리 데이터 추출"
   ]
  },
  {
   "cell_type": "code",
   "execution_count": 105,
   "id": "4deb99fc-63ca-40cc-b771-b5e808a7900a",
   "metadata": {},
   "outputs": [
    {
     "name": "stdout",
     "output_type": "stream",
     "text": [
      "10\n",
      "99\n"
     ]
    }
   ],
   "source": [
    "score = {\"kim\" : 10, \"lee\" : 99}\n",
    "print(score[\"kim\"])\n",
    "print(score[\"lee\"])"
   ]
  },
  {
   "cell_type": "markdown",
   "id": "cd851b01-1c70-4d87-94c8-9aa8a52767d5",
   "metadata": {},
   "source": [
    "- 딕셔너리의 key는 고유한 값임\n",
    "    - 중복을 허용하지 않는다\n",
    "    - 동일한 key가 존재하면 어떤 value를 불러와야할지 알 수 없기때문에"
   ]
  },
  {
   "cell_type": "code",
   "execution_count": 107,
   "id": "6dfc1559-7178-4d1c-b9cb-10f5ef150823",
   "metadata": {},
   "outputs": [
    {
     "name": "stdout",
     "output_type": "stream",
     "text": [
      "{1: 'b'}\n"
     ]
    }
   ],
   "source": [
    "dic = {1 : \"a\", 1 : \"b\"}\n",
    "print(dic)"
   ]
  },
  {
   "cell_type": "markdown",
   "id": "22ee22d7-cb02-4b48-8186-dabd7ed0561a",
   "metadata": {},
   "source": [
    "- 딕셔너리의 key에 튜플은 쓸 수 있음\n",
    "    - 리스트는 쓸 수 있음\n",
    "    - 딕셔너리의 key의 요건은 변하지 않는 값"
   ]
  },
  {
   "cell_type": "code",
   "execution_count": 109,
   "id": "64aba2ea-820c-4a88-a303-36fedcfc4ea9",
   "metadata": {},
   "outputs": [
    {
     "ename": "TypeError",
     "evalue": "unhashable type: 'list'",
     "output_type": "error",
     "traceback": [
      "\u001b[0;31m---------------------------------------------------------------------------\u001b[0m",
      "\u001b[0;31mTypeError\u001b[0m                                 Traceback (most recent call last)",
      "Cell \u001b[0;32mIn[109], line 1\u001b[0m\n\u001b[0;32m----> 1\u001b[0m dic \u001b[38;5;241m=\u001b[39m {[\u001b[38;5;241m1\u001b[39m, \u001b[38;5;241m2\u001b[39m] : \u001b[38;5;124m\"\u001b[39m\u001b[38;5;124mhi\u001b[39m\u001b[38;5;124m\"\u001b[39m}\n",
      "\u001b[0;31mTypeError\u001b[0m: unhashable type: 'list'"
     ]
    }
   ],
   "source": [
    "dic = {[1, 2] : \"hi\"}"
   ]
  },
  {
   "cell_type": "code",
   "execution_count": 111,
   "id": "69c4d138-4cf6-46a6-b671-eab52681f0f3",
   "metadata": {},
   "outputs": [
    {
     "name": "stdout",
     "output_type": "stream",
     "text": [
      "hi\n"
     ]
    }
   ],
   "source": [
    "dic = {(1, 2) : \"hi\"}\n",
    "print(dic[(1, 2)])"
   ]
  },
  {
   "cell_type": "markdown",
   "id": "6076498c-f92c-4b1f-b795-105daa350970",
   "metadata": {},
   "source": [
    "## 딕셔너리 관련 함수"
   ]
  },
  {
   "cell_type": "markdown",
   "id": "ded727d5-ac91-4e19-9a5a-08a35b4fde40",
   "metadata": {},
   "source": [
    "- key, value, item 리스트"
   ]
  },
  {
   "cell_type": "code",
   "execution_count": 112,
   "id": "9d998a60-118c-4206-bb27-3986474b1bfb",
   "metadata": {},
   "outputs": [],
   "source": [
    "dic = {\"name\" : \"andy\", \"phone\" : \"01011112222\", \"birth\" : \"1118\"}"
   ]
  },
  {
   "cell_type": "code",
   "execution_count": 113,
   "id": "efd5d60c-ec0e-4090-9d2b-5d767be7b5c6",
   "metadata": {},
   "outputs": [
    {
     "data": {
      "text/plain": [
       "dict_keys(['name', 'phone', 'birth'])"
      ]
     },
     "execution_count": 113,
     "metadata": {},
     "output_type": "execute_result"
    }
   ],
   "source": [
    "dic.keys()"
   ]
  },
  {
   "cell_type": "code",
   "execution_count": 114,
   "id": "1c268d56-cda2-4996-ab1d-0c40cb986b49",
   "metadata": {},
   "outputs": [
    {
     "data": {
      "text/plain": [
       "dict_values(['andy', '01011112222', '1118'])"
      ]
     },
     "execution_count": 114,
     "metadata": {},
     "output_type": "execute_result"
    }
   ],
   "source": [
    "dic.values()"
   ]
  },
  {
   "cell_type": "code",
   "execution_count": 115,
   "id": "662eca7b-2600-4271-a9fb-f7cbecd03524",
   "metadata": {},
   "outputs": [
    {
     "data": {
      "text/plain": [
       "dict_items([('name', 'andy'), ('phone', '01011112222'), ('birth', '1118')])"
      ]
     },
     "execution_count": 115,
     "metadata": {},
     "output_type": "execute_result"
    }
   ],
   "source": [
    "dic.items()"
   ]
  },
  {
   "cell_type": "markdown",
   "id": "1ca95cfb-4b0a-4009-b7f2-18aab5b481af",
   "metadata": {},
   "source": [
    "- get으로 value 얻기\n",
    "    - 존재하지 않는 키로 값을 가져오려고 할 경우 오류가 발생함\n",
    "        - get으로 key가 없을 경우 기본값을 대신 가져오게 할 수 있음\n"
   ]
  },
  {
   "cell_type": "code",
   "execution_count": 119,
   "id": "48b2b506-b7f1-486d-8dc1-2594b7d46398",
   "metadata": {},
   "outputs": [
    {
     "ename": "KeyError",
     "evalue": "'foo'",
     "output_type": "error",
     "traceback": [
      "\u001b[0;31m---------------------------------------------------------------------------\u001b[0m",
      "\u001b[0;31mKeyError\u001b[0m                                  Traceback (most recent call last)",
      "Cell \u001b[0;32mIn[119], line 1\u001b[0m\n\u001b[0;32m----> 1\u001b[0m \u001b[43mdic\u001b[49m\u001b[43m[\u001b[49m\u001b[38;5;124;43m\"\u001b[39;49m\u001b[38;5;124;43mfoo\u001b[39;49m\u001b[38;5;124;43m\"\u001b[39;49m\u001b[43m]\u001b[49m\n",
      "\u001b[0;31mKeyError\u001b[0m: 'foo'"
     ]
    }
   ],
   "source": [
    "dic[\"foo\"]"
   ]
  },
  {
   "cell_type": "code",
   "execution_count": 120,
   "id": "1d755335-6177-481e-99c9-e6774dcc27af",
   "metadata": {},
   "outputs": [
    {
     "data": {
      "text/plain": [
       "'bar'"
      ]
     },
     "execution_count": 120,
     "metadata": {},
     "output_type": "execute_result"
    }
   ],
   "source": [
    "dic.get(\"foo\", \"bar\")"
   ]
  },
  {
   "cell_type": "code",
   "execution_count": 121,
   "id": "4f515ea4-b2c9-412c-9dfc-20abf33163a4",
   "metadata": {},
   "outputs": [
    {
     "data": {
      "text/plain": [
       "'andy'"
      ]
     },
     "execution_count": 121,
     "metadata": {},
     "output_type": "execute_result"
    }
   ],
   "source": [
    "dic.get(\"name\", \"bar\")"
   ]
  },
  {
   "cell_type": "markdown",
   "id": "2605e81c-b354-4e3c-a39d-7cb830c095db",
   "metadata": {},
   "source": [
    "- 해당 key가 딕셔너리 안에 있는지 조사하기"
   ]
  },
  {
   "cell_type": "code",
   "execution_count": 122,
   "id": "07d4c91b-417a-4cec-85f5-0fe3e63e6484",
   "metadata": {},
   "outputs": [
    {
     "data": {
      "text/plain": [
       "True"
      ]
     },
     "execution_count": 122,
     "metadata": {},
     "output_type": "execute_result"
    }
   ],
   "source": [
    "\"name\" in dic"
   ]
  },
  {
   "cell_type": "code",
   "execution_count": 124,
   "id": "690127b0-698a-452c-a52b-883da7206a97",
   "metadata": {},
   "outputs": [
    {
     "data": {
      "text/plain": [
       "False"
      ]
     },
     "execution_count": 124,
     "metadata": {},
     "output_type": "execute_result"
    }
   ],
   "source": [
    "\"email\" in dic"
   ]
  },
  {
   "cell_type": "markdown",
   "id": "376ef347-b4d3-474e-9dbc-217d02ee00cb",
   "metadata": {},
   "source": [
    "- item 모두 지우기"
   ]
  },
  {
   "cell_type": "code",
   "execution_count": 126,
   "id": "f79e0278-bb6a-4305-867d-91b17b3b9a18",
   "metadata": {},
   "outputs": [
    {
     "name": "stdout",
     "output_type": "stream",
     "text": [
      "{}\n"
     ]
    }
   ],
   "source": [
    "dic.clear()\n",
    "print(dic)"
   ]
  },
  {
   "cell_type": "markdown",
   "id": "3cb13937-a173-40e8-b10f-f5e182648ade",
   "metadata": {},
   "source": [
    "# 확인 문제"
   ]
  },
  {
   "cell_type": "code",
   "execution_count": 131,
   "id": "e6bb0417-a384-4390-a1d6-3e8311f754d0",
   "metadata": {},
   "outputs": [
    {
     "name": "stdout",
     "output_type": "stream",
     "text": [
      "호랑이\n",
      "3\n"
     ]
    }
   ],
   "source": [
    "# 다음의 pets 데이터에서 \"호랑이\" 와 3을 각각 출력해보기\n",
    "pets = [\n",
    "    {\"name\" : \"구름\", \"age\" : 5},\n",
    "    {\"name\" : \"초코\", \"age\" : 3},\n",
    "    {\"name\" : \"아지\", \"age\" : 1},\n",
    "    {\"name\" : \"호랑이\", \"age\" : 2},\n",
    "]\n",
    "print(pets[3][\"name\"])\n",
    "print(pets[1][\"age\"])\n",
    "# print(pets[3].get(\"name\"))\n",
    "# print(pets[1].get(\"age\"))"
   ]
  },
  {
   "cell_type": "markdown",
   "id": "631e755e-a69a-41c6-9770-0062d27e3600",
   "metadata": {},
   "source": [
    "# 세트\n",
    "- 중복을 허용하지 않음\n",
    "- 순서(index)가 따로 존재하지 않음"
   ]
  },
  {
   "cell_type": "code",
   "execution_count": 132,
   "id": "b210329c-f477-49e8-bfda-d153837404a0",
   "metadata": {},
   "outputs": [
    {
     "name": "stdout",
     "output_type": "stream",
     "text": [
      "{'o', 'h', 'l', 'e'}\n"
     ]
    }
   ],
   "source": [
    "set1 = set(\"hello\")\n",
    "print(set1)"
   ]
  },
  {
   "cell_type": "markdown",
   "id": "2f672ba7-144b-4893-be21-83ff1d2b70dc",
   "metadata": {},
   "source": [
    "- 교집합, 합집합, 차집합"
   ]
  },
  {
   "cell_type": "code",
   "execution_count": 143,
   "id": "cb003906-0ab4-48c9-b44e-17231953705c",
   "metadata": {},
   "outputs": [],
   "source": [
    "set1 = {1, 2, 3, 4, 5, 6}\n",
    "set2 = {4, 5, 6, 7, 8, 9}"
   ]
  },
  {
   "cell_type": "code",
   "execution_count": 135,
   "id": "60edf02d-747b-4e72-89a0-dbce40d6ed71",
   "metadata": {},
   "outputs": [
    {
     "name": "stdout",
     "output_type": "stream",
     "text": [
      "{4, 5, 6}\n"
     ]
    }
   ],
   "source": [
    "# 교집합\n",
    "print(set1 & set2)"
   ]
  },
  {
   "cell_type": "code",
   "execution_count": 136,
   "id": "af81e869-e326-4aa0-b458-0b929af34b78",
   "metadata": {},
   "outputs": [
    {
     "name": "stdout",
     "output_type": "stream",
     "text": [
      "{1, 2, 3, 4, 5, 6, 7, 8, 9}\n"
     ]
    }
   ],
   "source": [
    "# 합집합\n",
    "print(set1 | set2)"
   ]
  },
  {
   "cell_type": "code",
   "execution_count": 137,
   "id": "f6090300-4cb3-4365-8275-68fda92cce5b",
   "metadata": {},
   "outputs": [
    {
     "name": "stdout",
     "output_type": "stream",
     "text": [
      "{1, 2, 3}\n"
     ]
    }
   ],
   "source": [
    "# 차집합\n",
    "print(set1 - set2)"
   ]
  },
  {
   "cell_type": "code",
   "execution_count": 138,
   "id": "d52f1426-f3de-4054-976e-dc4a99660952",
   "metadata": {},
   "outputs": [
    {
     "name": "stdout",
     "output_type": "stream",
     "text": [
      "{8, 9, 7}\n"
     ]
    }
   ],
   "source": [
    "# 차집합\n",
    "print(set2 - set1)"
   ]
  },
  {
   "cell_type": "markdown",
   "id": "1b73d7f2-0a7d-406f-8e36-49140f18cc40",
   "metadata": {},
   "source": [
    "# 세트 관련 함수"
   ]
  },
  {
   "cell_type": "code",
   "execution_count": 144,
   "id": "85f049db-9f5c-450a-aa7b-57a054a9cc36",
   "metadata": {},
   "outputs": [
    {
     "name": "stdout",
     "output_type": "stream",
     "text": [
      "{1, 2, 3, 4, 5, 6, 7}\n"
     ]
    }
   ],
   "source": [
    "# 값 추가\n",
    "set1.add(7)\n",
    "print(set1)"
   ]
  },
  {
   "cell_type": "code",
   "execution_count": 145,
   "id": "639b5e5e-0c7c-42f6-98ce-13922ca23718",
   "metadata": {},
   "outputs": [
    {
     "name": "stdout",
     "output_type": "stream",
     "text": [
      "{1, 3, 4, 5, 6, 7}\n"
     ]
    }
   ],
   "source": [
    "# 값 제거\n",
    "set1.remove(2)\n",
    "print(set1)"
   ]
  }
 ],
 "metadata": {
  "kernelspec": {
   "display_name": "Python 3 (ipykernel)",
   "language": "python",
   "name": "python3"
  },
  "language_info": {
   "codemirror_mode": {
    "name": "ipython",
    "version": 3
   },
   "file_extension": ".py",
   "mimetype": "text/x-python",
   "name": "python",
   "nbconvert_exporter": "python",
   "pygments_lexer": "ipython3",
   "version": "3.10.9"
  }
 },
 "nbformat": 4,
 "nbformat_minor": 5
}
