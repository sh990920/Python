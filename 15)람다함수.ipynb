{
 "cells": [
  {
   "cell_type": "markdown",
   "id": "48a1bc32-8e62-41ff-9cd9-222168e575db",
   "metadata": {
    "tags": []
   },
   "source": [
    "# 람다함수\n",
    "- def 없이 사용하는 익명 함수\n",
    "    - 1회용 함수를 작성해야할 때 많이 사용\n",
    "- 함수를 간편하게 작성할 수 있기 때문에 다른 함수의 인수로 넣을 때 주로 사용\n",
    "- 식 형태로 되어 있어서 람다 표현식(lambda expression)이라고도 부름"
   ]
  },
  {
   "cell_type": "markdown",
   "id": "6d0c1bfa-7035-42e8-aacd-b1ac0af5d95a",
   "metadata": {},
   "source": [
    "## 람다 함수 생성\n",
    "- 표현법\n",
    "    - lambda 매개변수들 : 식"
   ]
  },
  {
   "cell_type": "code",
   "execution_count": 1,
   "id": "5a2f7381-cbc9-4965-b94d-7a10d1dc2595",
   "metadata": {},
   "outputs": [],
   "source": [
    "def plus_ten(x):\n",
    "    return x + 10"
   ]
  },
  {
   "cell_type": "code",
   "execution_count": 2,
   "id": "962c10de-b0d2-488f-976a-cc9b40cc96db",
   "metadata": {},
   "outputs": [
    {
     "data": {
      "text/plain": [
       "11"
      ]
     },
     "execution_count": 2,
     "metadata": {},
     "output_type": "execute_result"
    }
   ],
   "source": [
    "plus_ten(1)"
   ]
  },
  {
   "cell_type": "code",
   "execution_count": 4,
   "id": "49e22cd3-36dc-4f08-bc03-6f79d34cb450",
   "metadata": {},
   "outputs": [
    {
     "data": {
      "text/plain": [
       "<function __main__.<lambda>(x)>"
      ]
     },
     "execution_count": 4,
     "metadata": {},
     "output_type": "execute_result"
    }
   ],
   "source": [
    "lambda x : x + 10"
   ]
  },
  {
   "cell_type": "markdown",
   "id": "3afbbc1e-4753-4679-854f-cae098746f0d",
   "metadata": {},
   "source": [
    "- 람다함수는 호출이 불가능\n",
    "    - 이름이 없기 때문에\n",
    "        - 익명함수(anonymous function)"
   ]
  },
  {
   "cell_type": "markdown",
   "id": "e83dd235-9b94-4f0d-a3a4-c6c1c6a4c103",
   "metadata": {},
   "source": [
    "## 람다 함수 호출하기"
   ]
  },
  {
   "cell_type": "code",
   "execution_count": 7,
   "id": "75ad568c-7f95-4cac-b5a9-05b2571f5447",
   "metadata": {},
   "outputs": [
    {
     "data": {
      "text/plain": [
       "11"
      ]
     },
     "execution_count": 7,
     "metadata": {},
     "output_type": "execute_result"
    }
   ],
   "source": [
    "plus_ten = lambda x : x + 10\n",
    "plus_ten(1)"
   ]
  },
  {
   "cell_type": "code",
   "execution_count": 8,
   "id": "f0c66eb4-aed9-4510-9590-110ba9ebce83",
   "metadata": {},
   "outputs": [
    {
     "data": {
      "text/plain": [
       "11"
      ]
     },
     "execution_count": 8,
     "metadata": {},
     "output_type": "execute_result"
    }
   ],
   "source": [
    "(lambda x : x + 10)(1)"
   ]
  },
  {
   "cell_type": "markdown",
   "id": "eaf36b2e-2dfd-4d63-ba77-f6a2f58d55c1",
   "metadata": {},
   "source": [
    "## 람다함수 안에서는 변수를 만들 수 없음\n",
    "- 람다 함수에서는 새 변수를 만들 수 없기 때문에 반환값은 변수 없이 한줄로 표현할 수 있어야 함\n",
    "- 변수가 필요한 코드라면 def로 함수를 작성"
   ]
  },
  {
   "cell_type": "code",
   "execution_count": 9,
   "id": "66cba4ea-1fde-4f3c-ade8-25fd0f18dd71",
   "metadata": {},
   "outputs": [
    {
     "ename": "SyntaxError",
     "evalue": "invalid syntax (475669303.py, line 1)",
     "output_type": "error",
     "traceback": [
      "\u001b[0;36m  Cell \u001b[0;32mIn[9], line 1\u001b[0;36m\u001b[0m\n\u001b[0;31m    (lambda x : y = 10; x + y)\u001b[0m\n\u001b[0m                  ^\u001b[0m\n\u001b[0;31mSyntaxError\u001b[0m\u001b[0;31m:\u001b[0m invalid syntax\n"
     ]
    }
   ],
   "source": [
    "(lambda x : y = 10; x + y)"
   ]
  },
  {
   "cell_type": "markdown",
   "id": "dd11f56b-45ed-4a6f-a8b2-796e71bb2718",
   "metadata": {},
   "source": [
    "- 람다 함수 바깥에 있는 변수를 사용하는 것은 가능"
   ]
  },
  {
   "cell_type": "code",
   "execution_count": 11,
   "id": "8cb5ba50-2ef5-4830-aa96-d30b39625f6b",
   "metadata": {},
   "outputs": [
    {
     "data": {
      "text/plain": [
       "11"
      ]
     },
     "execution_count": 11,
     "metadata": {},
     "output_type": "execute_result"
    }
   ],
   "source": [
    "y = 10\n",
    "(lambda x : x + y)(1)"
   ]
  },
  {
   "cell_type": "markdown",
   "id": "3865a886-0676-42f6-8af2-dd5e61ef1abb",
   "metadata": {},
   "source": [
    "# 함수의 매개변수로 함수 전달하기\n",
    "- 함수의 배개변수에 사용하는 함수를 콜백함수(callback function)라고 함"
   ]
  },
  {
   "cell_type": "code",
   "execution_count": 28,
   "id": "15aa7c6a-1445-480a-a61c-2fdd0abd6315",
   "metadata": {},
   "outputs": [],
   "source": [
    "# 매개변수로 받은 함수를 10번 호출하는 함수\n",
    "def call_10_times(func):\n",
    "    for i in range(10):\n",
    "        func()\n",
    "\n",
    "def print_hello():\n",
    "    print(\"안녕하세요\")"
   ]
  },
  {
   "cell_type": "code",
   "execution_count": 29,
   "id": "ab158919-cabb-44c9-b144-e4f221aa9804",
   "metadata": {},
   "outputs": [
    {
     "name": "stdout",
     "output_type": "stream",
     "text": [
      "안녕하세요\n",
      "안녕하세요\n",
      "안녕하세요\n",
      "안녕하세요\n",
      "안녕하세요\n",
      "안녕하세요\n",
      "안녕하세요\n",
      "안녕하세요\n",
      "안녕하세요\n",
      "안녕하세요\n"
     ]
    }
   ],
   "source": [
    "call_10_times(print_hello)"
   ]
  },
  {
   "cell_type": "markdown",
   "id": "9e6866b7-4b45-4c60-9103-4a215e7ca118",
   "metadata": {},
   "source": [
    "- map\n",
    "    - 리스트의 요소를 함수에 넣고 리턴된 값으로 새로운 리스트를 구성해주는 함수\n",
    "    - map(함수, 리스트)\n",
    "- filter\n",
    "    - 리스트의 요소를 함수에 넣고 리턴된 값이 True인 것으로 새로운 리스트를 구성해주는 함수\n",
    "    - filter(함수, 리스트)"
   ]
  },
  {
   "cell_type": "code",
   "execution_count": 30,
   "id": "07b59f1d-9a28-4633-a682-6e20980fbb73",
   "metadata": {},
   "outputs": [],
   "source": [
    "def power(item):\n",
    "    return item * item\n",
    "\n",
    "def under_3(item):\n",
    "    return item < 3"
   ]
  },
  {
   "cell_type": "code",
   "execution_count": 31,
   "id": "549445eb-da5c-4417-941f-303e420a4204",
   "metadata": {},
   "outputs": [],
   "source": [
    "list_input_a = [1, 2, 3, 4, 5]"
   ]
  },
  {
   "cell_type": "code",
   "execution_count": 33,
   "id": "5678130d-14f9-45fe-acd9-e4c791c82e1f",
   "metadata": {},
   "outputs": [
    {
     "name": "stdout",
     "output_type": "stream",
     "text": [
      "<map object at 0x7f84a98d4460>\n",
      "[1, 4, 9, 16, 25]\n"
     ]
    }
   ],
   "source": [
    "# map 함수 사용\n",
    "output_a = map(power, list_input_a)\n",
    "print(output_a)\n",
    "print(list(output_a))"
   ]
  },
  {
   "cell_type": "code",
   "execution_count": 34,
   "id": "35738264-e148-4884-bb71-5a8529cb0929",
   "metadata": {},
   "outputs": [
    {
     "name": "stdout",
     "output_type": "stream",
     "text": [
      "<filter object at 0x7f84a98d55a0>\n",
      "[1, 2]\n"
     ]
    }
   ],
   "source": [
    "# filter 함수 사용\n",
    "output_b = filter(under_3, list_input_a)\n",
    "print(output_b)\n",
    "print(list(output_b))"
   ]
  },
  {
   "cell_type": "markdown",
   "id": "0b8b61d6-0448-4c60-9c21-6702ad35f14a",
   "metadata": {},
   "source": [
    "- map함수와 filter함수는 모두 첫 번째 매개변수에 함수, 두 번째 매개변수에 리스트를 넣음\n",
    "    - 매개변수로 함수를 전달하기 위해 함수를 작성하는 것이 번거롭고 코드 공간 낭비\n",
    "        - 따라서 람다 함수 사용"
   ]
  },
  {
   "cell_type": "markdown",
   "id": "6a760c0f-3a05-4162-92c0-babe1adcc197",
   "metadata": {},
   "source": [
    "## 람다 함수를 인수로 사용하기\n",
    "- 람다 함수를 사용하는 가장 큰 이유는 함수의 인수에서 간단하게 함수를 만들기 위함"
   ]
  },
  {
   "cell_type": "code",
   "execution_count": 37,
   "id": "8eaf4948-8f62-4857-8333-fa1bc8da1cb6",
   "metadata": {},
   "outputs": [
    {
     "name": "stdout",
     "output_type": "stream",
     "text": [
      "<map object at 0x7f84a8f22860>\n",
      "[1, 4, 9, 16, 25]\n",
      "\n",
      "<filter object at 0x7f84a98d7340>\n",
      "[1, 2]\n"
     ]
    }
   ],
   "source": [
    "# power 함수와 under_3 함수를 람다함수로 변경\n",
    "list_input_a = [1, 2, 3, 4, 5]\n",
    "\n",
    "output_a = map(lambda x:x * x, list_input_a)\n",
    "print(output_a)\n",
    "print(list(output_a))\n",
    "\n",
    "print()\n",
    "\n",
    "output_b = filter(lambda x : x < 3, list_input_a)\n",
    "print(output_b)\n",
    "print(list(output_b))"
   ]
  },
  {
   "cell_type": "code",
   "execution_count": 42,
   "id": "68de6752-75b6-4b78-9b66-0e741acbad43",
   "metadata": {},
   "outputs": [
    {
     "data": {
      "text/plain": [
       "[11, 12, 13]"
      ]
     },
     "execution_count": 42,
     "metadata": {},
     "output_type": "execute_result"
    }
   ],
   "source": [
    "# 맨 위에 plus_ten() 함수 사용하기\n",
    "list(map(plus_ten, [1, 2, 3]))"
   ]
  },
  {
   "cell_type": "code",
   "execution_count": 44,
   "id": "b657e47c-d146-4021-a0ba-638766e4a0ed",
   "metadata": {},
   "outputs": [
    {
     "data": {
      "text/plain": [
       "[11, 12, 13]"
      ]
     },
     "execution_count": 44,
     "metadata": {},
     "output_type": "execute_result"
    }
   ],
   "source": [
    "# plus_ten 과 같은 기능을 하는 람다식\n",
    "list(map(lambda x : x + 10, [1, 2, 3]))"
   ]
  },
  {
   "cell_type": "markdown",
   "id": "bae626d4-e4a1-41d7-8398-54f35f5ecbe8",
   "metadata": {},
   "source": [
    "- 람다를 사용하면 코드를 더 깔끔하게 작성할 수 있고, 매개변수로 넣어진 함수를 확인하기 위해 다시 찾지 않아도 됨"
   ]
  },
  {
   "cell_type": "markdown",
   "id": "651fd166-d186-4222-80be-0067a564ebbb",
   "metadata": {},
   "source": [
    "## 람다함수와 map, filter 함수 응용"
   ]
  },
  {
   "cell_type": "markdown",
   "id": "6a24eebd-d56e-4ee0-958a-17be941eb4c8",
   "metadata": {},
   "source": [
    "### 조건부 표헌식\n",
    "- lambda 매개변수들 : 식1 if 조건식 else 식2"
   ]
  },
  {
   "cell_type": "code",
   "execution_count": 46,
   "id": "05173433-2974-4bb7-b443-49b2a3015718",
   "metadata": {},
   "outputs": [
    {
     "data": {
      "text/plain": [
       "[1, 2, '3', 4, 5, '6', 7, 8, '9', 10]"
      ]
     },
     "execution_count": 46,
     "metadata": {},
     "output_type": "execute_result"
    }
   ],
   "source": [
    "# 3의 배수이면 string 값으로 변환하기\n",
    "a = [1, 2, 3, 4, 5, 6, 7, 8, 9, 10]\n",
    "list(map(lambda x : str(x) if x % 3 == 0 else x, a))"
   ]
  },
  {
   "cell_type": "markdown",
   "id": "0fe5c00d-b3f5-4759-a727-0272077b815e",
   "metadata": {},
   "source": [
    "- 람다 함수안에서 if를 사용했다면 반드시 else를 사용해야함\n",
    "    - if만 있다면 에러\n",
    "    \n",
    "- 람다 함수에서 elif는 사용할 수 없음\n",
    "    - 식1 if 조건식1 else 식2 if 조건식2 else 식3 의 형식으로 사용\n",
    "    - if 조건문 -> if 조건문2 -> 식3\n",
    "    -          -> if 조건문2 -> 식2\n",
    "    -          -> 식1"
   ]
  },
  {
   "cell_type": "code",
   "execution_count": 48,
   "id": "d4e50c75-9a69-4f48-ae02-8a14910ad6cb",
   "metadata": {},
   "outputs": [
    {
     "data": {
      "text/plain": [
       "['1', 2.0, 13, 14, 15, 16, 17, 18, 19, 20]"
      ]
     },
     "execution_count": 48,
     "metadata": {},
     "output_type": "execute_result"
    }
   ],
   "source": [
    "# 1은 문자열로\n",
    "# 2는 실수로\n",
    "# 3이상은 10을 더하는 식\n",
    "list(map(lambda x : str(x) if x == 1 else float(x) if x == 2 else x + 10, a))"
   ]
  },
  {
   "cell_type": "markdown",
   "id": "128219a4-6803-41da-9259-31da1683f982",
   "metadata": {},
   "source": [
    "- 위와 같이 조건이 복잡해질 경우에는 람다 함수보다는 def 로 함수를 만들고 if, elif, else를 사용하기를 권장한다"
   ]
  },
  {
   "cell_type": "code",
   "execution_count": 49,
   "id": "9474c928-a766-4a7b-9daa-0ed2ca5c3fe8",
   "metadata": {},
   "outputs": [],
   "source": [
    "def f(x):\n",
    "    if x == 1:\n",
    "        return str(x)\n",
    "    elif x == 2:\n",
    "        return float(x)\n",
    "    else:\n",
    "        return x + 10"
   ]
  },
  {
   "cell_type": "code",
   "execution_count": 50,
   "id": "828589b6-6277-4945-8d1c-63825ec7a8dd",
   "metadata": {},
   "outputs": [
    {
     "data": {
      "text/plain": [
       "['1', 2.0, 13, 14, 15, 16, 17, 18, 19, 20]"
      ]
     },
     "execution_count": 50,
     "metadata": {},
     "output_type": "execute_result"
    }
   ],
   "source": [
    "list(map(f, a))"
   ]
  },
  {
   "cell_type": "markdown",
   "id": "a3618a3d-f56f-45a3-9e95-e07dd4149331",
   "metadata": {},
   "source": [
    "### map에 객체를 여러개 넣기"
   ]
  },
  {
   "cell_type": "code",
   "execution_count": 52,
   "id": "a236975e-7e2a-4634-9b52-b29e319e1ace",
   "metadata": {},
   "outputs": [
    {
     "data": {
      "text/plain": [
       "[2, 8, 18, 32, 50]"
      ]
     },
     "execution_count": 52,
     "metadata": {},
     "output_type": "execute_result"
    }
   ],
   "source": [
    "a = [1, 2, 3, 4, 5]\n",
    "b = [2, 4, 6, 8, 10]\n",
    "list(map(lambda x, y : x * y, a, b))"
   ]
  },
  {
   "cell_type": "markdown",
   "id": "92fc01b8-e73e-4078-a7d5-33f4f93f4d2a",
   "metadata": {},
   "source": [
    "### filter 응용"
   ]
  },
  {
   "cell_type": "code",
   "execution_count": 54,
   "id": "3d1b971b-9f32-4db9-b9c1-83daa0601197",
   "metadata": {},
   "outputs": [
    {
     "data": {
      "text/plain": [
       "[8, 7, 9]"
      ]
     },
     "execution_count": 54,
     "metadata": {},
     "output_type": "execute_result"
    }
   ],
   "source": [
    "# 5보다 크면서 10보다 작은숫자 가져오기\n",
    "a = [8, 3, 2, 10, 15, 7, 1, 9, 0, 11]\n",
    "list(filter(lambda x : x > 5 and x < 10, a))"
   ]
  },
  {
   "cell_type": "code",
   "execution_count": 57,
   "id": "b33f9a8c-8052-4738-be3c-bdbce13d11be",
   "metadata": {},
   "outputs": [
    {
     "data": {
      "text/plain": [
       "[8, 7, 9]"
      ]
     },
     "execution_count": 57,
     "metadata": {},
     "output_type": "execute_result"
    }
   ],
   "source": [
    "# 위 표현식을 리스트 내포로도 구현 가능\n",
    "[i for i in a if i > 5 and i < 10]"
   ]
  },
  {
   "cell_type": "markdown",
   "id": "0c5a45a7-a699-4eef-b6ac-2c2cab3456db",
   "metadata": {},
   "source": [
    "# 리스트 함수의 key 키워드 매개변수\n",
    "- 리스트에서 최솟값과 최댓값을 찾을 때는 min() 함수와 max()함수를 사용"
   ]
  },
  {
   "cell_type": "code",
   "execution_count": 58,
   "id": "04483317-f48a-4978-ac9f-084f9614107d",
   "metadata": {},
   "outputs": [],
   "source": [
    "a = [52, 273, 32, 103, 57]"
   ]
  },
  {
   "cell_type": "code",
   "execution_count": 59,
   "id": "11be19a1-fa7d-45a5-affd-10508a4be214",
   "metadata": {},
   "outputs": [
    {
     "data": {
      "text/plain": [
       "32"
      ]
     },
     "execution_count": 59,
     "metadata": {},
     "output_type": "execute_result"
    }
   ],
   "source": [
    "min(a)"
   ]
  },
  {
   "cell_type": "code",
   "execution_count": 60,
   "id": "6fc5fee8-7a58-43d6-b8f8-d5b8c73092f2",
   "metadata": {},
   "outputs": [
    {
     "data": {
      "text/plain": [
       "273"
      ]
     },
     "execution_count": 60,
     "metadata": {},
     "output_type": "execute_result"
    }
   ],
   "source": [
    "max(a)"
   ]
  },
  {
   "cell_type": "code",
   "execution_count": 61,
   "id": "3e8c2286-947f-4db3-9e58-f7d5838b3086",
   "metadata": {},
   "outputs": [],
   "source": [
    "# 딕셔너리로 책 데이터를 저장한 겨우 가격이 가장 저렵한 책과 가격이 가장 비싼 책을 갖고 싶다면\n",
    "books = [{\n",
    "    \"제목\" : \"진짜 챗GPT 활용법\",\n",
    "    \"가격\" : 16200\n",
    "}, {\n",
    "    \"제목\" : \"진짜 쓰는 실무엑셀\",\n",
    "    \"가격\" : 18900\n",
    "}, {\n",
    "    \"제목\" : \"혼자 공부하는 컴퓨터 구조 + 운영체제\",\n",
    "    \"가격\" : 25200\n",
    "}]"
   ]
  },
  {
   "cell_type": "markdown",
   "id": "78752caf-7b5d-4efb-ad0d-659f398cffb5",
   "metadata": {},
   "source": [
    "- min()함수와 max()함수의 key 매개변수 활용\n",
    "    - key : 어떤 값으로 비교할 것인지 지정"
   ]
  },
  {
   "cell_type": "code",
   "execution_count": 62,
   "id": "52357597-beaf-43b6-911b-47634f9f5426",
   "metadata": {},
   "outputs": [],
   "source": [
    "def get_price(book):\n",
    "    # 딕셔너리에서 \"가격\" 값을 추출하는 함수 선언\n",
    "    return book[\"가격\"]"
   ]
  },
  {
   "cell_type": "code",
   "execution_count": 63,
   "id": "d029e3a8-f45b-445f-ac93-075f45576f2e",
   "metadata": {},
   "outputs": [
    {
     "data": {
      "text/plain": [
       "{'제목': '진짜 챗GPT 활용법', '가격': 16200}"
      ]
     },
     "execution_count": 63,
     "metadata": {},
     "output_type": "execute_result"
    }
   ],
   "source": [
    "min(books, key = get_price)"
   ]
  },
  {
   "cell_type": "code",
   "execution_count": 64,
   "id": "61eb8635-261b-4808-8177-4afe6e8562f0",
   "metadata": {},
   "outputs": [
    {
     "data": {
      "text/plain": [
       "{'제목': '혼자 공부하는 컴퓨터 구조 + 운영체제', '가격': 25200}"
      ]
     },
     "execution_count": 64,
     "metadata": {},
     "output_type": "execute_result"
    }
   ],
   "source": [
    "max(books, key = get_price)"
   ]
  },
  {
   "cell_type": "code",
   "execution_count": 65,
   "id": "ddbf2b7d-2e6c-4ede-b76d-22a83062a370",
   "metadata": {},
   "outputs": [
    {
     "data": {
      "text/plain": [
       "{'제목': '진짜 챗GPT 활용법', '가격': 16200}"
      ]
     },
     "execution_count": 65,
     "metadata": {},
     "output_type": "execute_result"
    }
   ],
   "source": [
    "# 람다로 수정하기\n",
    "min(books, key = lambda book : book[\"가격\"])"
   ]
  },
  {
   "cell_type": "code",
   "execution_count": 66,
   "id": "5e602838-309c-48d5-9a17-dc56f43cbc1f",
   "metadata": {},
   "outputs": [
    {
     "data": {
      "text/plain": [
       "{'제목': '혼자 공부하는 컴퓨터 구조 + 운영체제', '가격': 25200}"
      ]
     },
     "execution_count": 66,
     "metadata": {},
     "output_type": "execute_result"
    }
   ],
   "source": [
    "max(books, key = lambda book : book[\"가격\"])"
   ]
  },
  {
   "cell_type": "markdown",
   "id": "75b1b127-559e-48d2-8376-61394fff7711",
   "metadata": {},
   "source": [
    "- 리스트 요소를 정렬할 때에는 sort()함수를 사용"
   ]
  },
  {
   "cell_type": "code",
   "execution_count": 68,
   "id": "4d0ac852-b903-4881-aa64-296231f9cbd3",
   "metadata": {},
   "outputs": [
    {
     "name": "stdout",
     "output_type": "stream",
     "text": [
      "[32, 52, 57, 107, 273]\n"
     ]
    }
   ],
   "source": [
    "# srot함수로 오름차순 정렬\n",
    "a = [52, 273, 32, 107, 57]\n",
    "a.sort()\n",
    "print(a)"
   ]
  },
  {
   "cell_type": "code",
   "execution_count": 69,
   "id": "8f6d378b-e244-4ce1-b655-c06cb3126cd3",
   "metadata": {},
   "outputs": [
    {
     "name": "stdout",
     "output_type": "stream",
     "text": [
      "[273, 107, 57, 52, 32]\n"
     ]
    }
   ],
   "source": [
    "# 내림차순 정렬\n",
    "a.sort(reverse = True)\n",
    "print(a)"
   ]
  },
  {
   "cell_type": "code",
   "execution_count": 72,
   "id": "8b35ba73-c7f7-4ebf-8c64-d21285852607",
   "metadata": {},
   "outputs": [
    {
     "data": {
      "text/plain": [
       "[{'제목': '혼자 공부하는 컴퓨터 구조 + 운영체제', '가격': 25200},\n",
       " {'제목': '진짜 쓰는 실무엑셀', '가격': 18900},\n",
       " {'제목': '진짜 챗GPT 활용법', '가격': 16200}]"
      ]
     },
     "execution_count": 72,
     "metadata": {},
     "output_type": "execute_result"
    }
   ],
   "source": [
    "# 딕셔너리 리스트를 정렬\n",
    "books.sort(key = lambda book : book[\"가격\"], reverse = True)\n",
    "books"
   ]
  },
  {
   "cell_type": "code",
   "execution_count": 93,
   "id": "b1d3d13a-4a96-4ed6-86c7-203b35d72af1",
   "metadata": {},
   "outputs": [
    {
     "name": "stdout",
     "output_type": "stream",
     "text": [
      "[1, 3, 5, 7, 9]\n",
      "[3, 4, 5, 6]\n",
      "[1, 2, 3, 4, 5, 6, 7]\n"
     ]
    }
   ],
   "source": [
    "numbers = list(range(1, 11))\n",
    "\n",
    "# 홀수만 출력\n",
    "a = filter(lambda x : x % 2 != 0, numbers)\n",
    "print(list(a))\n",
    "# 3이상, 7미만 출력\n",
    "b = filter(lambda x : x >= 3 and x < 7, numbers)\n",
    "print(list(b))\n",
    "# 제곱해서 50미만 출력\n",
    "c = filter(lambda x : x * x < 50, numbers)\n",
    "print(list(c))"
   ]
  },
  {
   "cell_type": "code",
   "execution_count": 94,
   "id": "cee3ec03-8502-4678-91bd-ddd246eac0f4",
   "metadata": {},
   "outputs": [
    {
     "name": "stdout",
     "output_type": "stream",
     "text": [
      "[1, 3, 5, 7, 9]\n",
      "[3, 4, 5, 6]\n",
      "[1, 2, 3, 4, 5, 6, 7]\n"
     ]
    }
   ],
   "source": [
    "numbers = list(range(1, 11))\n",
    "\n",
    "# 홀수만 출력\n",
    "print(list(filter(lambda x : x % 2 != 0, numbers)))\n",
    "\n",
    "# 3이상, 7미만 출력\n",
    "print(list(filter(lambda x : x >= 3 and x < 7, numbers)))\n",
    "\n",
    "# 제곱해서 50미만 출력\n",
    "print(list(filter(lambda x : x ** 2 < 50, numbers)))"
   ]
  },
  {
   "cell_type": "code",
   "execution_count": 98,
   "id": "6e451db0-ab80-4464-840c-8c5e6c39a223",
   "metadata": {},
   "outputs": [
    {
     "name": "stdout",
     "output_type": "stream",
     "text": [
      "['1.png', '10.jpg', '2.jpg', '3.png']\n"
     ]
    }
   ],
   "source": [
    "# 이미지 파일만 가져오기\n",
    "# 확장자가 jpg, png인 이미지 파일만 출력하기\n",
    "files = [\"font\", \"1.png\", \"10.jpg\", \"11.gif\", \"2.jpg\", \"3.png\", \"table.xlsx\", \"spec.docx\"]\n",
    "print(list(filter(lambda x : x[-3:] == \"jpg\" or x[-3:] == \"png\", files)))"
   ]
  },
  {
   "cell_type": "code",
   "execution_count": 101,
   "id": "0a40522f-d31a-484c-a5d1-b201e64c41bc",
   "metadata": {},
   "outputs": [
    {
     "data": {
      "text/plain": [
       "['1.png', '10.jpg', '2.jpg', '3.png']"
      ]
     },
     "execution_count": 101,
     "metadata": {},
     "output_type": "execute_result"
    }
   ],
   "source": [
    "files = [\"font\", \"1.png\", \"10.jpg\", \"11.gif\", \"2.jpg\", \"3.png\", \"table.xlsx\", \"spec.docx\"]\n",
    "list(filter(lambda x : x.find(\".jpg\") != -1 or x.find(\".png\") != -1, files))"
   ]
  }
 ],
 "metadata": {
  "kernelspec": {
   "display_name": "Python 3 (ipykernel)",
   "language": "python",
   "name": "python3"
  },
  "language_info": {
   "codemirror_mode": {
    "name": "ipython",
    "version": 3
   },
   "file_extension": ".py",
   "mimetype": "text/x-python",
   "name": "python",
   "nbconvert_exporter": "python",
   "pygments_lexer": "ipython3",
   "version": "3.10.9"
  }
 },
 "nbformat": 4,
 "nbformat_minor": 5
}
