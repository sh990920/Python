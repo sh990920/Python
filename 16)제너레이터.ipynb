{
 "cells": [
  {
   "cell_type": "markdown",
   "id": "4ed5f609-c8e6-45e9-95da-7c5f404456a1",
   "metadata": {},
   "source": [
    "# 제너레이터\n",
    "- 이터레이터를 생성해주는 함수\n",
    "- 이터레이터와 제너레이터 차이\n",
    "    - 이터레이터 : 클래스에 \\_\\_iter\\_\\_, \\_\\_next\\_\\_, \\_\\_getitem\\_\\_ 메서드를 구현해야함\n",
    "    - 제너레이터 : yield 키워드 사용\n",
    "        - 제너레이터 생성이 더 간편한 편\n",
    "- 제너레이터는 발생자 라고도 부름"
   ]
  },
  {
   "cell_type": "markdown",
   "id": "491a9705-d6a2-4f10-9310-d4f0f2b37fde",
   "metadata": {},
   "source": [
    "# 제너레이터와 yield\n",
    "- 함수에서 yield를 사용하면 함수가 제너레이터가 되며 yield에는 값을 지정\n",
    "    - 표현법\n",
    "        - yield 값\n",
    "\n",
    "- yield 키워드를 사용하면 해당 함수는 일반 함수와는 달리 함수를 호출해도 함수 내부의 코드가 실행되지 않음"
   ]
  },
  {
   "cell_type": "code",
   "execution_count": 1,
   "id": "dd5e2988-4dfd-47bb-b9c4-db42332299b0",
   "metadata": {},
   "outputs": [],
   "source": [
    "def test():\n",
    "    print(\"함수가 호출되었습니다\")\n",
    "    yield \"test\""
   ]
  },
  {
   "cell_type": "code",
   "execution_count": 2,
   "id": "9ec62fe9-6bf5-4379-9b98-932d08955b4b",
   "metadata": {},
   "outputs": [
    {
     "name": "stdout",
     "output_type": "stream",
     "text": [
      "A\n",
      "<generator object test at 0x7fd191ef9ee0>\n",
      "B\n",
      "<generator object test at 0x7fd191ef9ee0>\n"
     ]
    }
   ],
   "source": [
    "print(\"A\")\n",
    "print(test())\n",
    "\n",
    "print(\"B\")\n",
    "print(test())"
   ]
  },
  {
   "cell_type": "markdown",
   "id": "56963b34-3843-4c93-9d2a-2d1f4d4e6208",
   "metadata": {},
   "source": [
    "- 일반 함수라면 \"함수가 호출되었습니다\" 라는 문자열이 출력되어야 하지만 출력되지 않음\n",
    "    - 제너레이터 함수는 이터레이터를 반환"
   ]
  },
  {
   "cell_type": "code",
   "execution_count": 4,
   "id": "57b8eb5c-13ab-4bd1-a931-7c37b1545797",
   "metadata": {},
   "outputs": [],
   "source": [
    "def number_generator():\n",
    "    yield 0\n",
    "    yield 1\n",
    "    yield 2"
   ]
  },
  {
   "cell_type": "code",
   "execution_count": 5,
   "id": "4c5a3afe-7891-475f-9f87-9c3ef40c6be7",
   "metadata": {},
   "outputs": [
    {
     "name": "stdout",
     "output_type": "stream",
     "text": [
      "0\n",
      "1\n",
      "2\n"
     ]
    }
   ],
   "source": [
    "for i in number_generator():\n",
    "    print(i)"
   ]
  },
  {
   "cell_type": "markdown",
   "id": "82407ff6-5eeb-485c-b5f8-e3b776294dd1",
   "metadata": {},
   "source": [
    "## 제너레이터 객체가 이터레이터인지 확인"
   ]
  },
  {
   "cell_type": "code",
   "execution_count": 8,
   "id": "3a8957ae-0e68-4aca-9ddd-b57440326aff",
   "metadata": {},
   "outputs": [
    {
     "name": "stdout",
     "output_type": "stream",
     "text": [
      "<class 'generator'>\n"
     ]
    },
    {
     "data": {
      "text/plain": [
       "<generator object number_generator at 0x7fd1b1383b50>"
      ]
     },
     "execution_count": 8,
     "metadata": {},
     "output_type": "execute_result"
    }
   ],
   "source": [
    "g = number_generator()\n",
    "print(type(g))\n",
    "g"
   ]
  },
  {
   "cell_type": "code",
   "execution_count": 9,
   "id": "618807c5-83fc-4364-bcd1-b96ad339a50e",
   "metadata": {},
   "outputs": [
    {
     "data": {
      "text/plain": [
       "['__class__',\n",
       " '__del__',\n",
       " '__delattr__',\n",
       " '__dir__',\n",
       " '__doc__',\n",
       " '__eq__',\n",
       " '__format__',\n",
       " '__ge__',\n",
       " '__getattribute__',\n",
       " '__gt__',\n",
       " '__hash__',\n",
       " '__init__',\n",
       " '__init_subclass__',\n",
       " '__iter__',\n",
       " '__le__',\n",
       " '__lt__',\n",
       " '__name__',\n",
       " '__ne__',\n",
       " '__new__',\n",
       " '__next__',\n",
       " '__qualname__',\n",
       " '__reduce__',\n",
       " '__reduce_ex__',\n",
       " '__repr__',\n",
       " '__setattr__',\n",
       " '__sizeof__',\n",
       " '__str__',\n",
       " '__subclasshook__',\n",
       " 'close',\n",
       " 'gi_code',\n",
       " 'gi_frame',\n",
       " 'gi_running',\n",
       " 'gi_yieldfrom',\n",
       " 'send',\n",
       " 'throw']"
      ]
     },
     "execution_count": 9,
     "metadata": {},
     "output_type": "execute_result"
    }
   ],
   "source": [
    "dir(g)"
   ]
  },
  {
   "cell_type": "code",
   "execution_count": 10,
   "id": "43201737-ab24-4ec6-9e12-0246a3c7ee47",
   "metadata": {},
   "outputs": [
    {
     "data": {
      "text/plain": [
       "0"
      ]
     },
     "execution_count": 10,
     "metadata": {},
     "output_type": "execute_result"
    }
   ],
   "source": [
    "g.__next__()"
   ]
  },
  {
   "cell_type": "code",
   "execution_count": 11,
   "id": "231855f9-fdbe-4449-8709-58579f3bd5ad",
   "metadata": {},
   "outputs": [
    {
     "data": {
      "text/plain": [
       "1"
      ]
     },
     "execution_count": 11,
     "metadata": {},
     "output_type": "execute_result"
    }
   ],
   "source": [
    "g.__next__()"
   ]
  },
  {
   "cell_type": "code",
   "execution_count": 12,
   "id": "a6eab5af-2e63-4e2d-a48a-47e231f2eb07",
   "metadata": {},
   "outputs": [
    {
     "data": {
      "text/plain": [
       "2"
      ]
     },
     "execution_count": 12,
     "metadata": {},
     "output_type": "execute_result"
    }
   ],
   "source": [
    "g.__next__()"
   ]
  },
  {
   "cell_type": "code",
   "execution_count": 13,
   "id": "4f262ac9-32a4-4a5f-bf35-cc2dfb3b2a45",
   "metadata": {},
   "outputs": [
    {
     "ename": "StopIteration",
     "evalue": "",
     "output_type": "error",
     "traceback": [
      "\u001b[0;31m---------------------------------------------------------------------------\u001b[0m",
      "\u001b[0;31mStopIteration\u001b[0m                             Traceback (most recent call last)",
      "Cell \u001b[0;32mIn[13], line 1\u001b[0m\n\u001b[0;32m----> 1\u001b[0m \u001b[43mg\u001b[49m\u001b[38;5;241;43m.\u001b[39;49m\u001b[38;5;21;43m__next__\u001b[39;49m\u001b[43m(\u001b[49m\u001b[43m)\u001b[49m\n",
      "\u001b[0;31mStopIteration\u001b[0m: "
     ]
    }
   ],
   "source": [
    "g.__next__()"
   ]
  },
  {
   "cell_type": "markdown",
   "id": "5d2963c4-0863-4a9b-9e02-2494a94d7433",
   "metadata": {},
   "source": [
    "- 이터레이터는 \\_\\_next\\_\\_ 메서드에 직접 return으로 반환값을 지정\n",
    "- 제너레이터는 yield에 지정한 값이 \\_\\_next\\_\\_ 메서드의 반환값으로 나옴\n",
    "<br>\n",
    "\n",
    "- 이터레이터는 raise로 StopIteration 에러를 직접 발생시킴\n",
    "- 제너레이터는 함수의 끝까지 도달하면 자동으로 에러가 발생\n",
    "<br>\n",
    "\n",
    "- 제너레이터는 제너레이터 객체에서 \\_\\_next\\_\\_ 메서드를 호출할 때마다 함수 내의 yield까지 코드를 실행하며 yield에서 값을 발생(generate)"
   ]
  },
  {
   "cell_type": "markdown",
   "id": "e06f6f3d-33a1-4ca0-9ece-5da250c7f8e6",
   "metadata": {},
   "source": [
    "## yield 의 동작 과정\n",
    "- yield : 생산하다, 양보하다\n",
    "    - 값을 함수 바깥으로 전달하면서 코드 실행을 함수 바깥에 양보\n",
    "    - 현재 함수 실행을 잠시 중단하고 함수 바깥의 코드가 실행되게 함"
   ]
  },
  {
   "cell_type": "code",
   "execution_count": 14,
   "id": "64190cc4-667a-45f2-b607-34eca04b6881",
   "metadata": {},
   "outputs": [],
   "source": [
    "g = number_generator()\n",
    "a = next(g)\n",
    "b = next(g)\n",
    "c = next(g)"
   ]
  },
  {
   "cell_type": "code",
   "execution_count": 15,
   "id": "1fd042e8-0c3f-4c8e-aa31-9b097ff4cd86",
   "metadata": {},
   "outputs": [
    {
     "name": "stdout",
     "output_type": "stream",
     "text": [
      "0\n",
      "1\n",
      "2\n"
     ]
    }
   ],
   "source": [
    "print(a)\n",
    "print(b)\n",
    "print(c)"
   ]
  },
  {
   "cell_type": "markdown",
   "id": "f7fd3a12-86a1-4ab0-bdf9-9fe72f559ea0",
   "metadata": {},
   "source": [
    "- 제너레이터 함수가 실행되는 중간에 next로 값을 가져옴"
   ]
  },
  {
   "cell_type": "code",
   "execution_count": 17,
   "id": "e540ae80-593d-479e-b3c5-064944383a03",
   "metadata": {},
   "outputs": [],
   "source": [
    "def test():\n",
    "    print(\"A지점\")\n",
    "    yield 1\n",
    "    \n",
    "    print(\"B지점\")\n",
    "    yield 2\n",
    "    \n",
    "    print(\"C지점\")"
   ]
  },
  {
   "cell_type": "code",
   "execution_count": 19,
   "id": "92ae7dec-b5b9-44fc-a731-36ac7cd9cb1a",
   "metadata": {},
   "outputs": [
    {
     "name": "stdout",
     "output_type": "stream",
     "text": [
      "D\n",
      "A지점\n",
      "1\n",
      "E\n",
      "B지점\n",
      "2\n",
      "F\n",
      "C지점\n"
     ]
    },
    {
     "ename": "StopIteration",
     "evalue": "",
     "output_type": "error",
     "traceback": [
      "\u001b[0;31m---------------------------------------------------------------------------\u001b[0m",
      "\u001b[0;31mStopIteration\u001b[0m                             Traceback (most recent call last)",
      "Cell \u001b[0;32mIn[19], line 12\u001b[0m\n\u001b[1;32m      9\u001b[0m \u001b[38;5;28mprint\u001b[39m(b)\n\u001b[1;32m     11\u001b[0m \u001b[38;5;28mprint\u001b[39m(\u001b[38;5;124m\"\u001b[39m\u001b[38;5;124mF\u001b[39m\u001b[38;5;124m\"\u001b[39m)\n\u001b[0;32m---> 12\u001b[0m c \u001b[38;5;241m=\u001b[39m \u001b[38;5;28;43mnext\u001b[39;49m\u001b[43m(\u001b[49m\u001b[43moutput\u001b[49m\u001b[43m)\u001b[49m\n\u001b[1;32m     13\u001b[0m \u001b[38;5;28mprint\u001b[39m(c)\n\u001b[1;32m     15\u001b[0m \u001b[38;5;28mprint\u001b[39m(output)\n",
      "\u001b[0;31mStopIteration\u001b[0m: "
     ]
    }
   ],
   "source": [
    "output = test()\n",
    "\n",
    "print(\"D\")\n",
    "a = next(output)\n",
    "print(a)\n",
    "\n",
    "print(\"E\")\n",
    "b = next(output)\n",
    "print(b)\n",
    "\n",
    "print(\"F\")\n",
    "c = next(output)\n",
    "print(c)\n",
    "\n",
    "print(output)"
   ]
  },
  {
   "cell_type": "markdown",
   "id": "86248596-5733-4273-bab3-e5e243c740ca",
   "metadata": {},
   "source": [
    "- 제너레이터 객체는 함수의 코드를 실행할때마다 조금씩 사용함\n",
    "    - 메모리의 효율성을 위해서"
   ]
  },
  {
   "cell_type": "markdown",
   "id": "5c25e939-74c1-43c6-a90a-744db4b3edbd",
   "metadata": {},
   "source": [
    "### 제너레이터와 return\n",
    "- 제너레이터는 함수 끝까지 도달하면 StopIteration 에러가 발생\n",
    "- return 도 함수를 끝내기 때문에 return으로 함수를 끝내면 StopIteration 에러가 발생"
   ]
  },
  {
   "cell_type": "code",
   "execution_count": 20,
   "id": "e6c7fca0-d870-4e83-83d1-67dfa373be23",
   "metadata": {},
   "outputs": [],
   "source": [
    "def one_generator():\n",
    "    yield 1\n",
    "    return \"return 에 지정한 값\""
   ]
  },
  {
   "cell_type": "code",
   "execution_count": 26,
   "id": "2081ecf1-6820-4b56-98b5-9a45aa5d5311",
   "metadata": {},
   "outputs": [
    {
     "name": "stdout",
     "output_type": "stream",
     "text": [
      "1\n"
     ]
    },
    {
     "ename": "StopIteration",
     "evalue": "return 에 지정한 값",
     "output_type": "error",
     "traceback": [
      "\u001b[0;31m---------------------------------------------------------------------------\u001b[0m",
      "\u001b[0;31mStopIteration\u001b[0m                             Traceback (most recent call last)",
      "Cell \u001b[0;32mIn[26], line 3\u001b[0m\n\u001b[1;32m      1\u001b[0m g \u001b[38;5;241m=\u001b[39m one_generator()\n\u001b[1;32m      2\u001b[0m \u001b[38;5;28mprint\u001b[39m(\u001b[38;5;28mnext\u001b[39m(g))\n\u001b[0;32m----> 3\u001b[0m \u001b[38;5;28mprint\u001b[39m(\u001b[38;5;28;43mnext\u001b[39;49m\u001b[43m(\u001b[49m\u001b[43mg\u001b[49m\u001b[43m)\u001b[49m)\n",
      "\u001b[0;31mStopIteration\u001b[0m: return 에 지정한 값"
     ]
    }
   ],
   "source": [
    "g = one_generator()\n",
    "print(next(g))\n",
    "print(next(g))"
   ]
  },
  {
   "cell_type": "code",
   "execution_count": 27,
   "id": "0937dcf6-6f29-4cd6-b5e4-d6e9940fac2c",
   "metadata": {},
   "outputs": [
    {
     "name": "stdout",
     "output_type": "stream",
     "text": [
      "1\n",
      "return 에 지정한 값\n"
     ]
    }
   ],
   "source": [
    "try:\n",
    "    g = one_generator()\n",
    "    print(next(g))\n",
    "    print(next(g))\n",
    "    print(next(g))\n",
    "    \n",
    "except StopIteration as e:\n",
    "    print(e)"
   ]
  },
  {
   "cell_type": "markdown",
   "id": "3c6ad0a0-1b42-4a65-876f-a5814fbd8cd6",
   "metadata": {},
   "source": [
    "## 제너레이터 만들기\n",
    "- range처럼 동작하는 제너레이터 만들기"
   ]
  },
  {
   "cell_type": "code",
   "execution_count": 29,
   "id": "965e9c85-563f-4fef-9fc0-837816ffcf92",
   "metadata": {},
   "outputs": [],
   "source": [
    "def number_generator(stop):\n",
    "    n = 0 # 숫자는 0부터 시작\n",
    "    \n",
    "    while n < stop: # 현재 숫자가 반복을 끝낼 숫자보다 작을 때 반복\n",
    "        yield n # 현재 숫자를 바깥으로 전달\n",
    "        n += 1 # 현재 숫자를 증가시킴"
   ]
  },
  {
   "cell_type": "code",
   "execution_count": 31,
   "id": "b33b1f15-7afd-4d69-a3ca-10184391927c",
   "metadata": {},
   "outputs": [
    {
     "name": "stdout",
     "output_type": "stream",
     "text": [
      "0\n",
      "1\n",
      "2\n"
     ]
    }
   ],
   "source": [
    "for i in number_generator(3):\n",
    "    print(i)"
   ]
  },
  {
   "cell_type": "code",
   "execution_count": 32,
   "id": "0d59acde-1be7-4ba9-afad-ccd90f0f25de",
   "metadata": {},
   "outputs": [
    {
     "data": {
      "text/plain": [
       "0"
      ]
     },
     "execution_count": 32,
     "metadata": {},
     "output_type": "execute_result"
    }
   ],
   "source": [
    "g = number_generator(3)\n",
    "next(g)"
   ]
  },
  {
   "cell_type": "code",
   "execution_count": 33,
   "id": "ad4edb13-1ba0-4cb8-a8b9-41ebf41b22b3",
   "metadata": {},
   "outputs": [
    {
     "data": {
      "text/plain": [
       "1"
      ]
     },
     "execution_count": 33,
     "metadata": {},
     "output_type": "execute_result"
    }
   ],
   "source": [
    "next(g)"
   ]
  },
  {
   "cell_type": "code",
   "execution_count": 34,
   "id": "986279e6-8c2a-4416-8789-14dbf6cffe91",
   "metadata": {},
   "outputs": [
    {
     "data": {
      "text/plain": [
       "2"
      ]
     },
     "execution_count": 34,
     "metadata": {},
     "output_type": "execute_result"
    }
   ],
   "source": [
    "next(g)"
   ]
  },
  {
   "cell_type": "code",
   "execution_count": 35,
   "id": "85e73925-671a-4dae-bdc3-904e6caa10f7",
   "metadata": {},
   "outputs": [
    {
     "ename": "StopIteration",
     "evalue": "",
     "output_type": "error",
     "traceback": [
      "\u001b[0;31m---------------------------------------------------------------------------\u001b[0m",
      "\u001b[0;31mStopIteration\u001b[0m                             Traceback (most recent call last)",
      "Cell \u001b[0;32mIn[35], line 1\u001b[0m\n\u001b[0;32m----> 1\u001b[0m \u001b[38;5;28;43mnext\u001b[39;49m\u001b[43m(\u001b[49m\u001b[43mg\u001b[49m\u001b[43m)\u001b[49m\n",
      "\u001b[0;31mStopIteration\u001b[0m: "
     ]
    }
   ],
   "source": [
    "next(g)"
   ]
  },
  {
   "cell_type": "markdown",
   "id": "e41a6813-f937-41b9-8bb1-b75276e1c8a7",
   "metadata": {},
   "source": [
    "## yield에서 함수 호출하기"
   ]
  },
  {
   "cell_type": "code",
   "execution_count": 36,
   "id": "fd0ceffd-fe89-4cef-8598-ff369609755c",
   "metadata": {},
   "outputs": [],
   "source": [
    "def upper_generator(x):\n",
    "    for i in x:\n",
    "        yield i.upper() # 함수의 반환값을 바깥으로 전달"
   ]
  },
  {
   "cell_type": "code",
   "execution_count": 37,
   "id": "89a9f702-c9d7-44cb-88ca-fa26fa7a7582",
   "metadata": {},
   "outputs": [],
   "source": [
    "fruits = [\"apple\", \"pear\", \"grape\", \"pineapple\", \"orange\"]"
   ]
  },
  {
   "cell_type": "code",
   "execution_count": 40,
   "id": "501f25ba-072c-419d-af10-7ef88fb79d14",
   "metadata": {},
   "outputs": [
    {
     "name": "stdout",
     "output_type": "stream",
     "text": [
      "APPLE\n",
      "PEAR\n",
      "GRAPE\n",
      "PINEAPPLE\n",
      "ORANGE\n"
     ]
    }
   ],
   "source": [
    "for i in upper_generator(fruits):\n",
    "    print(i)"
   ]
  },
  {
   "cell_type": "markdown",
   "id": "2e71d090-84b8-46c3-8f7d-caf289adc9ed",
   "metadata": {},
   "source": [
    "- yield에 무엇을 저장하든 그 결과만 바깥으로 전달"
   ]
  },
  {
   "cell_type": "markdown",
   "id": "5f55720e-bbec-4285-bf8f-0f3302d105a4",
   "metadata": {},
   "source": [
    "# yield from 으로 값을 여러 번 바깥으로 전달"
   ]
  },
  {
   "cell_type": "code",
   "execution_count": 41,
   "id": "05efbc05-ac64-4ed4-a6b5-6c97dfae4461",
   "metadata": {},
   "outputs": [],
   "source": [
    "# 지금까지 배운 방식\n",
    "def number_generator():\n",
    "    x = [1, 2, 3]\n",
    "    for i in x:\n",
    "        yield i"
   ]
  },
  {
   "cell_type": "code",
   "execution_count": 42,
   "id": "86992880-c9ef-4131-bc60-8bd5a96512c0",
   "metadata": {},
   "outputs": [
    {
     "name": "stdout",
     "output_type": "stream",
     "text": [
      "1\n",
      "2\n",
      "3\n"
     ]
    }
   ],
   "source": [
    "for i in number_generator():\n",
    "    print(i)"
   ]
  },
  {
   "cell_type": "markdown",
   "id": "db7651e3-6407-459f-b7bc-41f765413ee7",
   "metadata": {},
   "source": [
    "- 위와 같은 경우에 반복문을 사용하지 않고 yield from 을 사용할 수 있음\n",
    "- yield from 에는 반복 가능한 객체, 이터레이터, 제너레이터 객체를 지정\n",
    "    - yield from 반복 가능한 객체\n",
    "- yield from 은 파이썬 3.3 이상부터 사용 가능"
   ]
  },
  {
   "cell_type": "code",
   "execution_count": 43,
   "id": "b200a19d-ccf0-45aa-bdb3-e93b78e659ed",
   "metadata": {},
   "outputs": [],
   "source": [
    "def number_generator():\n",
    "    x = [1, 2, 3]\n",
    "    yield from x # 리스트에 들어있는 요소를 한 개씩 바깥으로 전달"
   ]
  },
  {
   "cell_type": "code",
   "execution_count": 44,
   "id": "a1c34c54-5331-47dd-a68d-9bf44f951a69",
   "metadata": {},
   "outputs": [
    {
     "name": "stdout",
     "output_type": "stream",
     "text": [
      "1\n",
      "2\n",
      "3\n"
     ]
    }
   ],
   "source": [
    "for i in number_generator():\n",
    "    print(i)"
   ]
  },
  {
   "cell_type": "code",
   "execution_count": 46,
   "id": "6f3680dd-b7db-49ee-848c-24a959f7cd83",
   "metadata": {},
   "outputs": [
    {
     "data": {
      "text/plain": [
       "1"
      ]
     },
     "execution_count": 46,
     "metadata": {},
     "output_type": "execute_result"
    }
   ],
   "source": [
    "g = number_generator()\n",
    "next(g)"
   ]
  },
  {
   "cell_type": "code",
   "execution_count": 47,
   "id": "d062b68a-e31d-4ff8-b8c1-2ee26208df7e",
   "metadata": {},
   "outputs": [
    {
     "data": {
      "text/plain": [
       "2"
      ]
     },
     "execution_count": 47,
     "metadata": {},
     "output_type": "execute_result"
    }
   ],
   "source": [
    "next(g)"
   ]
  },
  {
   "cell_type": "code",
   "execution_count": 48,
   "id": "8a398fe0-5d9d-4162-a734-145902e5e037",
   "metadata": {},
   "outputs": [
    {
     "data": {
      "text/plain": [
       "3"
      ]
     },
     "execution_count": 48,
     "metadata": {},
     "output_type": "execute_result"
    }
   ],
   "source": [
    "next(g)"
   ]
  },
  {
   "cell_type": "code",
   "execution_count": 49,
   "id": "8509b457-a672-45d0-9db9-72d7ed488b79",
   "metadata": {},
   "outputs": [
    {
     "ename": "StopIteration",
     "evalue": "",
     "output_type": "error",
     "traceback": [
      "\u001b[0;31m---------------------------------------------------------------------------\u001b[0m",
      "\u001b[0;31mStopIteration\u001b[0m                             Traceback (most recent call last)",
      "Cell \u001b[0;32mIn[49], line 1\u001b[0m\n\u001b[0;32m----> 1\u001b[0m \u001b[38;5;28;43mnext\u001b[39;49m\u001b[43m(\u001b[49m\u001b[43mg\u001b[49m\u001b[43m)\u001b[49m\n",
      "\u001b[0;31mStopIteration\u001b[0m: "
     ]
    }
   ],
   "source": [
    "next(g)"
   ]
  },
  {
   "cell_type": "markdown",
   "id": "a1b08d91-5841-411f-abcc-3a339cb1fbd0",
   "metadata": {},
   "source": [
    "## yield from 에 제너레이터 객체 지정하기"
   ]
  },
  {
   "cell_type": "code",
   "execution_count": 51,
   "id": "17518a05-4036-4bc9-94f7-5d1b4b1ef06b",
   "metadata": {},
   "outputs": [],
   "source": [
    "def number_generator(stop):\n",
    "    n = 0\n",
    "    while n < stop:\n",
    "        yield n\n",
    "        n += 1\n",
    "        \n",
    "def three_generator():\n",
    "    yield from number_generator(3) # 숫자를 세 번 바깥으로 전달"
   ]
  },
  {
   "cell_type": "code",
   "execution_count": 53,
   "id": "b0455e23-2559-4c71-99ee-f36e0ef57d56",
   "metadata": {},
   "outputs": [
    {
     "name": "stdout",
     "output_type": "stream",
     "text": [
      "0\n",
      "1\n",
      "2\n"
     ]
    }
   ],
   "source": [
    "for i in three_generator():\n",
    "    print(i)"
   ]
  },
  {
   "cell_type": "markdown",
   "id": "285c772a-f8ee-4124-8dab-295cc9d17ce7",
   "metadata": {},
   "source": [
    "# 제너레이터 표현식\n",
    "- 리스트 내포는 처음부터 리스트 요소를 만들어내지만 제너레이터 표현식은 필요할 때 요소를 만들어 내기 때문에 메모리 절약 가능\n",
    "- 표현법\n",
    "    - (식 for 변수 in 반복가능한객체)"
   ]
  },
  {
   "cell_type": "code",
   "execution_count": 55,
   "id": "edd4eb78-2a6b-4f14-bdac-af9ec4787d04",
   "metadata": {},
   "outputs": [
    {
     "data": {
      "text/plain": [
       "[0,\n",
       " 2,\n",
       " 4,\n",
       " 6,\n",
       " 8,\n",
       " 10,\n",
       " 12,\n",
       " 14,\n",
       " 16,\n",
       " 18,\n",
       " 20,\n",
       " 22,\n",
       " 24,\n",
       " 26,\n",
       " 28,\n",
       " 30,\n",
       " 32,\n",
       " 34,\n",
       " 36,\n",
       " 38,\n",
       " 40,\n",
       " 42,\n",
       " 44,\n",
       " 46,\n",
       " 48]"
      ]
     },
     "execution_count": 55,
     "metadata": {},
     "output_type": "execute_result"
    }
   ],
   "source": [
    "# 리스트 내포\n",
    "[i for i in range(50) if i % 2 == 0]"
   ]
  },
  {
   "cell_type": "code",
   "execution_count": 56,
   "id": "a1d90b93-54d8-4396-a379-3ad5d293bb7e",
   "metadata": {},
   "outputs": [
    {
     "data": {
      "text/plain": [
       "<generator object <genexpr> at 0x7fd1925cadc0>"
      ]
     },
     "execution_count": 56,
     "metadata": {},
     "output_type": "execute_result"
    }
   ],
   "source": [
    "(i for i in range(50) if i % 2 == 0)"
   ]
  },
  {
   "cell_type": "markdown",
   "id": "a35ec01c-ef33-4e66-9a6a-4af30ce89758",
   "metadata": {},
   "source": [
    "# 연습 문제\n",
    "- 파일 읽기 제너레이터 만들기\n",
    "    - words.txt 파일을 한 줄씩 읽은 뒤 내용을 함수 바깥에 전달하는 제너레이터 작성\n",
    "    - 파일에서 읽은 \"\\n\"은 출력되지 않도록"
   ]
  },
  {
   "cell_type": "code",
   "execution_count": 84,
   "id": "4e0bcc2c-0028-4ada-8d53-821246001865",
   "metadata": {},
   "outputs": [],
   "source": [
    "def read_word(word):\n",
    "    yield from word"
   ]
  },
  {
   "cell_type": "code",
   "execution_count": 101,
   "id": "73af4383-e61e-42e5-81be-3dea83bf4ae6",
   "metadata": {},
   "outputs": [
    {
     "name": "stdout",
     "output_type": "stream",
     "text": [
      "compatibility\n",
      "experience\n",
      "photography\n",
      "spotlight\n"
     ]
    }
   ],
   "source": [
    "f = open(\"words.txt\", \"r\")\n",
    "\n",
    "data = f.readlines()\n",
    "\n",
    "for i in range(len(data)):\n",
    "    data[i] = data[i].split(\"\\n\")[0]\n",
    "    \n",
    "for i in read_word(data):\n",
    "    print(i)\n",
    "\n",
    "f.close()"
   ]
  },
  {
   "cell_type": "code",
   "execution_count": null,
   "id": "cc0fccad-5ec5-475a-92b2-41b8867f5265",
   "metadata": {},
   "outputs": [],
   "source": [
    "def read_file():\n",
    "    with open(\"words.txt\") as file:\n",
    "        while True:\n",
    "            line = file.readline()\n",
    "            if line == \"\":\n",
    "                break\n",
    "            yield line.strip()"
   ]
  },
  {
   "cell_type": "code",
   "execution_count": null,
   "id": "ccd58f5e-78b8-4484-9923-8a2861fe227f",
   "metadata": {},
   "outputs": [
    {
     "name": "stdout",
     "output_type": "stream",
     "text": [
      "compatibility\n",
      "experience\n",
      "photography\n",
      "spotlight\n"
     ]
    }
   ],
   "source": [
    "for i in read_file():\n",
    "    print(i)"
   ]
  }
 ],
 "metadata": {
  "kernelspec": {
   "display_name": "Python 3 (ipykernel)",
   "language": "python",
   "name": "python3"
  },
  "language_info": {
   "codemirror_mode": {
    "name": "ipython",
    "version": 3
   },
   "file_extension": ".py",
   "mimetype": "text/x-python",
   "name": "python",
   "nbconvert_exporter": "python",
   "pygments_lexer": "ipython3",
   "version": "3.10.9"
  }
 },
 "nbformat": 4,
 "nbformat_minor": 5
}
