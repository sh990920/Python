{
 "cells": [
  {
   "cell_type": "markdown",
   "id": "ab6e65ad-03be-409e-812b-93bbf127ca80",
   "metadata": {
    "tags": []
   },
   "source": [
    "# 내장함수\n",
    "- 파이썬에 내장된 함수\n",
    "- print(), input(), len(), map()..."
   ]
  },
  {
   "cell_type": "markdown",
   "id": "71e2d604-65ad-45af-9950-d433f88d476c",
   "metadata": {},
   "source": [
    "## 문자열 내장함수"
   ]
  },
  {
   "cell_type": "markdown",
   "id": "b569903a-dfcf-4d7e-ac99-dc7e337acaf7",
   "metadata": {},
   "source": [
    "1. chr() / ord()\n",
    "- 모든 문자는 각각 문자 코드라고 하는 자신만의 코드 값이 있음\n",
    "- chr() : 특정 문자의 유니코드 값을 전달하면 해당 문자를 반환\n",
    "- ord() : 문자를 전달하면 해당 문자의 유니코드 값을 반환"
   ]
  },
  {
   "cell_type": "code",
   "execution_count": 1,
   "id": "6ceea56c-452e-4078-8fdb-05acdccf5846",
   "metadata": {},
   "outputs": [
    {
     "data": {
      "text/plain": [
       "48"
      ]
     },
     "execution_count": 1,
     "metadata": {},
     "output_type": "execute_result"
    }
   ],
   "source": [
    "ord(\"0\")"
   ]
  },
  {
   "cell_type": "code",
   "execution_count": 2,
   "id": "509b1126-6d77-4899-907f-c027765feeda",
   "metadata": {},
   "outputs": [
    {
     "data": {
      "text/plain": [
       "49"
      ]
     },
     "execution_count": 2,
     "metadata": {},
     "output_type": "execute_result"
    }
   ],
   "source": [
    "ord(\"1\")"
   ]
  },
  {
   "cell_type": "code",
   "execution_count": 3,
   "id": "c9cab0c4-1b4f-487c-ae41-13c3558d5fe4",
   "metadata": {},
   "outputs": [
    {
     "data": {
      "text/plain": [
       "'0'"
      ]
     },
     "execution_count": 3,
     "metadata": {},
     "output_type": "execute_result"
    }
   ],
   "source": [
    "chr(48)"
   ]
  },
  {
   "cell_type": "code",
   "execution_count": 13,
   "id": "181f207f-3c94-48c3-ad30-5c62bf438a16",
   "metadata": {},
   "outputs": [
    {
     "data": {
      "text/plain": [
       "'1'"
      ]
     },
     "execution_count": 13,
     "metadata": {},
     "output_type": "execute_result"
    }
   ],
   "source": [
    "chr(49)"
   ]
  },
  {
   "cell_type": "code",
   "execution_count": 15,
   "id": "ca62cad5-1947-4113-a35b-f93ff196c65d",
   "metadata": {},
   "outputs": [
    {
     "name": "stdout",
     "output_type": "stream",
     "text": [
      "97\n",
      "122\n"
     ]
    }
   ],
   "source": [
    "print(ord(\"a\"))\n",
    "print(ord(\"z\"))"
   ]
  },
  {
   "cell_type": "code",
   "execution_count": 16,
   "id": "2364072c-64c4-4aef-98df-c9725a8d15b4",
   "metadata": {},
   "outputs": [
    {
     "name": "stdout",
     "output_type": "stream",
     "text": [
      "a b c d e f g h i j k l m n o p q r s t u v w x y z "
     ]
    }
   ],
   "source": [
    "for i in range(97, 123):\n",
    "    print(chr(i), end = \" \")"
   ]
  },
  {
   "cell_type": "markdown",
   "id": "012bdb84-37b6-4c75-ae84-b27444970c88",
   "metadata": {},
   "source": [
    "2. eval()\n",
    "- 표현식을 문자열로 전달하면 결과값을 반환"
   ]
  },
  {
   "cell_type": "code",
   "execution_count": 17,
   "id": "00f6f7e6-bf54-45d9-aa47-7386b95f1a02",
   "metadata": {},
   "outputs": [
    {
     "data": {
      "text/plain": [
       "300"
      ]
     },
     "execution_count": 17,
     "metadata": {},
     "output_type": "execute_result"
    }
   ],
   "source": [
    "eval(\"100 + 200\")"
   ]
  },
  {
   "cell_type": "code",
   "execution_count": 18,
   "id": "3ae3b4da-96b4-4308-b45a-59d328295237",
   "metadata": {},
   "outputs": [
    {
     "data": {
      "text/plain": [
       "50"
      ]
     },
     "execution_count": 18,
     "metadata": {},
     "output_type": "execute_result"
    }
   ],
   "source": [
    "a = 10\n",
    "eval(\"a * 5\")"
   ]
  },
  {
   "cell_type": "code",
   "execution_count": 19,
   "id": "b43c3e3e-634c-47f6-8d12-e017610f5603",
   "metadata": {},
   "outputs": [
    {
     "name": "stdout",
     "output_type": "stream",
     "text": [
      "1\n"
     ]
    }
   ],
   "source": [
    "print(eval(\"min(1, 2, 3)\"))"
   ]
  },
  {
   "cell_type": "code",
   "execution_count": 24,
   "id": "a526f33f-c012-4fa4-993e-af30412c2100",
   "metadata": {},
   "outputs": [
    {
     "name": "stdout",
     "output_type": "stream",
     "text": [
      "<class 'str'>\n"
     ]
    }
   ],
   "source": [
    "print(type(\"[1, 2, 3]\"))"
   ]
  },
  {
   "cell_type": "code",
   "execution_count": 21,
   "id": "ae2c2799-94fd-4026-b7c6-faf410f4bacd",
   "metadata": {},
   "outputs": [
    {
     "data": {
      "text/plain": [
       "['[', '1', ',', ' ', '2', ',', ' ', '3', ']']"
      ]
     },
     "execution_count": 21,
     "metadata": {},
     "output_type": "execute_result"
    }
   ],
   "source": [
    "list(\"[1, 2, 3]\")"
   ]
  },
  {
   "cell_type": "code",
   "execution_count": 22,
   "id": "e755c2d9-10c3-4669-9dc0-88b855c9b6d2",
   "metadata": {},
   "outputs": [
    {
     "data": {
      "text/plain": [
       "['[1, 2, 3]']"
      ]
     },
     "execution_count": 22,
     "metadata": {},
     "output_type": "execute_result"
    }
   ],
   "source": [
    "[\"[1, 2, 3]\"]"
   ]
  },
  {
   "cell_type": "code",
   "execution_count": 25,
   "id": "68b97bf9-aa8c-498b-8ec6-7387f70f5b94",
   "metadata": {},
   "outputs": [
    {
     "name": "stdout",
     "output_type": "stream",
     "text": [
      "<class 'list'>\n"
     ]
    }
   ],
   "source": [
    "eval(\"[1, 2, 3]\")\n",
    "print(type(eval(\"[1, 2, 3]\")))"
   ]
  },
  {
   "cell_type": "markdown",
   "id": "a84edebe-388d-4137-83a5-7b27bb11c557",
   "metadata": {},
   "source": [
    "3. str()\n",
    "- 문자열로 변환"
   ]
  },
  {
   "cell_type": "code",
   "execution_count": 26,
   "id": "fe9baabd-f9ab-4eb0-a0ff-f5a385a23bd7",
   "metadata": {},
   "outputs": [
    {
     "data": {
      "text/plain": [
       "'10'"
      ]
     },
     "execution_count": 26,
     "metadata": {},
     "output_type": "execute_result"
    }
   ],
   "source": [
    "str(10)"
   ]
  },
  {
   "cell_type": "code",
   "execution_count": 27,
   "id": "7d7d1865-1fdb-47ea-9844-253d38a81a4b",
   "metadata": {},
   "outputs": [
    {
     "data": {
      "text/plain": [
       "'1.5'"
      ]
     },
     "execution_count": 27,
     "metadata": {},
     "output_type": "execute_result"
    }
   ],
   "source": [
    "str(1.5)"
   ]
  },
  {
   "cell_type": "code",
   "execution_count": 28,
   "id": "5272e9d4-f88c-4779-b0a6-5d8606c4d50b",
   "metadata": {},
   "outputs": [
    {
     "data": {
      "text/plain": [
       "'True'"
      ]
     },
     "execution_count": 28,
     "metadata": {},
     "output_type": "execute_result"
    }
   ],
   "source": [
    "str(True)"
   ]
  },
  {
   "cell_type": "markdown",
   "id": "6579fffe-39f1-4427-8e1a-1d8d08703aba",
   "metadata": {},
   "source": [
    "## 숫자 내장 함수"
   ]
  },
  {
   "cell_type": "markdown",
   "id": "29bfbf76-d5ea-404d-99c2-e69138d0e0b2",
   "metadata": {},
   "source": [
    "1. abs()\n",
    "- 숫자의 절댓값을 반환"
   ]
  },
  {
   "cell_type": "code",
   "execution_count": 29,
   "id": "cc1a700e-1c09-4f06-b472-6393f0d89ba5",
   "metadata": {},
   "outputs": [
    {
     "data": {
      "text/plain": [
       "20"
      ]
     },
     "execution_count": 29,
     "metadata": {},
     "output_type": "execute_result"
    }
   ],
   "source": [
    "abs(20)"
   ]
  },
  {
   "cell_type": "code",
   "execution_count": 30,
   "id": "4c077c8d-9f5e-4d1f-b738-69a60e2770ef",
   "metadata": {},
   "outputs": [
    {
     "data": {
      "text/plain": [
       "10"
      ]
     },
     "execution_count": 30,
     "metadata": {},
     "output_type": "execute_result"
    }
   ],
   "source": [
    "abs(-10)"
   ]
  },
  {
   "cell_type": "markdown",
   "id": "9ddf7c7d-63d1-4756-934c-42c6e5ffc687",
   "metadata": {},
   "source": [
    "2. divmod()\n",
    "- 전달된 두 인수를 나누어서 몫과 나머지를 반환"
   ]
  },
  {
   "cell_type": "code",
   "execution_count": 31,
   "id": "ff1b219b-f4c4-4d2f-b381-c78f60cc00c2",
   "metadata": {},
   "outputs": [
    {
     "data": {
      "text/plain": [
       "(3, 1)"
      ]
     },
     "execution_count": 31,
     "metadata": {},
     "output_type": "execute_result"
    }
   ],
   "source": [
    "divmod(10, 3)"
   ]
  },
  {
   "cell_type": "code",
   "execution_count": 33,
   "id": "393a7979-6bcb-4131-abdb-c2639b700ee4",
   "metadata": {},
   "outputs": [
    {
     "name": "stdout",
     "output_type": "stream",
     "text": [
      "빵을 3개 사고 1000원이 남았습니다\n"
     ]
    }
   ],
   "source": [
    "money = 10000\n",
    "price = 3000\n",
    "n, remain = divmod(money, price)\n",
    "print(f\"빵을 {n}개 사고 {remain}원이 남았습니다\")"
   ]
  },
  {
   "cell_type": "markdown",
   "id": "76ed0983-a50a-49cb-b945-f9ac35e9da27",
   "metadata": {},
   "source": [
    "3. float() / int()\n",
    "- 실수 / 정수로 변환"
   ]
  },
  {
   "cell_type": "code",
   "execution_count": 34,
   "id": "d9fcec29-6669-4e75-ab80-f8e5d52d7ce8",
   "metadata": {},
   "outputs": [
    {
     "data": {
      "text/plain": [
       "3.0"
      ]
     },
     "execution_count": 34,
     "metadata": {},
     "output_type": "execute_result"
    }
   ],
   "source": [
    "float(3)"
   ]
  },
  {
   "cell_type": "code",
   "execution_count": 35,
   "id": "b3f15641-cff9-44db-b1ea-36fbe4710ff5",
   "metadata": {},
   "outputs": [
    {
     "data": {
      "text/plain": [
       "3.5"
      ]
     },
     "execution_count": 35,
     "metadata": {},
     "output_type": "execute_result"
    }
   ],
   "source": [
    "float(\"3.5\")"
   ]
  },
  {
   "cell_type": "code",
   "execution_count": 36,
   "id": "c4d4bdab-8969-4fea-907d-e2fd7dd87313",
   "metadata": {},
   "outputs": [
    {
     "data": {
      "text/plain": [
       "3"
      ]
     },
     "execution_count": 36,
     "metadata": {},
     "output_type": "execute_result"
    }
   ],
   "source": [
    "int(3.9)"
   ]
  },
  {
   "cell_type": "code",
   "execution_count": 37,
   "id": "a6729b70-98ae-4d40-91d7-33412485c34a",
   "metadata": {},
   "outputs": [
    {
     "data": {
      "text/plain": [
       "3"
      ]
     },
     "execution_count": 37,
     "metadata": {},
     "output_type": "execute_result"
    }
   ],
   "source": [
    "int(3)"
   ]
  },
  {
   "cell_type": "code",
   "execution_count": 38,
   "id": "448e3f7b-a514-4c23-aac0-7982807a2c12",
   "metadata": {},
   "outputs": [
    {
     "ename": "ValueError",
     "evalue": "invalid literal for int() with base 10: '3.5'",
     "output_type": "error",
     "traceback": [
      "\u001b[0;31m---------------------------------------------------------------------------\u001b[0m",
      "\u001b[0;31mValueError\u001b[0m                                Traceback (most recent call last)",
      "Cell \u001b[0;32mIn[38], line 1\u001b[0m\n\u001b[0;32m----> 1\u001b[0m \u001b[38;5;28;43mint\u001b[39;49m\u001b[43m(\u001b[49m\u001b[38;5;124;43m\"\u001b[39;49m\u001b[38;5;124;43m3.5\u001b[39;49m\u001b[38;5;124;43m\"\u001b[39;49m\u001b[43m)\u001b[49m\n",
      "\u001b[0;31mValueError\u001b[0m: invalid literal for int() with base 10: '3.5'"
     ]
    }
   ],
   "source": [
    "int(\"3.5\")"
   ]
  },
  {
   "cell_type": "markdown",
   "id": "b5b59a70-4268-4480-a19a-ec578a5f9e5c",
   "metadata": {},
   "source": [
    "4. max() / min()\n",
    "- 전달된 인수중 최댓값을 반환, 최소값을 반환"
   ]
  },
  {
   "cell_type": "code",
   "execution_count": 39,
   "id": "1d677764-8cda-4c59-af54-37a8ebe8f315",
   "metadata": {},
   "outputs": [
    {
     "data": {
      "text/plain": [
       "10"
      ]
     },
     "execution_count": 39,
     "metadata": {},
     "output_type": "execute_result"
    }
   ],
   "source": [
    "max(1, 10)"
   ]
  },
  {
   "cell_type": "code",
   "execution_count": 40,
   "id": "625ea57a-d7ac-4d00-bf65-7ea0db7b81db",
   "metadata": {},
   "outputs": [
    {
     "data": {
      "text/plain": [
       "1"
      ]
     },
     "execution_count": 40,
     "metadata": {},
     "output_type": "execute_result"
    }
   ],
   "source": [
    "min(1, 10)"
   ]
  },
  {
   "cell_type": "code",
   "execution_count": 41,
   "id": "18133787-782e-4ca7-945c-4d34eb5e7b34",
   "metadata": {},
   "outputs": [
    {
     "name": "stdout",
     "output_type": "stream",
     "text": [
      "5 1\n"
     ]
    }
   ],
   "source": [
    "li = [1, 2, 3, 4, 5]\n",
    "print(max(li), min(li))"
   ]
  },
  {
   "cell_type": "markdown",
   "id": "91a562ad-025b-49bd-8901-e30824662dba",
   "metadata": {},
   "source": [
    "5. pow()\n",
    "- 두 인수의 거듭제곱을 반환"
   ]
  },
  {
   "cell_type": "code",
   "execution_count": 42,
   "id": "e3df8276-3d87-4974-a892-b2773ceffc5a",
   "metadata": {},
   "outputs": [
    {
     "data": {
      "text/plain": [
       "100"
      ]
     },
     "execution_count": 42,
     "metadata": {},
     "output_type": "execute_result"
    }
   ],
   "source": [
    "pow(10, 2)"
   ]
  },
  {
   "cell_type": "code",
   "execution_count": 43,
   "id": "ebdf448c-4c29-4ba7-be11-5b911f5def9a",
   "metadata": {},
   "outputs": [
    {
     "data": {
      "text/plain": [
       "1000"
      ]
     },
     "execution_count": 43,
     "metadata": {},
     "output_type": "execute_result"
    }
   ],
   "source": [
    "pow(10, 3)"
   ]
  },
  {
   "cell_type": "code",
   "execution_count": 44,
   "id": "e8d3468c-90e4-462d-b144-d0307f65fbcf",
   "metadata": {},
   "outputs": [
    {
     "data": {
      "text/plain": [
       "0.01"
      ]
     },
     "execution_count": 44,
     "metadata": {},
     "output_type": "execute_result"
    }
   ],
   "source": [
    "pow(10, -2)"
   ]
  },
  {
   "cell_type": "code",
   "execution_count": 45,
   "id": "b54e4376-1e89-47e3-9349-447d5736ea76",
   "metadata": {},
   "outputs": [
    {
     "data": {
      "text/plain": [
       "0.001"
      ]
     },
     "execution_count": 45,
     "metadata": {},
     "output_type": "execute_result"
    }
   ],
   "source": [
    "pow(10, -3)"
   ]
  },
  {
   "cell_type": "markdown",
   "id": "78b066a7-34aa-4605-b660-d936c1cb8eb7",
   "metadata": {},
   "source": [
    "6. round()\n",
    "- 반올림한 값을 반환"
   ]
  },
  {
   "cell_type": "code",
   "execution_count": 47,
   "id": "daf5aeed-4dcf-47e4-b521-ded90e8f95fa",
   "metadata": {},
   "outputs": [
    {
     "data": {
      "text/plain": [
       "2"
      ]
     },
     "execution_count": 47,
     "metadata": {},
     "output_type": "execute_result"
    }
   ],
   "source": [
    "round(1.5)"
   ]
  },
  {
   "cell_type": "code",
   "execution_count": 49,
   "id": "8462a783-9155-49e0-a349-d116cdaeadc3",
   "metadata": {},
   "outputs": [
    {
     "data": {
      "text/plain": [
       "1"
      ]
     },
     "execution_count": 49,
     "metadata": {},
     "output_type": "execute_result"
    }
   ],
   "source": [
    "round(1.4)"
   ]
  },
  {
   "cell_type": "code",
   "execution_count": 51,
   "id": "2e249e48-62d2-4603-9e34-5dfc4434c114",
   "metadata": {},
   "outputs": [
    {
     "data": {
      "text/plain": [
       "1.6"
      ]
     },
     "execution_count": 51,
     "metadata": {},
     "output_type": "execute_result"
    }
   ],
   "source": [
    "round(1.55, 1)"
   ]
  },
  {
   "cell_type": "markdown",
   "id": "d2773b81-fecd-4f06-a780-32e38ebc8ef6",
   "metadata": {},
   "source": [
    "7. sum()\n",
    "- 합계를 반환\n",
    "- 숫자가 아닌 값은 전달 불가능"
   ]
  },
  {
   "cell_type": "code",
   "execution_count": 52,
   "id": "96e53f2d-3d89-45e3-9c2f-0f3e5d68926a",
   "metadata": {},
   "outputs": [
    {
     "data": {
      "text/plain": [
       "15"
      ]
     },
     "execution_count": 52,
     "metadata": {},
     "output_type": "execute_result"
    }
   ],
   "source": [
    "li = [1, 2, 3, 4, 5]\n",
    "sum(li)"
   ]
  },
  {
   "cell_type": "code",
   "execution_count": 53,
   "id": "4039f005-4432-404a-90bc-ed7c8c8deaf5",
   "metadata": {},
   "outputs": [
    {
     "data": {
      "text/plain": [
       "'hello'"
      ]
     },
     "execution_count": 53,
     "metadata": {},
     "output_type": "execute_result"
    }
   ],
   "source": [
    "\"h\" + \"e\" + \"l\" + \"l\" + \"o\""
   ]
  },
  {
   "cell_type": "code",
   "execution_count": 54,
   "id": "4304cd31-4fb2-45b8-ae87-63c4651d300b",
   "metadata": {},
   "outputs": [
    {
     "ename": "TypeError",
     "evalue": "unsupported operand type(s) for +: 'int' and 'str'",
     "output_type": "error",
     "traceback": [
      "\u001b[0;31m---------------------------------------------------------------------------\u001b[0m",
      "\u001b[0;31mTypeError\u001b[0m                                 Traceback (most recent call last)",
      "Cell \u001b[0;32mIn[54], line 1\u001b[0m\n\u001b[0;32m----> 1\u001b[0m \u001b[38;5;28;43msum\u001b[39;49m\u001b[43m(\u001b[49m\u001b[38;5;124;43m\"\u001b[39;49m\u001b[38;5;124;43mh\u001b[39;49m\u001b[38;5;124;43m\"\u001b[39;49m\u001b[43m \u001b[49m\u001b[38;5;241;43m+\u001b[39;49m\u001b[43m \u001b[49m\u001b[38;5;124;43m\"\u001b[39;49m\u001b[38;5;124;43me\u001b[39;49m\u001b[38;5;124;43m\"\u001b[39;49m\u001b[43m \u001b[49m\u001b[38;5;241;43m+\u001b[39;49m\u001b[43m \u001b[49m\u001b[38;5;124;43m\"\u001b[39;49m\u001b[38;5;124;43ml\u001b[39;49m\u001b[38;5;124;43m\"\u001b[39;49m\u001b[43m \u001b[49m\u001b[38;5;241;43m+\u001b[39;49m\u001b[43m \u001b[49m\u001b[38;5;124;43m\"\u001b[39;49m\u001b[38;5;124;43ml\u001b[39;49m\u001b[38;5;124;43m\"\u001b[39;49m\u001b[43m \u001b[49m\u001b[38;5;241;43m+\u001b[39;49m\u001b[43m \u001b[49m\u001b[38;5;124;43m\"\u001b[39;49m\u001b[38;5;124;43mo\u001b[39;49m\u001b[38;5;124;43m\"\u001b[39;49m\u001b[43m)\u001b[49m\n",
      "\u001b[0;31mTypeError\u001b[0m: unsupported operand type(s) for +: 'int' and 'str'"
     ]
    }
   ],
   "source": [
    "sum(\"h\" + \"e\" + \"l\" + \"l\" + \"o\")"
   ]
  },
  {
   "cell_type": "markdown",
   "id": "9ee0044b-7cac-41a5-bd5d-3a950e2cec34",
   "metadata": {},
   "source": [
    "## 시퀀스 내장 함수"
   ]
  },
  {
   "cell_type": "markdown",
   "id": "f95a4b28-5c38-4aa4-8a2b-a2fb1c22b3fa",
   "metadata": {},
   "source": [
    "1. enumerate()\n",
    "- 리스트에 저장된 요소와 인덱스가 함께 추출"
   ]
  },
  {
   "cell_type": "code",
   "execution_count": 59,
   "id": "0aa56a1d-80c2-47a9-b655-955a7e36b72c",
   "metadata": {},
   "outputs": [
    {
     "name": "stdout",
     "output_type": "stream",
     "text": [
      "0 가위\n",
      "1 바위\n",
      "2 보\n"
     ]
    }
   ],
   "source": [
    "for idx, element in enumerate([\"가위\", \"바위\", \"보\"]):\n",
    "    print(idx, element)"
   ]
  },
  {
   "cell_type": "markdown",
   "id": "213ff9bb-39c0-47ac-bffe-d56e25fa006d",
   "metadata": {},
   "source": [
    "2. range()\n",
    "- 특정 범위의 값을 생성\n",
    "- 주로 for 문과 함께 사용\n",
    "- list()함수로 리스트로 변환해서 사용하기도 함\n",
    "\n",
    "    - range(stop)\n",
    "    - range(strat, stop)\n",
    "    - range(start, stop, step)\n",
    "    - start <= n < stop"
   ]
  },
  {
   "cell_type": "code",
   "execution_count": 60,
   "id": "c5bb5b43-1e0a-4127-8a7e-dcf253021fd9",
   "metadata": {},
   "outputs": [
    {
     "data": {
      "text/plain": [
       "range(0, 10)"
      ]
     },
     "execution_count": 60,
     "metadata": {},
     "output_type": "execute_result"
    }
   ],
   "source": [
    "range(10)"
   ]
  },
  {
   "cell_type": "code",
   "execution_count": 61,
   "id": "1c5365b4-41b0-476a-a53a-176013ecfd70",
   "metadata": {},
   "outputs": [
    {
     "data": {
      "text/plain": [
       "[0, 1, 2, 3, 4, 5, 6, 7, 8, 9]"
      ]
     },
     "execution_count": 61,
     "metadata": {},
     "output_type": "execute_result"
    }
   ],
   "source": [
    "list(range(10))"
   ]
  },
  {
   "cell_type": "code",
   "execution_count": 62,
   "id": "b31ca823-f216-4e0e-8dd7-e85455fd025a",
   "metadata": {},
   "outputs": [
    {
     "data": {
      "text/plain": [
       "[1, 2, 3, 4, 5, 6, 7, 8, 9, 10]"
      ]
     },
     "execution_count": 62,
     "metadata": {},
     "output_type": "execute_result"
    }
   ],
   "source": [
    "list(range(1, 11))"
   ]
  },
  {
   "cell_type": "code",
   "execution_count": 63,
   "id": "0c39f31f-5f03-409c-a454-2e8e67c5c8b6",
   "metadata": {},
   "outputs": [
    {
     "data": {
      "text/plain": [
       "[0, 5, 10, 15, 20, 25]"
      ]
     },
     "execution_count": 63,
     "metadata": {},
     "output_type": "execute_result"
    }
   ],
   "source": [
    "list(range(0, 30, 5))"
   ]
  },
  {
   "cell_type": "code",
   "execution_count": 64,
   "id": "2c65db1f-4c0a-46f4-9cf3-7d792a30a7b3",
   "metadata": {},
   "outputs": [
    {
     "data": {
      "text/plain": [
       "[0, -1, -2, -3, -4, -5, -6, -7, -8, -9]"
      ]
     },
     "execution_count": 64,
     "metadata": {},
     "output_type": "execute_result"
    }
   ],
   "source": [
    "list(range(0, -10, -1))"
   ]
  },
  {
   "cell_type": "code",
   "execution_count": 65,
   "id": "2e2b5485-dffd-461e-9498-383813841206",
   "metadata": {},
   "outputs": [
    {
     "data": {
      "text/plain": [
       "[]"
      ]
     },
     "execution_count": 65,
     "metadata": {},
     "output_type": "execute_result"
    }
   ],
   "source": [
    "list(range(0))"
   ]
  },
  {
   "cell_type": "code",
   "execution_count": 66,
   "id": "d7dcd075-e820-4e09-8754-58c9c05e20f7",
   "metadata": {},
   "outputs": [
    {
     "data": {
      "text/plain": [
       "[]"
      ]
     },
     "execution_count": 66,
     "metadata": {},
     "output_type": "execute_result"
    }
   ],
   "source": [
    "list(range(1, 0))"
   ]
  },
  {
   "cell_type": "markdown",
   "id": "80ca9348-26e1-403d-a8ab-c107bbbb64d2",
   "metadata": {},
   "source": [
    "3. len()\n",
    "- 객체의 길이(항목의 수)를 반환"
   ]
  },
  {
   "cell_type": "code",
   "execution_count": 67,
   "id": "3532ee9f-827d-4ebe-b581-4c21f09e6660",
   "metadata": {},
   "outputs": [
    {
     "data": {
      "text/plain": [
       "4"
      ]
     },
     "execution_count": 67,
     "metadata": {},
     "output_type": "execute_result"
    }
   ],
   "source": [
    "li = [\"a\", \"b\", \"c\", \"d\"]\n",
    "len(li)"
   ]
  },
  {
   "cell_type": "code",
   "execution_count": 69,
   "id": "f154d72d-000e-42d0-8f66-0e6a51804f22",
   "metadata": {},
   "outputs": [
    {
     "data": {
      "text/plain": [
       "2"
      ]
     },
     "execution_count": 69,
     "metadata": {},
     "output_type": "execute_result"
    }
   ],
   "source": [
    "d = {\"a\" : \"apple\", \"b\" : \"banana\"}\n",
    "len(d)"
   ]
  },
  {
   "cell_type": "code",
   "execution_count": 70,
   "id": "0a1d48fc-7ddc-41df-9427-b2dfb6a0ff52",
   "metadata": {},
   "outputs": [
    {
     "data": {
      "text/plain": [
       "10"
      ]
     },
     "execution_count": 70,
     "metadata": {},
     "output_type": "execute_result"
    }
   ],
   "source": [
    "len(range(10))"
   ]
  },
  {
   "cell_type": "markdown",
   "id": "5fe7428d-d0e0-436a-865c-bbbf2c857d8b",
   "metadata": {},
   "source": [
    "4. sorted()\n",
    "- 오름차순, 내림차순으로 정렬된 결과를 반환"
   ]
  },
  {
   "cell_type": "code",
   "execution_count": 72,
   "id": "111ca479-1673-4f8c-82d6-243efb5809ee",
   "metadata": {},
   "outputs": [
    {
     "data": {
      "text/plain": [
       "[1, 2, 3, 4, 5, 7, 8, 9]"
      ]
     },
     "execution_count": 72,
     "metadata": {},
     "output_type": "execute_result"
    }
   ],
   "source": [
    "my_list = [3, 5, 2, 1, 9, 7, 4, 8]\n",
    "sorted(my_list)"
   ]
  },
  {
   "cell_type": "code",
   "execution_count": 73,
   "id": "99ac9a2e-94bf-4115-80b9-ff6bdda22a30",
   "metadata": {},
   "outputs": [
    {
     "data": {
      "text/plain": [
       "[9, 8, 7, 5, 4, 3, 2, 1]"
      ]
     },
     "execution_count": 73,
     "metadata": {},
     "output_type": "execute_result"
    }
   ],
   "source": [
    "sorted(my_list, reverse = True)"
   ]
  },
  {
   "cell_type": "code",
   "execution_count": 74,
   "id": "588b6e98-fbf5-42fc-bbab-21b4b6694213",
   "metadata": {},
   "outputs": [],
   "source": [
    "my_list = sorted(my_list)"
   ]
  },
  {
   "cell_type": "code",
   "execution_count": 75,
   "id": "96efadf5-4ef1-486f-977b-32e90f97e8f4",
   "metadata": {},
   "outputs": [
    {
     "name": "stdout",
     "output_type": "stream",
     "text": [
      "[1, 2, 3, 4, 5, 7, 8, 9]\n"
     ]
    }
   ],
   "source": [
    "print(my_list)"
   ]
  },
  {
   "cell_type": "markdown",
   "id": "8f8e2f0f-d6c4-404d-8e1f-820e550b0dee",
   "metadata": {},
   "source": [
    "5. zip()\n",
    "- 여러개의 반복 가능객체의 각 요소를 묶어서 반환\n",
    "- 전달된 객체의 길이가 다르면 짧은 객체를 기준으로 동작\n"
   ]
  },
  {
   "cell_type": "code",
   "execution_count": 78,
   "id": "758c55a6-d9d9-437c-85f7-1ba8848e69ed",
   "metadata": {},
   "outputs": [
    {
     "name": "stdout",
     "output_type": "stream",
     "text": [
      "james의 점수는 60점 입니다.\n",
      "emily의 점수는 70점 입니다.\n",
      "amanda의 점수는 80점 입니다.\n"
     ]
    }
   ],
   "source": [
    "names = [\"james\", \"emily\", \"amanda\"]\n",
    "scores = [60, 70, 80]\n",
    "\n",
    "for name, score in zip(names, scores):\n",
    "    print(f\"{name}의 점수는 {score}점 입니다.\")"
   ]
  }
 ],
 "metadata": {
  "kernelspec": {
   "display_name": "Python 3 (ipykernel)",
   "language": "python",
   "name": "python3"
  },
  "language_info": {
   "codemirror_mode": {
    "name": "ipython",
    "version": 3
   },
   "file_extension": ".py",
   "mimetype": "text/x-python",
   "name": "python",
   "nbconvert_exporter": "python",
   "pygments_lexer": "ipython3",
   "version": "3.10.9"
  }
 },
 "nbformat": 4,
 "nbformat_minor": 5
}
