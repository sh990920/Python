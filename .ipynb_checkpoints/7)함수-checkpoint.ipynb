{
 "cells": [
  {
   "cell_type": "markdown",
   "id": "50baaf5f-f82f-4515-9bcd-10152ce4cdaa",
   "metadata": {},
   "source": [
    "# 파이썬 함수의 구조\n",
    "\n",
    "def 함수명(매개변수):\n",
    "    <수행할 문장>\n"
   ]
  },
  {
   "cell_type": "code",
   "execution_count": 2,
   "id": "03e856c0-dd65-4f43-a142-782308856c79",
   "metadata": {},
   "outputs": [],
   "source": [
    "# welcome 함수 정의\n",
    "def welcome():\n",
    "    print(\"Hello!\")\n",
    "    print(\"Nice to meet you\")"
   ]
  },
  {
   "cell_type": "code",
   "execution_count": 3,
   "id": "36465685-6cd8-474f-a3cd-d4990c0a3c22",
   "metadata": {},
   "outputs": [
    {
     "name": "stdout",
     "output_type": "stream",
     "text": [
      "Hello!\n",
      "Nice to meet you\n"
     ]
    }
   ],
   "source": [
    "welcome()"
   ]
  },
  {
   "cell_type": "code",
   "execution_count": 6,
   "id": "b36f34d1-fddc-4133-8640-644138dd7663",
   "metadata": {},
   "outputs": [],
   "source": [
    "# add 함수 정의\n",
    "def add(a, b):\n",
    "    return a + b"
   ]
  },
  {
   "cell_type": "code",
   "execution_count": 7,
   "id": "d5ef5348-8201-45c9-a48d-e1abfdb5f803",
   "metadata": {},
   "outputs": [
    {
     "name": "stdout",
     "output_type": "stream",
     "text": [
      "7\n"
     ]
    }
   ],
   "source": [
    "a = 3\n",
    "b = 4\n",
    "c = add(a, b)\n",
    "print(c)"
   ]
  },
  {
   "cell_type": "markdown",
   "id": "dea10f2e-e16b-4bea-948b-d507aea21c43",
   "metadata": {},
   "source": [
    "## 함수 사용의 장점\n",
    "- 코드의 용도를 구분\n",
    "- 코드의 재사용이 용이\n",
    "- 실수를 방지(오타 등)"
   ]
  },
  {
   "cell_type": "markdown",
   "id": "b3bb8c0d-2d9e-44c9-8341-c1b6061c3288",
   "metadata": {},
   "source": [
    "# 매개변수와 인수\n",
    "- 매개변수 : 함수에 입력으로 전달된 값을 받는 변수\n",
    "- 인수 : 함수를 호출할 때 전달받는 입력값\n",
    "- 인수와 매개변수는 다른 개념이지만 함수가 호출된 뒤에는 구분이 모호해지므로 구분하지 않는 경우도 많다.\n",
    "\n",
    "- 함수의 처리과정\n",
    "    - 입력값 -> 함수 -> 결과값\n",
    "    \n",
    "- 함수의 사용법\n",
    "    - 결과값을 받을 변수 = 함수이름(입력인수1, 입력인수2, ...)"
   ]
  },
  {
   "cell_type": "code",
   "execution_count": 8,
   "id": "dd78e1cd-8a43-4eb2-8e78-72ea418f65e4",
   "metadata": {},
   "outputs": [],
   "source": [
    "def print_n_times(value, n):\n",
    "    for i in range(n):\n",
    "        print(value)"
   ]
  },
  {
   "cell_type": "code",
   "execution_count": 9,
   "id": "e2309768-7df2-4724-9116-cf333fbdb915",
   "metadata": {},
   "outputs": [
    {
     "name": "stdout",
     "output_type": "stream",
     "text": [
      "안녕하세요\n",
      "안녕하세요\n"
     ]
    }
   ],
   "source": [
    "print_n_times(\"안녕하세요\", 2)"
   ]
  },
  {
   "cell_type": "code",
   "execution_count": 10,
   "id": "cbefb70c-5b2c-4969-a846-9725af08e62d",
   "metadata": {},
   "outputs": [
    {
     "ename": "TypeError",
     "evalue": "print_n_times() missing 1 required positional argument: 'n'",
     "output_type": "error",
     "traceback": [
      "\u001b[0;31m---------------------------------------------------------------------------\u001b[0m",
      "\u001b[0;31mTypeError\u001b[0m                                 Traceback (most recent call last)",
      "Cell \u001b[0;32mIn[10], line 2\u001b[0m\n\u001b[1;32m      1\u001b[0m \u001b[38;5;66;03m# 매개변수 2개를 지정하고 인수를 하나만 넣는다면 에러 발생\u001b[39;00m\n\u001b[0;32m----> 2\u001b[0m \u001b[43mprint_n_times\u001b[49m\u001b[43m(\u001b[49m\u001b[38;5;124;43m\"\u001b[39;49m\u001b[38;5;124;43m안녕하세요\u001b[39;49m\u001b[38;5;124;43m\"\u001b[39;49m\u001b[43m)\u001b[49m\n",
      "\u001b[0;31mTypeError\u001b[0m: print_n_times() missing 1 required positional argument: 'n'"
     ]
    }
   ],
   "source": [
    "# 매개변수 2개를 지정하고 인수를 하나만 넣는다면 에러 발생\n",
    "print_n_times(\"안녕하세요\")"
   ]
  },
  {
   "cell_type": "code",
   "execution_count": 11,
   "id": "37f393c3-36c4-42ee-916b-d44af2d9dc69",
   "metadata": {},
   "outputs": [
    {
     "ename": "TypeError",
     "evalue": "print_n_times() takes 2 positional arguments but 3 were given",
     "output_type": "error",
     "traceback": [
      "\u001b[0;31m---------------------------------------------------------------------------\u001b[0m",
      "\u001b[0;31mTypeError\u001b[0m                                 Traceback (most recent call last)",
      "Cell \u001b[0;32mIn[11], line 2\u001b[0m\n\u001b[1;32m      1\u001b[0m \u001b[38;5;66;03m# 지정한 매개변수 보다 인수를 많이 넣으면 에러 발생\u001b[39;00m\n\u001b[0;32m----> 2\u001b[0m \u001b[43mprint_n_times\u001b[49m\u001b[43m(\u001b[49m\u001b[38;5;124;43m\"\u001b[39;49m\u001b[38;5;124;43m안녕하세요\u001b[39;49m\u001b[38;5;124;43m\"\u001b[39;49m\u001b[43m,\u001b[49m\u001b[43m \u001b[49m\u001b[38;5;241;43m10\u001b[39;49m\u001b[43m,\u001b[49m\u001b[43m \u001b[49m\u001b[38;5;241;43m20\u001b[39;49m\u001b[43m)\u001b[49m\n",
      "\u001b[0;31mTypeError\u001b[0m: print_n_times() takes 2 positional arguments but 3 were given"
     ]
    }
   ],
   "source": [
    "# 지정한 매개변수 보다 인수를 많이 넣으면 에러 발생\n",
    "print_n_times(\"안녕하세요\", 10, 20)"
   ]
  },
  {
   "cell_type": "markdown",
   "id": "dafa791e-a0d7-4092-a3b8-e5b9a96c1572",
   "metadata": {},
   "source": [
    "### 입력값이 없는 함수\n",
    "- 입력값이 없는 함수 사용법\n",
    "    - 결과값을 받을 변수 = 함수이름()"
   ]
  },
  {
   "cell_type": "code",
   "execution_count": 12,
   "id": "6ac3da82-058d-4702-921a-9b764a29007c",
   "metadata": {},
   "outputs": [],
   "source": [
    "def say():\n",
    "    return \"Hi\""
   ]
  },
  {
   "cell_type": "code",
   "execution_count": 14,
   "id": "dc32e060-8e44-4b40-80f7-9f46a989c428",
   "metadata": {},
   "outputs": [
    {
     "name": "stdout",
     "output_type": "stream",
     "text": [
      "Hi\n"
     ]
    }
   ],
   "source": [
    "a = say()\n",
    "print(a)"
   ]
  },
  {
   "cell_type": "markdown",
   "id": "e5d14192-342c-4324-b759-8a077ae97684",
   "metadata": {},
   "source": [
    "### 결과값이 없는 함수\n",
    "- 결과값이 없는 함수 사용법\n",
    "    - 함수이름(입력인수1, 입력인수2, ...)"
   ]
  },
  {
   "cell_type": "code",
   "execution_count": 16,
   "id": "a2205827-b973-476e-a120-16122f55510a",
   "metadata": {},
   "outputs": [],
   "source": [
    "def add(a, b):\n",
    "    print(f\"{a}, {b}의 합은 {a + b}입니다.\")"
   ]
  },
  {
   "cell_type": "code",
   "execution_count": 17,
   "id": "0e01c5cd-9a87-4eba-8d3a-a095daf5cc44",
   "metadata": {},
   "outputs": [
    {
     "name": "stdout",
     "output_type": "stream",
     "text": [
      "3, 4의 합은 7입니다.\n"
     ]
    }
   ],
   "source": [
    "add(3, 4)"
   ]
  },
  {
   "cell_type": "code",
   "execution_count": 19,
   "id": "223366f7-0707-4219-a898-81c18ba1038c",
   "metadata": {},
   "outputs": [
    {
     "name": "stdout",
     "output_type": "stream",
     "text": [
      "3, 4의 합은 7입니다.\n",
      "None\n"
     ]
    }
   ],
   "source": [
    "# 결과값 확인\n",
    "a = add(3, 4)\n",
    "print(a)"
   ]
  },
  {
   "cell_type": "markdown",
   "id": "fc092bec-533e-4fc0-b504-7dcbe424347f",
   "metadata": {},
   "source": [
    "### 입력값도 결과값도 없는 변수\n",
    "- 사용법\n",
    "    - 함수이름()"
   ]
  },
  {
   "cell_type": "code",
   "execution_count": 20,
   "id": "b0631984-6e99-4427-8eae-f4da5a585ec9",
   "metadata": {},
   "outputs": [],
   "source": [
    "def say():\n",
    "    print(\"Hi\")"
   ]
  },
  {
   "cell_type": "code",
   "execution_count": 21,
   "id": "5a062b6f-d0c8-4852-86b1-15378de229c9",
   "metadata": {},
   "outputs": [
    {
     "name": "stdout",
     "output_type": "stream",
     "text": [
      "Hi\n"
     ]
    }
   ],
   "source": [
    "say()"
   ]
  },
  {
   "cell_type": "markdown",
   "id": "7fda7619-bc0e-463c-82d7-ed73810c0e4e",
   "metadata": {},
   "source": [
    "## 매개변수 지정하여 호출하기"
   ]
  },
  {
   "cell_type": "code",
   "execution_count": 22,
   "id": "efcacb30-163a-45ed-891b-a33f18c6e6c5",
   "metadata": {},
   "outputs": [
    {
     "name": "stdout",
     "output_type": "stream",
     "text": [
      "3, 7의 합은 10입니다.\n"
     ]
    }
   ],
   "source": [
    "add(a = 3, b = 7)"
   ]
  },
  {
   "cell_type": "code",
   "execution_count": 23,
   "id": "b367676b-f56a-48c4-adc7-e2201b1079c5",
   "metadata": {},
   "outputs": [
    {
     "name": "stdout",
     "output_type": "stream",
     "text": [
      "3, 5의 합은 8입니다.\n"
     ]
    }
   ],
   "source": [
    "add(b = 5, a = 3)"
   ]
  },
  {
   "cell_type": "markdown",
   "id": "7ba954fd-cfb6-49be-bea2-58aac13a8c6a",
   "metadata": {},
   "source": [
    "## 함수의 결과값"
   ]
  },
  {
   "cell_type": "code",
   "execution_count": 24,
   "id": "6b9218dd-79b2-4547-b309-0ffd6ad949eb",
   "metadata": {},
   "outputs": [],
   "source": [
    "def add_and_mul(a, b):\n",
    "    return a + b, a * b"
   ]
  },
  {
   "cell_type": "code",
   "execution_count": 27,
   "id": "73bd3701-0043-4a15-9697-e5f0f3b4ead2",
   "metadata": {},
   "outputs": [
    {
     "name": "stdout",
     "output_type": "stream",
     "text": [
      "(7, 12)\n"
     ]
    }
   ],
   "source": [
    "result = add_and_mul(3, 4)\n",
    "# 함수의 결과값은 2개가 아니라 하나의 튜플로 반환되었다\n",
    "print(result)"
   ]
  },
  {
   "cell_type": "code",
   "execution_count": 28,
   "id": "ace30ec2-3aca-486b-a276-a5f4aab79bc9",
   "metadata": {},
   "outputs": [
    {
     "name": "stdout",
     "output_type": "stream",
     "text": [
      "7 12\n"
     ]
    }
   ],
   "source": [
    "# 2개의 결과값 처럼 받고 싶다면\n",
    "result1, result2 = add_and_mul(3, 4)\n",
    "print(result1, result2)"
   ]
  },
  {
   "cell_type": "code",
   "execution_count": 29,
   "id": "bff257a5-e656-4f45-a303-83dd66c4f1c0",
   "metadata": {},
   "outputs": [],
   "source": [
    "def add_and_mul(a, b):\n",
    "    return a + b\n",
    "    return a * b"
   ]
  },
  {
   "cell_type": "code",
   "execution_count": 31,
   "id": "ba512a53-8351-482a-9875-41fbb67fdc1a",
   "metadata": {},
   "outputs": [
    {
     "name": "stdout",
     "output_type": "stream",
     "text": [
      "5\n"
     ]
    }
   ],
   "source": [
    "# 함수는 return을 만나는 순간 함수 실행이 종료된다\n",
    "result = add_and_mul(2, 3)\n",
    "print(result)"
   ]
  },
  {
   "cell_type": "markdown",
   "id": "14cfca89-f90a-4e67-8d04-5ec109ca8c74",
   "metadata": {},
   "source": [
    "### return\n",
    "- 함수를 종료시키고 싶을 때 사용할 수도 있다."
   ]
  },
  {
   "cell_type": "code",
   "execution_count": 32,
   "id": "565748fd-f2bb-4f3b-af41-bd93ea7c55d4",
   "metadata": {},
   "outputs": [],
   "source": [
    "def sayNick(nick):\n",
    "    if nick == \"바보\":\n",
    "        return\n",
    "    print(f\"나의 별명은 {nick} 입니다.\")"
   ]
  },
  {
   "cell_type": "code",
   "execution_count": 33,
   "id": "51888b16-b6f2-4a67-a0ce-0d728e0cdb18",
   "metadata": {},
   "outputs": [
    {
     "name": "stdout",
     "output_type": "stream",
     "text": [
      "나의 별명은 야호 입니다.\n"
     ]
    }
   ],
   "source": [
    "sayNick(\"야호\")"
   ]
  },
  {
   "cell_type": "code",
   "execution_count": 34,
   "id": "1ffc180c-0f1b-47b6-a798-fcdccda6dc0c",
   "metadata": {},
   "outputs": [],
   "source": [
    "sayNick(\"바보\")"
   ]
  },
  {
   "cell_type": "markdown",
   "id": "218596da-c921-46cb-a27e-f0473ec534d3",
   "metadata": {},
   "source": [
    "# 디폴트 매개변수\n",
    "- 매개변수로 전달되는 인수가 없는 경우에 기본적으로 사용하는 기본값"
   ]
  },
  {
   "cell_type": "code",
   "execution_count": 36,
   "id": "2f50d1b1-0ff1-4946-b175-0c7595aa5a6c",
   "metadata": {},
   "outputs": [],
   "source": [
    "def sayMySelf(name, age, man = True):\n",
    "    print(f\"나의 이름은 {name} 입니다\")\n",
    "    print(f\"나이는 {age}살 입니다.\")\n",
    "    if man:\n",
    "        print(\"남자입니다\")\n",
    "    else:\n",
    "        print(\"여자입니다\")"
   ]
  },
  {
   "cell_type": "code",
   "execution_count": 37,
   "id": "4a0224d1-34ab-4cd6-a621-09317e88b1cf",
   "metadata": {},
   "outputs": [
    {
     "name": "stdout",
     "output_type": "stream",
     "text": [
      "나의 이름은 파이썬 입니다\n",
      "나이는 27살 입니다.\n",
      "남자입니다\n"
     ]
    }
   ],
   "source": [
    "sayMySelf(\"파이썬\", 27)"
   ]
  },
  {
   "cell_type": "code",
   "execution_count": 39,
   "id": "01575365-2463-4ac0-bf2e-e2a0a122cd63",
   "metadata": {},
   "outputs": [
    {
     "name": "stdout",
     "output_type": "stream",
     "text": [
      "나의 이름은 자바 입니다\n",
      "나이는 25살 입니다.\n",
      "여자입니다\n"
     ]
    }
   ],
   "source": [
    "sayMySelf(\"자바\", 25, False)"
   ]
  },
  {
   "cell_type": "code",
   "execution_count": 41,
   "id": "9668e1c9-5c83-4ade-a3eb-b438977da6d2",
   "metadata": {},
   "outputs": [],
   "source": [
    "def print_n_times(value, n = 2):\n",
    "    for i in range(n):\n",
    "        print(value)"
   ]
  },
  {
   "cell_type": "code",
   "execution_count": 43,
   "id": "b91e4ab1-b7da-4be2-900c-b276c25b48fb",
   "metadata": {},
   "outputs": [
    {
     "name": "stdout",
     "output_type": "stream",
     "text": [
      "안녕하세요\n",
      "안녕하세요\n"
     ]
    }
   ],
   "source": [
    "print_n_times(\"안녕하세요\")"
   ]
  },
  {
   "cell_type": "markdown",
   "id": "f06c5cf9-f8d6-434e-9eb8-e173c0c9385b",
   "metadata": {},
   "source": [
    "## 디폴트 매개변수의 위치"
   ]
  },
  {
   "cell_type": "code",
   "execution_count": 44,
   "id": "8f257b42-e54e-4a5b-9734-ae265165474a",
   "metadata": {},
   "outputs": [
    {
     "ename": "SyntaxError",
     "evalue": "non-default argument follows default argument (1014157038.py, line 1)",
     "output_type": "error",
     "traceback": [
      "\u001b[0;36m  Cell \u001b[0;32mIn[44], line 1\u001b[0;36m\u001b[0m\n\u001b[0;31m    def sayMySelf(name, man = True, age):\u001b[0m\n\u001b[0m                                    ^\u001b[0m\n\u001b[0;31mSyntaxError\u001b[0m\u001b[0;31m:\u001b[0m non-default argument follows default argument\n"
     ]
    }
   ],
   "source": [
    "def sayMySelf(name, man = True, age):\n",
    "    print(f\"나의 이름은 {name} 입니다\")\n",
    "    print(f\"나이는 {age}살 입니다\")\n",
    "    if man:\n",
    "        print(\"남자입니다\")\n",
    "    else:\n",
    "        print(\"여자입니다\")"
   ]
  },
  {
   "cell_type": "markdown",
   "id": "e6dd3aff-df07-4866-b4e5-52d58ee7012e",
   "metadata": {},
   "source": [
    "# 지역변수와 전역변수\n",
    "- 지역 변수\n",
    "    - 함수 내부에서 선언한 변수는 함수 내부에서만 사용할 수 있는 변수가 됨\n",
    "    - 함수 외부에서는 지역변수에 접근할 수 없음\n",
    "- 전역변수\n",
    "    - 함수 외부에서 선언한 변수는 함수 내부에서도 사용 가능"
   ]
  },
  {
   "cell_type": "code",
   "execution_count": 49,
   "id": "93ffd783-f73e-4c6a-a089-5da9f689ad57",
   "metadata": {},
   "outputs": [],
   "source": [
    "def vartest():\n",
    "    var = 10\n",
    "    print(var)"
   ]
  },
  {
   "cell_type": "code",
   "execution_count": 47,
   "id": "1978fa1a-babe-4f5a-bf59-02e5c8c86947",
   "metadata": {},
   "outputs": [
    {
     "name": "stdout",
     "output_type": "stream",
     "text": [
      "10\n"
     ]
    }
   ],
   "source": [
    "vartest()"
   ]
  },
  {
   "cell_type": "code",
   "execution_count": 50,
   "id": "1ffba072-6997-40fb-ab73-9d0ffa9ccba5",
   "metadata": {},
   "outputs": [
    {
     "ename": "NameError",
     "evalue": "name 'var' is not defined",
     "output_type": "error",
     "traceback": [
      "\u001b[0;31m---------------------------------------------------------------------------\u001b[0m",
      "\u001b[0;31mNameError\u001b[0m                                 Traceback (most recent call last)",
      "Cell \u001b[0;32mIn[50], line 1\u001b[0m\n\u001b[0;32m----> 1\u001b[0m \u001b[38;5;28mprint\u001b[39m(\u001b[43mvar\u001b[49m)\n",
      "\u001b[0;31mNameError\u001b[0m: name 'var' is not defined"
     ]
    }
   ],
   "source": [
    "print(var)"
   ]
  },
  {
   "cell_type": "code",
   "execution_count": 51,
   "id": "879a6ea4-2652-4737-b9a4-c1be778c61a9",
   "metadata": {},
   "outputs": [],
   "source": [
    "var2 = 10"
   ]
  },
  {
   "cell_type": "code",
   "execution_count": 52,
   "id": "4ec34cce-ac9a-4830-9e94-0e80f54a3c95",
   "metadata": {},
   "outputs": [],
   "source": [
    "def var2test():\n",
    "    print(var2)"
   ]
  },
  {
   "cell_type": "code",
   "execution_count": 53,
   "id": "924d9875-3118-4c01-8d95-0552d07b4ffe",
   "metadata": {},
   "outputs": [
    {
     "name": "stdout",
     "output_type": "stream",
     "text": [
      "10\n"
     ]
    }
   ],
   "source": [
    "var2test()"
   ]
  },
  {
   "cell_type": "markdown",
   "id": "2428320d-6e44-4236-8c90-a1d3035c4316",
   "metadata": {},
   "source": [
    "### 전역변수를 함수 내부에서 사용하는 2가지 경우\n",
    "- 단순 참조\n",
    "- 전역변수의 값을 변경"
   ]
  },
  {
   "cell_type": "code",
   "execution_count": 54,
   "id": "0912de27-eafd-4029-8082-bea0b502664b",
   "metadata": {},
   "outputs": [],
   "source": [
    "a = 0"
   ]
  },
  {
   "cell_type": "code",
   "execution_count": 55,
   "id": "c3908276-d58a-4259-9af5-d8ec3e445afc",
   "metadata": {},
   "outputs": [],
   "source": [
    "def f():\n",
    "    a = 10\n",
    "    print(a)"
   ]
  },
  {
   "cell_type": "code",
   "execution_count": 56,
   "id": "6c583141-6238-4502-925d-4d8ab3ac59c9",
   "metadata": {},
   "outputs": [
    {
     "name": "stdout",
     "output_type": "stream",
     "text": [
      "10\n"
     ]
    }
   ],
   "source": [
    "f()"
   ]
  },
  {
   "cell_type": "code",
   "execution_count": 57,
   "id": "b1e97080-b324-4dc2-ab1d-5abcae391f9a",
   "metadata": {},
   "outputs": [
    {
     "name": "stdout",
     "output_type": "stream",
     "text": [
      "0\n"
     ]
    }
   ],
   "source": [
    "print(a)"
   ]
  },
  {
   "cell_type": "code",
   "execution_count": 58,
   "id": "95ae1a75-3a9b-4f4b-a9b6-fc7973312108",
   "metadata": {},
   "outputs": [],
   "source": [
    "def f():\n",
    "    global a # 전역변수 a를 사용하겠다\n",
    "    a = 10\n",
    "    print(a)"
   ]
  },
  {
   "cell_type": "code",
   "execution_count": 59,
   "id": "c23a9eb3-cf77-47de-8f81-ed8782661735",
   "metadata": {},
   "outputs": [
    {
     "name": "stdout",
     "output_type": "stream",
     "text": [
      "10\n"
     ]
    }
   ],
   "source": [
    "f()"
   ]
  },
  {
   "cell_type": "code",
   "execution_count": 60,
   "id": "e19cfe92-c96e-4a4f-b7d7-0b92ac456fb2",
   "metadata": {},
   "outputs": [
    {
     "name": "stdout",
     "output_type": "stream",
     "text": [
      "10\n"
     ]
    }
   ],
   "source": [
    "print(a)"
   ]
  },
  {
   "cell_type": "markdown",
   "id": "cf1c8aa6-52c1-4321-bc31-4e861b76f26f",
   "metadata": {},
   "source": [
    "# 가변 매개변수\n",
    "- 여러개의 입력값을 받는 함수\n",
    "- 함수로 전달해야하는 인수의 갯수가 정해지지 않은 매개변수\n",
    "- 함수를 정의시 매개변수 앞에 * 를 붙이면 가변 매개변수가 됨\n",
    "- 전달되는 인수는 하나의 튜플 형태로 전달\n",
    "- 가변 매개변수의 제약\n",
    "    - 가변 매개변수 뒤에는 일반 매개변수가 올 수 없다\n",
    "    - 가변 매개변수는 하나만 사용할 수 있다"
   ]
  },
  {
   "cell_type": "code",
   "execution_count": 61,
   "id": "fa7bf7b6-f2ca-475e-b745-02aadfd02243",
   "metadata": {},
   "outputs": [],
   "source": [
    "def show(*args):\n",
    "    print(args)"
   ]
  },
  {
   "cell_type": "code",
   "execution_count": 64,
   "id": "f9dedd6f-3b69-4628-8411-6d3ac4e06f8a",
   "metadata": {},
   "outputs": [
    {
     "name": "stdout",
     "output_type": "stream",
     "text": [
      "('Python',)\n"
     ]
    }
   ],
   "source": [
    "show(\"Python\")"
   ]
  },
  {
   "cell_type": "code",
   "execution_count": 65,
   "id": "951269fd-1b13-49ac-bba4-44202efa5882",
   "metadata": {},
   "outputs": [
    {
     "name": "stdout",
     "output_type": "stream",
     "text": [
      "('Happy', 'birthday')\n"
     ]
    }
   ],
   "source": [
    "show(\"Happy\", \"birthday\")"
   ]
  },
  {
   "cell_type": "code",
   "execution_count": 69,
   "id": "91f1f393-95b2-42bd-bccd-4d18bae2c439",
   "metadata": {},
   "outputs": [],
   "source": [
    "def add_many(*args):\n",
    "    result = 0\n",
    "    for i in args:\n",
    "        result += i\n",
    "    \n",
    "    return result"
   ]
  },
  {
   "cell_type": "code",
   "execution_count": 70,
   "id": "aee2dc7d-97c2-44fe-988b-7f6bd97c6a1a",
   "metadata": {},
   "outputs": [],
   "source": [
    "result = add_many(1, 2, 3)"
   ]
  },
  {
   "cell_type": "code",
   "execution_count": 71,
   "id": "044ae298-5b87-41cb-9d5c-63f229bf3114",
   "metadata": {},
   "outputs": [
    {
     "name": "stdout",
     "output_type": "stream",
     "text": [
      "6\n"
     ]
    }
   ],
   "source": [
    "print(result)"
   ]
  },
  {
   "cell_type": "code",
   "execution_count": 72,
   "id": "1cbe99f2-3be0-439c-b8be-64b9b48aa8cf",
   "metadata": {},
   "outputs": [
    {
     "name": "stdout",
     "output_type": "stream",
     "text": [
      "55\n"
     ]
    }
   ],
   "source": [
    "result = add_many(1, 2, 3, 4, 5, 6, 7, 8, 9, 10)\n",
    "print(result)"
   ]
  },
  {
   "cell_type": "code",
   "execution_count": 74,
   "id": "a6d071b0-c41b-4eef-b9bd-542d70f31879",
   "metadata": {},
   "outputs": [],
   "source": [
    "def add_mul(choice, *args):\n",
    "    if choice == \"add\":\n",
    "        result = 0\n",
    "        for i in args:\n",
    "            result += i\n",
    "            \n",
    "    elif choice == \"mul\":\n",
    "        result = 1\n",
    "        for i in args:\n",
    "            result *= i\n",
    "            \n",
    "    return result"
   ]
  },
  {
   "cell_type": "code",
   "execution_count": 77,
   "id": "5f7cd499-7a84-411a-9760-947f540fb439",
   "metadata": {},
   "outputs": [
    {
     "name": "stdout",
     "output_type": "stream",
     "text": [
      "15\n"
     ]
    }
   ],
   "source": [
    "result = add_mul(\"add\", 1, 2, 3, 4, 5)\n",
    "print(result)"
   ]
  },
  {
   "cell_type": "code",
   "execution_count": 78,
   "id": "711cb9d2-1292-4e52-8b3e-0872aaf678bf",
   "metadata": {},
   "outputs": [
    {
     "name": "stdout",
     "output_type": "stream",
     "text": [
      "120\n"
     ]
    }
   ],
   "source": [
    "result = add_mul(\"mul\", 1, 2, 3, 4, 5)\n",
    "print(result)"
   ]
  },
  {
   "cell_type": "markdown",
   "id": "26e9b98d-d334-45a2-ab81-fb8b928cb45f",
   "metadata": {},
   "source": [
    "# 키워드 매개변수"
   ]
  },
  {
   "cell_type": "code",
   "execution_count": 79,
   "id": "edc75cae-e7ca-4204-96d0-46dedc76a400",
   "metadata": {},
   "outputs": [],
   "source": [
    "def printKwargs(**kwargs):\n",
    "    print(kwargs)"
   ]
  },
  {
   "cell_type": "code",
   "execution_count": 80,
   "id": "4016f4a2-3e0f-489c-a001-1a10c6363a51",
   "metadata": {},
   "outputs": [
    {
     "name": "stdout",
     "output_type": "stream",
     "text": [
      "{'a': 1}\n"
     ]
    }
   ],
   "source": [
    "printKwargs(a = 1)"
   ]
  },
  {
   "cell_type": "code",
   "execution_count": 81,
   "id": "42a9fcac-3c54-4bbb-8335-0a1f37a1b30e",
   "metadata": {},
   "outputs": [
    {
     "name": "stdout",
     "output_type": "stream",
     "text": [
      "{'name': 'foo', 'age': 3}\n"
     ]
    }
   ],
   "source": [
    "printKwargs(name = \"foo\", age = 3)"
   ]
  },
  {
   "cell_type": "markdown",
   "id": "ed4aba84-9d06-4fd4-a4c8-4bef3057991d",
   "metadata": {},
   "source": [
    "## 연습문제"
   ]
  },
  {
   "cell_type": "code",
   "execution_count": 88,
   "id": "ed96e5ef-7830-47f4-8336-decf025e98b5",
   "metadata": {},
   "outputs": [],
   "source": [
    "# 1. 몫과 나머지를 구하는 함수 작성\n",
    "# ex) a = 10, b = 3\n",
    "# 3 1\n",
    "def res(a, b):\n",
    "    print(a // b, a % b)"
   ]
  },
  {
   "cell_type": "code",
   "execution_count": 86,
   "id": "ffaae0b5-ff23-4f45-82d8-48e89af11b2d",
   "metadata": {},
   "outputs": [
    {
     "name": "stdout",
     "output_type": "stream",
     "text": [
      "3 1\n"
     ]
    }
   ],
   "source": [
    "res(10, 3)"
   ]
  },
  {
   "cell_type": "code",
   "execution_count": 84,
   "id": "9d2a8aa7-c9ce-450f-a777-27ce3c70ac5e",
   "metadata": {},
   "outputs": [
    {
     "data": {
      "text/plain": [
       "(3, 1)"
      ]
     },
     "execution_count": 84,
     "metadata": {},
     "output_type": "execute_result"
    }
   ],
   "source": [
    "# 강사님 풀이\n",
    "def get_divmod(a, b):\n",
    "    return a // b, a % b\n",
    "get_divmod(10, 3)"
   ]
  },
  {
   "cell_type": "code",
   "execution_count": 94,
   "id": "293607c9-1f01-416f-82c8-973dc21a24da",
   "metadata": {},
   "outputs": [],
   "source": [
    "# 2. 주어진 자연수가 홀수면 True, 짝수면 False가 나오는 함수를 작성하기\n",
    "def is_oddNumber(num):\n",
    "    if num % 2 != 0:\n",
    "        return True\n",
    "    else:\n",
    "        return False"
   ]
  },
  {
   "cell_type": "code",
   "execution_count": 97,
   "id": "536939f1-6035-4a55-b058-59338c3d8bcd",
   "metadata": {},
   "outputs": [
    {
     "data": {
      "text/plain": [
       "True"
      ]
     },
     "execution_count": 97,
     "metadata": {},
     "output_type": "execute_result"
    }
   ],
   "source": [
    "is_oddNumber(3)"
   ]
  },
  {
   "cell_type": "code",
   "execution_count": 98,
   "id": "992e9c1e-f63e-4096-9131-7fd618186580",
   "metadata": {},
   "outputs": [
    {
     "data": {
      "text/plain": [
       "False"
      ]
     },
     "execution_count": 98,
     "metadata": {},
     "output_type": "execute_result"
    }
   ],
   "source": [
    "is_oddNumber(4)"
   ]
  },
  {
   "cell_type": "code",
   "execution_count": 125,
   "id": "98b3d0aa-3104-4916-b246-081716e108e2",
   "metadata": {},
   "outputs": [],
   "source": [
    "# 커피자판기 만들기\n",
    "# 커피자판기에 돈과 주문할 커피를 전달\n",
    "# 주문할 수 있는 커피의 종류와 가격은 다음과 같음\n",
    "    # 아메리카노 : 1000원\n",
    "    # 카페라떼 : 1500원\n",
    "    # 카푸치노 : 2000원\n",
    "# 없는 커피를 주문할 경우 입력한 돈을 그대로 반환\n",
    "# 구매 금액이 부족하면 입력한 돈을 그대로 반환\n",
    "# 정상 주문이면 주문한 커피와 잔돈을 반환\n",
    "# 함수 사용 예시\n",
    "# coffee_mochine(pick = \"마키아또\", money = 15000) -> 15000\n",
    "# 아메리카노, 500 -> 500\n",
    "\n",
    "def coffee_mochine(pick, money):\n",
    "    menu = {\"아메리카노\" : 1000, \"카페라떼\" : 1500, \"카푸치노\" : 2000}\n",
    "    count = 0\n",
    "    for i in menu:\n",
    "        if i == pick:\n",
    "            if menu[i] > money:\n",
    "                return money\n",
    "            else:\n",
    "                return pick, money - menu[i]\n",
    "        else:\n",
    "            count += 1\n",
    "            if count >= 2:\n",
    "                return money"
   ]
  },
  {
   "cell_type": "code",
   "execution_count": 120,
   "id": "5a713c97-2adf-4346-8c6b-8ea468a981b5",
   "metadata": {},
   "outputs": [
    {
     "data": {
      "text/plain": [
       "15000"
      ]
     },
     "execution_count": 120,
     "metadata": {},
     "output_type": "execute_result"
    }
   ],
   "source": [
    "coffee_mochine(\"마키아또\", 15000)"
   ]
  },
  {
   "cell_type": "code",
   "execution_count": 121,
   "id": "338fb26b-3654-4819-b4a6-3e2025a36855",
   "metadata": {},
   "outputs": [
    {
     "data": {
      "text/plain": [
       "500"
      ]
     },
     "execution_count": 121,
     "metadata": {},
     "output_type": "execute_result"
    }
   ],
   "source": [
    "coffee_mochine(\"아메리카노\", 500)"
   ]
  },
  {
   "cell_type": "code",
   "execution_count": 122,
   "id": "e099f3bb-1c95-4f1c-8d02-647735985a3b",
   "metadata": {},
   "outputs": [
    {
     "data": {
      "text/plain": [
       "('카페라떼', 500)"
      ]
     },
     "execution_count": 122,
     "metadata": {},
     "output_type": "execute_result"
    }
   ],
   "source": [
    "coffee_mochine(\"카페라떼\", 2000)"
   ]
  },
  {
   "cell_type": "code",
   "execution_count": 129,
   "id": "49867e3c-501c-4e82-8256-a99baf3b8723",
   "metadata": {},
   "outputs": [],
   "source": [
    "# 강사님 풀이\n",
    "def coffee_mochine(money, pick):\n",
    "    menu = {\"아메리카노\" : 1000, \"카페라떼\" : 1500, \"카푸치노\" : 2000}\n",
    "    if pick in not menu:\n",
    "        return money\n",
    "    \n",
    "    elif menu[pick] > money:\n",
    "        return money\n",
    "    \n",
    "    else:\n",
    "        return pick, money - menu[pick]"
   ]
  },
  {
   "cell_type": "code",
   "execution_count": 130,
   "id": "dcf08821-313b-4903-a20e-93bceb5a6405",
   "metadata": {},
   "outputs": [
    {
     "data": {
      "text/plain": [
       "'마키아또'"
      ]
     },
     "execution_count": 130,
     "metadata": {},
     "output_type": "execute_result"
    }
   ],
   "source": [
    "coffee_mochine(\"마키아또\", 15000)"
   ]
  },
  {
   "cell_type": "code",
   "execution_count": 131,
   "id": "dfbbb4d1-245b-486b-92ee-c610abd0bb6b",
   "metadata": {},
   "outputs": [
    {
     "data": {
      "text/plain": [
       "'아메리카노'"
      ]
     },
     "execution_count": 131,
     "metadata": {},
     "output_type": "execute_result"
    }
   ],
   "source": [
    "coffee_mochine(\"아메리카노\", 500)"
   ]
  },
  {
   "cell_type": "code",
   "execution_count": 132,
   "id": "a1ba274e-d4db-4822-aa1e-e18a91ce335e",
   "metadata": {},
   "outputs": [
    {
     "data": {
      "text/plain": [
       "'카페라떼'"
      ]
     },
     "execution_count": 132,
     "metadata": {},
     "output_type": "execute_result"
    }
   ],
   "source": [
    "coffee_mochine(\"카페라떼\", 2000)"
   ]
  },
  {
   "cell_type": "code",
   "execution_count": null,
   "id": "d288ae35-c530-4483-9cc7-5bb3ab9b7b23",
   "metadata": {},
   "outputs": [],
   "source": []
  },
  {
   "cell_type": "code",
   "execution_count": null,
   "id": "96c63ee7-b6f0-4da1-ab5b-317cea15545a",
   "metadata": {},
   "outputs": [],
   "source": []
  },
  {
   "cell_type": "code",
   "execution_count": null,
   "id": "684dd431-08a4-4a27-ac04-f0969b217aa9",
   "metadata": {},
   "outputs": [],
   "source": []
  },
  {
   "cell_type": "code",
   "execution_count": null,
   "id": "96755bd8-36f6-4262-836f-206211f08086",
   "metadata": {},
   "outputs": [],
   "source": []
  },
  {
   "cell_type": "code",
   "execution_count": null,
   "id": "162d95e4-7ad9-4d75-a424-e55e76a0ddad",
   "metadata": {},
   "outputs": [],
   "source": []
  },
  {
   "cell_type": "code",
   "execution_count": null,
   "id": "4283188c-c29e-42fb-91dd-bf8cf8d2b275",
   "metadata": {},
   "outputs": [],
   "source": []
  },
  {
   "cell_type": "code",
   "execution_count": null,
   "id": "254d83ed-158f-45f1-99ef-906bc4f7e53d",
   "metadata": {},
   "outputs": [],
   "source": []
  },
  {
   "cell_type": "code",
   "execution_count": null,
   "id": "59e5452c-a0c6-4c89-afff-017973225d4f",
   "metadata": {},
   "outputs": [],
   "source": []
  },
  {
   "cell_type": "code",
   "execution_count": null,
   "id": "bca1da01-268a-49ea-865b-89a9c6196ded",
   "metadata": {},
   "outputs": [],
   "source": []
  }
 ],
 "metadata": {
  "kernelspec": {
   "display_name": "Python 3 (ipykernel)",
   "language": "python",
   "name": "python3"
  },
  "language_info": {
   "codemirror_mode": {
    "name": "ipython",
    "version": 3
   },
   "file_extension": ".py",
   "mimetype": "text/x-python",
   "name": "python",
   "nbconvert_exporter": "python",
   "pygments_lexer": "ipython3",
   "version": "3.10.9"
  }
 },
 "nbformat": 4,
 "nbformat_minor": 5
}
