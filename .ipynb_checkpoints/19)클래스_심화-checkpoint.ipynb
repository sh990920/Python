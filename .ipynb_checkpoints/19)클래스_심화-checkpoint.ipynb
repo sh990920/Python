{
 "cells": [
  {
   "cell_type": "markdown",
   "id": "34f1774c-0497-4666-a572-b95597a8aefd",
   "metadata": {},
   "source": [
    "# 소멸자(destructor)\n",
    "- 인스턴스가 소멸될 때 자동으로 호출되는 메서드"
   ]
  },
  {
   "cell_type": "code",
   "execution_count": 1,
   "id": "e21c7e6a-86cf-42e9-b972-8c83bf2b9273",
   "metadata": {},
   "outputs": [],
   "source": [
    "class Sample:\n",
    "    def __del__(self):\n",
    "        print(\"인스턴스가 소멸됩니다\")"
   ]
  },
  {
   "cell_type": "code",
   "execution_count": 2,
   "id": "c651d742-de69-4fa8-a59c-53d834231994",
   "metadata": {},
   "outputs": [],
   "source": [
    "sample = Sample()"
   ]
  },
  {
   "cell_type": "code",
   "execution_count": 3,
   "id": "bba1ac81-cb80-42f5-bddd-a79aa8be3dec",
   "metadata": {},
   "outputs": [
    {
     "name": "stdout",
     "output_type": "stream",
     "text": [
      "인스턴스가 소멸됩니다\n"
     ]
    }
   ],
   "source": [
    "del sample"
   ]
  },
  {
   "cell_type": "markdown",
   "id": "e41b5ca4-ead9-430e-bce5-b040e6ebff5e",
   "metadata": {},
   "source": [
    "# isinstance()\n",
    "- 객체가 어떤 클래스로부터 만들어졌는지 확인할 수 있는 함수\n",
    "- 첫 번째 매개변수에 객체, 두번째 매개변수에 클래스를 입력\n",
    "    - isinstance(객체, 클래스)\n",
    "    \n",
    "- 객체가 해당 클래스를 기반으로 만들어졌으면 True, 관계 없으면 False반환"
   ]
  },
  {
   "cell_type": "code",
   "execution_count": 4,
   "id": "69bd2dc2-66a7-4fbb-98d9-464afdce8c6f",
   "metadata": {},
   "outputs": [],
   "source": [
    "class Student:\n",
    "    def __init__(self):\n",
    "        pass"
   ]
  },
  {
   "cell_type": "code",
   "execution_count": 5,
   "id": "511676ac-a8cf-4c44-93ec-0e58aa7c8018",
   "metadata": {},
   "outputs": [],
   "source": [
    "student = Student()"
   ]
  },
  {
   "cell_type": "code",
   "execution_count": 6,
   "id": "68e08b4a-fcbc-4b87-b3cb-83ea7f25f70c",
   "metadata": {},
   "outputs": [
    {
     "data": {
      "text/plain": [
       "True"
      ]
     },
     "execution_count": 6,
     "metadata": {},
     "output_type": "execute_result"
    }
   ],
   "source": [
    "isinstance(student, Student)"
   ]
  },
  {
   "cell_type": "markdown",
   "id": "288ef847-666a-4a8c-b9dd-e7010c413234",
   "metadata": {},
   "source": [
    "- student는 Student 클래스를 기반으로 만들었으므로 True\n",
    "- 리스트 내부에 여러 종류의 객체가 들어있을 때 인스턴스들을 구분하여 속성과 기능을 사용할 때 사용"
   ]
  },
  {
   "cell_type": "code",
   "execution_count": 9,
   "id": "77cfdcb1-bfab-4787-813d-0ec5b14481d9",
   "metadata": {},
   "outputs": [],
   "source": [
    "class Student:\n",
    "    def study(self):\n",
    "        print(\"공부를 합니다.\")\n",
    "        \n",
    "class Teacher:\n",
    "    def teach(self):\n",
    "        print(\"학생을 가르칩니다.\")"
   ]
  },
  {
   "cell_type": "code",
   "execution_count": 10,
   "id": "12af9130-d1d7-424b-bc2f-99672321897e",
   "metadata": {},
   "outputs": [],
   "source": [
    "classroom = [Student(), Student(), Teacher(), Student(), Student()]"
   ]
  },
  {
   "cell_type": "code",
   "execution_count": 11,
   "id": "e2754ef0-26c6-4395-9443-7afc73310416",
   "metadata": {},
   "outputs": [
    {
     "name": "stdout",
     "output_type": "stream",
     "text": [
      "공부를 합니다.\n",
      "공부를 합니다.\n",
      "학생을 가르칩니다.\n",
      "공부를 합니다.\n",
      "공부를 합니다.\n"
     ]
    }
   ],
   "source": [
    "# 반복을 적용해서 적절한 함수를 호출\n",
    "for person in classroom:\n",
    "    if isinstance(person, Student):\n",
    "        person.study()\n",
    "    elif isinstance(person, Teacher):\n",
    "        person.teach()"
   ]
  },
  {
   "cell_type": "markdown",
   "id": "c8309e30-d6ca-4658-9aaf-95c46e5e81cf",
   "metadata": {},
   "source": [
    "# 특수한 이름의 메서드\n",
    "- \\_\\_이름\\_\\_() 형태의 메서드들은 특수한 상황에 자동으로 호출되도록 만들어짐\n",
    "- 파이썬이 클래스를 사용할 때 제공해주는 보조 기능"
   ]
  },
  {
   "cell_type": "markdown",
   "id": "7fb1c743-a6c6-4706-9df8-a859db50eb54",
   "metadata": {},
   "source": [
    "## \\_\\_str\\_\\_\n",
    "- str()함수의 매개변수로 객체를 넣으면 호출되는 메서드\n",
    "- 객체를 문자열로 변환"
   ]
  },
  {
   "cell_type": "code",
   "execution_count": 26,
   "id": "9465cb79-fcc8-4ade-9729-f6eedae8bd50",
   "metadata": {},
   "outputs": [],
   "source": [
    "class Student:\n",
    "    def __init__(self, name, korean, math, english, science):\n",
    "        self.name = name\n",
    "        self.korean = korean\n",
    "        self.math = math\n",
    "        self.english = english\n",
    "        self.science = science\n",
    "        \n",
    "    def get_sum(self):\n",
    "        return self.korean + self.math + self.english + self.science\n",
    "    \n",
    "    def get_average(self):\n",
    "        return self.get_sum() / 4\n",
    "    \n",
    "    def __str__(self):\n",
    "        return f\"{self.name}\\t{self.get_sum()}\\t{self.get_average()}\""
   ]
  },
  {
   "cell_type": "code",
   "execution_count": 27,
   "id": "c6753f29-b0ce-46c8-9065-84f18310ab5e",
   "metadata": {},
   "outputs": [],
   "source": [
    "students = [Student(\"윤인성\", 87, 98, 88, 95),\n",
    "            Student(\"연하진\", 95, 98, 96, 98),\n",
    "            Student(\"구지연\", 76, 96, 94, 90)]"
   ]
  },
  {
   "cell_type": "code",
   "execution_count": 29,
   "id": "3ed29fa7-8403-4184-a911-8d02bda1d339",
   "metadata": {},
   "outputs": [
    {
     "ename": "TypeError",
     "evalue": "'<=' not supported between instances of 'Student' and 'Student'",
     "output_type": "error",
     "traceback": [
      "\u001b[0;31m---------------------------------------------------------------------------\u001b[0m",
      "\u001b[0;31mTypeError\u001b[0m                                 Traceback (most recent call last)",
      "Cell \u001b[0;32mIn[29], line 1\u001b[0m\n\u001b[0;32m----> 1\u001b[0m \u001b[43mstudents\u001b[49m\u001b[43m[\u001b[49m\u001b[38;5;241;43m0\u001b[39;49m\u001b[43m]\u001b[49m\u001b[43m \u001b[49m\u001b[38;5;241;43m<\u001b[39;49m\u001b[38;5;241;43m=\u001b[39;49m\u001b[43m \u001b[49m\u001b[43mstudents\u001b[49m\u001b[43m[\u001b[49m\u001b[38;5;241;43m1\u001b[39;49m\u001b[43m]\u001b[49m\n",
      "\u001b[0;31mTypeError\u001b[0m: '<=' not supported between instances of 'Student' and 'Student'"
     ]
    }
   ],
   "source": [
    "students[0] <= students[1]"
   ]
  },
  {
   "cell_type": "code",
   "execution_count": 14,
   "id": "971cf38d-848c-43e7-a8c4-e065f9b6531f",
   "metadata": {},
   "outputs": [
    {
     "name": "stdout",
     "output_type": "stream",
     "text": [
      "이름\t총점\t평균\n",
      "윤인성\t368\t92.0\n",
      "연하진\t387\t96.75\n",
      "구지연\t356\t89.0\n"
     ]
    }
   ],
   "source": [
    "print(\"이름\", \"총점\", \"평균\", sep = \"\\t\")\n",
    "for student in students:\n",
    "    print(str(student))"
   ]
  },
  {
   "cell_type": "markdown",
   "id": "990d8395-6f94-4b19-87f5-5f3c18f95d43",
   "metadata": {},
   "source": [
    "## 크기 비교 메서드\n",
    "\n",
    "| 이름 | 영어 | 설명 |\n",
    "| :-- | :-- | :-- |\n",
    "| eq| equal| 같다|\n",
    "| ne | not equal| 다르다 |\n",
    "| gt | greater than| 크다 |\n",
    "| ge | greater than or equal| 크거나 같다 |\n",
    "| lt | less than | 작다 |\n",
    "| le | less than or equal| 작거나 같다 |"
   ]
  },
  {
   "cell_type": "code",
   "execution_count": 30,
   "id": "3b726342-3632-4bae-9882-7350985ee1d8",
   "metadata": {},
   "outputs": [],
   "source": [
    "class Student:\n",
    "    def __init__(self, name, korean, math, english, science):\n",
    "        self.name = name\n",
    "        self.korean = korean\n",
    "        self.math = math\n",
    "        self.english = english\n",
    "        self.science = science\n",
    "        \n",
    "    def get_sum(self):\n",
    "        return self.korean + self.math + self.english + self.science\n",
    "    \n",
    "    def get_average(self):\n",
    "        return self.get_sum() / 4\n",
    "    \n",
    "    def __str__(self):\n",
    "        return f\"{self.name}\\t{self.get_sum()}\\t{self.get_average()}\"\n",
    "    \n",
    "    def __eq__(self, value):\n",
    "        return self.get_sum() == value.get_sum()\n",
    "    \n",
    "    def __ne__(self, value):\n",
    "        return self.get_sum() != value.get_sum()\n",
    "    \n",
    "    def __gt__(self, value):\n",
    "        return self.get_sum() > value.get_sum()\n",
    "    \n",
    "    def __ge__(self, value):\n",
    "        return self.get_sum() >= value.get_sum()\n",
    "    \n",
    "    def __lt__(self, value):\n",
    "        return self.get_sum() < value.get_sum()\n",
    "    \n",
    "    def __le__(self, value):\n",
    "        return self.get_sum() <= value.get_sum()"
   ]
  },
  {
   "cell_type": "code",
   "execution_count": 31,
   "id": "885e1da9-7793-4a7a-9167-dac55dcec2ea",
   "metadata": {},
   "outputs": [],
   "source": [
    "# 비교할 학생 선언\n",
    "student_a = Student(\"나선주\", 98, 92, 96, 92)\n",
    "student_b = Student(\"윤아린\", 95, 98, 98, 98)"
   ]
  },
  {
   "cell_type": "code",
   "execution_count": 32,
   "id": "8a7e2536-aee4-4913-a7d0-b7fe3012e51c",
   "metadata": {},
   "outputs": [
    {
     "data": {
      "text/plain": [
       "False"
      ]
     },
     "execution_count": 32,
     "metadata": {},
     "output_type": "execute_result"
    }
   ],
   "source": [
    "student_a == student_b"
   ]
  },
  {
   "cell_type": "code",
   "execution_count": 33,
   "id": "f31c7bcc-d070-4e6a-8f2f-cff4a5cb3a86",
   "metadata": {},
   "outputs": [
    {
     "data": {
      "text/plain": [
       "True"
      ]
     },
     "execution_count": 33,
     "metadata": {},
     "output_type": "execute_result"
    }
   ],
   "source": [
    "student_a != student_b"
   ]
  },
  {
   "cell_type": "code",
   "execution_count": 34,
   "id": "a4d3ef7c-1544-4dee-b8d2-c4bca8105baf",
   "metadata": {},
   "outputs": [
    {
     "data": {
      "text/plain": [
       "False"
      ]
     },
     "execution_count": 34,
     "metadata": {},
     "output_type": "execute_result"
    }
   ],
   "source": [
    "student_a > student_b"
   ]
  },
  {
   "cell_type": "code",
   "execution_count": 35,
   "id": "33c26d0c-2787-4b19-af5b-494ec03ba867",
   "metadata": {},
   "outputs": [
    {
     "data": {
      "text/plain": [
       "True"
      ]
     },
     "execution_count": 35,
     "metadata": {},
     "output_type": "execute_result"
    }
   ],
   "source": [
    "student_a < student_b"
   ]
  },
  {
   "cell_type": "markdown",
   "id": "1ce07b34-92c2-4c87-9d6a-a7f55c6c42d3",
   "metadata": {},
   "source": [
    "- 비교할 때 사용하는 자료형을 한정하고 싶다면 예외발생을 활용할 수도 있음"
   ]
  },
  {
   "cell_type": "code",
   "execution_count": 37,
   "id": "1bae48dd-0ba7-430e-b2e4-661c165022b3",
   "metadata": {},
   "outputs": [],
   "source": [
    "class Student:\n",
    "    def __init__(self, name, korean, math, english, science):\n",
    "        self.name = name\n",
    "        self.korean = korean\n",
    "        self.math = math\n",
    "        self.english = english\n",
    "        self.science = science\n",
    "        \n",
    "    def get_sum(self):\n",
    "        return self.korean + self.math + self.english + self.science\n",
    "    \n",
    "    def get_average(self):\n",
    "        return self.get_sum() / 4\n",
    "    \n",
    "    def __str__(self):\n",
    "        return f\"{self.name}\\t{self.get_sum()}\\t{self.get_average()}\"\n",
    "    \n",
    "    def __eq__(self, value):\n",
    "        if not isinstance(value, Student):\n",
    "            raise TypeError(\"Student 클래스의 인스턴스만 비교할 수 있습니다.\")\n",
    "        return self.get_sum() == value.get_sum()\n",
    "    \n",
    "    def __ne__(self, value):\n",
    "        return self.get_sum() != value.get_sum()\n",
    "    \n",
    "    def __gt__(self, value):\n",
    "        return self.get_sum() > value.get_sum()\n",
    "    \n",
    "    def __ge__(self, value):\n",
    "        return self.get_sum() >= value.get_sum()\n",
    "    \n",
    "    def __lt__(self, value):\n",
    "        return self.get_sum() < value.get_sum()\n",
    "    \n",
    "    def __le__(self, value):\n",
    "        return self.get_sum() <= value.get_sum()"
   ]
  },
  {
   "cell_type": "code",
   "execution_count": 43,
   "id": "96d438c3-0b15-4879-969a-59727fd669bc",
   "metadata": {},
   "outputs": [],
   "source": [
    "# 비교할 학생 선언\n",
    "student_a = Student(\"나선주\", 98, 92, 96, 92)"
   ]
  },
  {
   "cell_type": "code",
   "execution_count": 44,
   "id": "c56fd92b-1758-470d-b8b2-a2593c3bbe27",
   "metadata": {},
   "outputs": [
    {
     "ename": "TypeError",
     "evalue": "Student 클래스의 인스턴스만 비교할 수 있습니다.",
     "output_type": "error",
     "traceback": [
      "\u001b[0;31m---------------------------------------------------------------------------\u001b[0m",
      "\u001b[0;31mTypeError\u001b[0m                                 Traceback (most recent call last)",
      "Cell \u001b[0;32mIn[44], line 1\u001b[0m\n\u001b[0;32m----> 1\u001b[0m \u001b[43mstudent_a\u001b[49m\u001b[43m \u001b[49m\u001b[38;5;241;43m==\u001b[39;49m\u001b[43m \u001b[49m\u001b[38;5;241;43m10\u001b[39;49m\n",
      "Cell \u001b[0;32mIn[37], line 20\u001b[0m, in \u001b[0;36mStudent.__eq__\u001b[0;34m(self, value)\u001b[0m\n\u001b[1;32m     18\u001b[0m \u001b[38;5;28;01mdef\u001b[39;00m \u001b[38;5;21m__eq__\u001b[39m(\u001b[38;5;28mself\u001b[39m, value):\n\u001b[1;32m     19\u001b[0m     \u001b[38;5;28;01mif\u001b[39;00m \u001b[38;5;129;01mnot\u001b[39;00m \u001b[38;5;28misinstance\u001b[39m(value, Student):\n\u001b[0;32m---> 20\u001b[0m         \u001b[38;5;28;01mraise\u001b[39;00m \u001b[38;5;167;01mTypeError\u001b[39;00m(\u001b[38;5;124m\"\u001b[39m\u001b[38;5;124mStudent 클래스의 인스턴스만 비교할 수 있습니다.\u001b[39m\u001b[38;5;124m\"\u001b[39m)\n\u001b[1;32m     21\u001b[0m     \u001b[38;5;28;01mreturn\u001b[39;00m \u001b[38;5;28mself\u001b[39m\u001b[38;5;241m.\u001b[39mget_sum() \u001b[38;5;241m==\u001b[39m value\u001b[38;5;241m.\u001b[39mget_sum()\n",
      "\u001b[0;31mTypeError\u001b[0m: Student 클래스의 인스턴스만 비교할 수 있습니다."
     ]
    }
   ],
   "source": [
    "student_a == 10"
   ]
  },
  {
   "cell_type": "markdown",
   "id": "fb2d9730-ec09-4db2-bb1d-594b6928f2ef",
   "metadata": {},
   "source": [
    "# 클래스 변수와 클래스 메서드\n",
    "- 객체가 변수와 메서드를 가지는 것 처럼 클래스도 변수와 메서드를 가질 수 있음\n",
    "- 표현법\n",
    "    - class 클래스이름:\n",
    "        - 클래스 변수 = 값\n",
    "        \n",
    "- 클래스 변수에 접근\n",
    "    - 클래스이름.변수이름"
   ]
  },
  {
   "cell_type": "code",
   "execution_count": 45,
   "id": "3ae9696c-5c13-42bf-bbc8-a57d6d7b9000",
   "metadata": {},
   "outputs": [],
   "source": [
    "class Korean:\n",
    "    country = \"한국\" # 클래스 변수 country\n",
    "    \n",
    "    def __init__(self, name, age, address):\n",
    "        self.name = name # 인스턴스변수 self.name\n",
    "        self.age = age # 인스턴스변수 self.age\n",
    "        self.address = address # 인스턴스변수 self.address"
   ]
  },
  {
   "cell_type": "code",
   "execution_count": 46,
   "id": "c4ccbbb4-d52c-422b-8d7f-ca27f53d1de1",
   "metadata": {},
   "outputs": [],
   "source": [
    "man = Korean(\"홍길동\", 35, \"서울\")"
   ]
  },
  {
   "cell_type": "code",
   "execution_count": 47,
   "id": "fd51dff0-daa9-4c46-b15d-65c9df70005b",
   "metadata": {},
   "outputs": [
    {
     "data": {
      "text/plain": [
       "'홍길동'"
      ]
     },
     "execution_count": 47,
     "metadata": {},
     "output_type": "execute_result"
    }
   ],
   "source": [
    "man.name"
   ]
  },
  {
   "cell_type": "code",
   "execution_count": 48,
   "id": "54c7c33c-4ffa-457e-bed5-1598ecd304fa",
   "metadata": {},
   "outputs": [
    {
     "ename": "AttributeError",
     "evalue": "type object 'Korean' has no attribute 'name'",
     "output_type": "error",
     "traceback": [
      "\u001b[0;31m---------------------------------------------------------------------------\u001b[0m",
      "\u001b[0;31mAttributeError\u001b[0m                            Traceback (most recent call last)",
      "Cell \u001b[0;32mIn[48], line 1\u001b[0m\n\u001b[0;32m----> 1\u001b[0m \u001b[43mKorean\u001b[49m\u001b[38;5;241;43m.\u001b[39;49m\u001b[43mname\u001b[49m\n",
      "\u001b[0;31mAttributeError\u001b[0m: type object 'Korean' has no attribute 'name'"
     ]
    }
   ],
   "source": [
    "Korean.name"
   ]
  },
  {
   "cell_type": "code",
   "execution_count": 49,
   "id": "e217e886-078d-478e-b8ff-477877368460",
   "metadata": {},
   "outputs": [
    {
     "data": {
      "text/plain": [
       "'한국'"
      ]
     },
     "execution_count": 49,
     "metadata": {},
     "output_type": "execute_result"
    }
   ],
   "source": [
    "man.country"
   ]
  },
  {
   "cell_type": "code",
   "execution_count": 51,
   "id": "6740a457-e8ce-4f7f-9dbc-96afd00180ac",
   "metadata": {},
   "outputs": [
    {
     "data": {
      "text/plain": [
       "'한국'"
      ]
     },
     "execution_count": 51,
     "metadata": {},
     "output_type": "execute_result"
    }
   ],
   "source": [
    "Korean.country"
   ]
  },
  {
   "cell_type": "code",
   "execution_count": 52,
   "id": "79ba161f-0554-483c-bdf2-5857f79505c1",
   "metadata": {},
   "outputs": [],
   "source": [
    "class Person:\n",
    "    bag = []\n",
    "    \n",
    "    def put_bag(self, stuff):\n",
    "        Person.bag.append(stuff)"
   ]
  },
  {
   "cell_type": "code",
   "execution_count": 53,
   "id": "2284a435-b53d-4132-b5d8-34220b78af92",
   "metadata": {},
   "outputs": [],
   "source": [
    "james = Person()\n",
    "james.put_bag(\"책\")"
   ]
  },
  {
   "cell_type": "code",
   "execution_count": 54,
   "id": "a4d9d28d-69a6-4983-9dca-395b6c2248f9",
   "metadata": {},
   "outputs": [],
   "source": [
    "maria = Person()\n",
    "maria.put_bag(\"열쇠\")"
   ]
  },
  {
   "cell_type": "code",
   "execution_count": 55,
   "id": "46d58af5-6322-40be-84e4-823cac358406",
   "metadata": {},
   "outputs": [
    {
     "name": "stdout",
     "output_type": "stream",
     "text": [
      "['책', '열쇠']\n",
      "['책', '열쇠']\n",
      "['책', '열쇠']\n"
     ]
    }
   ],
   "source": [
    "print(james.bag)\n",
    "print(maria.bag)\n",
    "print(Person.bag)"
   ]
  },
  {
   "cell_type": "code",
   "execution_count": 57,
   "id": "b7f27b6b-bc15-4d46-b1e1-a7945f7121ee",
   "metadata": {},
   "outputs": [],
   "source": [
    "class Person:\n",
    "    bag = []\n",
    "    \n",
    "    def __init__(self):\n",
    "        self.bag = []\n",
    "        \n",
    "    def put_bag(self, stuff):\n",
    "        Person.bag.append(stuff)\n",
    "        \n",
    "    def put_mybag(self, stuff):\n",
    "        self.bag.append(stuff)"
   ]
  },
  {
   "cell_type": "code",
   "execution_count": 58,
   "id": "de5f6ef0-909f-4c1e-95a2-afd07fb6fcf4",
   "metadata": {},
   "outputs": [],
   "source": [
    "james = Person()\n",
    "james.put_mybag(\"책\")\n",
    "james.put_bag(\"사전\")"
   ]
  },
  {
   "cell_type": "code",
   "execution_count": 59,
   "id": "a603a045-66c1-4794-91df-b3ecb21b18a1",
   "metadata": {},
   "outputs": [],
   "source": [
    "maria = Person()\n",
    "maria.put_mybag(\"열쇠\")\n",
    "maria.put_bag(\"자물쇠\")"
   ]
  },
  {
   "cell_type": "code",
   "execution_count": 62,
   "id": "366b5255-f962-45d7-97e5-12fff63c6d5b",
   "metadata": {},
   "outputs": [
    {
     "name": "stdout",
     "output_type": "stream",
     "text": [
      "['책']\n",
      "['열쇠']\n",
      "['사전', '자물쇠']\n"
     ]
    }
   ],
   "source": [
    "# 같은 이름의 인스턴스 변수와 클래스 변수가 존재할 때는 인스턴스 변수 우선\n",
    "print(james.bag)\n",
    "print(maria.bag)\n",
    "print(Person.bag)"
   ]
  },
  {
   "cell_type": "code",
   "execution_count": 64,
   "id": "15ab0a50-45aa-4a55-ae12-78e60624ab35",
   "metadata": {},
   "outputs": [],
   "source": [
    "class Student:\n",
    "    count = 0\n",
    "    \n",
    "    def __init__(self, name, korean, math, english, science):\n",
    "        self.name = name\n",
    "        self.korean = korean\n",
    "        self.math = math\n",
    "        self.english = english\n",
    "        self.science = science\n",
    "        \n",
    "        # 클래스 변수 설정\n",
    "        Student.count += 1\n",
    "        print(f\"{Student.count}번째 학생이 생성되었습니다.\")"
   ]
  },
  {
   "cell_type": "code",
   "execution_count": 65,
   "id": "fc21e703-56e6-4add-9207-0182eadc2681",
   "metadata": {},
   "outputs": [
    {
     "name": "stdout",
     "output_type": "stream",
     "text": [
      "1번째 학생이 생성되었습니다.\n",
      "2번째 학생이 생성되었습니다.\n",
      "3번째 학생이 생성되었습니다.\n"
     ]
    }
   ],
   "source": [
    "students = [Student(\"윤인성\", 87, 98, 88, 95),\n",
    "            Student(\"연하진\", 95, 98, 96, 98),\n",
    "            Student(\"구지연\", 76, 96, 94, 90)]"
   ]
  },
  {
   "cell_type": "code",
   "execution_count": 67,
   "id": "e4e26620-d078-4492-9b4b-0d47450daa4f",
   "metadata": {},
   "outputs": [
    {
     "name": "stdout",
     "output_type": "stream",
     "text": [
      "현재 생성된 총 학생수는 3명 입니다.\n"
     ]
    }
   ],
   "source": [
    "print(f\"현재 생성된 총 학생수는 {Student.count}명 입니다.\")"
   ]
  },
  {
   "cell_type": "markdown",
   "id": "8ab556f4-54b2-4f77-a287-47201315219a",
   "metadata": {},
   "source": [
    "## 클래스 메서드\n",
    "- 인스턴스 또는 클래스로 호출\n",
    "- 생성된 인스턴스가 없어도 호출 가능\n",
    "- @classmethod 데코레이터를 표시하고 작성\n",
    "- 매개변수 cls를 사용\n",
    "- 클래스.메서드() 의 형태로 사용\n",
    "- 인스턴스 변수에 접근할 수 없지만 클래스 변수에는 접근 가능\n",
    "    - 인스터스의 상태를 변화시키지 않는 메서드를 만들 때\n",
    "    \n",
    "- 표현법\n",
    "    - class 클래스이름:\n",
    "        - @classmethod\n",
    "        - def 클래스함수(cls, 매개변수):\n",
    "            - pass"
   ]
  },
  {
   "cell_type": "code",
   "execution_count": 68,
   "id": "920756d3-d843-4d0a-970c-62d9887900b9",
   "metadata": {},
   "outputs": [],
   "source": [
    "class Korean:\n",
    "    country = \"한국\"\n",
    "    \n",
    "    @classmethod\n",
    "    def trip(cls, country):\n",
    "        if cls.country == country:\n",
    "            print(\"국내 여행\")\n",
    "        else:\n",
    "            print(\"해외 여행\")"
   ]
  },
  {
   "cell_type": "code",
   "execution_count": 69,
   "id": "ab831225-c0da-43f3-8327-6a75f5ae2b85",
   "metadata": {},
   "outputs": [
    {
     "name": "stdout",
     "output_type": "stream",
     "text": [
      "국내 여행\n"
     ]
    }
   ],
   "source": [
    "Korean.trip(\"한국\")"
   ]
  },
  {
   "cell_type": "code",
   "execution_count": 70,
   "id": "b159db6a-7007-4e40-b5be-e7ce6291d9b2",
   "metadata": {},
   "outputs": [
    {
     "name": "stdout",
     "output_type": "stream",
     "text": [
      "해외 여행\n"
     ]
    }
   ],
   "source": [
    "Korean.trip(\"미국\")"
   ]
  },
  {
   "cell_type": "code",
   "execution_count": 74,
   "id": "c88be719-21ce-4fe8-bbb8-850f683a59d7",
   "metadata": {},
   "outputs": [],
   "source": [
    "class Person:\n",
    "    count = 0 # 클래스 변수\n",
    "    \n",
    "    def __init__(self):\n",
    "        Person.count += 1 # 인스턴스가 만들어질 때 클래스 변수 count에 1 더하기\n",
    "        \n",
    "    @classmethod\n",
    "    def print_count(cls):\n",
    "        print(f\"{cls.count}명 생성됨\") # cls로 클래스 속성에 접근\n",
    "        \n",
    "    @classmethod\n",
    "    def create(cls):\n",
    "        p = cls() # cls() 는 Person()과 같다\n",
    "        return p"
   ]
  },
  {
   "cell_type": "code",
   "execution_count": 75,
   "id": "18445992-757c-4efe-a23b-8fd6e4d773b5",
   "metadata": {},
   "outputs": [],
   "source": [
    "james = Person()\n",
    "maria = Person()"
   ]
  },
  {
   "cell_type": "code",
   "execution_count": 76,
   "id": "858d118c-7e21-4bd4-8dfb-a21d4e27b4dc",
   "metadata": {},
   "outputs": [
    {
     "name": "stdout",
     "output_type": "stream",
     "text": [
      "2명 생성됨\n"
     ]
    }
   ],
   "source": [
    "Person.print_count()"
   ]
  },
  {
   "cell_type": "code",
   "execution_count": 77,
   "id": "ed5d91d4-bc56-4b32-86b9-d7910a202f0c",
   "metadata": {},
   "outputs": [
    {
     "name": "stdout",
     "output_type": "stream",
     "text": [
      "3명 생성됨\n"
     ]
    }
   ],
   "source": [
    "julia = Person.create()\n",
    "Person.print_count()"
   ]
  },
  {
   "cell_type": "code",
   "execution_count": 84,
   "id": "3f39edd1-72b3-4b9f-b405-1398e69bba14",
   "metadata": {},
   "outputs": [],
   "source": [
    "class Student:\n",
    "    # 클래스 변수\n",
    "    count = 0\n",
    "    students = []\n",
    "    \n",
    "    @classmethod\n",
    "    def print(cls):\n",
    "        print(\"------ 학생 목록 ------\")\n",
    "        print(\"이름\\t총점\\t평균\")\n",
    "        for student in cls.students:\n",
    "            print(str(student))\n",
    "        print(\"------ ------ ------\")\n",
    "    \n",
    "    def __init__(self, name, korean, math, english, science):\n",
    "        self.name = name\n",
    "        self.korean = korean\n",
    "        self.math = math\n",
    "        self.english = english\n",
    "        self.science = science\n",
    "        Student.count += 1\n",
    "        Student.students.append(self)\n",
    "        \n",
    "    def get_sum(self):\n",
    "        return self.korean + self.math + self.english + self.science\n",
    "    \n",
    "    def get_average(self):\n",
    "        return self.get_sum() / 4\n",
    "    \n",
    "    def __str__(self):\n",
    "        return f\"{self.name}\\t{self.get_sum()}\\t{self.get_average()}\""
   ]
  },
  {
   "cell_type": "code",
   "execution_count": 85,
   "id": "9acb5595-a9c5-4e8a-8268-af32b3e003a1",
   "metadata": {},
   "outputs": [],
   "source": [
    "students = [Student(\"윤인성\", 87, 98, 88, 95),\n",
    "            Student(\"연하진\", 95, 98, 96, 98),\n",
    "            Student(\"구지연\", 76, 96, 94, 90)]"
   ]
  },
  {
   "cell_type": "code",
   "execution_count": 86,
   "id": "1f059554-5738-49b7-b9cb-931b95ff52f9",
   "metadata": {},
   "outputs": [
    {
     "name": "stdout",
     "output_type": "stream",
     "text": [
      "------ 학생 목록 ------\n",
      "이름\t총점\t평균\n",
      "윤인성\t368\t92.0\n",
      "연하진\t387\t96.75\n",
      "구지연\t356\t89.0\n",
      "------ ------ ------\n"
     ]
    }
   ],
   "source": [
    "# 현재 생성된 학생을 모두 출력\n",
    "Student.print()"
   ]
  },
  {
   "cell_type": "code",
   "execution_count": null,
   "id": "a30eddc3-3def-48ba-9d2a-fdd9803e499e",
   "metadata": {},
   "outputs": [],
   "source": []
  }
 ],
 "metadata": {
  "kernelspec": {
   "display_name": "Python 3 (ipykernel)",
   "language": "python",
   "name": "python3"
  },
  "language_info": {
   "codemirror_mode": {
    "name": "ipython",
    "version": 3
   },
   "file_extension": ".py",
   "mimetype": "text/x-python",
   "name": "python",
   "nbconvert_exporter": "python",
   "pygments_lexer": "ipython3",
   "version": "3.10.9"
  }
 },
 "nbformat": 4,
 "nbformat_minor": 5
}
