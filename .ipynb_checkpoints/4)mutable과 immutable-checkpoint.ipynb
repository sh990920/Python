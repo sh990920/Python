{
 "cells": [
  {
   "cell_type": "markdown",
   "id": "347791e3-5710-455c-826e-bfbbd3066ee3",
   "metadata": {},
   "source": [
    "- mutable : 생성된 후에 변경이 가능한 자료형\n",
    "    - 리스트, 세트, 딕셔너리\n",
    "    \n",
    "    \n",
    "- immutable : 생성된 후에는 변경이 불가능한 자료형\n",
    "    - 정수, 실수, 문자열, 튜플"
   ]
  },
  {
   "cell_type": "markdown",
   "id": "360ffa22-650d-48b5-b907-c82919f74c10",
   "metadata": {},
   "source": [
    "# mutable"
   ]
  },
  {
   "cell_type": "code",
   "execution_count": 1,
   "id": "bd538f8f",
   "metadata": {},
   "outputs": [
    {
     "data": {
      "text/plain": [
       "2474636947072"
      ]
     },
     "execution_count": 1,
     "metadata": {},
     "output_type": "execute_result"
    }
   ],
   "source": [
    "me = [1, 2, 3]\n",
    "# id() : 변수나 자료형의 메모리 주소를 확인\n",
    "id(me)"
   ]
  },
  {
   "cell_type": "code",
   "execution_count": 2,
   "id": "d3ae3d15",
   "metadata": {},
   "outputs": [
    {
     "data": {
      "text/plain": [
       "2474636947072"
      ]
     },
     "execution_count": 2,
     "metadata": {},
     "output_type": "execute_result"
    }
   ],
   "source": [
    "me.append(4)\n",
    "id(me)"
   ]
  },
  {
   "cell_type": "code",
   "execution_count": 3,
   "id": "b0330307",
   "metadata": {},
   "outputs": [
    {
     "data": {
      "text/plain": [
       "[1, 2, 3, 4]"
      ]
     },
     "execution_count": 3,
     "metadata": {},
     "output_type": "execute_result"
    }
   ],
   "source": [
    "me"
   ]
  },
  {
   "cell_type": "markdown",
   "id": "198a4c57-c4da-4283-af82-978ef278d0ef",
   "metadata": {},
   "source": [
    "# immutable"
   ]
  },
  {
   "cell_type": "code",
   "execution_count": 4,
   "id": "93f4d346",
   "metadata": {},
   "outputs": [
    {
     "data": {
      "text/plain": [
       "2474553207376"
      ]
     },
     "execution_count": 4,
     "metadata": {},
     "output_type": "execute_result"
    }
   ],
   "source": [
    "me = 10\n",
    "id(me)"
   ]
  },
  {
   "cell_type": "code",
   "execution_count": 5,
   "id": "928b962d",
   "metadata": {},
   "outputs": [
    {
     "data": {
      "text/plain": [
       "2474553207408"
      ]
     },
     "execution_count": 5,
     "metadata": {},
     "output_type": "execute_result"
    }
   ],
   "source": [
    "me += 1\n",
    "id(me)"
   ]
  },
  {
   "cell_type": "markdown",
   "id": "f108414e-419f-4528-8bdb-722e06495b56",
   "metadata": {},
   "source": [
    "# mutable의 특징"
   ]
  },
  {
   "cell_type": "code",
   "execution_count": 6,
   "id": "dacea73d",
   "metadata": {},
   "outputs": [
    {
     "name": "stdout",
     "output_type": "stream",
     "text": [
      "2474636960000\n",
      "2474636960000\n"
     ]
    }
   ],
   "source": [
    "me = [1, 2, 3]\n",
    "you = me\n",
    "print(id(you))\n",
    "print(id(me))"
   ]
  },
  {
   "cell_type": "code",
   "execution_count": 7,
   "id": "fbcb23f5",
   "metadata": {},
   "outputs": [],
   "source": [
    "you.append(4)"
   ]
  },
  {
   "cell_type": "code",
   "execution_count": 8,
   "id": "c125b0d4",
   "metadata": {},
   "outputs": [
    {
     "name": "stdout",
     "output_type": "stream",
     "text": [
      "[1, 2, 3, 4]\n"
     ]
    }
   ],
   "source": [
    "print(you)"
   ]
  },
  {
   "cell_type": "code",
   "execution_count": 9,
   "id": "7fa73ce0",
   "metadata": {},
   "outputs": [
    {
     "name": "stdout",
     "output_type": "stream",
     "text": [
      "[1, 2, 3, 4]\n"
     ]
    }
   ],
   "source": [
    "print(me)"
   ]
  },
  {
   "cell_type": "markdown",
   "id": "198c051a-5e34-45aa-b1a8-76876180bb23",
   "metadata": {},
   "source": [
    "# 리스트의 복사"
   ]
  },
  {
   "cell_type": "code",
   "execution_count": 10,
   "id": "a420cbe6",
   "metadata": {},
   "outputs": [
    {
     "name": "stdout",
     "output_type": "stream",
     "text": [
      "[1, 2, 3, 4]\n",
      "2474636960000\n"
     ]
    }
   ],
   "source": [
    "print(me)\n",
    "print(id(me))"
   ]
  },
  {
   "cell_type": "code",
   "execution_count": 11,
   "id": "47dfec64",
   "metadata": {},
   "outputs": [],
   "source": [
    "you = me[:]"
   ]
  },
  {
   "cell_type": "code",
   "execution_count": 12,
   "id": "cb49d4b5",
   "metadata": {},
   "outputs": [
    {
     "name": "stdout",
     "output_type": "stream",
     "text": [
      "[1, 2, 3, 4]\n",
      "2474636953408\n"
     ]
    }
   ],
   "source": [
    "print(you)\n",
    "print(id(you))"
   ]
  },
  {
   "cell_type": "code",
   "execution_count": 13,
   "id": "f42cfac3",
   "metadata": {},
   "outputs": [],
   "source": [
    "me.append(5)"
   ]
  },
  {
   "cell_type": "code",
   "execution_count": 14,
   "id": "9d33efb0",
   "metadata": {},
   "outputs": [
    {
     "name": "stdout",
     "output_type": "stream",
     "text": [
      "[1, 2, 3, 4, 5]\n",
      "[1, 2, 3, 4]\n"
     ]
    }
   ],
   "source": [
    "print(me)\n",
    "print(you)"
   ]
  },
  {
   "cell_type": "code",
   "execution_count": 15,
   "id": "4c9885a0",
   "metadata": {},
   "outputs": [],
   "source": [
    "# copy 함수 사용\n",
    "you = me.copy()"
   ]
  },
  {
   "cell_type": "code",
   "execution_count": 16,
   "id": "be32de22",
   "metadata": {},
   "outputs": [
    {
     "name": "stdout",
     "output_type": "stream",
     "text": [
      "[1, 2, 3, 4, 5]\n",
      "2474636886976\n"
     ]
    }
   ],
   "source": [
    "print(you)\n",
    "print(id(you))"
   ]
  },
  {
   "cell_type": "code",
   "execution_count": 21,
   "id": "7e8350fc",
   "metadata": {},
   "outputs": [],
   "source": [
    "me.append(6)"
   ]
  },
  {
   "cell_type": "code",
   "execution_count": 22,
   "id": "c8656746",
   "metadata": {},
   "outputs": [
    {
     "name": "stdout",
     "output_type": "stream",
     "text": [
      "[1, 2, 3, 4, 5, 6]\n",
      "[1, 2, 3, 4, 5]\n"
     ]
    }
   ],
   "source": [
    "print(me)\n",
    "print(you)"
   ]
  },
  {
   "cell_type": "code",
   "execution_count": 17,
   "id": "a17acc23",
   "metadata": {},
   "outputs": [],
   "source": [
    "a = 10\n",
    "b = a"
   ]
  },
  {
   "cell_type": "code",
   "execution_count": 18,
   "id": "a278da2c",
   "metadata": {},
   "outputs": [
    {
     "name": "stdout",
     "output_type": "stream",
     "text": [
      "2474553207376\n",
      "2474553207376\n"
     ]
    }
   ],
   "source": [
    "print(id(a))\n",
    "print(id(b))"
   ]
  },
  {
   "cell_type": "code",
   "execution_count": 19,
   "id": "712631b4",
   "metadata": {},
   "outputs": [],
   "source": [
    "a += 3\n",
    "# a = 13"
   ]
  },
  {
   "cell_type": "code",
   "execution_count": 20,
   "id": "88e9b2b3",
   "metadata": {},
   "outputs": [
    {
     "name": "stdout",
     "output_type": "stream",
     "text": [
      "13\n",
      "10\n"
     ]
    }
   ],
   "source": [
    "print(a)\n",
    "print(b)"
   ]
  },
  {
   "cell_type": "code",
   "execution_count": null,
   "id": "b5dd6fc6",
   "metadata": {},
   "outputs": [],
   "source": []
  },
  {
   "cell_type": "code",
   "execution_count": null,
   "id": "cde8e8a6",
   "metadata": {},
   "outputs": [],
   "source": []
  },
  {
   "cell_type": "code",
   "execution_count": null,
   "id": "4bc9196c",
   "metadata": {},
   "outputs": [],
   "source": []
  },
  {
   "cell_type": "code",
   "execution_count": null,
   "id": "486f8e43",
   "metadata": {},
   "outputs": [],
   "source": []
  },
  {
   "cell_type": "code",
   "execution_count": null,
   "id": "2aabe4cb",
   "metadata": {},
   "outputs": [],
   "source": []
  },
  {
   "cell_type": "code",
   "execution_count": null,
   "id": "444098ce",
   "metadata": {},
   "outputs": [],
   "source": []
  },
  {
   "cell_type": "code",
   "execution_count": null,
   "id": "d7c64d5c",
   "metadata": {},
   "outputs": [],
   "source": []
  }
 ],
 "metadata": {
  "kernelspec": {
   "display_name": "Python 3 (ipykernel)",
   "language": "python",
   "name": "python3"
  },
  "language_info": {
   "codemirror_mode": {
    "name": "ipython",
    "version": 3
   },
   "file_extension": ".py",
   "mimetype": "text/x-python",
   "name": "python",
   "nbconvert_exporter": "python",
   "pygments_lexer": "ipython3",
   "version": "3.10.9"
  }
 },
 "nbformat": 4,
 "nbformat_minor": 5
}
