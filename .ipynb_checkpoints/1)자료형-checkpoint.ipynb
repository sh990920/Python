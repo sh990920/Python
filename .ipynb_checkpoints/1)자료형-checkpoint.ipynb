{
 "cells": [
  {
   "cell_type": "markdown",
   "id": "06514115-7f4f-4de8-ab0a-0ae84dd62bf4",
   "metadata": {},
   "source": [
    "# 자료형\n",
    "- 자료(data) : 프로그램이 처리할 수 있는 모든 것\n",
    "- 자료형(dataType) : 자료를 개발자들이 쉽게 사용할 수 있도록 기능과 역할에 따라서 구분한 종류\n",
    "    - 문자열(string) : 메일 제목, 메시지 내용 등\n",
    "        - ex) \"안녕하세요\", \"Hello World\"\n",
    "    \n",
    "    - 숫자(number)\n",
    "        - ex) 62, 279, 103, 3.14\n",
    "    \n",
    "    - 불(boolean) : 사용자의 로그인 상태 등\n",
    "        - ex) True, False\n",
    "    "
   ]
  },
  {
   "cell_type": "markdown",
   "id": "98a28485-3690-4eca-b006-8cf065b1da7f",
   "metadata": {},
   "source": [
    "# 숫자 자료형\n",
    "- 숫자 자료형의 종류\n",
    "    - 정수형 (integer) : 소수점이 없는 숫자\n",
    "        - ex) 0, 1, 273, -53\n",
    "    \n",
    "    - 실수형 (floating point) : 소수점이 있는 숫자\n",
    "        - ex) 0.0, 52.273, -1.2\n",
    "        \n",
    "- 주의점\n",
    "    - 0과 0.0은 같은 크기를 표현하지만 소수점의 여부에 따라 숫자의 자료형이 달라진다."
   ]
  },
  {
   "cell_type": "markdown",
   "id": "9e73f9f0-88d7-41a7-be9c-0e2184a60231",
   "metadata": {},
   "source": [
    "## 정수형(integer)"
   ]
  },
  {
   "cell_type": "code",
   "execution_count": 3,
   "id": "6e0d0a55-d683-443c-bc2e-183ab7b80f3c",
   "metadata": {},
   "outputs": [
    {
     "name": "stdout",
     "output_type": "stream",
     "text": [
      "123\n",
      "-178\n",
      "0\n",
      "<class 'int'>\n",
      "<class 'int'>\n",
      "<class 'int'>\n"
     ]
    }
   ],
   "source": [
    "a = 123\n",
    "b = -178\n",
    "c = 0\n",
    "\n",
    "print(a)\n",
    "print(b)\n",
    "print(c)\n",
    "\n",
    "# type() : 자료형 확인하기\n",
    "# type 함수의 괄호 내부에 자룔르넣으면 그 자료가 어떤 자료형을 가지고 있는지 확인한다.\n",
    "print(type(a))\n",
    "print(type(b))\n",
    "print(type(c))"
   ]
  },
  {
   "cell_type": "markdown",
   "id": "e91a96f6-96b0-49b0-a8a5-983ebd61f0e6",
   "metadata": {},
   "source": [
    "## 실수형(Floating-point)"
   ]
  },
  {
   "cell_type": "code",
   "execution_count": 4,
   "id": "cb1efe15-9875-4339-9856-a12be6b353ca",
   "metadata": {},
   "outputs": [
    {
     "name": "stdout",
     "output_type": "stream",
     "text": [
      "1.2\n",
      "-3.45\n",
      "<class 'float'>\n",
      "<class 'float'>\n"
     ]
    }
   ],
   "source": [
    "a = 1.2\n",
    "b = -3.45\n",
    "\n",
    "print(a)\n",
    "print(b)\n",
    "\n",
    "print(type(a))\n",
    "print(type(b))"
   ]
  },
  {
   "cell_type": "markdown",
   "id": "e364f906-b356-456d-a172-6f08aac984f4",
   "metadata": {},
   "source": [
    "## 실수형의 지수 표현 방식"
   ]
  },
  {
   "cell_type": "code",
   "execution_count": 5,
   "id": "694bbe40-a504-49d5-b3af-3f7cf2e116e4",
   "metadata": {},
   "outputs": [
    {
     "name": "stdout",
     "output_type": "stream",
     "text": [
      "42400.0\n",
      "0.000424\n",
      "<class 'float'>\n",
      "<class 'float'>\n"
     ]
    }
   ],
   "source": [
    "a = 4.24e4\n",
    "b = 4.24e-4\n",
    "\n",
    "print(a)\n",
    "print(b)\n",
    "\n",
    "print(type(a))\n",
    "print(type(b))"
   ]
  },
  {
   "cell_type": "markdown",
   "id": "a5f325cb-3378-4bac-890e-92440327d1fb",
   "metadata": {},
   "source": [
    "## 2진수, 8진수, 16진수"
   ]
  },
  {
   "cell_type": "code",
   "execution_count": 8,
   "id": "116ca0f3-8ffd-4962-a7a5-c502bfcedcf5",
   "metadata": {},
   "outputs": [
    {
     "name": "stdout",
     "output_type": "stream",
     "text": [
      "10\n"
     ]
    }
   ],
   "source": [
    "# 2진수\n",
    "bi = 0b1010\n",
    "print(bi)\n"
   ]
  },
  {
   "cell_type": "code",
   "execution_count": 7,
   "id": "de02b4f5-4529-4a84-bd12-4a81c12e2ac0",
   "metadata": {},
   "outputs": [
    {
     "name": "stdout",
     "output_type": "stream",
     "text": [
      "127\n"
     ]
    }
   ],
   "source": [
    "# 8진수\n",
    "oc = 0o177\n",
    "print(oc)"
   ]
  },
  {
   "cell_type": "code",
   "execution_count": 6,
   "id": "d4ae3271-9891-47ef-b4c5-20c0458c2d36",
   "metadata": {},
   "outputs": [
    {
     "name": "stdout",
     "output_type": "stream",
     "text": [
      "375\n"
     ]
    }
   ],
   "source": [
    "# 16진수\n",
    "he = 0x177\n",
    "print(he)"
   ]
  },
  {
   "cell_type": "markdown",
   "id": "80ff942c-8f37-4f70-a833-5bb9c4493de3",
   "metadata": {},
   "source": [
    "## 숫자에서 다른 진수로 변환하기"
   ]
  },
  {
   "cell_type": "code",
   "execution_count": 9,
   "id": "b2d2fbeb-3271-4f1b-984f-1ae4fc2b0726",
   "metadata": {},
   "outputs": [
    {
     "name": "stdout",
     "output_type": "stream",
     "text": [
      "0b101010\n",
      "0o52\n",
      "0x2a\n",
      "<class 'str'>\n",
      "<class 'str'>\n",
      "<class 'str'>\n"
     ]
    }
   ],
   "source": [
    "# 2진수\n",
    "bi = bin(42)\n",
    "# 8진수\n",
    "oc = oct(42)\n",
    "# 16진수\n",
    "he = hex(42)\n",
    "\n",
    "print(bi)\n",
    "print(oc)\n",
    "print(he)\n",
    "\n",
    "print(type(bi))\n",
    "print(type(oc))\n",
    "print(type(he))"
   ]
  },
  {
   "cell_type": "markdown",
   "id": "869ee439-e187-45f2-9f4b-ba1981eb6692",
   "metadata": {},
   "source": [
    "## 사칙연산"
   ]
  },
  {
   "cell_type": "code",
   "execution_count": 10,
   "id": "5621f4ca-8ca7-473f-9fb9-5a17c844fef5",
   "metadata": {},
   "outputs": [
    {
     "name": "stdout",
     "output_type": "stream",
     "text": [
      "7\n",
      "-1\n",
      "12\n",
      "0.75\n",
      "81\n",
      "0\n",
      "3\n"
     ]
    }
   ],
   "source": [
    "a = 3\n",
    "b = 4\n",
    "\n",
    "print(a + b) # 덧셈\n",
    "print(a - b) # 뺄셈\n",
    "print(a * b) # 곱셈\n",
    "print(a / b) # 나눗셈\n",
    "print(a ** b) # 제곱\n",
    "print(a // b) # 몫\n",
    "print(a % b) # 나머지"
   ]
  },
  {
   "cell_type": "markdown",
   "id": "fc52c4d7-9677-41e8-add4-91d26144036d",
   "metadata": {},
   "source": [
    "## 연산자의 우선순위\n",
    "- 숫자를 계산할 때는 곱셈과 나눗셈이 덧셈과 뺄셈보다 우선함\n",
    "- 같은 우선순위를 가지는 연산자는 왼쪽에서 오른쪽 순서로 계산"
   ]
  },
  {
   "cell_type": "code",
   "execution_count": 1,
   "id": "b7f4fe0a-d22e-4284-ab83-90f1af20d015",
   "metadata": {},
   "outputs": [
    {
     "name": "stdout",
     "output_type": "stream",
     "text": [
      "0.0\n"
     ]
    }
   ],
   "source": [
    "print(2 + 2 - 2 * 2 / 2 * 2)"
   ]
  },
  {
   "cell_type": "code",
   "execution_count": 2,
   "id": "f45155b2-7392-4f38-89e5-d49a865f07c8",
   "metadata": {},
   "outputs": [
    {
     "name": "stdout",
     "output_type": "stream",
     "text": [
      "16\n",
      "11\n"
     ]
    }
   ],
   "source": [
    "# 먼저 연산하고 싶은 부분은 괄호로 표현\n",
    "print((5 + 3) * 2)\n",
    "print(5 + 3 * 2)"
   ]
  },
  {
   "cell_type": "code",
   "execution_count": 3,
   "id": "71bc9cce-f173-4399-9f84-1b75c6558170",
   "metadata": {},
   "outputs": [
    {
     "name": "stdout",
     "output_type": "stream",
     "text": [
      "11\n"
     ]
    }
   ],
   "source": [
    "# 연산자 우선순위가 확실한 경우에도 명확하게 표현하기 위해 괄호를 사용하기도 한다\n",
    "print(5 + (3 * 2))"
   ]
  },
  {
   "cell_type": "markdown",
   "id": "98f4fbdc-c786-407c-800c-7856e82d48f9",
   "metadata": {},
   "source": [
    "# 문자열 자료형(String)\n",
    "- 문자열 : 글자들이 나열된 것"
   ]
  },
  {
   "cell_type": "code",
   "execution_count": 4,
   "id": "ea13d62f-07bf-4938-a1c0-906908261386",
   "metadata": {},
   "outputs": [
    {
     "name": "stdout",
     "output_type": "stream",
     "text": [
      "Hello World!\n",
      "<class 'str'>\n",
      "123\n",
      "<class 'str'>\n"
     ]
    }
   ],
   "source": [
    "a = \"Hello World!\"\n",
    "b = \"123\"\n",
    "\n",
    "print(a)\n",
    "print(type(a))\n",
    "\n",
    "print(b)\n",
    "print(type(b))"
   ]
  },
  {
   "cell_type": "code",
   "execution_count": 9,
   "id": "29fc5aaa-3b5e-48a9-8910-1eab36ecb298",
   "metadata": {},
   "outputs": [
    {
     "name": "stdout",
     "output_type": "stream",
     "text": [
      "Hello\n",
      "Hello\n",
      "Hello\n",
      "Hello\n"
     ]
    }
   ],
   "source": [
    "# 문자열 표기법\n",
    "print(\"Hello\")\n",
    "print('Hello')\n",
    "print(\"\"\"Hello\"\"\")\n",
    "print('''Hello''')"
   ]
  },
  {
   "cell_type": "markdown",
   "id": "a7aab130-4609-4b34-a364-402ad02889c7",
   "metadata": {},
   "source": [
    "### 문자열에 따옴표 포함하기"
   ]
  },
  {
   "cell_type": "code",
   "execution_count": 13,
   "id": "9138a53c-93f2-4ee6-96ab-e2fddd66eb1b",
   "metadata": {},
   "outputs": [
    {
     "name": "stdout",
     "output_type": "stream",
     "text": [
      "Python's favorite food is perl\n",
      "\"Python is very easy.\" he says\n",
      "Python's favorite food is perl\n",
      "\"Python is very easy.\" he says\n"
     ]
    }
   ],
   "source": [
    "# 'Python's favorite food is perl'\n",
    "print(\"Python\\'s favorite food is perl\")\n",
    "print('\"Python is very easy.\" he says')\n",
    "\n",
    "# 백슬래시를 이용한 방법\n",
    "# \\와 큰따옴표, 작은 따옴표를 사용하면 문자열을 만드는 기호가 아니라 단순한 따옴표로 인식\n",
    "print('Python\\'s favorite food is perl')\n",
    "print(\"\\\"Python is very easy.\\\" he says\")"
   ]
  },
  {
   "cell_type": "markdown",
   "id": "09d84d68-4fcf-4a02-9fc5-5ace75b69303",
   "metadata": {},
   "source": [
    "### 여러줄인 문자열"
   ]
  },
  {
   "cell_type": "code",
   "execution_count": 14,
   "id": "19a6b45e-e1e4-4e57-b9ea-c00601867112",
   "metadata": {},
   "outputs": [
    {
     "name": "stdout",
     "output_type": "stream",
     "text": [
      "Life is too short\n",
      "You need python\n"
     ]
    }
   ],
   "source": [
    "lines = \"Life is too short\\nYou need python\"\n",
    "print(lines)"
   ]
  },
  {
   "cell_type": "code",
   "execution_count": 15,
   "id": "92c07449-66bf-434b-a0d8-39f4b3702aa4",
   "metadata": {},
   "outputs": [
    {
     "name": "stdout",
     "output_type": "stream",
     "text": [
      "Life is too short\n",
      "You need python\n"
     ]
    }
   ],
   "source": [
    "lines = '''Life is too short\n",
    "You need python'''\n",
    "print(lines)"
   ]
  },
  {
   "cell_type": "code",
   "execution_count": 17,
   "id": "60d4bb01-b9b1-47e0-8e0b-951c83706546",
   "metadata": {},
   "outputs": [
    {
     "name": "stdout",
     "output_type": "stream",
     "text": [
      "Life is too short\n",
      "You need python\n"
     ]
    }
   ],
   "source": [
    "lines = \"\"\"Life is too short\n",
    "You need python\"\"\"\n",
    "print(lines)"
   ]
  },
  {
   "cell_type": "markdown",
   "id": "623d43ad-e9ee-4de9-8dee-76a74f5bf7a3",
   "metadata": {},
   "source": [
    "#### 이스케이프 코드\n",
    "- 특별한 의미를 가지는, 미리 정의된 문자 조합\n",
    "    - \\n : 줄바꿈\n",
    "    - \\t : 탭\n",
    "    - \\\\ : 백슬래시 문자열 입력"
   ]
  },
  {
   "cell_type": "code",
   "execution_count": 18,
   "id": "d3299a6e-232b-490b-a3cc-ada03308c0af",
   "metadata": {},
   "outputs": [
    {
     "name": "stdout",
     "output_type": "stream",
     "text": [
      "안녕하세요\t안녕하세요\n"
     ]
    }
   ],
   "source": [
    "print(\"안녕하세요\\t안녕하세요\")"
   ]
  },
  {
   "cell_type": "markdown",
   "id": "f7ce6226-6754-448c-b6ca-ba54440ac0e7",
   "metadata": {
    "tags": []
   },
   "source": [
    "## 문자열 연산자\n",
    "- 각각의 자료는 사용할 수 있는 연산자가 정해져 있음"
   ]
  },
  {
   "cell_type": "markdown",
   "id": "bfa81027-26bd-4229-819a-b436cf43a229",
   "metadata": {},
   "source": [
    "### 문자열 연결 연산자\n",
    "- 두 문자열을 연결해서 새로운 문자열을 만들어냄"
   ]
  },
  {
   "cell_type": "code",
   "execution_count": 19,
   "id": "dd299ce0-f2fb-4401-b724-65d00108fdfa",
   "metadata": {},
   "outputs": [
    {
     "data": {
      "text/plain": [
       "'Hello, World!'"
      ]
     },
     "execution_count": 19,
     "metadata": {},
     "output_type": "execute_result"
    }
   ],
   "source": [
    "# 문자열은 + 연산자로 문자열 연결 연산 적용\n",
    "# 숫자 더하기 연산자와 문자열 연결 연산자 모두 + 기호를 사용하지만 완전히 다른 기능을 수행\n",
    "\"Hello, \" + \"World!\""
   ]
  },
  {
   "cell_type": "code",
   "execution_count": 21,
   "id": "53c7bea6-0bce-4992-b3b4-96bc3d5c273e",
   "metadata": {},
   "outputs": [
    {
     "ename": "TypeError",
     "evalue": "can only concatenate str (not \"int\") to str",
     "output_type": "error",
     "traceback": [
      "\u001b[0;31m---------------------------------------------------------------------------\u001b[0m",
      "\u001b[0;31mTypeError\u001b[0m                                 Traceback (most recent call last)",
      "Cell \u001b[0;32mIn[21], line 2\u001b[0m\n\u001b[1;32m      1\u001b[0m \u001b[38;5;66;03m# 문자열과 숫자 사이의 문자열 연결 연산자를 사용하면 에러가 발생한다\u001b[39;00m\n\u001b[0;32m----> 2\u001b[0m \u001b[38;5;28mprint\u001b[39m(\u001b[38;5;124;43m\"\u001b[39;49m\u001b[38;5;124;43m안녕하세요\u001b[39;49m\u001b[38;5;124;43m\"\u001b[39;49m\u001b[43m \u001b[49m\u001b[38;5;241;43m+\u001b[39;49m\u001b[43m \u001b[49m\u001b[38;5;241;43m1\u001b[39;49m)\n",
      "\u001b[0;31mTypeError\u001b[0m: can only concatenate str (not \"int\") to str"
     ]
    }
   ],
   "source": [
    "# 문자열과 숫자 사이의 문자열 연결 연산자를 사용하면 에러가 발생한다\n",
    "print(\"안녕하세요\" + 1)"
   ]
  },
  {
   "cell_type": "code",
   "execution_count": 22,
   "id": "27422dc9-ef1c-42fb-aa4b-9f6fa4696fa0",
   "metadata": {},
   "outputs": [
    {
     "name": "stdout",
     "output_type": "stream",
     "text": [
      "안녕하세요1\n"
     ]
    }
   ],
   "source": [
    "# 안녕하세요1을 출력할 의도라면 숫자도 문자열로 인식시켜야 한다\n",
    "print(\"안녕하세요\" + \"1\")"
   ]
  },
  {
   "cell_type": "markdown",
   "id": "8764060c-0997-48eb-a70c-0482666cf924",
   "metadata": {},
   "source": [
    "### 문자열 반복 연산자\n",
    "- 문자열을 숫자와 * 연산자로 연결\n",
    "- 문자열을 숫자만큼 반복해서 출력"
   ]
  },
  {
   "cell_type": "code",
   "execution_count": 23,
   "id": "6fe68456-5a20-426e-91e3-5f0884c8e9b0",
   "metadata": {},
   "outputs": [
    {
     "data": {
      "text/plain": [
       "'HelloHelloHello'"
      ]
     },
     "execution_count": 23,
     "metadata": {},
     "output_type": "execute_result"
    }
   ],
   "source": [
    "\"Hello\" * 3"
   ]
  },
  {
   "cell_type": "markdown",
   "id": "633b57d6-8853-436d-b3a3-1c790224bc49",
   "metadata": {},
   "source": [
    "### 문자열 인덱싱(indexing)\n",
    "- 대괄호(문자 선택 연산자)는 문자열 내부의 문자 하나를 선택하는 연산자\n",
    "- 대괄호 안에 선택할 문자의 위치(인덱스(index))를 지정\n",
    "    - 파이썬은 인덱스를 0부터 셈"
   ]
  },
  {
   "cell_type": "code",
   "execution_count": 28,
   "id": "f2e26dc7-a473-420b-bb6c-f5e4e9f557d2",
   "metadata": {},
   "outputs": [],
   "source": [
    "    str1 = \"Hello\"\n",
    "# index순서 :01234"
   ]
  },
  {
   "cell_type": "code",
   "execution_count": 29,
   "id": "58a266fe-a06e-43a8-a721-99a713e97523",
   "metadata": {},
   "outputs": [
    {
     "data": {
      "text/plain": [
       "'H'"
      ]
     },
     "execution_count": 29,
     "metadata": {},
     "output_type": "execute_result"
    }
   ],
   "source": [
    "str1[0]"
   ]
  },
  {
   "cell_type": "code",
   "execution_count": 30,
   "id": "26439381-f46b-4dd3-8fd3-0224a29d872a",
   "metadata": {},
   "outputs": [
    {
     "data": {
      "text/plain": [
       "'o'"
      ]
     },
     "execution_count": 30,
     "metadata": {},
     "output_type": "execute_result"
    }
   ],
   "source": [
    "str1[4]"
   ]
  },
  {
   "cell_type": "code",
   "execution_count": 31,
   "id": "1534c0c6-b97f-4859-b204-b6ba5c4f118e",
   "metadata": {},
   "outputs": [
    {
     "data": {
      "text/plain": [
       "'o'"
      ]
     },
     "execution_count": 31,
     "metadata": {},
     "output_type": "execute_result"
    }
   ],
   "source": [
    "str1[-1]"
   ]
  },
  {
   "cell_type": "markdown",
   "id": "385c8534-7d8d-4b4d-a291-9db101d75c6c",
   "metadata": {},
   "source": [
    "### 문자열 슬라이싱(slicing)\n",
    "- 문자열의 범위를 지정\n",
    "- 대괄호 안에 위치를 콜론(:)으로 구분해서 지정\n",
    "    - 파이썬은 범위 지정 시 마지막 숫자를 포함하지 않음"
   ]
  },
  {
   "cell_type": "code",
   "execution_count": 33,
   "id": "c3f6b2b6-8a3b-4d62-8b1e-d7d4513b049e",
   "metadata": {},
   "outputs": [
    {
     "data": {
      "text/plain": [
       "'Hello'"
      ]
     },
     "execution_count": 33,
     "metadata": {},
     "output_type": "execute_result"
    }
   ],
   "source": [
    "str1"
   ]
  },
  {
   "cell_type": "code",
   "execution_count": 34,
   "id": "82d65fe9-b8f6-499e-9f14-c3d43bcf3beb",
   "metadata": {},
   "outputs": [
    {
     "data": {
      "text/plain": [
       "'Hell'"
      ]
     },
     "execution_count": 34,
     "metadata": {},
     "output_type": "execute_result"
    }
   ],
   "source": [
    "str1[0:4]"
   ]
  },
  {
   "cell_type": "code",
   "execution_count": 35,
   "id": "5c4406df-78de-459a-a721-1c9dcbc47f26",
   "metadata": {},
   "outputs": [
    {
     "data": {
      "text/plain": [
       "'Hell'"
      ]
     },
     "execution_count": 35,
     "metadata": {},
     "output_type": "execute_result"
    }
   ],
   "source": [
    "# 대괄호 안에 넣는 숫자 둘 중 하나를 생략할 수 있음\n",
    "# 생략하면 자동으로 가장 최대 위치(첫번째 글자 또는 마지막 글자)까지 지정\n",
    "str1[:4]"
   ]
  },
  {
   "cell_type": "code",
   "execution_count": 36,
   "id": "8cc80406-0b14-412e-b5a4-64bd81f17cbe",
   "metadata": {},
   "outputs": [
    {
     "data": {
      "text/plain": [
       "'Hell'"
      ]
     },
     "execution_count": 36,
     "metadata": {},
     "output_type": "execute_result"
    }
   ],
   "source": [
    "str1[:-1]"
   ]
  },
  {
   "cell_type": "code",
   "execution_count": 37,
   "id": "57538418-df9e-4707-b190-9e50a0d7fbd4",
   "metadata": {},
   "outputs": [
    {
     "data": {
      "text/plain": [
       "'Hello'"
      ]
     },
     "execution_count": 37,
     "metadata": {},
     "output_type": "execute_result"
    }
   ],
   "source": [
    "str1[0:]"
   ]
  },
  {
   "cell_type": "code",
   "execution_count": 38,
   "id": "ef670072-d2ae-4ab6-8a43-6d2f94667ce7",
   "metadata": {},
   "outputs": [
    {
     "data": {
      "text/plain": [
       "'ello'"
      ]
     },
     "execution_count": 38,
     "metadata": {},
     "output_type": "execute_result"
    }
   ],
   "source": [
    "str1[1:5]"
   ]
  },
  {
   "cell_type": "markdown",
   "id": "ab06a48a-a3c9-4cd3-a81d-e93274f91e2e",
   "metadata": {},
   "source": [
    "## 문자열 포매팅(Formatting)"
   ]
  },
  {
   "cell_type": "code",
   "execution_count": 42,
   "id": "af44041b-4b67-47fb-85d9-4ff2a436adc4",
   "metadata": {},
   "outputs": [
    {
     "name": "stdout",
     "output_type": "stream",
     "text": [
      "3 + 4 = 7\n",
      "3.141592\n",
      "3.1416\n",
      "    3\n",
      "00003\n"
     ]
    }
   ],
   "source": [
    "a = 3\n",
    "b = 4\n",
    "pi = 3.141592\n",
    "\n",
    "# 문자열 포맷 코드\n",
    "print(\"%d + %d = %d\"%(a, b, (a + b)))\n",
    "\n",
    "# 문자열 포맷 코드에서 소숫점 표현\n",
    "print(\"%f\"%pi)\n",
    "print(\"%0.4f\"%pi)\n",
    "\n",
    "# 특정 칸에 출력하기\n",
    "print(\"%5d\"%a)\n",
    "\n",
    "# 빈칸을 0으로 채우기\n",
    "print(\"%05d\"%a)"
   ]
  },
  {
   "cell_type": "code",
   "execution_count": 47,
   "id": "a1a59a25-19c6-4117-9478-f340fb06598a",
   "metadata": {},
   "outputs": [
    {
     "name": "stdout",
     "output_type": "stream",
     "text": [
      "3 + 4 = 7\n",
      "I ate 10 apples. so I was sick for 3 days\n",
      "3.1416\n",
      "    3\n",
      "00003\n"
     ]
    }
   ],
   "source": [
    "# format 함수\n",
    "print(\"{0} + {1} = {2}\".format(a, b, (a + b)))\n",
    "\n",
    "# 이름으로 값 넣기\n",
    "print(\"I ate {num} apples. so I was sick for {day} days\".format(num = 10, day = 3))\n",
    "\n",
    "# 소수점 표현\n",
    "print(\"{0:0.4f}\".format(pi))\n",
    "\n",
    "# 특정 칸에 출력하기\n",
    "print(\"{0:5d}\".format(a))\n",
    "\n",
    "# 빈칸을 0으로 채우기\n",
    "print(\"{0:05d}\".format(a))"
   ]
  },
  {
   "cell_type": "code",
   "execution_count": 51,
   "id": "44174525-2163-4b7d-8f32-6049891c5dc5",
   "metadata": {},
   "outputs": [
    {
     "name": "stdout",
     "output_type": "stream",
     "text": [
      "3 + 4 = 7\n",
      "3.1416\n",
      "    3\n",
      "00003\n"
     ]
    }
   ],
   "source": [
    "# f-string(3.6이상버전 부터 사용가능)\n",
    "print(f\"{a} + {b} = {a + b}\")\n",
    "\n",
    "# 소수점 표현\n",
    "print(f\"{pi:0.4f}\")\n",
    "\n",
    "# 특정 칸에 출력\n",
    "print(f\"{a:5d}\")\n",
    "\n",
    "# 빈칸을 0으로 채우기\n",
    "print(f\"{a:05d}\")"
   ]
  },
  {
   "cell_type": "markdown",
   "id": "11a27115-3993-42b5-a7eb-0c30d8612b13",
   "metadata": {},
   "source": [
    "### 문자열 관련 함수"
   ]
  },
  {
   "cell_type": "code",
   "execution_count": 52,
   "id": "df8b4703-175c-41d9-9679-ce8dd1547f3b",
   "metadata": {},
   "outputs": [],
   "source": [
    "str1 = \"hobby\""
   ]
  },
  {
   "cell_type": "code",
   "execution_count": 53,
   "id": "04428556-00a2-4e16-ad80-d8d8423d4336",
   "metadata": {},
   "outputs": [
    {
     "data": {
      "text/plain": [
       "2"
      ]
     },
     "execution_count": 53,
     "metadata": {},
     "output_type": "execute_result"
    }
   ],
   "source": [
    "# 문자 개수 세기\n",
    "str1.count(\"b\")"
   ]
  },
  {
   "cell_type": "code",
   "execution_count": 54,
   "id": "37f4f0b5-ca9b-452b-ab0f-64650a0f0b1b",
   "metadata": {},
   "outputs": [
    {
     "data": {
      "text/plain": [
       "2"
      ]
     },
     "execution_count": 54,
     "metadata": {},
     "output_type": "execute_result"
    }
   ],
   "source": [
    "# 위치찾기1\n",
    "# 검색하는 문자가 처음으로 나온 위치 반환\n",
    "str1.find(\"b\")"
   ]
  },
  {
   "cell_type": "code",
   "execution_count": 55,
   "id": "c9fca3c1-45f2-4265-baba-2564fb37ed67",
   "metadata": {},
   "outputs": [
    {
     "data": {
      "text/plain": [
       "-1"
      ]
     },
     "execution_count": 55,
     "metadata": {},
     "output_type": "execute_result"
    }
   ],
   "source": [
    "# 검색하는 문자가 존재하지 않는 경우 -1 반환\n",
    "str1.find(\"a\")"
   ]
  },
  {
   "cell_type": "code",
   "execution_count": 56,
   "id": "531abd43-9b4e-4bb7-9ca8-719614d7429c",
   "metadata": {},
   "outputs": [
    {
     "data": {
      "text/plain": [
       "2"
      ]
     },
     "execution_count": 56,
     "metadata": {},
     "output_type": "execute_result"
    }
   ],
   "source": [
    "# 위치 찾기2\n",
    "str1.index(\"b\")"
   ]
  },
  {
   "cell_type": "code",
   "execution_count": 57,
   "id": "7e66756e-6559-46b2-b93e-4e08500bf654",
   "metadata": {},
   "outputs": [
    {
     "ename": "ValueError",
     "evalue": "substring not found",
     "output_type": "error",
     "traceback": [
      "\u001b[0;31m---------------------------------------------------------------------------\u001b[0m",
      "\u001b[0;31mValueError\u001b[0m                                Traceback (most recent call last)",
      "Cell \u001b[0;32mIn[57], line 2\u001b[0m\n\u001b[1;32m      1\u001b[0m \u001b[38;5;66;03m# 검색하는 문자가 존재하지 않는 경우 에러 발생\u001b[39;00m\n\u001b[0;32m----> 2\u001b[0m \u001b[43mstr1\u001b[49m\u001b[38;5;241;43m.\u001b[39;49m\u001b[43mindex\u001b[49m\u001b[43m(\u001b[49m\u001b[38;5;124;43m\"\u001b[39;49m\u001b[38;5;124;43ma\u001b[39;49m\u001b[38;5;124;43m\"\u001b[39;49m\u001b[43m)\u001b[49m\n",
      "\u001b[0;31mValueError\u001b[0m: substring not found"
     ]
    }
   ],
   "source": [
    "# 검색하는 문자가 존재하지 않는 경우 에러 발생\n",
    "str1.index(\"a\")"
   ]
  },
  {
   "cell_type": "code",
   "execution_count": 58,
   "id": "12bb5617-8b3a-42ba-802f-15b2d077fa0b",
   "metadata": {},
   "outputs": [
    {
     "data": {
      "text/plain": [
       "'a,b,c,d'"
      ]
     },
     "execution_count": 58,
     "metadata": {},
     "output_type": "execute_result"
    }
   ],
   "source": [
    "# 문자열 삽입\n",
    "\",\".join(\"abcd\")"
   ]
  },
  {
   "cell_type": "code",
   "execution_count": 59,
   "id": "f4998b0f-6699-46b6-9d8e-b90732271735",
   "metadata": {},
   "outputs": [
    {
     "name": "stdout",
     "output_type": "stream",
     "text": [
      "HELLO\n",
      "hello\n"
     ]
    }
   ],
   "source": [
    "# 대소문자 변환\n",
    "print(\"hello\".upper())\n",
    "print(\"HELLO\".lower())"
   ]
  },
  {
   "cell_type": "code",
   "execution_count": 63,
   "id": "6b3dd9ce-5172-4190-9427-2c184a61dbe0",
   "metadata": {},
   "outputs": [
    {
     "data": {
      "text/plain": [
       "'hello'"
      ]
     },
     "execution_count": 63,
     "metadata": {},
     "output_type": "execute_result"
    }
   ],
   "source": [
    "# 공백 제거\n",
    "\" hello \".strip()"
   ]
  },
  {
   "cell_type": "code",
   "execution_count": 66,
   "id": "9a8c92a6-8965-4bf9-8827-38f8128b3b6f",
   "metadata": {},
   "outputs": [
    {
     "data": {
      "text/plain": [
       "'python'"
      ]
     },
     "execution_count": 66,
     "metadata": {},
     "output_type": "execute_result"
    }
   ],
   "source": [
    "# 문자열 치환\n",
    "str1 = \"pithon\"\n",
    "str1.replace(\"i\", \"y\")"
   ]
  },
  {
   "cell_type": "code",
   "execution_count": 68,
   "id": "23bb31a0-61c1-448c-95d8-f2457d18efec",
   "metadata": {},
   "outputs": [
    {
     "data": {
      "text/plain": [
       "['Life', 'is', 'too', 'short']"
      ]
     },
     "execution_count": 68,
     "metadata": {},
     "output_type": "execute_result"
    }
   ],
   "source": [
    "# 문자열 나누기\n",
    "str1 = \"Life is too short\"\n",
    "str1.split()"
   ]
  },
  {
   "cell_type": "code",
   "execution_count": 69,
   "id": "ced73038-ef27-4e13-806e-1bbc2bddb724",
   "metadata": {},
   "outputs": [
    {
     "data": {
      "text/plain": [
       "['a', 'b', 'c', 'd']"
      ]
     },
     "execution_count": 69,
     "metadata": {},
     "output_type": "execute_result"
    }
   ],
   "source": [
    "str2 = \"a:b:c:d\"\n",
    "str2.split(\":\")"
   ]
  },
  {
   "cell_type": "code",
   "execution_count": 70,
   "id": "b1fe47e0-4954-47aa-9189-e46d61b484ce",
   "metadata": {},
   "outputs": [
    {
     "data": {
      "text/plain": [
       "5"
      ]
     },
     "execution_count": 70,
     "metadata": {},
     "output_type": "execute_result"
    }
   ],
   "source": [
    "# 문자열 길이 구하기\n",
    "len(\"안녕하세요\")"
   ]
  },
  {
   "cell_type": "markdown",
   "id": "8f294786-ea7b-4115-8f01-49da9f4e7742",
   "metadata": {},
   "source": [
    "# 불 자료형(Boolean)\n",
    "- 참(True)과 거짓(False)을 나타내는 자료형\n",
    "    - 어떤 명제의 결과를 표현\n",
    "\n",
    "- 불린 또는 불리언이라는 발음으로 표현\n",
    "    - 프로그래밍 에서는 짧게 bool 이라고 쓰기도 한다"
   ]
  },
  {
   "cell_type": "code",
   "execution_count": 74,
   "id": "2f5e4f8b-001d-4a3f-a1da-ba75da032152",
   "metadata": {},
   "outputs": [
    {
     "name": "stdout",
     "output_type": "stream",
     "text": [
      "True\n",
      "<class 'bool'>\n",
      "False\n",
      "<class 'bool'>\n"
     ]
    }
   ],
   "source": [
    "a = True\n",
    "b = False\n",
    "\n",
    "print(a)\n",
    "print(type(a))\n",
    "print(b)\n",
    "print(type(b))"
   ]
  },
  {
   "cell_type": "markdown",
   "id": "02d85c84-610e-4813-9490-9166d4b987be",
   "metadata": {},
   "source": [
    "### 불 연산"
   ]
  },
  {
   "cell_type": "markdown",
   "id": "c5044519-34c8-4de7-91cf-693194ddc0e7",
   "metadata": {},
   "source": [
    "### 비교 연산자\n",
    "- == : 같다\n",
    "- != : 다르다\n",
    "- <,> : 크다, 작다\n",
    "- <=, >= : 작거나 같다, 크거나 같다"
   ]
  },
  {
   "cell_type": "code",
   "execution_count": 75,
   "id": "2e198035-8019-468f-a443-ee79f0c626b3",
   "metadata": {},
   "outputs": [
    {
     "data": {
      "text/plain": [
       "True"
      ]
     },
     "execution_count": 75,
     "metadata": {},
     "output_type": "execute_result"
    }
   ],
   "source": [
    "1 == 1"
   ]
  },
  {
   "cell_type": "code",
   "execution_count": 76,
   "id": "f55d7109-ed5b-414b-8532-06986cbc7216",
   "metadata": {},
   "outputs": [
    {
     "data": {
      "text/plain": [
       "False"
      ]
     },
     "execution_count": 76,
     "metadata": {},
     "output_type": "execute_result"
    }
   ],
   "source": [
    "1 != 1"
   ]
  },
  {
   "cell_type": "code",
   "execution_count": 77,
   "id": "74399552-42b5-43f6-aa4d-63d10df6d3b9",
   "metadata": {},
   "outputs": [
    {
     "data": {
      "text/plain": [
       "True"
      ]
     },
     "execution_count": 77,
     "metadata": {},
     "output_type": "execute_result"
    }
   ],
   "source": [
    "2 > 1"
   ]
  },
  {
   "cell_type": "code",
   "execution_count": 78,
   "id": "c2f47f3e-4c8c-4d84-b054-1abacbda3195",
   "metadata": {},
   "outputs": [
    {
     "data": {
      "text/plain": [
       "False"
      ]
     },
     "execution_count": 78,
     "metadata": {},
     "output_type": "execute_result"
    }
   ],
   "source": [
    "2 < 1"
   ]
  },
  {
   "cell_type": "code",
   "execution_count": 79,
   "id": "8abb0680-f096-48be-9371-38ec487b1783",
   "metadata": {},
   "outputs": [
    {
     "data": {
      "text/plain": [
       "True"
      ]
     },
     "execution_count": 79,
     "metadata": {},
     "output_type": "execute_result"
    }
   ],
   "source": [
    "bool(\"Python\")"
   ]
  },
  {
   "cell_type": "code",
   "execution_count": 80,
   "id": "b2cdfef2-696e-4cac-881b-ad590b03a0ed",
   "metadata": {},
   "outputs": [
    {
     "data": {
      "text/plain": [
       "False"
      ]
     },
     "execution_count": 80,
     "metadata": {},
     "output_type": "execute_result"
    }
   ],
   "source": [
    "bool()"
   ]
  },
  {
   "cell_type": "code",
   "execution_count": 81,
   "id": "7ad62bc0-0d74-4ee0-b19a-2a7072486a5c",
   "metadata": {},
   "outputs": [
    {
     "data": {
      "text/plain": [
       "True"
      ]
     },
     "execution_count": 81,
     "metadata": {},
     "output_type": "execute_result"
    }
   ],
   "source": [
    "bool([1, 2, 3])"
   ]
  },
  {
   "cell_type": "code",
   "execution_count": 82,
   "id": "40a46add-e920-4e4e-9a28-e57f8742b1e7",
   "metadata": {},
   "outputs": [
    {
     "data": {
      "text/plain": [
       "True"
      ]
     },
     "execution_count": 82,
     "metadata": {},
     "output_type": "execute_result"
    }
   ],
   "source": [
    "bool(1)"
   ]
  },
  {
   "cell_type": "code",
   "execution_count": 83,
   "id": "ae6b5c0e-16c9-477c-a905-608a47fa39f0",
   "metadata": {},
   "outputs": [
    {
     "data": {
      "text/plain": [
       "False"
      ]
     },
     "execution_count": 83,
     "metadata": {},
     "output_type": "execute_result"
    }
   ],
   "source": [
    "bool(0)"
   ]
  },
  {
   "cell_type": "code",
   "execution_count": 84,
   "id": "8acb43dd-be24-4f55-b2f1-789fa8039893",
   "metadata": {},
   "outputs": [
    {
     "data": {
      "text/plain": [
       "1"
      ]
     },
     "execution_count": 84,
     "metadata": {},
     "output_type": "execute_result"
    }
   ],
   "source": [
    "int(True)"
   ]
  },
  {
   "cell_type": "code",
   "execution_count": 85,
   "id": "eb6d1220-9551-4fd7-b708-e27fafa76d21",
   "metadata": {},
   "outputs": [
    {
     "data": {
      "text/plain": [
       "0"
      ]
     },
     "execution_count": 85,
     "metadata": {},
     "output_type": "execute_result"
    }
   ],
   "source": [
    "int(False)"
   ]
  },
  {
   "cell_type": "code",
   "execution_count": 86,
   "id": "99f7653e-b169-4b42-a1e3-33ccde93043b",
   "metadata": {},
   "outputs": [
    {
     "data": {
      "text/plain": [
       "False"
      ]
     },
     "execution_count": 86,
     "metadata": {},
     "output_type": "execute_result"
    }
   ],
   "source": [
    "bool(None)"
   ]
  },
  {
   "cell_type": "code",
   "execution_count": 88,
   "id": "f31cd2ef-bde7-40ae-82b9-a2e1b216cbe5",
   "metadata": {},
   "outputs": [
    {
     "name": "stdout",
     "output_type": "stream",
     "text": [
      "True\n",
      "False\n"
     ]
    }
   ],
   "source": [
    "# 문자열에 비교 연산자를 적용하면 한글은 사전순서로 앞에 있는 것이 작은 값을 가진다.\n",
    "print(\"가방\" < \"하마\")\n",
    "print(\"가방\" > \"하마\")"
   ]
  },
  {
   "cell_type": "markdown",
   "id": "f1150738-6727-4c75-a469-78057df48eb6",
   "metadata": {},
   "source": [
    "### 논리 연산자\n",
    "- not : 불을 반대로 전환\n",
    "- and : 두 값이 모두 참일때 True 를 출력하고, 그 이외에는 모두 False를 출력\n",
    "- or : 두 값중 하나만 참이어도 True를 출력하고, 두 값이 모두 거짓일 때만 False 를 출력"
   ]
  },
  {
   "cell_type": "code",
   "execution_count": 90,
   "id": "08cbe469-94a7-472f-8ee8-143bc16c8679",
   "metadata": {},
   "outputs": [
    {
     "name": "stdout",
     "output_type": "stream",
     "text": [
      "False\n",
      "True\n"
     ]
    }
   ],
   "source": [
    "print(not True)\n",
    "print(not False)"
   ]
  },
  {
   "cell_type": "code",
   "execution_count": 93,
   "id": "07c0a1f9-7527-448f-b4af-6d441bcf65c6",
   "metadata": {},
   "outputs": [
    {
     "name": "stdout",
     "output_type": "stream",
     "text": [
      "True\n",
      "False\n",
      "False\n",
      "False\n"
     ]
    }
   ],
   "source": [
    "print(True and True)\n",
    "print(True and False)\n",
    "print(False and True)\n",
    "print(False and False)"
   ]
  },
  {
   "cell_type": "code",
   "execution_count": 92,
   "id": "05f6fab0-eae1-4603-b55a-753a2fe6c1c7",
   "metadata": {},
   "outputs": [
    {
     "name": "stdout",
     "output_type": "stream",
     "text": [
      "True\n",
      "True\n",
      "True\n",
      "False\n"
     ]
    }
   ],
   "source": [
    "print(True or True)\n",
    "print(True or False)\n",
    "print(False or True)\n",
    "print(False or False)"
   ]
  },
  {
   "cell_type": "markdown",
   "id": "9583f664-ee82-411e-8fc1-f174a93f5ba8",
   "metadata": {},
   "source": [
    "### 확인 문제"
   ]
  },
  {
   "cell_type": "code",
   "execution_count": 95,
   "id": "2a9ae160-4b0c-45fe-927e-0b0fd5532b4c",
   "metadata": {},
   "outputs": [
    {
     "name": "stdout",
     "output_type": "stream",
     "text": [
      "False\n"
     ]
    }
   ],
   "source": [
    "# 1.자연수를 입력받아 홀수인지 짝수인지 판별\n",
    "num = 13\n",
    "print(num % 2 == 0)"
   ]
  },
  {
   "cell_type": "code",
   "execution_count": 101,
   "id": "811e37c0-0103-483f-aa72-bc2a2661c4ef",
   "metadata": {
    "tags": []
   },
   "outputs": [
    {
     "name": "stdout",
     "output_type": "stream",
     "text": [
      "생년월일 : 881120\n",
      "성별 : 1\n",
      "생년월일 : 881120\n",
      "성별 : 1\n"
     ]
    }
   ],
   "source": [
    "# 2.주민등록 번호에서 생년월일과 성별 추출하기\n",
    "hong = \"881120-1068234\"\n",
    "birth = hong.split(\"-\")[0]\n",
    "gender = hong.split(\"-\")[1][:1]\n",
    "print(\"생년월일 : \" + birth)\n",
    "print(\"성별 : \" + gender)\n",
    "\n",
    "print(\"생년월일 : \" + hong[:6])\n",
    "print(\"성별 : \" + hong[7])"
   ]
  },
  {
   "cell_type": "code",
   "execution_count": null,
   "id": "5cc383f9-78c2-4139-9977-78a5d7a44718",
   "metadata": {},
   "outputs": [],
   "source": []
  },
  {
   "cell_type": "code",
   "execution_count": null,
   "id": "08f3223d-aa18-43b5-9295-a9c88b934194",
   "metadata": {},
   "outputs": [],
   "source": []
  },
  {
   "cell_type": "code",
   "execution_count": null,
   "id": "f6f2efff-399e-44fd-aebd-f9925502d881",
   "metadata": {},
   "outputs": [],
   "source": []
  },
  {
   "cell_type": "code",
   "execution_count": null,
   "id": "3adead7f-97fa-4a8a-a371-e275869127ca",
   "metadata": {},
   "outputs": [],
   "source": []
  },
  {
   "cell_type": "code",
   "execution_count": null,
   "id": "3fe26b87-eb9e-468e-9f23-2e3af62c8014",
   "metadata": {},
   "outputs": [],
   "source": []
  },
  {
   "cell_type": "code",
   "execution_count": null,
   "id": "015fddcf-44c6-485a-af4f-acc75b7face5",
   "metadata": {},
   "outputs": [],
   "source": []
  },
  {
   "cell_type": "code",
   "execution_count": null,
   "id": "151f9f05-f2f4-4704-80af-ed06361edad7",
   "metadata": {},
   "outputs": [],
   "source": []
  },
  {
   "cell_type": "code",
   "execution_count": null,
   "id": "0dd949e6-3144-4d27-a42d-32f3cf7c3629",
   "metadata": {},
   "outputs": [],
   "source": []
  },
  {
   "cell_type": "code",
   "execution_count": null,
   "id": "e57db235-a903-4613-9ebb-73befad868bd",
   "metadata": {},
   "outputs": [],
   "source": []
  },
  {
   "cell_type": "code",
   "execution_count": null,
   "id": "130ff1b0-3893-428b-9e1a-bcb618a0d157",
   "metadata": {},
   "outputs": [],
   "source": []
  },
  {
   "cell_type": "code",
   "execution_count": null,
   "id": "703df281-6c46-4cf3-ad20-ef8727233f12",
   "metadata": {},
   "outputs": [],
   "source": []
  }
 ],
 "metadata": {
  "kernelspec": {
   "display_name": "Python 3 (ipykernel)",
   "language": "python",
   "name": "python3"
  },
  "language_info": {
   "codemirror_mode": {
    "name": "ipython",
    "version": 3
   },
   "file_extension": ".py",
   "mimetype": "text/x-python",
   "name": "python",
   "nbconvert_exporter": "python",
   "pygments_lexer": "ipython3",
   "version": "3.10.9"
  }
 },
 "nbformat": 4,
 "nbformat_minor": 5
}
