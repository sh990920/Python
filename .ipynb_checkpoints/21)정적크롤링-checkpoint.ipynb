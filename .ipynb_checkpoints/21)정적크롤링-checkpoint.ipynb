{
 "cells": [
  {
   "cell_type": "markdown",
   "id": "84a56eb7-9a5d-4d8c-b9cf-43428c92d3f7",
   "metadata": {},
   "source": [
    "# 정적 크롤링 모듈"
   ]
  },
  {
   "cell_type": "code",
   "execution_count": 1,
   "id": "6ed4299b-459b-4e21-bf73-5a2f2ae3b731",
   "metadata": {},
   "outputs": [],
   "source": [
    "from bs4 import BeautifulSoup\n",
    "from urllib.request import urlopen"
   ]
  },
  {
   "cell_type": "markdown",
   "id": "2c7dbe43-811a-4f49-96c7-febc01754b41",
   "metadata": {},
   "source": [
    "- 요청 모듈로 가져온 HTML 코드를 파이썬이 쓸 수 있는 형태로 변환해주는 역할"
   ]
  },
  {
   "cell_type": "code",
   "execution_count": 2,
   "id": "34e33b07-af10-411a-b093-09d7cefbac6d",
   "metadata": {
    "collapsed": true,
    "jupyter": {
     "outputs_hidden": true
    },
    "tags": []
   },
   "outputs": [
    {
     "ename": "KeyboardInterrupt",
     "evalue": "",
     "output_type": "error",
     "traceback": [
      "\u001b[0;31m---------------------------------------------------------------------------\u001b[0m",
      "\u001b[0;31mKeyboardInterrupt\u001b[0m                         Traceback (most recent call last)",
      "Cell \u001b[0;32mIn[2], line 14\u001b[0m\n\u001b[1;32m      6\u001b[0m page \u001b[38;5;241m=\u001b[39m urlopen(url)\n\u001b[1;32m      8\u001b[0m \u001b[38;5;66;03m# html 코드 정보가 BeautifulSoup이 해석해서\u001b[39;00m\n\u001b[1;32m      9\u001b[0m \u001b[38;5;66;03m# 파이썬이 사용할 수 있는 html로 변경한 후 soup 변수에 담는다.\u001b[39;00m\n\u001b[1;32m     10\u001b[0m \u001b[38;5;66;03m# lxml : parser 의 한 종류이다.\u001b[39;00m\n\u001b[1;32m     11\u001b[0m \u001b[38;5;66;03m# parser\u001b[39;00m\n\u001b[1;32m     12\u001b[0m \u001b[38;5;66;03m# 데이터를 원하는 형태로 정보를 가공해주는 프로그램\u001b[39;00m\n\u001b[1;32m     13\u001b[0m \u001b[38;5;66;03m# 특정 패턴 규칙 순서로 가공한다.\u001b[39;00m\n\u001b[0;32m---> 14\u001b[0m soup \u001b[38;5;241m=\u001b[39m \u001b[43mBeautifulSoup\u001b[49m\u001b[43m(\u001b[49m\u001b[43mpage\u001b[49m\u001b[43m,\u001b[49m\u001b[43m \u001b[49m\u001b[38;5;124;43m\"\u001b[39;49m\u001b[38;5;124;43mlxml\u001b[39;49m\u001b[38;5;124;43m\"\u001b[39;49m\u001b[43m)\u001b[49m\n",
      "File \u001b[0;32m~/anaconda3/lib/python3.10/site-packages/bs4/__init__.py:312\u001b[0m, in \u001b[0;36mBeautifulSoup.__init__\u001b[0;34m(self, markup, features, builder, parse_only, from_encoding, exclude_encodings, element_classes, **kwargs)\u001b[0m\n\u001b[1;32m    309\u001b[0m \u001b[38;5;28mself\u001b[39m\u001b[38;5;241m.\u001b[39mparse_only \u001b[38;5;241m=\u001b[39m parse_only\n\u001b[1;32m    311\u001b[0m \u001b[38;5;28;01mif\u001b[39;00m \u001b[38;5;28mhasattr\u001b[39m(markup, \u001b[38;5;124m'\u001b[39m\u001b[38;5;124mread\u001b[39m\u001b[38;5;124m'\u001b[39m):        \u001b[38;5;66;03m# It's a file-type object.\u001b[39;00m\n\u001b[0;32m--> 312\u001b[0m     markup \u001b[38;5;241m=\u001b[39m \u001b[43mmarkup\u001b[49m\u001b[38;5;241;43m.\u001b[39;49m\u001b[43mread\u001b[49m\u001b[43m(\u001b[49m\u001b[43m)\u001b[49m\n\u001b[1;32m    313\u001b[0m \u001b[38;5;28;01melif\u001b[39;00m \u001b[38;5;28mlen\u001b[39m(markup) \u001b[38;5;241m<\u001b[39m\u001b[38;5;241m=\u001b[39m \u001b[38;5;241m256\u001b[39m \u001b[38;5;129;01mand\u001b[39;00m (\n\u001b[1;32m    314\u001b[0m         (\u001b[38;5;28misinstance\u001b[39m(markup, \u001b[38;5;28mbytes\u001b[39m) \u001b[38;5;129;01mand\u001b[39;00m \u001b[38;5;129;01mnot\u001b[39;00m \u001b[38;5;124mb\u001b[39m\u001b[38;5;124m'\u001b[39m\u001b[38;5;124m<\u001b[39m\u001b[38;5;124m'\u001b[39m \u001b[38;5;129;01min\u001b[39;00m markup)\n\u001b[1;32m    315\u001b[0m         \u001b[38;5;129;01mor\u001b[39;00m (\u001b[38;5;28misinstance\u001b[39m(markup, \u001b[38;5;28mstr\u001b[39m) \u001b[38;5;129;01mand\u001b[39;00m \u001b[38;5;129;01mnot\u001b[39;00m \u001b[38;5;124m'\u001b[39m\u001b[38;5;124m<\u001b[39m\u001b[38;5;124m'\u001b[39m \u001b[38;5;129;01min\u001b[39;00m markup)\n\u001b[0;32m   (...)\u001b[0m\n\u001b[1;32m    319\u001b[0m     \u001b[38;5;66;03m# Beautiful Soup will still parse the input as markup,\u001b[39;00m\n\u001b[1;32m    320\u001b[0m     \u001b[38;5;66;03m# since that is sometimes the intended behavior.\u001b[39;00m\n\u001b[1;32m    321\u001b[0m     \u001b[38;5;28;01mif\u001b[39;00m \u001b[38;5;129;01mnot\u001b[39;00m \u001b[38;5;28mself\u001b[39m\u001b[38;5;241m.\u001b[39m_markup_is_url(markup):\n",
      "File \u001b[0;32m~/anaconda3/lib/python3.10/http/client.py:459\u001b[0m, in \u001b[0;36mHTTPResponse.read\u001b[0;34m(self, amt)\u001b[0m\n\u001b[1;32m    456\u001b[0m     \u001b[38;5;28;01mreturn\u001b[39;00m \u001b[38;5;124mb\u001b[39m\u001b[38;5;124m\"\u001b[39m\u001b[38;5;124m\"\u001b[39m\n\u001b[1;32m    458\u001b[0m \u001b[38;5;28;01mif\u001b[39;00m \u001b[38;5;28mself\u001b[39m\u001b[38;5;241m.\u001b[39mchunked:\n\u001b[0;32m--> 459\u001b[0m     \u001b[38;5;28;01mreturn\u001b[39;00m \u001b[38;5;28;43mself\u001b[39;49m\u001b[38;5;241;43m.\u001b[39;49m\u001b[43m_read_chunked\u001b[49m\u001b[43m(\u001b[49m\u001b[43mamt\u001b[49m\u001b[43m)\u001b[49m\n\u001b[1;32m    461\u001b[0m \u001b[38;5;28;01mif\u001b[39;00m amt \u001b[38;5;129;01mis\u001b[39;00m \u001b[38;5;129;01mnot\u001b[39;00m \u001b[38;5;28;01mNone\u001b[39;00m:\n\u001b[1;32m    462\u001b[0m     \u001b[38;5;28;01mif\u001b[39;00m \u001b[38;5;28mself\u001b[39m\u001b[38;5;241m.\u001b[39mlength \u001b[38;5;129;01mis\u001b[39;00m \u001b[38;5;129;01mnot\u001b[39;00m \u001b[38;5;28;01mNone\u001b[39;00m \u001b[38;5;129;01mand\u001b[39;00m amt \u001b[38;5;241m>\u001b[39m \u001b[38;5;28mself\u001b[39m\u001b[38;5;241m.\u001b[39mlength:\n\u001b[1;32m    463\u001b[0m         \u001b[38;5;66;03m# clip the read to the \"end of response\"\u001b[39;00m\n",
      "File \u001b[0;32m~/anaconda3/lib/python3.10/http/client.py:591\u001b[0m, in \u001b[0;36mHTTPResponse._read_chunked\u001b[0;34m(self, amt)\u001b[0m\n\u001b[1;32m    588\u001b[0m     \u001b[38;5;28mself\u001b[39m\u001b[38;5;241m.\u001b[39mchunk_left \u001b[38;5;241m=\u001b[39m chunk_left \u001b[38;5;241m-\u001b[39m amt\n\u001b[1;32m    589\u001b[0m     \u001b[38;5;28;01mbreak\u001b[39;00m\n\u001b[0;32m--> 591\u001b[0m value\u001b[38;5;241m.\u001b[39mappend(\u001b[38;5;28;43mself\u001b[39;49m\u001b[38;5;241;43m.\u001b[39;49m\u001b[43m_safe_read\u001b[49m\u001b[43m(\u001b[49m\u001b[43mchunk_left\u001b[49m\u001b[43m)\u001b[49m)\n\u001b[1;32m    592\u001b[0m \u001b[38;5;28;01mif\u001b[39;00m amt \u001b[38;5;129;01mis\u001b[39;00m \u001b[38;5;129;01mnot\u001b[39;00m \u001b[38;5;28;01mNone\u001b[39;00m:\n\u001b[1;32m    593\u001b[0m     amt \u001b[38;5;241m-\u001b[39m\u001b[38;5;241m=\u001b[39m chunk_left\n",
      "File \u001b[0;32m~/anaconda3/lib/python3.10/http/client.py:630\u001b[0m, in \u001b[0;36mHTTPResponse._safe_read\u001b[0;34m(self, amt)\u001b[0m\n\u001b[1;32m    623\u001b[0m \u001b[38;5;28;01mdef\u001b[39;00m \u001b[38;5;21m_safe_read\u001b[39m(\u001b[38;5;28mself\u001b[39m, amt):\n\u001b[1;32m    624\u001b[0m     \u001b[38;5;124;03m\"\"\"Read the number of bytes requested.\u001b[39;00m\n\u001b[1;32m    625\u001b[0m \n\u001b[1;32m    626\u001b[0m \u001b[38;5;124;03m    This function should be used when <amt> bytes \"should\" be present for\u001b[39;00m\n\u001b[1;32m    627\u001b[0m \u001b[38;5;124;03m    reading. If the bytes are truly not available (due to EOF), then the\u001b[39;00m\n\u001b[1;32m    628\u001b[0m \u001b[38;5;124;03m    IncompleteRead exception can be used to detect the problem.\u001b[39;00m\n\u001b[1;32m    629\u001b[0m \u001b[38;5;124;03m    \"\"\"\u001b[39;00m\n\u001b[0;32m--> 630\u001b[0m     data \u001b[38;5;241m=\u001b[39m \u001b[38;5;28;43mself\u001b[39;49m\u001b[38;5;241;43m.\u001b[39;49m\u001b[43mfp\u001b[49m\u001b[38;5;241;43m.\u001b[39;49m\u001b[43mread\u001b[49m\u001b[43m(\u001b[49m\u001b[43mamt\u001b[49m\u001b[43m)\u001b[49m\n\u001b[1;32m    631\u001b[0m     \u001b[38;5;28;01mif\u001b[39;00m \u001b[38;5;28mlen\u001b[39m(data) \u001b[38;5;241m<\u001b[39m amt:\n\u001b[1;32m    632\u001b[0m         \u001b[38;5;28;01mraise\u001b[39;00m IncompleteRead(data, amt\u001b[38;5;241m-\u001b[39m\u001b[38;5;28mlen\u001b[39m(data))\n",
      "File \u001b[0;32m~/anaconda3/lib/python3.10/socket.py:705\u001b[0m, in \u001b[0;36mSocketIO.readinto\u001b[0;34m(self, b)\u001b[0m\n\u001b[1;32m    703\u001b[0m \u001b[38;5;28;01mwhile\u001b[39;00m \u001b[38;5;28;01mTrue\u001b[39;00m:\n\u001b[1;32m    704\u001b[0m     \u001b[38;5;28;01mtry\u001b[39;00m:\n\u001b[0;32m--> 705\u001b[0m         \u001b[38;5;28;01mreturn\u001b[39;00m \u001b[38;5;28;43mself\u001b[39;49m\u001b[38;5;241;43m.\u001b[39;49m\u001b[43m_sock\u001b[49m\u001b[38;5;241;43m.\u001b[39;49m\u001b[43mrecv_into\u001b[49m\u001b[43m(\u001b[49m\u001b[43mb\u001b[49m\u001b[43m)\u001b[49m\n\u001b[1;32m    706\u001b[0m     \u001b[38;5;28;01mexcept\u001b[39;00m timeout:\n\u001b[1;32m    707\u001b[0m         \u001b[38;5;28mself\u001b[39m\u001b[38;5;241m.\u001b[39m_timeout_occurred \u001b[38;5;241m=\u001b[39m \u001b[38;5;28;01mTrue\u001b[39;00m\n",
      "File \u001b[0;32m~/anaconda3/lib/python3.10/ssl.py:1274\u001b[0m, in \u001b[0;36mSSLSocket.recv_into\u001b[0;34m(self, buffer, nbytes, flags)\u001b[0m\n\u001b[1;32m   1270\u001b[0m     \u001b[38;5;28;01mif\u001b[39;00m flags \u001b[38;5;241m!=\u001b[39m \u001b[38;5;241m0\u001b[39m:\n\u001b[1;32m   1271\u001b[0m         \u001b[38;5;28;01mraise\u001b[39;00m \u001b[38;5;167;01mValueError\u001b[39;00m(\n\u001b[1;32m   1272\u001b[0m           \u001b[38;5;124m\"\u001b[39m\u001b[38;5;124mnon-zero flags not allowed in calls to recv_into() on \u001b[39m\u001b[38;5;132;01m%s\u001b[39;00m\u001b[38;5;124m\"\u001b[39m \u001b[38;5;241m%\u001b[39m\n\u001b[1;32m   1273\u001b[0m           \u001b[38;5;28mself\u001b[39m\u001b[38;5;241m.\u001b[39m\u001b[38;5;18m__class__\u001b[39m)\n\u001b[0;32m-> 1274\u001b[0m     \u001b[38;5;28;01mreturn\u001b[39;00m \u001b[38;5;28;43mself\u001b[39;49m\u001b[38;5;241;43m.\u001b[39;49m\u001b[43mread\u001b[49m\u001b[43m(\u001b[49m\u001b[43mnbytes\u001b[49m\u001b[43m,\u001b[49m\u001b[43m \u001b[49m\u001b[43mbuffer\u001b[49m\u001b[43m)\u001b[49m\n\u001b[1;32m   1275\u001b[0m \u001b[38;5;28;01melse\u001b[39;00m:\n\u001b[1;32m   1276\u001b[0m     \u001b[38;5;28;01mreturn\u001b[39;00m \u001b[38;5;28msuper\u001b[39m()\u001b[38;5;241m.\u001b[39mrecv_into(buffer, nbytes, flags)\n",
      "File \u001b[0;32m~/anaconda3/lib/python3.10/ssl.py:1130\u001b[0m, in \u001b[0;36mSSLSocket.read\u001b[0;34m(self, len, buffer)\u001b[0m\n\u001b[1;32m   1128\u001b[0m \u001b[38;5;28;01mtry\u001b[39;00m:\n\u001b[1;32m   1129\u001b[0m     \u001b[38;5;28;01mif\u001b[39;00m buffer \u001b[38;5;129;01mis\u001b[39;00m \u001b[38;5;129;01mnot\u001b[39;00m \u001b[38;5;28;01mNone\u001b[39;00m:\n\u001b[0;32m-> 1130\u001b[0m         \u001b[38;5;28;01mreturn\u001b[39;00m \u001b[38;5;28;43mself\u001b[39;49m\u001b[38;5;241;43m.\u001b[39;49m\u001b[43m_sslobj\u001b[49m\u001b[38;5;241;43m.\u001b[39;49m\u001b[43mread\u001b[49m\u001b[43m(\u001b[49m\u001b[38;5;28;43mlen\u001b[39;49m\u001b[43m,\u001b[49m\u001b[43m \u001b[49m\u001b[43mbuffer\u001b[49m\u001b[43m)\u001b[49m\n\u001b[1;32m   1131\u001b[0m     \u001b[38;5;28;01melse\u001b[39;00m:\n\u001b[1;32m   1132\u001b[0m         \u001b[38;5;28;01mreturn\u001b[39;00m \u001b[38;5;28mself\u001b[39m\u001b[38;5;241m.\u001b[39m_sslobj\u001b[38;5;241m.\u001b[39mread(\u001b[38;5;28mlen\u001b[39m)\n",
      "\u001b[0;31mKeyboardInterrupt\u001b[0m: "
     ]
    }
   ],
   "source": [
    "# url 정보를 url 변수에 담음\n",
    "url = \"http://www.naver.com\"\n",
    "\n",
    "# urlopen() 함수에서 url 정보를 담은 변수로\n",
    "# 해당 url에 보내서 page 정보를 가져온 후 page 변수에 담는다\n",
    "page = urlopen(url)\n",
    "\n",
    "# html 코드 정보가 BeautifulSoup이 해석해서\n",
    "# 파이썬이 사용할 수 있는 html로 변경한 후 soup 변수에 담는다.\n",
    "# lxml : parser 의 한 종류이다.\n",
    "# parser\n",
    "# 데이터를 원하는 형태로 정보를 가공해주는 프로그램\n",
    "# 특정 패턴 규칙 순서로 가공한다.\n",
    "soup = BeautifulSoup(page, \"lxml\")"
   ]
  },
  {
   "cell_type": "code",
   "execution_count": null,
   "id": "9246620b-c634-4b21-a2c7-13fbd07d5ee2",
   "metadata": {
    "tags": []
   },
   "outputs": [],
   "source": [
    "print(soup)"
   ]
  },
  {
   "cell_type": "markdown",
   "id": "8935fe19-7fe1-4ffc-9987-9540dd602276",
   "metadata": {},
   "source": [
    "## 파서\n",
    "- 내가 원하는 데이터를 특정 패턴이나 순서로 추출하여 정보를 가공해주는 프로그램\n",
    "    - lxml\n",
    "        - c언어로 구현되어 속도가 가장 빠르다\n",
    "    - html5lib\n",
    "        - 웹브라우저 형태로 HTML을 분석\n",
    "        - 속도가 가장 느림\n",
    "        - 가장 안정적임\n",
    "    - html.parser\n",
    "        - lxml 과 html5lib 의 중간 속도"
   ]
  },
  {
   "cell_type": "markdown",
   "id": "eca60f53-9e02-49f1-8f77-4ebbe255d846",
   "metadata": {},
   "source": [
    "## 속성 데이터"
   ]
  },
  {
   "cell_type": "markdown",
   "id": "cc2c6173-af2e-4037-9b5a-dc9bc2c4d8f6",
   "metadata": {},
   "source": [
    "<html>\n",
    "    <head>\n",
    "        <title class=\"t\" id=\"ti\">\n",
    "            test site\n",
    "        </title>\n",
    "    </head>\n",
    "    <body>\n",
    "        <p>\n",
    "            test\n",
    "        </p>\n",
    "        <p>\n",
    "            test1\n",
    "        </p>\n",
    "    </body>\n",
    "</html>\n",
    "- html\n",
    "    - head\n",
    "        - title\n",
    "    - body\n",
    "        - p\n",
    "        - p"
   ]
  },
  {
   "cell_type": "code",
   "execution_count": null,
   "id": "70ca0434-d6c7-4ef2-9b8a-f69db735da54",
   "metadata": {},
   "outputs": [],
   "source": [
    "html = \"\"\"<html> <head><title class=\"t\" id=\"ti\">test site</title></head> <body> <p>test</p> <p>test1</p> <p>test2</p> </body></html>\"\"\""
   ]
  },
  {
   "cell_type": "code",
   "execution_count": null,
   "id": "3fbb1825-4e67-463c-b2fd-c0b094bb8594",
   "metadata": {},
   "outputs": [],
   "source": [
    "soup = BeautifulSoup(html, \"lxml\")"
   ]
  },
  {
   "cell_type": "code",
   "execution_count": null,
   "id": "e7abed34-3eaf-447b-8d9d-4d24c7e5d515",
   "metadata": {},
   "outputs": [],
   "source": [
    "soup"
   ]
  },
  {
   "cell_type": "code",
   "execution_count": null,
   "id": "1a93113b-3b0d-4c98-86e0-85ec035e081f",
   "metadata": {},
   "outputs": [],
   "source": [
    "tag_title = soup.title\n",
    "print(tag_title)\n",
    "print(tag_title.attrs) # 태그의 속성 가져오기\n",
    "print(tag_title[\"class\"]) # 키가 없다면 에러 발생\n",
    "print(tag_title[\"id\"])"
   ]
  },
  {
   "cell_type": "code",
   "execution_count": null,
   "id": "8bd34c03-9d23-4c6b-b229-04234a500317",
   "metadata": {},
   "outputs": [],
   "source": [
    "print(tag_title[\"class1\"])"
   ]
  },
  {
   "cell_type": "code",
   "execution_count": null,
   "id": "535e56ab-caaf-4336-8834-6de821bfc6e8",
   "metadata": {},
   "outputs": [],
   "source": [
    "print(tag_title.get(\"class1\", \"default_value\"))"
   ]
  },
  {
   "cell_type": "code",
   "execution_count": null,
   "id": "622aaf72-74a6-4883-9fda-d4c5154823bb",
   "metadata": {},
   "outputs": [],
   "source": [
    "print(tag_title.get(\"class\", \"default_value\"))"
   ]
  },
  {
   "cell_type": "markdown",
   "id": "2a36ae54-dc70-4e63-ad74-31fb9668db0f",
   "metadata": {},
   "source": [
    "### 태그 접근\n",
    "- soup.태그이름 의 형태로 첫 번째로 등장하는 태그의 정보를 가져올 수 있음"
   ]
  },
  {
   "cell_type": "code",
   "execution_count": null,
   "id": "b94aac56-217b-474f-9a1c-d0eebb631d46",
   "metadata": {},
   "outputs": [],
   "source": [
    "tag_title = soup.title # title 태그\n",
    "\n",
    "print(tag_title)\n",
    "print(tag_title.text)\n",
    "print(tag_title.string)\n",
    "print(tag_title.name)"
   ]
  },
  {
   "cell_type": "code",
   "execution_count": null,
   "id": "b6d8ae59-9efa-4771-a61b-045776538476",
   "metadata": {},
   "outputs": [],
   "source": [
    "# text 와 string 의 차이\n",
    "tag_body = soup.body\n",
    "\n",
    "data_text = tag_body.text\n",
    "data_string = tag_body.stirng\n",
    "\n",
    "print(tag_body)\n",
    "print(\"text :\", data_text, type(data_text))\n",
    "print(\"string :\", data_string, type(data_string))"
   ]
  },
  {
   "cell_type": "markdown",
   "id": "c5304e4d-50d5-4716-89fc-029266d98f63",
   "metadata": {},
   "source": [
    "- text\n",
    "    - 하위 태그들의 값도 모두 출력\n",
    "- string\n",
    "    - 정확히 해당 태그에 대한 값만 출력"
   ]
  },
  {
   "cell_type": "code",
   "execution_count": null,
   "id": "ca061b24-f8d0-435b-ac13-8500b2321dae",
   "metadata": {},
   "outputs": [],
   "source": [
    "print(tag_body.p.string)"
   ]
  },
  {
   "cell_type": "markdown",
   "id": "e6484eef-8caf-4a11-9b50-4a1f5e0b4e27",
   "metadata": {},
   "source": [
    "## 원하는 요소에 접근하기"
   ]
  },
  {
   "cell_type": "markdown",
   "id": "ca53bca5-2811-4b0f-8cea-1575364f972d",
   "metadata": {},
   "source": [
    "### find_all()\n",
    "- 원하는 태그들을 리스트 형태로 가져오기"
   ]
  },
  {
   "cell_type": "markdown",
   "id": "039df9bb-8c4f-4122-8dc7-cf465434313d",
   "metadata": {},
   "source": [
    "- html\n",
    "    - head\n",
    "        - title\n",
    "    - body\n",
    "        - p\n",
    "        - p\n",
    "        - p\n",
    "        - a\n",
    "        - b"
   ]
  },
  {
   "cell_type": "code",
   "execution_count": 2,
   "id": "b984f7e9-867f-411d-bdfe-fe0db9699d70",
   "metadata": {},
   "outputs": [],
   "source": [
    "html = html = \"\"\"<html> <head><title>test site</title></head> <body> <p id=\"i\" class=\"a\">test1</p><p id=\"d\" class=\"d\">test2</p><p class=\"c\">test3</p><a>a tag</a> <b>b tag</b></body></html>\"\"\""
   ]
  },
  {
   "cell_type": "code",
   "execution_count": 3,
   "id": "16f64b1e-c0c0-4940-90ae-9cffa42b6a6d",
   "metadata": {},
   "outputs": [],
   "source": [
    "soup = BeautifulSoup(html, \"lxml\")"
   ]
  },
  {
   "cell_type": "code",
   "execution_count": 4,
   "id": "fd6e543e-5120-4b2e-a078-cc70f8f9440f",
   "metadata": {},
   "outputs": [
    {
     "name": "stdout",
     "output_type": "stream",
     "text": [
      "[<title>test site</title>]\n"
     ]
    }
   ],
   "source": [
    "print(soup.find_all(\"title\"))"
   ]
  },
  {
   "cell_type": "code",
   "execution_count": 5,
   "id": "685af0a5-18e6-41f0-bfcf-7c7d048d3dab",
   "metadata": {},
   "outputs": [
    {
     "name": "stdout",
     "output_type": "stream",
     "text": [
      "[<p class=\"a\" id=\"i\">test1</p>, <p class=\"d\" id=\"d\">test2</p>, <p class=\"c\">test3</p>]\n"
     ]
    }
   ],
   "source": [
    "print(soup.find_all(\"p\"))"
   ]
  },
  {
   "cell_type": "markdown",
   "id": "d530f290-1d2d-4bac-a701-adb65488bab8",
   "metadata": {},
   "source": [
    "- id 값으로 태그 가져오기"
   ]
  },
  {
   "cell_type": "code",
   "execution_count": 6,
   "id": "5a7d2e6b-aaef-43cb-b970-4ab8f6d16af6",
   "metadata": {},
   "outputs": [
    {
     "data": {
      "text/plain": [
       "[<p class=\"d\" id=\"d\">test2</p>]"
      ]
     },
     "execution_count": 6,
     "metadata": {},
     "output_type": "execute_result"
    }
   ],
   "source": [
    "soup.find_all(id =\"d\")"
   ]
  },
  {
   "cell_type": "code",
   "execution_count": 7,
   "id": "9f47b737-41f1-4888-b311-6a1d8ea5d086",
   "metadata": {},
   "outputs": [
    {
     "data": {
      "text/plain": [
       "[<p class=\"a\" id=\"i\">test1</p>, <p class=\"d\" id=\"d\">test2</p>]"
      ]
     },
     "execution_count": 7,
     "metadata": {},
     "output_type": "execute_result"
    }
   ],
   "source": [
    "# id의 존재 여부로 데이터 가져오기\n",
    "soup.find_all(id = True)"
   ]
  },
  {
   "cell_type": "markdown",
   "id": "4cd2cd75-4ec7-4d94-a988-ae7646cb0e2a",
   "metadata": {},
   "source": [
    "- 원하는 태그, 원하는 id 값으로 태그 가져오기"
   ]
  },
  {
   "cell_type": "code",
   "execution_count": 8,
   "id": "0073ed11-2244-457a-b8c0-e32178dd1d35",
   "metadata": {},
   "outputs": [
    {
     "name": "stdout",
     "output_type": "stream",
     "text": [
      "[<p class=\"d\" id=\"d\">test2</p>]\n"
     ]
    }
   ],
   "source": [
    "print(soup.find_all(\"p\", id = \"d\"))"
   ]
  },
  {
   "cell_type": "code",
   "execution_count": 9,
   "id": "ad83d068-8540-4281-be3c-794b2c941771",
   "metadata": {},
   "outputs": [
    {
     "name": "stdout",
     "output_type": "stream",
     "text": [
      "[]\n"
     ]
    }
   ],
   "source": [
    "print(soup.find_all(\"p\", id = \"c\"))"
   ]
  },
  {
   "cell_type": "code",
   "execution_count": 10,
   "id": "4e48c078-385a-43b6-a8e2-5347e8f2ad3e",
   "metadata": {},
   "outputs": [
    {
     "name": "stdout",
     "output_type": "stream",
     "text": [
      "[<p class=\"d\" id=\"d\">test2</p>]\n",
      "[<p class=\"c\">test3</p>]\n"
     ]
    }
   ],
   "source": [
    "print(soup.find_all(\"p\", class_ = \"d\"))\n",
    "print(soup.find_all(\"p\", class_ = \"c\"))"
   ]
  },
  {
   "cell_type": "code",
   "execution_count": 11,
   "id": "408565d8-c6e5-4764-8ab1-e1a0ca397ca3",
   "metadata": {},
   "outputs": [
    {
     "data": {
      "text/plain": [
       "'test3'"
      ]
     },
     "execution_count": 11,
     "metadata": {},
     "output_type": "execute_result"
    }
   ],
   "source": [
    "soup.find_all(\"p\", class_ = \"c\")[0].text"
   ]
  },
  {
   "cell_type": "markdown",
   "id": "434b60e9-b281-4d63-af1d-de9b66297891",
   "metadata": {},
   "source": [
    "## find()\n",
    "- 하나의 요소만 가져옴\n",
    "- 찾고자 하는 요소가 하나만 있을 때 사용\n",
    "    - 예)id값으로 접근"
   ]
  },
  {
   "cell_type": "code",
   "execution_count": 12,
   "id": "2812dc37-2136-44a4-ae59-917168e4bd82",
   "metadata": {},
   "outputs": [
    {
     "name": "stdout",
     "output_type": "stream",
     "text": [
      "<p class=\"d\" id=\"d\">test2</p>\n"
     ]
    }
   ],
   "source": [
    "print(soup.find(\"p\", class_ = \"d\"))"
   ]
  },
  {
   "cell_type": "code",
   "execution_count": 13,
   "id": "455e975d-6d66-489c-b72f-8f43ace5529c",
   "metadata": {},
   "outputs": [
    {
     "name": "stdout",
     "output_type": "stream",
     "text": [
      "<p class=\"a\" id=\"i\">test1</p>\n"
     ]
    }
   ],
   "source": [
    "print(soup.find(\"p\", id = \"i\"))"
   ]
  },
  {
   "cell_type": "code",
   "execution_count": 14,
   "id": "898e7c0c-9950-43d4-ac83-1c11c8487186",
   "metadata": {},
   "outputs": [
    {
     "name": "stdout",
     "output_type": "stream",
     "text": [
      "<p class=\"a\" id=\"i\">test1</p>\n"
     ]
    }
   ],
   "source": [
    "print(soup.find(id = \"i\"))"
   ]
  },
  {
   "cell_type": "code",
   "execution_count": 15,
   "id": "e6dcdff2-1ed5-4948-aa22-532e9c40aac3",
   "metadata": {},
   "outputs": [
    {
     "data": {
      "text/plain": [
       "<p class=\"d\" id=\"d\">test2</p>"
      ]
     },
     "execution_count": 15,
     "metadata": {},
     "output_type": "execute_result"
    }
   ],
   "source": [
    "# 연속으로 find 사용이 가능하다\n",
    "soup.find(\"body\").find(\"p\", class_ = \"d\")"
   ]
  },
  {
   "cell_type": "markdown",
   "id": "aa11bf77-d168-41f3-9ec9-b84ab06aecdd",
   "metadata": {},
   "source": [
    "### select()\n",
    "- find_all()과 마찬가지로 매칭되는 모든 결과를 리스트로 반환\n",
    "- select_one()으로 하나의 결과만 반환하는 것도 가능\n",
    "- 클래스는 마침표(.), 아이디는 샵(#)으로, 자손태그는 띄어쓰기로 표현"
   ]
  },
  {
   "cell_type": "code",
   "execution_count": 18,
   "id": "ccbda230-9c7f-49a2-8dfe-8ae8fb7ee369",
   "metadata": {},
   "outputs": [
    {
     "name": "stdout",
     "output_type": "stream",
     "text": [
      "[<p class=\"a\" id=\"i\">test1</p>, <p class=\"d\" id=\"d\">test2</p>, <p class=\"c\">test3</p>]\n",
      "[<p class=\"d\" id=\"d\">test2</p>]\n",
      "[<p class=\"d\" id=\"d\">test2</p>]\n",
      "[<p class=\"a\" id=\"i\">test1</p>]\n",
      "[<p class=\"a\" id=\"i\">test1</p>]\n"
     ]
    }
   ],
   "source": [
    "print(soup.select(\"p\")) # p태그\n",
    "print(soup.select(\".d\")) # class가 d인 태그\n",
    "print(soup.select(\"p.d\")) # class가 d인 p태그\n",
    "print(soup.select(\"#i\")) # id가 i인 태그\n",
    "print(soup.select(\"p#i\")) # id가 i인 p 태그"
   ]
  },
  {
   "cell_type": "markdown",
   "id": "e98090ef-d1ab-4ec2-bbca-c1f2fc1a0202",
   "metadata": {},
   "source": [
    "- html\n",
    "    - head\n",
    "        -title\n",
    "    -body\n",
    "        - div\n",
    "            - p\n",
    "            - p\n",
    "        - p\n",
    "        - a\n",
    "        - b"
   ]
  },
  {
   "cell_type": "code",
   "execution_count": 19,
   "id": "113d6341-830f-4ec7-86d2-abf948c8253c",
   "metadata": {},
   "outputs": [],
   "source": [
    "html = html = \"\"\"<html> <head><title>test site</title></head> <body> <div><p id=\"i\" class=\"a\">test1</p><p class=\"d\">test2</p></div><p class=\"d\">test3</p></p> <a>a tag</a> <b>b tag</b></body></html>\"\"\""
   ]
  },
  {
   "cell_type": "code",
   "execution_count": 20,
   "id": "4fefb61e-c807-4a80-bacf-b772574947cc",
   "metadata": {},
   "outputs": [],
   "source": [
    "soup = BeautifulSoup(html, \"lxml\")"
   ]
  },
  {
   "cell_type": "code",
   "execution_count": 24,
   "id": "ad5cfe81-cb94-46ad-901d-bd19e60bc1c5",
   "metadata": {},
   "outputs": [
    {
     "name": "stdout",
     "output_type": "stream",
     "text": [
      "[<p class=\"a\" id=\"i\">test1</p>, <p class=\"d\">test2</p>, <p class=\"d\">test3</p>]\n",
      "[<p class=\"d\">test2</p>, <p class=\"d\">test3</p>]\n",
      "[<p class=\"d\">test2</p>, <p class=\"d\">test3</p>]\n",
      "[<p class=\"a\" id=\"i\">test1</p>]\n",
      "[<p class=\"a\" id=\"i\">test1</p>]\n",
      "[<p class=\"a\" id=\"i\">test1</p>, <p class=\"d\">test2</p>]\n"
     ]
    }
   ],
   "source": [
    "print(soup.select(\"body p\")) # body 의 자손은 p 태그\n",
    "print(soup.select(\"body .d\")) # body의 자손중에서 클래스가 d인 태그\n",
    "print(soup.select(\"body p.d\")) # body의 자손 중에서 클래스가 d인 p태그\n",
    "print(soup.select(\"body #i\")) # body의 자손중에서 id가 i인 태그\n",
    "print(soup.select(\"body p#i\")) # body의 자손중에서 id가 i인 p태그\n",
    "print(soup.select(\"div p\")) # div 자손인 p 태그"
   ]
  },
  {
   "cell_type": "markdown",
   "id": "a27ae238-0117-4083-9b30-7a209d867ff1",
   "metadata": {},
   "source": [
    "# 예제 1-1 티스토리 크롤링\n",
    "- url : https://ai-dev.tistory.com/1"
   ]
  },
  {
   "cell_type": "code",
   "execution_count": 35,
   "id": "a1a651d9-debb-472c-a4f1-06422e3dbb4d",
   "metadata": {},
   "outputs": [
    {
     "name": "stdout",
     "output_type": "stream",
     "text": [
      "크롤링의 세계에 오신 것을 환영합니다. \n"
     ]
    }
   ],
   "source": [
    "# 제목 수집\n",
    "# \"크롤링의 세계에 오신 것을 환영합니다.\"\n",
    "url = \"https://ai-dev.tistory.com/1\"\n",
    "page = urlopen(url)\n",
    "soup = BeautifulSoup(page, \"lxml\")\n",
    "print(soup.select_one(\"div.hgroup h1\").text)"
   ]
  },
  {
   "cell_type": "code",
   "execution_count": 45,
   "id": "e0c441a6-6893-47a8-bbe8-0a4c982ae9b5",
   "metadata": {},
   "outputs": [
    {
     "name": "stdout",
     "output_type": "stream",
     "text": [
      "Hello, world!\n"
     ]
    }
   ],
   "source": [
    "# 게시물 내용 수집\n",
    "# hello world\n",
    "print(soup.select_one(\"div.contents_style p\").text)"
   ]
  }
 ],
 "metadata": {
  "kernelspec": {
   "display_name": "Python 3 (ipykernel)",
   "language": "python",
   "name": "python3"
  },
  "language_info": {
   "codemirror_mode": {
    "name": "ipython",
    "version": 3
   },
   "file_extension": ".py",
   "mimetype": "text/x-python",
   "name": "python",
   "nbconvert_exporter": "python",
   "pygments_lexer": "ipython3",
   "version": "3.10.9"
  }
 },
 "nbformat": 4,
 "nbformat_minor": 5
}
