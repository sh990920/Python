{
 "cells": [
  {
   "cell_type": "markdown",
   "id": "4253c6e6-7d6d-42b4-9aec-4ebb507b7128",
   "metadata": {},
   "source": [
    "# 라이브러리와 프레임워크\n",
    "- 라이브러리(library)\n",
    "    - 정상적인 제어를 하는 모듈\n",
    "- 프레임워크(framework)\n",
    "    - 제어 역전이 발생하는 모듈"
   ]
  },
  {
   "cell_type": "markdown",
   "id": "940e5ae2-34ec-4abc-86d4-dde1d434f446",
   "metadata": {},
   "source": [
    "## 제어 역전(IoC:Inversion of Control)"
   ]
  },
  {
   "cell_type": "markdown",
   "id": "634e8741-be4c-41d3-8e25-d78b4ed473a6",
   "metadata": {},
   "source": [
    "## 라이브러리 = 정상적인 제어\n",
    "- 라이브러리는 모듈의 기능을 개발자가 직접 호출"
   ]
  },
  {
   "cell_type": "code",
   "execution_count": 1,
   "id": "8d126668-cebd-4c2d-9a88-254a1bd8faa2",
   "metadata": {},
   "outputs": [],
   "source": [
    "from math import sin, cos, tan, floor, ceil"
   ]
  },
  {
   "cell_type": "code",
   "execution_count": 2,
   "id": "80bf63fb-1fe6-4bdd-8a5d-d7779265a21e",
   "metadata": {},
   "outputs": [
    {
     "name": "stdout",
     "output_type": "stream",
     "text": [
      "0.8414709848078965\n",
      "0.5403023058681398\n",
      "1.557407724654902\n"
     ]
    }
   ],
   "source": [
    "print(sin(1))\n",
    "print(cos(1))\n",
    "print(tan(1))"
   ]
  },
  {
   "cell_type": "code",
   "execution_count": 3,
   "id": "b05a8313-ba82-4d3f-a05c-92fc1f4d796b",
   "metadata": {},
   "outputs": [
    {
     "name": "stdout",
     "output_type": "stream",
     "text": [
      "2\n",
      "3\n"
     ]
    }
   ],
   "source": [
    "print(floor(2.5))\n",
    "print(ceil(2.5))"
   ]
  },
  {
   "cell_type": "markdown",
   "id": "dd196195-94bd-42a6-ab8c-526031c09664",
   "metadata": {},
   "source": [
    "## 프레임워크\n",
    "- 직접적으로 무언가를 진행하는 코드는 없음"
   ]
  },
  {
   "cell_type": "markdown",
   "id": "cd6dbe1d-b51f-4405-9486-a25e32953377",
   "metadata": {},
   "source": [
    "- Flask 모듈이 제공하는 명령어를 실행하면 코드를 직접 실행하지 않아도 Flask 모듈 내부에서 서버를 실행한 뒤 지정한 파일을 읽어들여 적절한 상황에 스스로 실행\n",
    "    - 모듈이 개발자가 작성한 코드를 실행하는 형태의 모듈을 프레임워크 라고 부름\n",
    "    \n",
    "- 개발자가 모듈의 함수를 호출하는 것이 일반적인 제어\n",
    "- 반대로 개발자가 만든 함수를 모듈이 실행시키는 것이 제어 역전\n",
    "- 제어 역전 여부로 라이브러리와 프레임워크를 구분"
   ]
  },
  {
   "cell_type": "markdown",
   "id": "014553f7-4e66-4ac2-9943-4fa358ef57b3",
   "metadata": {},
   "source": [
    "# 모듈 만들기\n",
    "- 파이썬 파일을 만들고 외부에서 읽어들이게 하면 모듈\n",
    "    - 모듈을 구조화해서 패키지(거대한 모듈)을 만들 수도 있음"
   ]
  },
  {
   "cell_type": "markdown",
   "id": "205a7cd3-83c3-45d5-bf2a-f4a03210fbc1",
   "metadata": {},
   "source": [
    "## \\_\\_name\\_\\_ == \"\\_\\_main\\_\\_\""
   ]
  },
  {
   "cell_type": "markdown",
   "id": "18e99c02-81eb-434e-92ef-a19b8a8e3f58",
   "metadata": {},
   "source": [
    "### \\_\\_name\\_\\_\n",
    "- 파이썬 코드 내부에서는 \\_\\_name\\_\\_ 이라는 변수를 사용할 수 있음\n",
    "- 프로그래밍 언어에서는 프로그램의 진입점을 엔트리 포인트(entry point) 또는 메인(main)이라고 부름\n",
    "    - 메인 내부에서의 \\_\\_name\\_\\_ 변수의 값은 \"\\_\\_main\\_\\_\"임"
   ]
  },
  {
   "cell_type": "code",
   "execution_count": 5,
   "id": "04fc010e-cf3a-4ed6-9b25-25eb2dad4f08",
   "metadata": {},
   "outputs": [
    {
     "name": "stdout",
     "output_type": "stream",
     "text": [
      "__main__\n"
     ]
    }
   ],
   "source": [
    "print(__name__)"
   ]
  },
  {
   "cell_type": "markdown",
   "id": "4f35527a-c5ad-4436-a1f4-6687f08c6975",
   "metadata": {},
   "source": [
    "### 모듈의 \\_\\_name\\_\\_\n",
    "- 엔트리 포인트가 아니지만 엔트리 포인트 파일 내에서 import 되었기 때문에 모듈 내의 코드가 실행됨\n",
    "- 모듈 내부에서 \\_\\_name\\_\\_을 출력하면 모듈의 이름을 나타냄"
   ]
  },
  {
   "cell_type": "markdown",
   "id": "8e5ba853-7567-4a18-b098-a62a0241f19d",
   "metadata": {},
   "source": [
    "- 엔트리 포인트 파일 에서는 \"\\_\\_main\\_\\_\"을 출력하지만 모듈파일에서는 모듈 이름을 출력"
   ]
  },
  {
   "cell_type": "markdown",
   "id": "b78bc287-7938-4742-ba46-5c9081708f55",
   "metadata": {},
   "source": [
    "### \\_\\_name\\_\\_ 활용\n",
    "- 엔트리 포인트 파일 내부에서 \\_\\_name\\_\\_ 이 \"\\_\\_main\\_\\_\" 이라는 값을 갖는다는 것을 활용해서 현재 파일이 모듈로 실행되고 있는지, 엔트리 포인트로 실행되고 있는지 확인할 수 있음"
   ]
  },
  {
   "cell_type": "markdown",
   "id": "8b9b92fe-2e3d-4237-b4a8-a3303bb62959",
   "metadata": {},
   "source": [
    "- 모듈에서 활용 예시로 사용했던 코드까지 출력됨\n",
    "    - 해당 코드는 모듈로 사용될 때 출력되면 안됨\n",
    "    - 이 때, 해당 파일이 엔트리 포인트 인지 구분하는 코드를 활용"
   ]
  },
  {
   "cell_type": "markdown",
   "id": "1b168fef-6dde-4dde-881c-53cc72c8a0d8",
   "metadata": {},
   "source": [
    "# 패키지\n",
    "- 모듈이 모여서 구조를 이룬 것\n",
    "- pip는 Python Package Index 의 줄임말로, 패키지 관리 시스템(package Management System)"
   ]
  },
  {
   "cell_type": "markdown",
   "id": "4b9c08d2-b826-41a7-a9a4-3d7605237e37",
   "metadata": {},
   "source": [
    "## 패키지 만들기\n",
    "- 구성\n",
    "    - module_package(폴더)\n",
    "        - test_package(폴더) : 패키지로 사용할 폴더\n",
    "            - module_a.py\n",
    "            - module_b.py\n",
    "        - main.py : 엔트리 포인트로 사용할 파이썬 파일"
   ]
  },
  {
   "cell_type": "markdown",
   "id": "726a3b0d-129d-41e7-b243-c7b9343a95d3",
   "metadata": {},
   "source": [
    "### \\_\\_init\\_\\_.py 파일\n",
    "- 패키지를 읽을 때 어떤 처리를 수행해야 하거나 패키지 내부의 모듈들을 한꺼번에 가져오고 싶을 때 패키지 폴더 내부에 \\_\\_init\\_\\_.py 파일을 만들어 사용\n",
    "- 해당 폴더가 패키지임을 알려주고 패키지와 관련된 초기화 처리를 하는 파일\n",
    "    - \\_\\_all\\_\\_ 이라는 이름의 리스트르 만들면 이 리스트에 지정된 모듈들이 from 패키지 import * 를 할 때 전부 읽어들여짐"
   ]
  }
 ],
 "metadata": {
  "kernelspec": {
   "display_name": "Python 3 (ipykernel)",
   "language": "python",
   "name": "python3"
  },
  "language_info": {
   "codemirror_mode": {
    "name": "ipython",
    "version": 3
   },
   "file_extension": ".py",
   "mimetype": "text/x-python",
   "name": "python",
   "nbconvert_exporter": "python",
   "pygments_lexer": "ipython3",
   "version": "3.10.9"
  }
 },
 "nbformat": 4,
 "nbformat_minor": 5
}
