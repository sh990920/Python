{
 "cells": [
  {
   "cell_type": "markdown",
   "id": "6d37aa81-098a-4c31-97a9-8e7aee9f91f1",
   "metadata": {},
   "source": [
    "# 데코레이터\n",
    "- 함수를 수정하지 않은 상태에서 추가 기능을 구현할 때 사용"
   ]
  },
  {
   "cell_type": "code",
   "execution_count": 2,
   "id": "e227f031-b9e3-4266-9937-83a6f8bb1b87",
   "metadata": {},
   "outputs": [],
   "source": [
    "def hello():\n",
    "    print(\"hello 함수 시작\")\n",
    "    print(\"hello\")\n",
    "    print(\"hello 함수 끝\")\n",
    "    \n",
    "def world():\n",
    "    print(\"world 함수 시작\")\n",
    "    print(\"world\")\n",
    "    print(\"world 함수 끝\")"
   ]
  },
  {
   "cell_type": "code",
   "execution_count": 3,
   "id": "f930db65-7449-44b5-95b8-65c4a7029e91",
   "metadata": {},
   "outputs": [
    {
     "name": "stdout",
     "output_type": "stream",
     "text": [
      "hello 함수 시작\n",
      "hello\n",
      "hello 함수 끝\n"
     ]
    }
   ],
   "source": [
    "hello()"
   ]
  },
  {
   "cell_type": "code",
   "execution_count": 4,
   "id": "4b2b1386-0244-4a95-bd60-d1c88d03c3b7",
   "metadata": {},
   "outputs": [
    {
     "name": "stdout",
     "output_type": "stream",
     "text": [
      "world 함수 시작\n",
      "world\n",
      "world 함수 끝\n"
     ]
    }
   ],
   "source": [
    "world()"
   ]
  },
  {
   "cell_type": "code",
   "execution_count": 19,
   "id": "66bef842-5924-4875-a868-1f5d712e13f4",
   "metadata": {},
   "outputs": [],
   "source": [
    "def trace(func):                        # 호출할 함수를 매개변수로 받음\n",
    "    def wrapper():                      # 호출할 함수를 감싸는 함수\n",
    "        print(func.__name__, \"함수 시작\") # __name__으로 함수 이름 출력\n",
    "        func()                          # 매개변수로 받은 함수를 호출\n",
    "        print(func.__name__, \"함수 끝\")   # __name__으로 함수 이름 출력\n",
    "    return wrapper                      # wrapper 함수 반환"
   ]
  },
  {
   "cell_type": "code",
   "execution_count": 20,
   "id": "15ecc16e-a548-43ce-815e-54328193140b",
   "metadata": {},
   "outputs": [],
   "source": [
    "def hello():\n",
    "    print(\"hello\")\n",
    "    \n",
    "def world():\n",
    "    print(\"world\")"
   ]
  },
  {
   "cell_type": "code",
   "execution_count": 21,
   "id": "f4021761-a8db-4148-aa3c-9a5424f39f6a",
   "metadata": {},
   "outputs": [
    {
     "name": "stdout",
     "output_type": "stream",
     "text": [
      "hello 함수 시작\n",
      "hello\n",
      "hello 함수 끝\n"
     ]
    }
   ],
   "source": [
    "trace_hello = trace(hello) # 데코레이터에 호출할 함수를 넣음\n",
    "trace_hello() # 반환된 함수를 호출"
   ]
  },
  {
   "cell_type": "markdown",
   "id": "88d4b35c-de28-4887-b432-35cb5484117d",
   "metadata": {},
   "source": [
    "## @로 데코레이터인지 알려주기"
   ]
  },
  {
   "cell_type": "code",
   "execution_count": 22,
   "id": "ec8a8d0f-4c20-44a4-b450-892b2897f6ed",
   "metadata": {},
   "outputs": [],
   "source": [
    "@trace # @데코레이터\n",
    "def hello():\n",
    "    print(\"hello\")\n",
    "    \n",
    "@trace\n",
    "def world():\n",
    "    print(\"world\")"
   ]
  },
  {
   "cell_type": "code",
   "execution_count": 23,
   "id": "193a07cb-e7ad-4019-8ea0-c5c9fb9b3718",
   "metadata": {},
   "outputs": [
    {
     "name": "stdout",
     "output_type": "stream",
     "text": [
      "hello 함수 시작\n",
      "hello\n",
      "hello 함수 끝\n"
     ]
    }
   ],
   "source": [
    "# 함수를 그대로 사용\n",
    "hello()"
   ]
  },
  {
   "cell_type": "code",
   "execution_count": 24,
   "id": "79665e64-2127-40c8-bdc3-1d8fd9f34a09",
   "metadata": {},
   "outputs": [
    {
     "name": "stdout",
     "output_type": "stream",
     "text": [
      "world 함수 시작\n",
      "world\n",
      "world 함수 끝\n"
     ]
    }
   ],
   "source": [
    "world()"
   ]
  },
  {
   "cell_type": "markdown",
   "id": "e74ab477-bed2-46ef-a809-8674ef9b3f2b",
   "metadata": {},
   "source": [
    "## 데코레이터 여러 개 지정하기"
   ]
  },
  {
   "cell_type": "code",
   "execution_count": 26,
   "id": "99cb5316-4c05-4aa3-806e-7527677ca107",
   "metadata": {},
   "outputs": [],
   "source": [
    "def decorator1(func):\n",
    "    def wrapper():\n",
    "        print(\"decorator1\")\n",
    "        func()\n",
    "    return wrapper\n",
    "\n",
    "def decorator2(func):\n",
    "    def wrapper():\n",
    "        print(\"decorator2\")\n",
    "        func()\n",
    "    return wrapper"
   ]
  },
  {
   "cell_type": "code",
   "execution_count": 27,
   "id": "5e8475ab-4b7f-4160-b50b-fe8e604544f5",
   "metadata": {},
   "outputs": [],
   "source": [
    "# 데코레이터를 여러 개 지정\n",
    "@decorator1\n",
    "@decorator2\n",
    "def hello():\n",
    "    print(\"hello\")"
   ]
  },
  {
   "cell_type": "code",
   "execution_count": 28,
   "id": "ffaecc04-b5c3-4505-b68c-cd64877b395f",
   "metadata": {},
   "outputs": [
    {
     "name": "stdout",
     "output_type": "stream",
     "text": [
      "decorator1\n",
      "decorator2\n",
      "hello\n"
     ]
    }
   ],
   "source": [
    "hello()"
   ]
  },
  {
   "cell_type": "markdown",
   "id": "836bf9d9-de2e-474a-8372-0daedb82e47f",
   "metadata": {},
   "source": [
    "# 매개변수와 반환값을 처리하는 데코레이터"
   ]
  },
  {
   "cell_type": "code",
   "execution_count": 29,
   "id": "42e09a94-64c6-47a0-95d5-50ff1e44af07",
   "metadata": {},
   "outputs": [],
   "source": [
    "def trace(func):\n",
    "    def wrapper(a, b):\n",
    "        res = func(a, b) # fucn에 매개변수 a 와 b를 넣어서 호출하고 반환값을 변수에 저장\n",
    "        print(f\"{func.__name__}(a = {a}, b = {b}) -> {res}\")\n",
    "        return res # func의 반환값을 반환\n",
    "    return wrapper"
   ]
  },
  {
   "cell_type": "code",
   "execution_count": 30,
   "id": "1e7cf0ca-db74-4524-9742-5283caef9398",
   "metadata": {},
   "outputs": [],
   "source": [
    "@trace\n",
    "def add(a, b):\n",
    "    return a + b"
   ]
  },
  {
   "cell_type": "code",
   "execution_count": 31,
   "id": "a859185a-3a62-41ea-af54-78170801d62b",
   "metadata": {},
   "outputs": [
    {
     "name": "stdout",
     "output_type": "stream",
     "text": [
      "add(a = 10, b = 20) -> 30\n",
      "30\n"
     ]
    }
   ],
   "source": [
    "print(add(10, 20))"
   ]
  },
  {
   "cell_type": "markdown",
   "id": "d56ed77a-1f14-45a7-978f-35fb0d77481a",
   "metadata": {},
   "source": [
    "## 가변 인수 함수 데코레이터"
   ]
  },
  {
   "cell_type": "code",
   "execution_count": 33,
   "id": "97009da7-3b2c-4f7b-ae07-bead8b7410c9",
   "metadata": {},
   "outputs": [],
   "source": [
    "def trace(func):\n",
    "    def wrapper(*args, **kwargs): # 가변 인수 함수로 만듦\n",
    "        res = func(*args, **kwargs)\n",
    "        print(f\"{func.__name__}(args = {args}, kwargs={kwargs}) -> {res}\")\n",
    "        return res\n",
    "    return wrapper"
   ]
  },
  {
   "cell_type": "code",
   "execution_count": 35,
   "id": "20bb95ea-bfa3-40ba-bdf7-e4739de63565",
   "metadata": {},
   "outputs": [],
   "source": [
    "@trace\n",
    "def get_max(*args):\n",
    "    return max(args)\n",
    "\n",
    "@trace\n",
    "def get_min(**kwargs):\n",
    "    return min(kwargs.values())"
   ]
  },
  {
   "cell_type": "code",
   "execution_count": 36,
   "id": "ec277af6-3ed8-4b9c-9cb3-73bb7eb2d3ee",
   "metadata": {},
   "outputs": [
    {
     "name": "stdout",
     "output_type": "stream",
     "text": [
      "get_max(args = (10, 20, 30), kwargs={}) -> 30\n",
      "30\n"
     ]
    }
   ],
   "source": [
    "print(get_max(10, 20, 30))"
   ]
  },
  {
   "cell_type": "code",
   "execution_count": 37,
   "id": "8f091c19-65d6-4cad-a170-f4172aac65be",
   "metadata": {},
   "outputs": [
    {
     "name": "stdout",
     "output_type": "stream",
     "text": [
      "get_min(args = (), kwargs={'x': 10, 'y': 20, 'z': 30}) -> 10\n",
      "10\n"
     ]
    }
   ],
   "source": [
    "print(get_min(x = 10, y = 20, z = 30))"
   ]
  },
  {
   "cell_type": "markdown",
   "id": "92a0165c-023d-4758-8343-202d02a32244",
   "metadata": {},
   "source": [
    "- 위치인수와 키워드인수를 모두 처리할 수 있기 때문에 일반적인 함수에도 사용가능"
   ]
  },
  {
   "cell_type": "code",
   "execution_count": 38,
   "id": "4ea2ab84-f83d-4df7-84da-1aa941d0d7ad",
   "metadata": {},
   "outputs": [],
   "source": [
    "@trace\n",
    "def add(a, b):\n",
    "    return a + b"
   ]
  },
  {
   "cell_type": "code",
   "execution_count": 39,
   "id": "2ae1540c-77e0-4ccc-8bb6-a1d702e74108",
   "metadata": {},
   "outputs": [
    {
     "name": "stdout",
     "output_type": "stream",
     "text": [
      "add(args = (10, 20), kwargs={}) -> 30\n",
      "30\n"
     ]
    }
   ],
   "source": [
    "print(add(10, 20))"
   ]
  },
  {
   "cell_type": "markdown",
   "id": "9be04591-6892-44f8-a05d-6c2bdf07f51e",
   "metadata": {},
   "source": [
    "## 메서드에 데코레이터 사용하기\n",
    "- 클래스에서 데코레이터를 사용할 때는 self에 주의"
   ]
  },
  {
   "cell_type": "code",
   "execution_count": 42,
   "id": "0e072bfe-f37e-4a0f-89de-fbf5b152de75",
   "metadata": {},
   "outputs": [],
   "source": [
    "def trace(func):\n",
    "    def wrapper(self, a, b): # 첫번째 매개변수는 self로 지정\n",
    "        r = func(self, a, b) # self와 매개변수르 그대로 넣어줌\n",
    "        print(f\"{func.__name__}(a = {a}, b = {b}) -> {r}\")\n",
    "        return r\n",
    "    return wrapper"
   ]
  },
  {
   "cell_type": "code",
   "execution_count": 45,
   "id": "e404293f-e3fc-4bad-ad0a-515416aabb53",
   "metadata": {},
   "outputs": [],
   "source": [
    "class Calc:\n",
    "    @trace\n",
    "    def add(self, a, b):\n",
    "        return a + b"
   ]
  },
  {
   "cell_type": "code",
   "execution_count": 46,
   "id": "e94a6dac-971a-477f-92f9-4b59c11a83cc",
   "metadata": {},
   "outputs": [
    {
     "name": "stdout",
     "output_type": "stream",
     "text": [
      "add(a = 10, b = 20) -> 30\n",
      "30\n"
     ]
    }
   ],
   "source": [
    "c = Calc()\n",
    "print(c.add(10, 20))"
   ]
  },
  {
   "cell_type": "markdown",
   "id": "c7ade537-baa4-4079-938b-5d7c5b007f33",
   "metadata": {},
   "source": [
    "# 클래스로 데코레이터 만들기\n",
    "- 인스턴스를 함수처럼 호출하게 해주는 \\_\\_call\\_\\_ 메서드를 구현해야함"
   ]
  },
  {
   "cell_type": "code",
   "execution_count": 65,
   "id": "d90634e1-834b-4469-8117-00782cc9427e",
   "metadata": {
    "tags": []
   },
   "outputs": [],
   "source": [
    "class Trace:\n",
    "    def __init__(self, func): # 호출할 함수를 인스턴스의 초기값으로 받음\n",
    "        self.func = func # 호출할 함수를 인스턴스 변수 func에 저장\n",
    "        \n",
    "    def __call__(self):\n",
    "        print(self.func.__name__, \"함수 시작\")\n",
    "        self.func()\n",
    "        print(self.func.__name__, \"함수 끝\")"
   ]
  },
  {
   "cell_type": "code",
   "execution_count": 66,
   "id": "ebb72ca5-f398-4d0c-baa3-6f70381a5e6e",
   "metadata": {},
   "outputs": [],
   "source": [
    "@Trace\n",
    "def hello():\n",
    "    print(\"hello\")"
   ]
  },
  {
   "cell_type": "code",
   "execution_count": 67,
   "id": "4a646688-ca34-4cf9-a0b5-234e81405d4a",
   "metadata": {},
   "outputs": [
    {
     "name": "stdout",
     "output_type": "stream",
     "text": [
      "hello 함수 시작\n",
      "hello\n",
      "hello 함수 끝\n"
     ]
    }
   ],
   "source": [
    "hello()"
   ]
  },
  {
   "cell_type": "markdown",
   "id": "b06bda9e-24ef-424f-b02f-85622634916c",
   "metadata": {},
   "source": [
    "- @를 지정하지 않고 데코레이터의 반환값을 호출하는 방식으로도 사용 가능"
   ]
  },
  {
   "cell_type": "code",
   "execution_count": 68,
   "id": "cf50e9ef-a83f-44de-ab1f-500451348cef",
   "metadata": {},
   "outputs": [],
   "source": [
    "def hello():\n",
    "    print(\"hello\")"
   ]
  },
  {
   "cell_type": "code",
   "execution_count": 69,
   "id": "7330940c-91ee-43b1-8da6-e840c038c049",
   "metadata": {},
   "outputs": [
    {
     "name": "stdout",
     "output_type": "stream",
     "text": [
      "hello 함수 시작\n",
      "hello\n",
      "hello 함수 끝\n"
     ]
    }
   ],
   "source": [
    "trace_hello = Trace(hello) # 데코레이터에 호출할 함수를 넣어서 인스턴스 생성\n",
    "trace_hello() # 인스턴스를 호출, __call__ 메서드가 호출됨"
   ]
  },
  {
   "cell_type": "code",
   "execution_count": 70,
   "id": "818a25de-47c8-48ed-a25a-055268b4cd11",
   "metadata": {},
   "outputs": [
    {
     "name": "stdout",
     "output_type": "stream",
     "text": [
      "hello 함수 시작\n",
      "hello\n",
      "hello 함수 끝\n"
     ]
    }
   ],
   "source": [
    "trace_hello.__call__()"
   ]
  },
  {
   "cell_type": "markdown",
   "id": "61fe590c-3e5d-46e5-9fdd-bff8702071d8",
   "metadata": {},
   "source": [
    "## 클래스로 매개변수와 반환값을 처리하는 데코레이터"
   ]
  },
  {
   "cell_type": "code",
   "execution_count": 75,
   "id": "4e37d0da-3799-4e99-811f-97ce4ce1a7d8",
   "metadata": {},
   "outputs": [],
   "source": [
    "class Trace:\n",
    "    def __init__(self, func):\n",
    "        self.func = func\n",
    "        \n",
    "    def __call__(self, *args, **kwargs): # 호출할 함수의 매개변수를 처리\n",
    "        # self.func에 매개변수에 넣어서 호출하고 반환값을 변수에 저장\n",
    "        r = self.func(*args, **kwargs)\n",
    "        print(f\"{self.func.__name__}(args = {args}, kwargs = {kwargs}) -> {r}\")\n",
    "        return r"
   ]
  },
  {
   "cell_type": "code",
   "execution_count": 76,
   "id": "12c0deea-d2e1-4e70-8271-303dfbac0d12",
   "metadata": {},
   "outputs": [],
   "source": [
    "@Trace\n",
    "def add(a, b):\n",
    "    return a + b"
   ]
  },
  {
   "cell_type": "code",
   "execution_count": 77,
   "id": "369ed8ef-dd19-48eb-939d-b6d394fdabed",
   "metadata": {},
   "outputs": [
    {
     "name": "stdout",
     "output_type": "stream",
     "text": [
      "add(args = (10, 20), kwargs = {}) -> 30\n",
      "30\n"
     ]
    }
   ],
   "source": [
    "print(add(10, 20))"
   ]
  },
  {
   "cell_type": "code",
   "execution_count": 78,
   "id": "c6a85dbb-e236-4647-8054-97afab51fe05",
   "metadata": {},
   "outputs": [
    {
     "name": "stdout",
     "output_type": "stream",
     "text": [
      "add(args = (), kwargs = {'a': 10, 'b': 20}) -> 30\n",
      "30\n"
     ]
    }
   ],
   "source": [
    "print(add(a = 10, b = 20))"
   ]
  },
  {
   "cell_type": "markdown",
   "id": "2d3d71bb-0283-44b9-8718-58fd430d576a",
   "metadata": {},
   "source": [
    "## 클래스로 매개변수가 있는 데코레이터 만들기"
   ]
  },
  {
   "cell_type": "code",
   "execution_count": 83,
   "id": "30a3c07e-1d71-437f-9315-6318e7cef553",
   "metadata": {},
   "outputs": [],
   "source": [
    "class IsMultiple:\n",
    "    def __init__(self, x): # 데코레이터가 사용할 매개변수를 초기값으로 받음\n",
    "        self.x = x # 매개변수를 속성 x 에 저장\n",
    "        \n",
    "    def __call__(self, func): # 호출할 함수를 매개변수로 받음\n",
    "        def wrapper(a, b):\n",
    "            r = func(a, b)\n",
    "            if r % self.x == 0: # func의 반환값이 self.x의 배수인지 확인\n",
    "                print(f\"{func.__name__}의 반환값은 {self.x}의 배수 입니다.\")\n",
    "            else:\n",
    "                print(f\"{func.__name__}의 반환값은 {self.x}의 배수가 아닙니다.\")\n",
    "            return r\n",
    "        return wrapper"
   ]
  },
  {
   "cell_type": "code",
   "execution_count": 84,
   "id": "c40e2d10-a429-4fda-841e-96f66da1f77e",
   "metadata": {},
   "outputs": [],
   "source": [
    "@IsMultiple(3) # @데코레이터(인수)\n",
    "def add(a, b):\n",
    "    return a + b"
   ]
  },
  {
   "cell_type": "code",
   "execution_count": 85,
   "id": "7f1db648-beb2-431f-8184-17e62f9c408b",
   "metadata": {},
   "outputs": [
    {
     "name": "stdout",
     "output_type": "stream",
     "text": [
      "add의 반환값은 3의 배수 입니다.\n",
      "30\n"
     ]
    }
   ],
   "source": [
    "print(add(10, 20))"
   ]
  },
  {
   "cell_type": "code",
   "execution_count": 86,
   "id": "ccd78341-24ea-4805-b949-865ec6ae1b17",
   "metadata": {},
   "outputs": [
    {
     "name": "stdout",
     "output_type": "stream",
     "text": [
      "add의 반환값은 3의 배수가 아닙니다.\n",
      "7\n"
     ]
    }
   ],
   "source": [
    "print(add(2, 5))"
   ]
  }
 ],
 "metadata": {
  "kernelspec": {
   "display_name": "Python 3 (ipykernel)",
   "language": "python",
   "name": "python3"
  },
  "language_info": {
   "codemirror_mode": {
    "name": "ipython",
    "version": 3
   },
   "file_extension": ".py",
   "mimetype": "text/x-python",
   "name": "python",
   "nbconvert_exporter": "python",
   "pygments_lexer": "ipython3",
   "version": "3.10.9"
  }
 },
 "nbformat": 4,
 "nbformat_minor": 5
}
