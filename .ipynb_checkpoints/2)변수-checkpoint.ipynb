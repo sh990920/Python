{
 "cells": [
  {
   "cell_type": "markdown",
   "id": "745ac056-7c39-46a2-8900-da0ab6498e83",
   "metadata": {},
   "source": [
    "# 변수\n",
    "- 변할 수 있는 자료\n",
    "- 값을 저장할 때 사용\n",
    "    - 모든 자료형의 값을 저장할 수 있음\n",
    "    "
   ]
  },
  {
   "cell_type": "code",
   "execution_count": 1,
   "id": "282a4acf-d791-48a1-afd9-6712dac3b960",
   "metadata": {},
   "outputs": [
    {
     "data": {
      "text/plain": [
       "3.14169265"
      ]
     },
     "execution_count": 1,
     "metadata": {},
     "output_type": "execute_result"
    }
   ],
   "source": [
    "pi = 3.14169265\n",
    "pi"
   ]
  },
  {
   "cell_type": "markdown",
   "id": "a8807fd0-7e4d-4a3d-a244-e05c96035319",
   "metadata": {},
   "source": [
    "## 변수 활용 방법\n",
    "- 변수를 선언\n",
    "    - 변수를 생성하는 것\n",
    "    \n",
    "- 변수에 값을 할당\n",
    "    - 변수에 값을 넣는 것\n",
    "        - =기호는 우변의 값을 좌변에 할당하겠다는 의미\n",
    "        \n",
    "- 변수를 참조\n",
    "    - 변수에서 값을 꺼내는 것\n",
    "    "
   ]
  },
  {
   "cell_type": "code",
   "execution_count": 2,
   "id": "e45a78c4-1f68-4a54-b133-c48b912a462b",
   "metadata": {},
   "outputs": [
    {
     "data": {
      "text/plain": [
       "5.1416926499999995"
      ]
     },
     "execution_count": 2,
     "metadata": {},
     "output_type": "execute_result"
    }
   ],
   "source": [
    "pi + 2"
   ]
  },
  {
   "cell_type": "code",
   "execution_count": 3,
   "id": "6da60d09-8809-4d8d-bdc1-19cd61d9d52d",
   "metadata": {},
   "outputs": [
    {
     "data": {
      "text/plain": [
       "6.2833853"
      ]
     },
     "execution_count": 3,
     "metadata": {},
     "output_type": "execute_result"
    }
   ],
   "source": [
    "pi * 2"
   ]
  },
  {
   "cell_type": "code",
   "execution_count": 4,
   "id": "098edfac-b44c-4be7-be4e-deccfc3da8a2",
   "metadata": {},
   "outputs": [
    {
     "data": {
      "text/plain": [
       "9.870232707064023"
      ]
     },
     "execution_count": 4,
     "metadata": {},
     "output_type": "execute_result"
    }
   ],
   "source": [
    "pi * pi"
   ]
  },
  {
   "cell_type": "markdown",
   "id": "5df934fd-c723-4dfe-adb1-6925abd8884e",
   "metadata": {},
   "source": [
    "# 복합 대입 연산자\n",
    "- 자료형에 적용하는 기본 연산자와 = 연산자를 함께 사용해 구성하는 연산자\n",
    "    - += : 숫자 덧셈 후 대입\n",
    "    - -= : 숫자 뺄셈 후 대입\n",
    "    - *= : 숫자 곱셈 후 대입\n",
    "    - /= : 숫자 나눗셈 후 대입\n",
    "    - %= : 숫자 나머지를 구한 후 대입\n",
    "    - **= : 숫자 제곱 후 대입\n",
    "\n",
    "- 예) a += 10은 a = a + 10 과 같은 결과"
   ]
  },
  {
   "cell_type": "code",
   "execution_count": 5,
   "id": "0ebda629-3605-4f51-a96a-db7c074964ee",
   "metadata": {},
   "outputs": [
    {
     "name": "stdout",
     "output_type": "stream",
     "text": [
      "160\n"
     ]
    }
   ],
   "source": [
    "number = 100 # 100\n",
    "number += 10 # 110\n",
    "number += 20 # 130\n",
    "number += 30 # 160\n",
    "print(number) # 160"
   ]
  },
  {
   "cell_type": "code",
   "execution_count": 6,
   "id": "18799c27-28ed-4a21-9f96-f5a2d353aaec",
   "metadata": {},
   "outputs": [
    {
     "name": "stdout",
     "output_type": "stream",
     "text": [
      "안녕하세요!!\n"
     ]
    }
   ],
   "source": [
    "# 문자열 복합 대입 연산자\n",
    "str1 = \"안녕하세요\" # \"안녕하세요\"\n",
    "str1 += \"!\" # \"안녕하세요!\"\n",
    "str1 += \"!\" # \"안녕하세요!!\"\n",
    "print(str1) # \"안녕하세요!!\""
   ]
  },
  {
   "cell_type": "markdown",
   "id": "1ecbb7c1-758f-4a6a-8272-c0606d1f6330",
   "metadata": {},
   "source": [
    "# 자료형 변환"
   ]
  },
  {
   "cell_type": "markdown",
   "id": "8b08e8c8-9e48-44fd-9828-2ea98bc2613f",
   "metadata": {},
   "source": [
    "## 문자열을 숫자로 바꾸기\n",
    "- int() : 문자열을 정수 자료형으로 변환\n",
    "- float() : 문자열을 실수 자료형으로 변환\n"
   ]
  },
  {
   "cell_type": "code",
   "execution_count": 8,
   "id": "36d370aa-625f-40ec-8ca0-fba9ce3f033a",
   "metadata": {},
   "outputs": [
    {
     "name": "stdout",
     "output_type": "stream",
     "text": [
      "문자열 자료 : 27352\n",
      "숫자 자료 : 325\n"
     ]
    }
   ],
   "source": [
    "str_a = \"273\"\n",
    "int_a = int(str_a)\n",
    "\n",
    "str_b = \"52\"\n",
    "int_b = int(str_b)\n",
    "\n",
    "print(\"문자열 자료 : \" + str_a + str_b)\n",
    "print(\"숫자 자료 :\", int_a + int_b)"
   ]
  },
  {
   "cell_type": "code",
   "execution_count": 9,
   "id": "b23c6609-c5ce-40b4-8683-ab482f39576d",
   "metadata": {},
   "outputs": [
    {
     "name": "stdout",
     "output_type": "stream",
     "text": [
      "<class 'int'> 52\n",
      "<class 'float'> 52.273\n"
     ]
    }
   ],
   "source": [
    "output_a = int(\"52\")\n",
    "output_b = float(\"52.273\")\n",
    "\n",
    "print(type(output_a), output_a)\n",
    "print(type(output_b), output_b)"
   ]
  },
  {
   "cell_type": "code",
   "execution_count": 10,
   "id": "eba6cc23-f334-4226-a907-00e4011f27e3",
   "metadata": {},
   "outputs": [
    {
     "name": "stdout",
     "output_type": "stream",
     "text": [
      "덧셈결과 : 325.0\n"
     ]
    }
   ],
   "source": [
    "input_a = float(\"273\")\n",
    "input_b = float(\"52\")\n",
    "\n",
    "print(\"덧셈결과 :\", input_a + input_b)"
   ]
  },
  {
   "cell_type": "markdown",
   "id": "191d11bc-2f06-4cf4-accb-440871a9965e",
   "metadata": {},
   "source": [
    "- 자료형을 변환할 때 '변환할 수 없는 것'을 변환하려고 하면 ValueError 예외가 발생\n",
    "    - 숫자가 아닌 것을 숫자로 변환하려고 할 때\n",
    "    - 소수점이 있는 숫자 형식의 문자열을 int() 함수로 변환하려고 할 때"
   ]
  },
  {
   "cell_type": "code",
   "execution_count": 11,
   "id": "a11bc758-9498-4cb8-8158-08f5e6900b79",
   "metadata": {},
   "outputs": [
    {
     "ename": "ValueError",
     "evalue": "invalid literal for int() with base 10: '안녕하세요'",
     "output_type": "error",
     "traceback": [
      "\u001b[0;31m---------------------------------------------------------------------------\u001b[0m",
      "\u001b[0;31mValueError\u001b[0m                                Traceback (most recent call last)",
      "Cell \u001b[0;32mIn[11], line 2\u001b[0m\n\u001b[1;32m      1\u001b[0m \u001b[38;5;66;03m# 문자열을 숫자로 변환할 수 없음\u001b[39;00m\n\u001b[0;32m----> 2\u001b[0m \u001b[38;5;28;43mint\u001b[39;49m\u001b[43m(\u001b[49m\u001b[38;5;124;43m\"\u001b[39;49m\u001b[38;5;124;43m안녕하세요\u001b[39;49m\u001b[38;5;124;43m\"\u001b[39;49m\u001b[43m)\u001b[49m\n",
      "\u001b[0;31mValueError\u001b[0m: invalid literal for int() with base 10: '안녕하세요'"
     ]
    }
   ],
   "source": [
    "# 문자열을 숫자로 변환할 수 없음\n",
    "int(\"안녕하세요\")"
   ]
  },
  {
   "cell_type": "code",
   "execution_count": 12,
   "id": "c0727558-6a73-4e2a-99d2-14ccc3d1f805",
   "metadata": {},
   "outputs": [
    {
     "ename": "ValueError",
     "evalue": "invalid literal for int() with base 10: '52.273'",
     "output_type": "error",
     "traceback": [
      "\u001b[0;31m---------------------------------------------------------------------------\u001b[0m",
      "\u001b[0;31mValueError\u001b[0m                                Traceback (most recent call last)",
      "Cell \u001b[0;32mIn[12], line 2\u001b[0m\n\u001b[1;32m      1\u001b[0m \u001b[38;5;66;03m# 소수점이 있는 자료를 정수형으로 바꿀 수 없음\u001b[39;00m\n\u001b[0;32m----> 2\u001b[0m \u001b[38;5;28;43mint\u001b[39;49m\u001b[43m(\u001b[49m\u001b[38;5;124;43m\"\u001b[39;49m\u001b[38;5;124;43m52.273\u001b[39;49m\u001b[38;5;124;43m\"\u001b[39;49m\u001b[43m)\u001b[49m\n",
      "\u001b[0;31mValueError\u001b[0m: invalid literal for int() with base 10: '52.273'"
     ]
    }
   ],
   "source": [
    "# 소수점이 있는 자료를 정수형으로 바꿀 수 없음\n",
    "int(\"52.273\")"
   ]
  },
  {
   "cell_type": "code",
   "execution_count": 13,
   "id": "0795974b-59f4-4ab5-a8c9-c0481213da89",
   "metadata": {},
   "outputs": [
    {
     "data": {
      "text/plain": [
       "52"
      ]
     },
     "execution_count": 13,
     "metadata": {},
     "output_type": "execute_result"
    }
   ],
   "source": [
    "int(52.273)"
   ]
  },
  {
   "cell_type": "markdown",
   "id": "48906613-9baa-4ec2-a222-a06dbb07e2ea",
   "metadata": {},
   "source": [
    "## 숫자를 문자열로 바꾸기\n",
    "- str() : 다른 자료형을 문자열로 변환"
   ]
  },
  {
   "cell_type": "code",
   "execution_count": 3,
   "id": "6375fc7b-43e5-4109-b026-f2d4099d1498",
   "metadata": {},
   "outputs": [
    {
     "name": "stdout",
     "output_type": "stream",
     "text": [
      "<class 'str'> 52\n",
      "<class 'str'> 52.273\n"
     ]
    }
   ],
   "source": [
    "output_a = str(52)\n",
    "output_b = str(52.273)\n",
    "\n",
    "print(type(output_a), output_a)\n",
    "\n",
    "print(type(output_b), output_b)"
   ]
  },
  {
   "cell_type": "markdown",
   "id": "a0ea021a-1d1d-4a0a-9257-f27765d923de",
   "metadata": {},
   "source": [
    "## 확인문제"
   ]
  },
  {
   "cell_type": "code",
   "execution_count": 5,
   "id": "dbab1db3-3be9-410d-929f-ce6d4c7e9b31",
   "metadata": {},
   "outputs": [
    {
     "name": "stdout",
     "output_type": "stream",
     "text": [
      "27inch는 cm 단위로 68.58cm 입니다\n"
     ]
    }
   ],
   "source": [
    "#1inch 가 2.54cm 일 때\n",
    "# inch 단위의 숫자를 cm 단위로 변경하는 코드를 작성\n",
    "inch_data = 27\n",
    "cm_data = inch_data * 2.54\n",
    "print(f\"{inch_data}inch는 cm 단위로 {cm_data}cm 입니다\")"
   ]
  },
  {
   "cell_type": "code",
   "execution_count": null,
   "id": "eb083d89-0d69-4905-8b50-3dea16d073ba",
   "metadata": {},
   "outputs": [],
   "source": []
  },
  {
   "cell_type": "code",
   "execution_count": null,
   "id": "f4e8d811-d6e4-41cb-ab67-40408a72a7f1",
   "metadata": {},
   "outputs": [],
   "source": []
  },
  {
   "cell_type": "code",
   "execution_count": null,
   "id": "d6257b05-8d8b-4c89-a9f9-5a248a84f0e4",
   "metadata": {},
   "outputs": [],
   "source": []
  },
  {
   "cell_type": "code",
   "execution_count": null,
   "id": "14730ecd-7e49-4be5-8abb-ef650e6aa097",
   "metadata": {},
   "outputs": [],
   "source": []
  },
  {
   "cell_type": "code",
   "execution_count": null,
   "id": "9d1eeaf5-56ad-478e-a060-e52b370da8a4",
   "metadata": {},
   "outputs": [],
   "source": []
  },
  {
   "cell_type": "code",
   "execution_count": null,
   "id": "a760fabd-5543-4324-b811-1e322b3b5535",
   "metadata": {},
   "outputs": [],
   "source": []
  },
  {
   "cell_type": "code",
   "execution_count": null,
   "id": "01e60a30-edbd-4916-8ec1-5fb0f2d48ed9",
   "metadata": {},
   "outputs": [],
   "source": []
  },
  {
   "cell_type": "code",
   "execution_count": null,
   "id": "4476f663-1421-49e2-a187-26d210f2fe57",
   "metadata": {},
   "outputs": [],
   "source": []
  },
  {
   "cell_type": "code",
   "execution_count": null,
   "id": "e2281c37-c638-477e-8e7a-e1beb2d78be3",
   "metadata": {},
   "outputs": [],
   "source": []
  },
  {
   "cell_type": "code",
   "execution_count": null,
   "id": "c217c5a4-eb2c-47b3-8875-3d440a3bfad3",
   "metadata": {},
   "outputs": [],
   "source": []
  },
  {
   "cell_type": "code",
   "execution_count": null,
   "id": "1904be91-5f0c-4d11-8335-9857c66a27df",
   "metadata": {},
   "outputs": [],
   "source": []
  },
  {
   "cell_type": "code",
   "execution_count": null,
   "id": "2d874437-4a75-4a29-8d66-8ae8661a685e",
   "metadata": {},
   "outputs": [],
   "source": []
  },
  {
   "cell_type": "code",
   "execution_count": null,
   "id": "25602b6c-826d-4837-810f-891b1694a5fb",
   "metadata": {},
   "outputs": [],
   "source": []
  },
  {
   "cell_type": "code",
   "execution_count": null,
   "id": "12eab89e-1349-4f1a-a8f0-7662cbe4f5bd",
   "metadata": {},
   "outputs": [],
   "source": []
  },
  {
   "cell_type": "code",
   "execution_count": null,
   "id": "07bbb76f-ed33-489c-b451-93f95dc88d44",
   "metadata": {},
   "outputs": [],
   "source": []
  },
  {
   "cell_type": "code",
   "execution_count": null,
   "id": "db7c61a6-46d9-423d-84d0-b85446c063aa",
   "metadata": {},
   "outputs": [],
   "source": []
  },
  {
   "cell_type": "code",
   "execution_count": null,
   "id": "5f0e9319-ea65-44bf-9eb5-28a6d70501d8",
   "metadata": {},
   "outputs": [],
   "source": []
  },
  {
   "cell_type": "code",
   "execution_count": null,
   "id": "f5ff6c3b-15bb-4895-810a-b18ba1195963",
   "metadata": {},
   "outputs": [],
   "source": []
  },
  {
   "cell_type": "code",
   "execution_count": null,
   "id": "976e372d-5aaa-48ea-83ae-cf1f51f5d316",
   "metadata": {},
   "outputs": [],
   "source": []
  },
  {
   "cell_type": "code",
   "execution_count": null,
   "id": "68545a1c-4c72-44ab-91d3-af693e1b6b93",
   "metadata": {},
   "outputs": [],
   "source": []
  },
  {
   "cell_type": "code",
   "execution_count": null,
   "id": "05a5618f-76de-4e80-86a9-9e258239e85d",
   "metadata": {},
   "outputs": [],
   "source": []
  },
  {
   "cell_type": "code",
   "execution_count": null,
   "id": "69d3c7ef-1382-49df-bc8b-8d0c31b28394",
   "metadata": {},
   "outputs": [],
   "source": []
  },
  {
   "cell_type": "code",
   "execution_count": null,
   "id": "d09bcd0e-2db2-4d7d-a07e-58f8d40b6c45",
   "metadata": {},
   "outputs": [],
   "source": []
  }
 ],
 "metadata": {
  "kernelspec": {
   "display_name": "Python 3 (ipykernel)",
   "language": "python",
   "name": "python3"
  },
  "language_info": {
   "codemirror_mode": {
    "name": "ipython",
    "version": 3
   },
   "file_extension": ".py",
   "mimetype": "text/x-python",
   "name": "python",
   "nbconvert_exporter": "python",
   "pygments_lexer": "ipython3",
   "version": "3.10.9"
  }
 },
 "nbformat": 4,
 "nbformat_minor": 5
}
