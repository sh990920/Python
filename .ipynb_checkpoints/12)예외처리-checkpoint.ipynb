{
 "cells": [
  {
   "cell_type": "markdown",
   "id": "fc8c935d-392d-4993-b5af-9fdc104674ad",
   "metadata": {},
   "source": [
    "# 예외처리의 필요성\n",
    "- 문제 발생으로 인해 프로그램이 비정상적으로 종료되는 것을 막고 발생한 문제에 대한 정보를 전달하기 위해 사용"
   ]
  },
  {
   "cell_type": "markdown",
   "id": "69cfac50-cc70-45a8-bffb-95baaee62105",
   "metadata": {},
   "source": [
    "# try-except문\n",
    "- 예외처리를 위한 기본 구조\n",
    "    - try:\n",
    "    -     코드\n",
    "    - except[발생오류 [as 오류 메세지 변수]]:\n",
    "    -     코드\n",
    "\n",
    "- try 블록 실행 중 오류가 발생하면 except 블록이 실행\n",
    "    - try 블록에서 오류가 발생하지 않는다면 except 블록은 실행되지 않는다."
   ]
  },
  {
   "cell_type": "markdown",
   "id": "5d26873f-7607-4ef4-918c-d019dd452e86",
   "metadata": {},
   "source": [
    "## 예외처리 방법\n",
    "- try, except만 쓰는 방법\n",
    "- 발생 오류만 포함한 except문\n",
    "- 발생 오류와 오류 메시지 변수까지 포함한 except문"
   ]
  },
  {
   "cell_type": "code",
   "execution_count": 2,
   "id": "68e17f00-25f6-4f76-b38a-f6b5cc0fce7a",
   "metadata": {},
   "outputs": [
    {
     "name": "stdout",
     "output_type": "stream",
     "text": [
      "error\n"
     ]
    }
   ],
   "source": [
    "# try, except 만 쓰는 방법\n",
    "try:\n",
    "    4 / 0\n",
    "except:\n",
    "    print(\"error\")"
   ]
  },
  {
   "cell_type": "code",
   "execution_count": 4,
   "id": "92b16f5c-9515-4b9d-a240-e54d8d1f5039",
   "metadata": {},
   "outputs": [
    {
     "name": "stdout",
     "output_type": "stream",
     "text": [
      "error\n"
     ]
    }
   ],
   "source": [
    "# 발생 오류만 포함한 except문\n",
    "try:\n",
    "    4 / 0\n",
    "except ZeroDivisionError:\n",
    "    print(\"error\")\n",
    "\n",
    "except KeyError:\n",
    "    pirnt(\"key_error\")"
   ]
  },
  {
   "cell_type": "code",
   "execution_count": 7,
   "id": "ce800e8a-0eb5-47b5-a45f-91ed7a5b66f9",
   "metadata": {},
   "outputs": [
    {
     "name": "stdout",
     "output_type": "stream",
     "text": [
      "division by zero\n"
     ]
    }
   ],
   "source": [
    "# 발생 오류와 오류 메세지 변수까지 포함한 except문\n",
    "try:\n",
    "    4 / 0\n",
    "except ZeroDivisionError as e:\n",
    "    print(e)"
   ]
  },
  {
   "cell_type": "code",
   "execution_count": 11,
   "id": "8874fed3-d468-42d0-8e66-619e78208849",
   "metadata": {},
   "outputs": [
    {
     "name": "stdin",
     "output_type": "stream",
     "text": [
      "나누어지는 수를 입력 :  32\n",
      "나누는 수를 입력 :  다섯\n"
     ]
    },
    {
     "name": "stdout",
     "output_type": "stream",
     "text": [
      "invalid literal for int() with base 10: '다섯'\n",
      "정수만 입력할 수 있습니다.\n"
     ]
    }
   ],
   "source": [
    "try:\n",
    "    a = int(input(\"나누어지는 수를 입력 : \"))\n",
    "    b = int(input(\"나누는 수를 입력 : \"))\n",
    "    print(f\"{a} / {b} = {a / b}\")\n",
    "    \n",
    "except ZeroDivisionError as e:\n",
    "    print(e)\n",
    "    print(\"0으로 나눌 수 없습니다.\")\n",
    "    \n",
    "except ValueError as e:\n",
    "    print(e)\n",
    "    print(\"정수만 입력할 수 있습니다.\")"
   ]
  },
  {
   "cell_type": "markdown",
   "id": "985e3878-9e05-48c3-afca-60a0e7b23d31",
   "metadata": {},
   "source": [
    "# else, finally 문\n",
    "~~~\n",
    "try:\n",
    "    코드 작성 영역\n",
    "except:\n",
    "    예외 발생 시 처리 영역\n",
    "else:\n",
    "    예외가 없을 때 처리\n",
    "finally:\n",
    "    언제나 실행되는 영역\n",
    "~~~"
   ]
  },
  {
   "cell_type": "code",
   "execution_count": 5,
   "id": "aa39a581-ae2b-45fb-9b2f-8012a26f4d96",
   "metadata": {},
   "outputs": [
    {
     "name": "stdin",
     "output_type": "stream",
     "text": [
      "나누어 지는 수를 입력 :  4\n",
      "나누는 수를 입력 :  0\n"
     ]
    },
    {
     "name": "stdout",
     "output_type": "stream",
     "text": [
      "division by zero\n",
      "프로그램 종료\n"
     ]
    }
   ],
   "source": [
    "try:\n",
    "    a = int(input(\"나누어 지는 수를 입력 : \"))\n",
    "    b = int(input(\"나누는 수를 입력 : \"))\n",
    "    result = a / b\n",
    "    \n",
    "except Exception as e:\n",
    "    print(e)\n",
    "\n",
    "else:\n",
    "    print(f\"{a} / {b} = {result}\")\n",
    "\n",
    "finally:\n",
    "    print(\"프로그램 종료\")"
   ]
  },
  {
   "cell_type": "markdown",
   "id": "32b95b33-63a7-4643-892a-a659bfda2d00",
   "metadata": {},
   "source": [
    "# try, except, finally 구문의 조합\n",
    "- try 구문은 단독으로 사용할 수 없으며, 반드시 except구문 또는 finally 구문과 함께 사용해야 함\n",
    "- else 구문은 반드시 except 구문 뒤에 사용해야 한다.\n",
    "- 가능한 조합\n",
    "    - try + except\n",
    "    - try + except + else\n",
    "    - try + except + else + finally\n",
    "    - try + except + finally\n",
    "    - try + finally\n",
    "- 가능한 조합 외의 모든 조합은 구문 오류 발생"
   ]
  },
  {
   "cell_type": "code",
   "execution_count": 6,
   "id": "d9668d25-6193-480a-962f-2ba067da7a0f",
   "metadata": {},
   "outputs": [
    {
     "ename": "SyntaxError",
     "evalue": "expected 'except' or 'finally' block (3820784921.py, line 4)",
     "output_type": "error",
     "traceback": [
      "\u001b[0;36m  Cell \u001b[0;32mIn[6], line 4\u001b[0;36m\u001b[0m\n\u001b[0;31m    else:\u001b[0m\n\u001b[0m    ^\u001b[0m\n\u001b[0;31mSyntaxError\u001b[0m\u001b[0;31m:\u001b[0m expected 'except' or 'finally' block\n"
     ]
    }
   ],
   "source": [
    "try:\n",
    "    num_a = int(input(\"정수 입력 : \"))\n",
    "    print(num_a)\n",
    "else:\n",
    "    print(\"프로그램 종료\")"
   ]
  },
  {
   "cell_type": "markdown",
   "id": "c1518677-89a9-441a-a602-c50c1184603e",
   "metadata": {},
   "source": [
    "# finally 활용"
   ]
  },
  {
   "cell_type": "code",
   "execution_count": 9,
   "id": "3134bf7f-cbc9-4e11-bd06-b7db8f018bc5",
   "metadata": {},
   "outputs": [
    {
     "name": "stdout",
     "output_type": "stream",
     "text": [
      "오류가 발생했습니다\n",
      "file.closed : True\n"
     ]
    }
   ],
   "source": [
    "# 파일이 제대로 닫혔는지 확인하기\n",
    "try:\n",
    "    f = open(\"info.txt\", \"w\")\n",
    "    예외.발생\n",
    "    \n",
    "except:\n",
    "    print(\"오류가 발생했습니다\")\n",
    "\n",
    "finally:\n",
    "    f.close()\n",
    "    \n",
    "print(\"file.closed :\", f.closed)"
   ]
  },
  {
   "cell_type": "code",
   "execution_count": 10,
   "id": "51363a09-f8d7-4715-948e-2650c94762bb",
   "metadata": {},
   "outputs": [
    {
     "name": "stdout",
     "output_type": "stream",
     "text": [
      "오류가 발생했습니다\n",
      "file.closed : True\n"
     ]
    }
   ],
   "source": [
    "try:\n",
    "    f = open(\"info.txt\", \"w\")\n",
    "    예외.발생\n",
    "    \n",
    "except:\n",
    "    print(\"오류가 발생했습니다\")\n",
    "\n",
    "f.close()\n",
    "    \n",
    "print(\"file.closed :\", f.closed)"
   ]
  },
  {
   "cell_type": "code",
   "execution_count": 11,
   "id": "94597096-785d-4ffd-b34f-20f8adb466e8",
   "metadata": {},
   "outputs": [],
   "source": [
    "# try 구문 내부에서 return 키워드를 사용하는 경우\n",
    "def test():\n",
    "    print(\"test() 함수의 첫 줄\")\n",
    "    \n",
    "    try:\n",
    "        print(\"try 구문 실행\")\n",
    "        return\n",
    "        print(\"try 구문의 return 키워드 뒤\")\n",
    "    \n",
    "    except:\n",
    "        print(\"except 구문 실행\")\n",
    "        \n",
    "    else:\n",
    "        print(\"else 구문 실행\")\n",
    "        \n",
    "    finally:\n",
    "        print(\"finally 구문 실행\")\n",
    "        \n",
    "    print(\"test() 함수의 마지막 줄\")"
   ]
  },
  {
   "cell_type": "code",
   "execution_count": 12,
   "id": "1cc0b588-861c-454e-bade-90fa543bce1b",
   "metadata": {},
   "outputs": [
    {
     "name": "stdout",
     "output_type": "stream",
     "text": [
      "test() 함수의 첫 줄\n",
      "try 구문 실행\n",
      "finally 구문 실행\n"
     ]
    }
   ],
   "source": [
    "test()"
   ]
  },
  {
   "cell_type": "markdown",
   "id": "7a2ee0ac-d14e-46b1-b69c-3e53ba12e961",
   "metadata": {},
   "source": [
    "- try 구문 중간에 return으로 탈출해도 finally가 실행된다\n",
    "    - 함수 내부에서 파일 처리 코드를 깔끔하게 만들고 싶을 때 finally를 주로 활용"
   ]
  },
  {
   "cell_type": "code",
   "execution_count": 17,
   "id": "3c552dce-d51d-413e-8ce4-2677a3139895",
   "metadata": {},
   "outputs": [],
   "source": [
    "def write_text_file(fileName, text):\n",
    "    try:\n",
    "        f = open(fileName, \"w\")\n",
    "        \n",
    "        return\n",
    "    \n",
    "        f.write(text)\n",
    "        \n",
    "    except:\n",
    "        print(\"오류 발생\")\n",
    "        \n",
    "    finally:\n",
    "        f.close()"
   ]
  },
  {
   "cell_type": "code",
   "execution_count": 18,
   "id": "21d01115-2364-4be5-be1e-dd5b5d1b45fa",
   "metadata": {},
   "outputs": [
    {
     "name": "stdout",
     "output_type": "stream",
     "text": [
      "file.closed : True\n"
     ]
    }
   ],
   "source": [
    "write_text_file(\"test.txt\", \"안녕하세요\")\n",
    "print(\"file.closed :\", f.closed) "
   ]
  },
  {
   "cell_type": "code",
   "execution_count": 19,
   "id": "a40b8dcc-740b-4c96-a898-92071ddb74c6",
   "metadata": {},
   "outputs": [
    {
     "name": "stdout",
     "output_type": "stream",
     "text": [
      "프로그램 시작\n",
      "try 구문 실행\n",
      "finally 구문 실행\n",
      "프로그램 종료\n"
     ]
    }
   ],
   "source": [
    "# 반복문과 finally를 사용하는 경우\n",
    "print(\"프로그램 시작\")\n",
    "\n",
    "while True:\n",
    "    try:\n",
    "        print(\"try 구문 실행\")\n",
    "        break\n",
    "        print(\"try 구문의 break 키워드 뒤\")\n",
    "        \n",
    "    except:\n",
    "        print(\"except 구문 실행\")\n",
    "        \n",
    "    finally:\n",
    "        print(\"finally 구문 실행\")\n",
    "        \n",
    "    print(\"while 반복문의 마지막 줄\")\n",
    "    \n",
    "print(\"프로그램 종료\")"
   ]
  },
  {
   "cell_type": "markdown",
   "id": "68fe6c6e-5480-4f59-a17e-a1059e9ce405",
   "metadata": {},
   "source": [
    "# 강제로 예외 발생시키기"
   ]
  },
  {
   "cell_type": "code",
   "execution_count": 20,
   "id": "868609ff-cc71-41ba-9a41-0d49bbfb8beb",
   "metadata": {},
   "outputs": [
    {
     "name": "stdout",
     "output_type": "stream",
     "text": [
      "발생한 예외 메세지는\n",
      "강제로 발생시킨 예외\n"
     ]
    }
   ],
   "source": [
    "try:\n",
    "    raise Exception(\"강제로 발생시킨 예외\")\n",
    "\n",
    "except Exception as e:\n",
    "    print(\"발생한 예외 메세지는\")\n",
    "    print(e)"
   ]
  },
  {
   "cell_type": "code",
   "execution_count": 21,
   "id": "faf73d00-6d65-4bdb-ba53-5710a85a75d4",
   "metadata": {},
   "outputs": [
    {
     "ename": "Exception",
     "evalue": "강제로 발생시킨 예외",
     "output_type": "error",
     "traceback": [
      "\u001b[0;31m---------------------------------------------------------------------------\u001b[0m",
      "\u001b[0;31mException\u001b[0m                                 Traceback (most recent call last)",
      "Cell \u001b[0;32mIn[21], line 1\u001b[0m\n\u001b[0;32m----> 1\u001b[0m \u001b[38;5;28;01mraise\u001b[39;00m \u001b[38;5;167;01mException\u001b[39;00m(\u001b[38;5;124m\"\u001b[39m\u001b[38;5;124m강제로 발생시킨 예외\u001b[39m\u001b[38;5;124m\"\u001b[39m)\n",
      "\u001b[0;31mException\u001b[0m: 강제로 발생시킨 예외"
     ]
    }
   ],
   "source": [
    "raise Exception(\"강제로 발생시킨 예외\")"
   ]
  },
  {
   "cell_type": "markdown",
   "id": "cf43dc52-3b20-4a59-ba46-156efcde65d5",
   "metadata": {},
   "source": [
    "# 사용자 예외 클래스\n",
    "- Exception 클래스를 상속받는 클래스를 생성"
   ]
  },
  {
   "cell_type": "code",
   "execution_count": 23,
   "id": "d619a1aa-9e9c-487d-a131-335b1dca3f26",
   "metadata": {},
   "outputs": [],
   "source": [
    "class HourError(Exception):\n",
    "    def __init__(self):\n",
    "        super().__init__(\"올바른 시간이 아닙니다\")"
   ]
  },
  {
   "cell_type": "code",
   "execution_count": 25,
   "id": "7038d3e9-b547-4991-8d30-85e3a6954edd",
   "metadata": {},
   "outputs": [
    {
     "name": "stdin",
     "output_type": "stream",
     "text": [
      "시간을 입력하세요 26\n"
     ]
    },
    {
     "name": "stdout",
     "output_type": "stream",
     "text": [
      "올바른 시간이 아닙니다\n"
     ]
    }
   ],
   "source": [
    "try:\n",
    "    hour = int(input(\"시간을 입력하세요\"))\n",
    "    \n",
    "    if hour < 0 or hour > 23:\n",
    "        raise HourError\n",
    "        \n",
    "except HourError as e:\n",
    "    print(e)"
   ]
  },
  {
   "cell_type": "markdown",
   "id": "8b3451a2-efe8-44c8-a68d-1ce7bcc6e5f4",
   "metadata": {},
   "source": [
    "# 오류의 종류\n",
    "- 구문 오류(syntex error) : 프로그램 실행 전에 발생하는 오류\n",
    "- 런타임 오류(runtime error) : 프로그램 실행 중에 발생하는 오류"
   ]
  },
  {
   "cell_type": "markdown",
   "id": "4c24d6e1-fb20-43f3-bf82-8b0bab6ccfa5",
   "metadata": {},
   "source": [
    "## 구문 오류\n",
    "- 괄호의 갯수, 들여쓰기 문제 등으로 프로그램이 실행되기도 전에 발생하는 오류\n",
    "    - 프로그램이 실행조차 되지 않기 때문에 예외처리로는 처리할 수 없음\n",
    "    - 구문 오류가 발생한 코드를 수정해야함"
   ]
  },
  {
   "cell_type": "code",
   "execution_count": 26,
   "id": "57acc7a9-3a5a-4b4a-bbe6-712550244123",
   "metadata": {},
   "outputs": [
    {
     "ename": "SyntaxError",
     "evalue": "unterminated string literal (detected at line 5) (4198451465.py, line 5)",
     "output_type": "error",
     "traceback": [
      "\u001b[0;36m  Cell \u001b[0;32mIn[26], line 5\u001b[0;36m\u001b[0m\n\u001b[0;31m    print(\"오류 발생)\u001b[0m\n\u001b[0m          ^\u001b[0m\n\u001b[0;31mSyntaxError\u001b[0m\u001b[0;31m:\u001b[0m unterminated string literal (detected at line 5)\n"
     ]
    }
   ],
   "source": [
    "# 프로그램 시작\n",
    "print(\"프로그램 시작\")\n",
    "\n",
    "# 구문 오류 발생 코드\n",
    "print(\"오류 발생)"
   ]
  },
  {
   "cell_type": "markdown",
   "id": "9ddf3bf2-3d9b-4c25-acd9-af34b8397dae",
   "metadata": {},
   "source": [
    "- SyntexError : 구문에 문제가 있어 프로그램이 실행되지 않음"
   ]
  },
  {
   "cell_type": "markdown",
   "id": "0d44158b-71be-4b35-8a66-21aa00dddd38",
   "metadata": {},
   "source": [
    "## 런타임 오류\n",
    "- 프로그램 실행 중에 발생하는 오류\n",
    "- 예외 라고도 함"
   ]
  },
  {
   "cell_type": "code",
   "execution_count": 29,
   "id": "3c6b3c8d-58d5-4458-bed3-2af0469407b9",
   "metadata": {},
   "outputs": [
    {
     "name": "stdout",
     "output_type": "stream",
     "text": [
      "프로그램 실행\n"
     ]
    },
    {
     "ename": "NameError",
     "evalue": "name 'list_a' is not defined",
     "output_type": "error",
     "traceback": [
      "\u001b[0;31m---------------------------------------------------------------------------\u001b[0m",
      "\u001b[0;31mNameError\u001b[0m                                 Traceback (most recent call last)",
      "Cell \u001b[0;32mIn[29], line 5\u001b[0m\n\u001b[1;32m      2\u001b[0m \u001b[38;5;28mprint\u001b[39m(\u001b[38;5;124m\"\u001b[39m\u001b[38;5;124m프로그램 실행\u001b[39m\u001b[38;5;124m\"\u001b[39m)\n\u001b[1;32m      4\u001b[0m \u001b[38;5;66;03m# 예외 발생 코드\u001b[39;00m\n\u001b[0;32m----> 5\u001b[0m \u001b[43mlist_a\u001b[49m[\u001b[38;5;241m1\u001b[39m]\n",
      "\u001b[0;31mNameError\u001b[0m: name 'list_a' is not defined"
     ]
    }
   ],
   "source": [
    "# 프로그램 실행\n",
    "print(\"프로그램 실행\")\n",
    "\n",
    "# 예외 발생 코드\n",
    "list_a[1]"
   ]
  },
  {
   "cell_type": "markdown",
   "id": "8bd8feb8-ca50-4871-8f84-90c10cd11266",
   "metadata": {},
   "source": [
    "- 프로그램 시작이라는 문자열은 출력되었음"
   ]
  },
  {
   "cell_type": "markdown",
   "id": "361da902-4b8c-4d13-9ca1-6a72a7649876",
   "metadata": {},
   "source": [
    "# 조건문으로 예외 처리하기(기본 예외 처리)"
   ]
  },
  {
   "cell_type": "code",
   "execution_count": 32,
   "id": "38a50d3f-223b-4c5f-82c8-7e95e7b73973",
   "metadata": {},
   "outputs": [
    {
     "name": "stdin",
     "output_type": "stream",
     "text": [
      "정수 입력 :  ㅁ\n"
     ]
    },
    {
     "ename": "ValueError",
     "evalue": "invalid literal for int() with base 10: 'ㅁ'",
     "output_type": "error",
     "traceback": [
      "\u001b[0;31m---------------------------------------------------------------------------\u001b[0m",
      "\u001b[0;31mValueError\u001b[0m                                Traceback (most recent call last)",
      "Cell \u001b[0;32mIn[32], line 5\u001b[0m\n\u001b[1;32m      2\u001b[0m user_input \u001b[38;5;241m=\u001b[39m \u001b[38;5;28minput\u001b[39m(\u001b[38;5;124m\"\u001b[39m\u001b[38;5;124m정수 입력 : \u001b[39m\u001b[38;5;124m\"\u001b[39m)\n\u001b[1;32m      4\u001b[0m \u001b[38;5;66;03m# 숫자로 변환\u001b[39;00m\n\u001b[0;32m----> 5\u001b[0m number_input \u001b[38;5;241m=\u001b[39m \u001b[38;5;28;43mint\u001b[39;49m\u001b[43m(\u001b[49m\u001b[43muser_input\u001b[49m\u001b[43m)\u001b[49m\n\u001b[1;32m      7\u001b[0m \u001b[38;5;66;03m# 출력\u001b[39;00m\n\u001b[1;32m      8\u001b[0m \u001b[38;5;28mprint\u001b[39m(number_input)\n",
      "\u001b[0;31mValueError\u001b[0m: invalid literal for int() with base 10: 'ㅁ'"
     ]
    }
   ],
   "source": [
    "# 숫자를 입력 받음\n",
    "user_input = input(\"정수 입력 : \")\n",
    "\n",
    "# 숫자로 변환\n",
    "number_input = int(user_input)\n",
    "\n",
    "# 출력\n",
    "print(number_input)"
   ]
  },
  {
   "cell_type": "code",
   "execution_count": 36,
   "id": "107417e3-5b3b-47ea-a23c-e8f7d3475ecb",
   "metadata": {},
   "outputs": [
    {
     "name": "stdin",
     "output_type": "stream",
     "text": [
      "정수 입력 :  ㅁ\n"
     ]
    },
    {
     "name": "stdout",
     "output_type": "stream",
     "text": [
      "정수를 입력하지 않았습니다.\n"
     ]
    }
   ],
   "source": [
    "# 숫자를 입력 받음\n",
    "user_input = input(\"정수 입력 : \")\n",
    "\n",
    "# 사용자의 입력이 숫자로만 구성되어 있을 때\n",
    "if user_input.isdigit(): # 숫자로만 구성된 글자인지 확인하는 메서드\n",
    "    # 숫자로 변환\n",
    "    number_input = int(user_input)\n",
    "    # 출력\n",
    "    print(number_input)\n",
    "else:\n",
    "    print(\"정수를 입력하지 않았습니다.\")"
   ]
  },
  {
   "cell_type": "markdown",
   "id": "995d64b9-6f29-4032-8ef1-17b0ef5365ff",
   "metadata": {},
   "source": [
    "# try-except 구문과 pass 키워드 조합\n",
    "- 예외가 발생하면 일단 처리해야 하지만, 해당 코드가 딱히 중요한 부분이 아니라면 일단 try-except구문으로 프로그램 강제종료만 막을 수도 있음"
   ]
  },
  {
   "cell_type": "code",
   "execution_count": 38,
   "id": "acbd1d0f-698f-4405-bb43-1905936c9dd9",
   "metadata": {},
   "outputs": [
    {
     "name": "stdout",
     "output_type": "stream",
     "text": [
      "['52', '273', '32', '103']\n"
     ]
    }
   ],
   "source": [
    "list_input_a = [\"52\", \"273\", \"32\", \"스파이\", \"103\"]\n",
    "\n",
    "list_num = []\n",
    "\n",
    "for i in list_input_a:\n",
    "    try:\n",
    "        float(i) # 예외가 발생한다면 다음 코드 진행 안됨\n",
    "        list_num.append(i) # 예외없이 통과한다면 리스트에 추가\n",
    "        \n",
    "    except:\n",
    "        pass\n",
    "    \n",
    "print(list_num)"
   ]
  },
  {
   "cell_type": "markdown",
   "id": "eed5babe-4c72-48ce-afb9-106da6f50a28",
   "metadata": {},
   "source": [
    "- 숫자로 변환할 수 없는 데이터라면 float(i)에서 예외가 발생\n",
    "- try-except 구문은 if 구문을 활용하는 예외처리 방법에 비해 느린편"
   ]
  }
 ],
 "metadata": {
  "kernelspec": {
   "display_name": "Python 3 (ipykernel)",
   "language": "python",
   "name": "python3"
  },
  "language_info": {
   "codemirror_mode": {
    "name": "ipython",
    "version": 3
   },
   "file_extension": ".py",
   "mimetype": "text/x-python",
   "name": "python",
   "nbconvert_exporter": "python",
   "pygments_lexer": "ipython3",
   "version": "3.10.9"
  }
 },
 "nbformat": 4,
 "nbformat_minor": 5
}
