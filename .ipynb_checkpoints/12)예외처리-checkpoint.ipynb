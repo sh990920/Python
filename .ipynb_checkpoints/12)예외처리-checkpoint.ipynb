{
 "cells": [
  {
   "cell_type": "markdown",
   "id": "fc8c935d-392d-4993-b5af-9fdc104674ad",
   "metadata": {},
   "source": [
    "# 예외처리의 필요성\n",
    "- 문제 발생으로 인해 프로그램이 비정상적으로 종료되는 것을 막고 발생한 문제에 대한 정보를 전달하기 위해 사용"
   ]
  },
  {
   "cell_type": "markdown",
   "id": "69cfac50-cc70-45a8-bffb-95baaee62105",
   "metadata": {},
   "source": [
    "# try-except문\n",
    "- 예외처리를 위한 기본 구조\n",
    "    - try:\n",
    "    -     코드\n",
    "    - except[발생오류 [as 오류 메세지 변수]]:\n",
    "    -     코드\n",
    "\n",
    "- try 블록 실행 중 오류가 발생하면 except 블록이 실행\n",
    "    - try 블록에서 오류가 발생하지 않는다면 except 블록은 실행되지 않는다."
   ]
  },
  {
   "cell_type": "markdown",
   "id": "5d26873f-7607-4ef4-918c-d019dd452e86",
   "metadata": {},
   "source": [
    "## 예외처리 방법\n",
    "- try, except만 쓰는 방법\n",
    "- 발생 오류만 포함한 except문\n",
    "- 발생 오류와 오류 메시지 변수까지 포함한 except문"
   ]
  },
  {
   "cell_type": "code",
   "execution_count": 2,
   "id": "68e17f00-25f6-4f76-b38a-f6b5cc0fce7a",
   "metadata": {},
   "outputs": [
    {
     "name": "stdout",
     "output_type": "stream",
     "text": [
      "error\n"
     ]
    }
   ],
   "source": [
    "# try, except 만 쓰는 방법\n",
    "try:\n",
    "    4 / 0\n",
    "except:\n",
    "    print(\"error\")"
   ]
  },
  {
   "cell_type": "code",
   "execution_count": 4,
   "id": "92b16f5c-9515-4b9d-a240-e54d8d1f5039",
   "metadata": {},
   "outputs": [
    {
     "name": "stdout",
     "output_type": "stream",
     "text": [
      "error\n"
     ]
    }
   ],
   "source": [
    "# 발생 오류만 포함한 except문\n",
    "try:\n",
    "    4 / 0\n",
    "except ZeroDivisionError:\n",
    "    print(\"error\")\n",
    "\n",
    "except KeyError:\n",
    "    pirnt(\"key_error\")"
   ]
  },
  {
   "cell_type": "code",
   "execution_count": 7,
   "id": "ce800e8a-0eb5-47b5-a45f-91ed7a5b66f9",
   "metadata": {},
   "outputs": [
    {
     "name": "stdout",
     "output_type": "stream",
     "text": [
      "division by zero\n"
     ]
    }
   ],
   "source": [
    "# 발생 오류와 오류 메세지 변수까지 포함한 except문\n",
    "try:\n",
    "    4 / 0\n",
    "except ZeroDivisionError as e:\n",
    "    print(e)"
   ]
  },
  {
   "cell_type": "code",
   "execution_count": 11,
   "id": "8874fed3-d468-42d0-8e66-619e78208849",
   "metadata": {},
   "outputs": [
    {
     "name": "stdin",
     "output_type": "stream",
     "text": [
      "나누어지는 수를 입력 :  32\n",
      "나누는 수를 입력 :  다섯\n"
     ]
    },
    {
     "name": "stdout",
     "output_type": "stream",
     "text": [
      "invalid literal for int() with base 10: '다섯'\n",
      "정수만 입력할 수 있습니다.\n"
     ]
    }
   ],
   "source": [
    "try:\n",
    "    a = int(input(\"나누어지는 수를 입력 : \"))\n",
    "    b = int(input(\"나누는 수를 입력 : \"))\n",
    "    print(f\"{a} / {b} = {a / b}\")\n",
    "    \n",
    "except ZeroDivisionError as e:\n",
    "    print(e)\n",
    "    print(\"0으로 나눌 수 없습니다.\")\n",
    "    \n",
    "except ValueError as e:\n",
    "    print(e)\n",
    "    print(\"정수만 입력할 수 있습니다.\")"
   ]
  }
 ],
 "metadata": {
  "kernelspec": {
   "display_name": "Python 3 (ipykernel)",
   "language": "python",
   "name": "python3"
  },
  "language_info": {
   "codemirror_mode": {
    "name": "ipython",
    "version": 3
   },
   "file_extension": ".py",
   "mimetype": "text/x-python",
   "name": "python",
   "nbconvert_exporter": "python",
   "pygments_lexer": "ipython3",
   "version": "3.10.9"
  }
 },
 "nbformat": 4,
 "nbformat_minor": 5
}
