{
 "cells": [
  {
   "cell_type": "raw",
   "id": "c5a17053-36cf-4d42-a8e1-32c50c6e42ab",
   "metadata": {},
   "source": [
    "# 이터레이터(iterator)\n",
    "- 값을 차례대로 꺼낼 수 있는 객체\n",
    "- range는 사실 숫자를 모두 만들어 내는것이 아니라 숫자를 차례대로 꺼낼 수 있는 이터레이터를 만들어냄 -> 반복할 때마다 이터레이터에서 숫자를 하나씩 꺼내서 반복문을 수행\n",
    "    - 숫자를 미리 만들면 메모리를 많이 사용하게 되기 때문에 성능에 불리함\n",
    "    - 따라서 이터레이터만 생성하고 값이 필요한 시점에 값을 만드는 방식\n",
    "    - 데이터의 생성을 뒤로 미루는 방식 : 지역 평가(lazy evaluation)라고 함\n",
    "    \n",
    "- 이터레이터는 반복자 라고 부르기도 한다."
   ]
  },
  {
   "cell_type": "markdown",
   "id": "9aa0c379-eeae-4559-bec9-5ea3259bf015",
   "metadata": {},
   "source": [
    "# 반복 가능 객체\n",
    "- 문자열, 리스트, 딕셔너리, 세트\n",
    "    - 요소가 여러 개 들어있고, 한 번에 하나씩 꺼낼 수 있는 객체\n",
    "    \n",
    "- 객체가 반복가능한 객체인지 알아보는 방법\n",
    "    - 객체에 \\_\\_iter\\_\\_ 메서드가 들어있는지 확인\n",
    "        - dir(객체) 를 통해 객체의 메서드를 확인 가능"
   ]
  },
  {
   "cell_type": "code",
   "execution_count": 1,
   "id": "177f51d0-88d6-415d-b326-520e121ce8ef",
   "metadata": {},
   "outputs": [
    {
     "data": {
      "text/plain": [
       "['__add__',\n",
       " '__class__',\n",
       " '__class_getitem__',\n",
       " '__contains__',\n",
       " '__delattr__',\n",
       " '__delitem__',\n",
       " '__dir__',\n",
       " '__doc__',\n",
       " '__eq__',\n",
       " '__format__',\n",
       " '__ge__',\n",
       " '__getattribute__',\n",
       " '__getitem__',\n",
       " '__gt__',\n",
       " '__hash__',\n",
       " '__iadd__',\n",
       " '__imul__',\n",
       " '__init__',\n",
       " '__init_subclass__',\n",
       " '__iter__',\n",
       " '__le__',\n",
       " '__len__',\n",
       " '__lt__',\n",
       " '__mul__',\n",
       " '__ne__',\n",
       " '__new__',\n",
       " '__reduce__',\n",
       " '__reduce_ex__',\n",
       " '__repr__',\n",
       " '__reversed__',\n",
       " '__rmul__',\n",
       " '__setattr__',\n",
       " '__setitem__',\n",
       " '__sizeof__',\n",
       " '__str__',\n",
       " '__subclasshook__',\n",
       " 'append',\n",
       " 'clear',\n",
       " 'copy',\n",
       " 'count',\n",
       " 'extend',\n",
       " 'index',\n",
       " 'insert',\n",
       " 'pop',\n",
       " 'remove',\n",
       " 'reverse',\n",
       " 'sort']"
      ]
     },
     "execution_count": 1,
     "metadata": {},
     "output_type": "execute_result"
    }
   ],
   "source": [
    "dir([1, 2, 3])"
   ]
  },
  {
   "cell_type": "code",
   "execution_count": 2,
   "id": "5b6e63b9-e997-4071-91a1-23d87b781df6",
   "metadata": {},
   "outputs": [
    {
     "data": {
      "text/plain": [
       "<list_iterator at 0x7fba9916c040>"
      ]
     },
     "execution_count": 2,
     "metadata": {},
     "output_type": "execute_result"
    }
   ],
   "source": [
    "[1, 2, 3].__iter__()"
   ]
  },
  {
   "cell_type": "code",
   "execution_count": 2,
   "id": "38914407-15aa-44a6-bfd4-10b4953b62a0",
   "metadata": {},
   "outputs": [
    {
     "data": {
      "text/plain": [
       "1"
      ]
     },
     "execution_count": 2,
     "metadata": {},
     "output_type": "execute_result"
    }
   ],
   "source": [
    "it = [1, 2, 3].__iter__()\n",
    "it.__next__()"
   ]
  },
  {
   "cell_type": "code",
   "execution_count": 3,
   "id": "7bc140ec-c51f-433c-a5e7-e6be28c46957",
   "metadata": {},
   "outputs": [
    {
     "data": {
      "text/plain": [
       "2"
      ]
     },
     "execution_count": 3,
     "metadata": {},
     "output_type": "execute_result"
    }
   ],
   "source": [
    "it.__next__()"
   ]
  },
  {
   "cell_type": "code",
   "execution_count": 4,
   "id": "04ba699a-4606-47b5-af63-2ad945784546",
   "metadata": {},
   "outputs": [
    {
     "data": {
      "text/plain": [
       "3"
      ]
     },
     "execution_count": 4,
     "metadata": {},
     "output_type": "execute_result"
    }
   ],
   "source": [
    "it.__next__()"
   ]
  },
  {
   "cell_type": "code",
   "execution_count": 5,
   "id": "352280ed-7854-4bf9-884d-658314b9f513",
   "metadata": {},
   "outputs": [
    {
     "ename": "StopIteration",
     "evalue": "",
     "output_type": "error",
     "traceback": [
      "\u001b[0;31m---------------------------------------------------------------------------\u001b[0m",
      "\u001b[0;31mStopIteration\u001b[0m                             Traceback (most recent call last)",
      "Cell \u001b[0;32mIn[5], line 1\u001b[0m\n\u001b[0;32m----> 1\u001b[0m \u001b[43mit\u001b[49m\u001b[38;5;241;43m.\u001b[39;49m\u001b[38;5;21;43m__next__\u001b[39;49m\u001b[43m(\u001b[49m\u001b[43m)\u001b[49m\n",
      "\u001b[0;31mStopIteration\u001b[0m: "
     ]
    }
   ],
   "source": [
    "it.__next__()"
   ]
  },
  {
   "cell_type": "markdown",
   "id": "0f5a3d88-7642-4498-8bf9-34bd3eeb50d1",
   "metadata": {},
   "source": [
    "- 이터레이터는 \\_\\_next\\_\\_() 로 요소를 꺼내다가 꺼낼 요소가 없으면 StopIteration 오류를 발생시켜 반복을 끝냄\n",
    "- 리스트뿐만 아니라 문자열, 딕셔너리, 세트도 \\_\\_iter\\_\\_를 호출하면 이터레이터가 나옴"
   ]
  },
  {
   "cell_type": "code",
   "execution_count": 6,
   "id": "35fd41c0-604f-440a-919a-58dda0a744a9",
   "metadata": {},
   "outputs": [
    {
     "data": {
      "text/plain": [
       "<str_iterator at 0x7fafe058f760>"
      ]
     },
     "execution_count": 6,
     "metadata": {},
     "output_type": "execute_result"
    }
   ],
   "source": [
    "\"Hello, World!\".__iter__()"
   ]
  },
  {
   "cell_type": "code",
   "execution_count": 7,
   "id": "3f8a83e8-af65-4cd8-81f6-0c5bc94ee790",
   "metadata": {},
   "outputs": [
    {
     "data": {
      "text/plain": [
       "<dict_keyiterator at 0x7fb01043fd80>"
      ]
     },
     "execution_count": 7,
     "metadata": {},
     "output_type": "execute_result"
    }
   ],
   "source": [
    "{\"a\" : 1, \"b\" : 2}.__iter__()"
   ]
  },
  {
   "cell_type": "code",
   "execution_count": 8,
   "id": "fb3ea38f-8735-4ba7-9277-3525c40787ca",
   "metadata": {},
   "outputs": [
    {
     "data": {
      "text/plain": [
       "<set_iterator at 0x7fb0000f9c40>"
      ]
     },
     "execution_count": 8,
     "metadata": {},
     "output_type": "execute_result"
    }
   ],
   "source": [
    "{1, 2, 3}.__iter__()"
   ]
  },
  {
   "cell_type": "code",
   "execution_count": 9,
   "id": "0139d914-d976-464a-bcd0-60dd7dded1ed",
   "metadata": {},
   "outputs": [
    {
     "data": {
      "text/plain": [
       "0"
      ]
     },
     "execution_count": 9,
     "metadata": {},
     "output_type": "execute_result"
    }
   ],
   "source": [
    "it = range(3).__iter__()\n",
    "it.__next__()"
   ]
  },
  {
   "cell_type": "code",
   "execution_count": 10,
   "id": "e521892f-77d2-4dc0-bede-36af9cf076b0",
   "metadata": {},
   "outputs": [
    {
     "data": {
      "text/plain": [
       "1"
      ]
     },
     "execution_count": 10,
     "metadata": {},
     "output_type": "execute_result"
    }
   ],
   "source": [
    "it.__next__()"
   ]
  },
  {
   "cell_type": "code",
   "execution_count": 11,
   "id": "0dc202bc-39f8-489d-9b2b-0177d0a4a4be",
   "metadata": {},
   "outputs": [
    {
     "data": {
      "text/plain": [
       "2"
      ]
     },
     "execution_count": 11,
     "metadata": {},
     "output_type": "execute_result"
    }
   ],
   "source": [
    "it.__next__()"
   ]
  },
  {
   "cell_type": "code",
   "execution_count": 12,
   "id": "5915c3d2-4267-41de-b5a7-699e22891655",
   "metadata": {},
   "outputs": [
    {
     "data": {
      "text/plain": [
       "<list_reverseiterator at 0x7fafe05621a0>"
      ]
     },
     "execution_count": 12,
     "metadata": {},
     "output_type": "execute_result"
    }
   ],
   "source": [
    "reversed([1, 2, 3])"
   ]
  },
  {
   "cell_type": "code",
   "execution_count": 13,
   "id": "72beaf44-3989-495a-a126-56e305e7d8e7",
   "metadata": {},
   "outputs": [
    {
     "name": "stdout",
     "output_type": "stream",
     "text": [
      "<list_reverseiterator object at 0x7fafe0501630>\n",
      "3\n",
      "2\n",
      "1\n"
     ]
    },
    {
     "ename": "StopIteration",
     "evalue": "",
     "output_type": "error",
     "traceback": [
      "\u001b[0;31m---------------------------------------------------------------------------\u001b[0m",
      "\u001b[0;31mStopIteration\u001b[0m                             Traceback (most recent call last)",
      "Cell \u001b[0;32mIn[13], line 9\u001b[0m\n\u001b[1;32m      7\u001b[0m \u001b[38;5;28mprint\u001b[39m(\u001b[38;5;28mnext\u001b[39m(r_num))\n\u001b[1;32m      8\u001b[0m \u001b[38;5;28mprint\u001b[39m(\u001b[38;5;28mnext\u001b[39m(r_num))\n\u001b[0;32m----> 9\u001b[0m \u001b[38;5;28mprint\u001b[39m(\u001b[38;5;28;43mnext\u001b[39;49m\u001b[43m(\u001b[49m\u001b[43mr_num\u001b[49m\u001b[43m)\u001b[49m)\n",
      "\u001b[0;31mStopIteration\u001b[0m: "
     ]
    }
   ],
   "source": [
    "# reversed 함수와 이터레이터\n",
    "numbers = [1, 2, 3]\n",
    "r_num = reversed(numbers)\n",
    "\n",
    "print(r_num)\n",
    "print(next(r_num))\n",
    "print(next(r_num))\n",
    "print(next(r_num))\n",
    "print(next(r_num))"
   ]
  },
  {
   "cell_type": "markdown",
   "id": "db088d9f-37cf-428a-af5f-43fdcb1d32ee",
   "metadata": {},
   "source": [
    "- for 반복문의 매개변수에 이터레이터를 넣으면 next()함수를 사용해서 요소를 하나하나 꺼내주는 것"
   ]
  },
  {
   "cell_type": "markdown",
   "id": "79be8989-7d62-4a19-aa0f-49823bb62735",
   "metadata": {},
   "source": [
    "# 이터레이터 만들기"
   ]
  },
  {
   "cell_type": "code",
   "execution_count": 18,
   "id": "274dc65c-dc10-4033-9ce6-6fd8e8b13286",
   "metadata": {},
   "outputs": [],
   "source": [
    "class Counter:\n",
    "    def __init__(self, stop):\n",
    "        self.current = 0 # 현재 숫자, 0부터 지정된 숫자 직전까지 반복\n",
    "        self.stop = stop # 반복을 끝낼 숫자\n",
    "    \n",
    "    def __iter__(self):\n",
    "        return self # 현재 인스턴스를 반환\n",
    "    \n",
    "    def __next__(self):\n",
    "        if self.current < self.stop: # 현재 숫자가 반복을 끝낼 숫자보다 작을 때\n",
    "            r = self.current # 반환할 숫자를 변수에 따로 저장\n",
    "            self.current += 1 # 현재 숫자를 1 증가시킴\n",
    "            return r # 숫자를 반환\n",
    "        \n",
    "        else: # 현재 숫자가 반복을 끝낼 숫자보다 크거나 같을 때 예외 발생\n",
    "            raise StopIteration"
   ]
  },
  {
   "cell_type": "code",
   "execution_count": 19,
   "id": "52da3a97-4a06-48ac-a27c-d4898d4e4a8b",
   "metadata": {},
   "outputs": [
    {
     "name": "stdout",
     "output_type": "stream",
     "text": [
      "0\n",
      "1\n",
      "2\n"
     ]
    }
   ],
   "source": [
    "for i in Counter(3):\n",
    "    print(i)"
   ]
  },
  {
   "cell_type": "markdown",
   "id": "26ea1fb3-4bc1-4587-9bab-dcc3f6adfe2f",
   "metadata": {
    "tags": []
   },
   "source": [
    "## 이터레이터 언패킹\n",
    "- 이터레이터의 결과를 변수 여러 개에 할당할 수 있음\n",
    "    - 이터레이터가 반복하는 횟수와 변수의 갯수가 같아야함"
   ]
  },
  {
   "cell_type": "code",
   "execution_count": 20,
   "id": "5b1acddb-1665-4764-8cb6-00ca2574afd9",
   "metadata": {},
   "outputs": [
    {
     "name": "stdout",
     "output_type": "stream",
     "text": [
      "0 1 2\n"
     ]
    }
   ],
   "source": [
    "a, b, c = Counter(3)\n",
    "print(a, b, c)"
   ]
  },
  {
   "cell_type": "code",
   "execution_count": 21,
   "id": "08f56fcb-8782-42c2-9996-83686efec2e3",
   "metadata": {},
   "outputs": [
    {
     "data": {
      "text/plain": [
       "['0', '1', '2']"
      ]
     },
     "execution_count": 21,
     "metadata": {},
     "output_type": "execute_result"
    }
   ],
   "source": [
    "\"0 1 2\".split()"
   ]
  },
  {
   "cell_type": "code",
   "execution_count": 22,
   "id": "3b6174f1-5746-487e-802e-f929eee1d505",
   "metadata": {},
   "outputs": [
    {
     "data": {
      "text/plain": [
       "<map at 0x7fafd0fbf940>"
      ]
     },
     "execution_count": 22,
     "metadata": {},
     "output_type": "execute_result"
    }
   ],
   "source": [
    "map(int, \"0 1 2\".split())"
   ]
  },
  {
   "cell_type": "code",
   "execution_count": 25,
   "id": "c27e4f04-8918-4d72-8828-2f132898936d",
   "metadata": {},
   "outputs": [
    {
     "name": "stdout",
     "output_type": "stream",
     "text": [
      "0 1 2\n"
     ]
    }
   ],
   "source": [
    "a, b, c = map(int, \"0 1 2\".split())\n",
    "print(a, b, c)"
   ]
  },
  {
   "cell_type": "markdown",
   "id": "3f505881-4628-4e94-afc8-ef15c72ba893",
   "metadata": {},
   "source": [
    "# 인덱스로 접근할 수 있는 이터레이터\n",
    "- \\_\\_getitem\\_\\_ 메서드를 통해 인덱스로 접근할 수 있는 이터레이터 생성"
   ]
  },
  {
   "cell_type": "code",
   "execution_count": 27,
   "id": "88730d47-f52a-485f-8d36-c2897bd17f45",
   "metadata": {},
   "outputs": [
    {
     "name": "stdout",
     "output_type": "stream",
     "text": [
      "0 1 2\n"
     ]
    }
   ],
   "source": [
    "print(range(3)[0], range(3)[1], range(3)[2])"
   ]
  },
  {
   "cell_type": "code",
   "execution_count": 35,
   "id": "f87ca30d-1ea5-4a92-8e57-319a69b5e549",
   "metadata": {},
   "outputs": [],
   "source": [
    "class Counter:\n",
    "    def __init__(self, stop):\n",
    "        self.current = 0\n",
    "        self.stop = stop\n",
    "        \n",
    "    def __getitem__(self, index): # 인덱스를 전달받음\n",
    "        if index < self.stop: # 인데스가 반복을 끝낼 숫자보다 작을때\n",
    "            return index # 인덱스를 반환\n",
    "        \n",
    "        else: # 인덱스가 반복을 끝낼 숫자보다 크거나 같을 때\n",
    "            raise IndexError # 예외 발생"
   ]
  },
  {
   "cell_type": "code",
   "execution_count": 36,
   "id": "ae1b584e-e8e3-494f-9b17-f3436124604e",
   "metadata": {},
   "outputs": [
    {
     "name": "stdout",
     "output_type": "stream",
     "text": [
      "0 1 2\n"
     ]
    }
   ],
   "source": [
    "print(Counter(3)[0], Counter(3)[1], Counter(3)[2])"
   ]
  },
  {
   "cell_type": "markdown",
   "id": "cb9cdbbe-ac1a-4869-ae3f-7b4c44827be0",
   "metadata": {},
   "source": [
    "# iter, next 함수 활용\n",
    "- iter() : \\_\\_iter\\_\\_ 메서드를호출\n",
    "- next() : \\_\\_next\\_\\_ 메서드를 호출"
   ]
  },
  {
   "cell_type": "code",
   "execution_count": 37,
   "id": "12fa27f5-5967-4b6c-bdfb-525d4f798a65",
   "metadata": {},
   "outputs": [
    {
     "data": {
      "text/plain": [
       "0"
      ]
     },
     "execution_count": 37,
     "metadata": {},
     "output_type": "execute_result"
    }
   ],
   "source": [
    "it = iter(range(3))\n",
    "next(it)"
   ]
  },
  {
   "cell_type": "code",
   "execution_count": 38,
   "id": "db9512c1-ac9c-4193-ae5d-117a657f5e2a",
   "metadata": {},
   "outputs": [
    {
     "data": {
      "text/plain": [
       "1"
      ]
     },
     "execution_count": 38,
     "metadata": {},
     "output_type": "execute_result"
    }
   ],
   "source": [
    "next(it)"
   ]
  },
  {
   "cell_type": "code",
   "execution_count": 39,
   "id": "5ba4d8d2-db94-40e8-b022-db27827637b5",
   "metadata": {},
   "outputs": [
    {
     "data": {
      "text/plain": [
       "2"
      ]
     },
     "execution_count": 39,
     "metadata": {},
     "output_type": "execute_result"
    }
   ],
   "source": [
    "next(it)"
   ]
  },
  {
   "cell_type": "markdown",
   "id": "768137c8-7ac2-474d-8d54-4c8ce6e99e65",
   "metadata": {},
   "source": [
    "## iter\n",
    "- 반복을 끝낼 값을 지정하면 특정 값이 나올 때 반복을 끝냄\n",
    "    - 반복을 끝낼 값 : sentinel(감시병)\n",
    "    \n",
    "- 호출 가능한 객체를 사용\n",
    "- 표현법\n",
    "    - iter(호출 가능한 객체, 반복을 끝낼 값)"
   ]
  },
  {
   "cell_type": "code",
   "execution_count": 40,
   "id": "8c594c34-5084-4403-9551-a4085acaf323",
   "metadata": {},
   "outputs": [],
   "source": [
    "import random"
   ]
  },
  {
   "cell_type": "code",
   "execution_count": 41,
   "id": "0f10b7c5-24ab-47ea-993c-03f30d8ff99c",
   "metadata": {},
   "outputs": [],
   "source": [
    "it = iter(lambda : random.randint(0, 5), 2)"
   ]
  },
  {
   "cell_type": "code",
   "execution_count": 42,
   "id": "76e0ac4a-fd6c-4f68-8239-6bc53135bc5b",
   "metadata": {},
   "outputs": [
    {
     "data": {
      "text/plain": [
       "4"
      ]
     },
     "execution_count": 42,
     "metadata": {},
     "output_type": "execute_result"
    }
   ],
   "source": [
    "next(it)"
   ]
  },
  {
   "cell_type": "code",
   "execution_count": 43,
   "id": "53ad0712-4503-40f3-90d7-4e5714ceefe3",
   "metadata": {},
   "outputs": [
    {
     "data": {
      "text/plain": [
       "0"
      ]
     },
     "execution_count": 43,
     "metadata": {},
     "output_type": "execute_result"
    }
   ],
   "source": [
    "next(it)"
   ]
  },
  {
   "cell_type": "code",
   "execution_count": 44,
   "id": "3f720e6b-4988-4da2-9413-42820120c0f6",
   "metadata": {},
   "outputs": [
    {
     "data": {
      "text/plain": [
       "5"
      ]
     },
     "execution_count": 44,
     "metadata": {},
     "output_type": "execute_result"
    }
   ],
   "source": [
    "next(it)"
   ]
  },
  {
   "cell_type": "code",
   "execution_count": 45,
   "id": "fbf60449-2041-4292-b731-857c5a799b0e",
   "metadata": {},
   "outputs": [
    {
     "data": {
      "text/plain": [
       "3"
      ]
     },
     "execution_count": 45,
     "metadata": {},
     "output_type": "execute_result"
    }
   ],
   "source": [
    "next(it)"
   ]
  },
  {
   "cell_type": "code",
   "execution_count": 46,
   "id": "a3eaf5c4-5ee0-4a16-b64b-c45ddf7a8f9a",
   "metadata": {},
   "outputs": [
    {
     "data": {
      "text/plain": [
       "4"
      ]
     },
     "execution_count": 46,
     "metadata": {},
     "output_type": "execute_result"
    }
   ],
   "source": [
    "next(it)"
   ]
  },
  {
   "cell_type": "code",
   "execution_count": 47,
   "id": "44e872c3-0b21-417a-887c-3966d59fa714",
   "metadata": {},
   "outputs": [
    {
     "data": {
      "text/plain": [
       "3"
      ]
     },
     "execution_count": 47,
     "metadata": {},
     "output_type": "execute_result"
    }
   ],
   "source": [
    "next(it)"
   ]
  },
  {
   "cell_type": "code",
   "execution_count": 48,
   "id": "24a27fca-2337-4423-94eb-041a86c5f039",
   "metadata": {},
   "outputs": [
    {
     "data": {
      "text/plain": [
       "4"
      ]
     },
     "execution_count": 48,
     "metadata": {},
     "output_type": "execute_result"
    }
   ],
   "source": [
    "next(it)"
   ]
  },
  {
   "cell_type": "code",
   "execution_count": 49,
   "id": "252d9efd-9488-4158-80a1-f957577e0c03",
   "metadata": {},
   "outputs": [
    {
     "data": {
      "text/plain": [
       "5"
      ]
     },
     "execution_count": 49,
     "metadata": {},
     "output_type": "execute_result"
    }
   ],
   "source": [
    "next(it)"
   ]
  },
  {
   "cell_type": "code",
   "execution_count": 50,
   "id": "4031aa6d-e27c-48c2-9079-494ea17a8850",
   "metadata": {},
   "outputs": [
    {
     "ename": "StopIteration",
     "evalue": "",
     "output_type": "error",
     "traceback": [
      "\u001b[0;31m---------------------------------------------------------------------------\u001b[0m",
      "\u001b[0;31mStopIteration\u001b[0m                             Traceback (most recent call last)",
      "Cell \u001b[0;32mIn[50], line 1\u001b[0m\n\u001b[0;32m----> 1\u001b[0m \u001b[38;5;28;43mnext\u001b[39;49m\u001b[43m(\u001b[49m\u001b[43mit\u001b[49m\u001b[43m)\u001b[49m\n",
      "\u001b[0;31mStopIteration\u001b[0m: "
     ]
    }
   ],
   "source": [
    "next(it)"
   ]
  },
  {
   "cell_type": "markdown",
   "id": "ad1079f6-9deb-4b1c-a00c-97c3a37f1108",
   "metadata": {},
   "source": [
    "- 2가 나오면 StopIteration 이 발생한다"
   ]
  },
  {
   "cell_type": "code",
   "execution_count": 51,
   "id": "0d354a24-f8be-4f62-aa5a-87cac70d1f85",
   "metadata": {},
   "outputs": [
    {
     "name": "stdout",
     "output_type": "stream",
     "text": [
      "3 0 3 4 3 4 1 0 1 5 3 "
     ]
    }
   ],
   "source": [
    "for i in iter(lambda : random.randint(0, 5), 2):\n",
    "    print(i, end=\" \")"
   ]
  },
  {
   "cell_type": "code",
   "execution_count": 54,
   "id": "c59d4bde-917b-4d56-bdbe-0843b12fa786",
   "metadata": {},
   "outputs": [
    {
     "name": "stdout",
     "output_type": "stream",
     "text": [
      "3 3 4 3 0 3 1 4 4 4 4 0 0 3 3 4 1 4 0 1 "
     ]
    }
   ],
   "source": [
    "while True:\n",
    "    i = random.randint(0, 5)\n",
    "    \n",
    "    if i == 2:\n",
    "        break\n",
    "        \n",
    "    print(i, end = \" \")"
   ]
  },
  {
   "cell_type": "markdown",
   "id": "fe14e34a-f20b-4f8e-82fe-ddc4fff73785",
   "metadata": {},
   "source": [
    "## next\n",
    "- 기본값을 지정할 수 있음\n",
    "    - 기본값을 지정하면 반복이 끝나더라도 StopIteration이 발생하지 않고 기본값을 출력\n",
    "    - 반복할 수 있을 때는 해당 값을 출력하고, 반복이 끝나면 기본값을 출력\n",
    "    \n",
    "- 표현법\n",
    "    - next(반복가능한 객체, 기본값)"
   ]
  },
  {
   "cell_type": "code",
   "execution_count": 57,
   "id": "c30bb39d-6f4d-4125-93a3-00a29631da7d",
   "metadata": {},
   "outputs": [],
   "source": [
    "it = iter(range(3))"
   ]
  },
  {
   "cell_type": "code",
   "execution_count": 58,
   "id": "68e6b009-750c-4524-b978-fdf0febf23d6",
   "metadata": {},
   "outputs": [
    {
     "data": {
      "text/plain": [
       "0"
      ]
     },
     "execution_count": 58,
     "metadata": {},
     "output_type": "execute_result"
    }
   ],
   "source": [
    "next(it, 10)"
   ]
  },
  {
   "cell_type": "code",
   "execution_count": 59,
   "id": "9a77d988-f18f-4ded-9311-ef8188fa1d39",
   "metadata": {},
   "outputs": [
    {
     "data": {
      "text/plain": [
       "1"
      ]
     },
     "execution_count": 59,
     "metadata": {},
     "output_type": "execute_result"
    }
   ],
   "source": [
    "next(it, 10)"
   ]
  },
  {
   "cell_type": "code",
   "execution_count": 60,
   "id": "54888161-3202-4c86-a63d-c49715ca6691",
   "metadata": {},
   "outputs": [
    {
     "data": {
      "text/plain": [
       "2"
      ]
     },
     "execution_count": 60,
     "metadata": {},
     "output_type": "execute_result"
    }
   ],
   "source": [
    "next(it, 10)"
   ]
  },
  {
   "cell_type": "code",
   "execution_count": 61,
   "id": "03eb304c-2b35-4137-84f4-2959b1291166",
   "metadata": {},
   "outputs": [
    {
     "data": {
      "text/plain": [
       "10"
      ]
     },
     "execution_count": 61,
     "metadata": {},
     "output_type": "execute_result"
    }
   ],
   "source": [
    "next(it, 10)"
   ]
  },
  {
   "cell_type": "markdown",
   "id": "e433bebb-7f20-4ddf-90d6-060c6c01c4a5",
   "metadata": {},
   "source": [
    "- 0, 1, 2 까지 나온뒤에도 에러가 발생하지 않고 계속 10이 나온다."
   ]
  },
  {
   "cell_type": "markdown",
   "id": "47bc751d-f489-4ab1-b999-5b63edbf224d",
   "metadata": {},
   "source": [
    "# 연습문제 : 배수 이터레이터 만들기\n",
    "- 특정 수의 배수를 만드는 이터레이터 작성하기"
   ]
  },
  {
   "cell_type": "code",
   "execution_count": 76,
   "id": "0ebdac85-076e-4ca7-83df-95540b75a00f",
   "metadata": {},
   "outputs": [],
   "source": [
    "class MultipleIterator:\n",
    "    def __init__(self, stop, multiple):\n",
    "        self.current = multiple\n",
    "        self.stop = stop\n",
    "        self.multiple = multiple\n",
    "    \n",
    "    def __iter__(self):\n",
    "        return self\n",
    "    \n",
    "    def __next__(self):\n",
    "        if self.current < self.stop:\n",
    "            r = self.current\n",
    "            self.current += self.multiple\n",
    "            return r\n",
    "        else:\n",
    "            raise StopIteration"
   ]
  },
  {
   "cell_type": "code",
   "execution_count": 78,
   "id": "34b77df6-27f7-4b1a-b6e2-96ddec456996",
   "metadata": {},
   "outputs": [
    {
     "name": "stdout",
     "output_type": "stream",
     "text": [
      "3 6 9 12 15 18 "
     ]
    }
   ],
   "source": [
    "for i in MultipleIterator(20, 3):\n",
    "    print(i, end = \" \")"
   ]
  },
  {
   "cell_type": "code",
   "execution_count": 81,
   "id": "0ca16c8c-8c23-42bb-a53a-bab10c626098",
   "metadata": {},
   "outputs": [],
   "source": [
    "# 강사님 풀이\n",
    "class MultipleIterator:\n",
    "    def __init__(self, stop, multiple):\n",
    "        self.stop = stop # 반복을 끝낼 숫자\n",
    "        self.multiple = multiple # 배수를 구할 숫자\n",
    "        self.current = 0 # 몇 번 반복했는지 저장\n",
    "    \n",
    "    def __iter__(self):\n",
    "        return self\n",
    "    \n",
    "    def __next__(self): # 배수를 계산\n",
    "        self.current += 1 # 0부터 시작하기 때문에\n",
    "        if self.current * self.multiple < self.stop:\n",
    "            return self.current * self.multiple\n",
    "        else:\n",
    "            raise StopIteration"
   ]
  },
  {
   "cell_type": "code",
   "execution_count": 82,
   "id": "0879ead0-5bab-4f66-ae6f-5457b3e21f49",
   "metadata": {},
   "outputs": [
    {
     "name": "stdout",
     "output_type": "stream",
     "text": [
      "3 6 9 12 15 18 "
     ]
    }
   ],
   "source": [
    "for i in MultipleIterator(20, 3):\n",
    "    print(i, end = \" \")"
   ]
  }
 ],
 "metadata": {
  "kernelspec": {
   "display_name": "Python 3 (ipykernel)",
   "language": "python",
   "name": "python3"
  },
  "language_info": {
   "codemirror_mode": {
    "name": "ipython",
    "version": 3
   },
   "file_extension": ".py",
   "mimetype": "text/x-python",
   "name": "python",
   "nbconvert_exporter": "python",
   "pygments_lexer": "ipython3",
   "version": "3.10.9"
  }
 },
 "nbformat": 4,
 "nbformat_minor": 5
}
