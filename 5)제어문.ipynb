{
 "cells": [
  {
   "cell_type": "markdown",
   "id": "c40a4395-736d-4d10-8cba-72214b5d7648",
   "metadata": {},
   "source": [
    "<img src = \"./img/control.png\" width = 700 height = 700>"
   ]
  },
  {
   "cell_type": "markdown",
   "id": "8e463930-3e86-408f-a2c9-398773f1481c",
   "metadata": {},
   "source": [
    "# 조건문\n",
    "\n",
    "- 특정 조건을 만족하는지 여부에 따라 실행하는 코드가 달라야 할 때 사용"
   ]
  },
  {
   "cell_type": "code",
   "execution_count": 8,
   "id": "7d144103-ad8b-40ff-a000-2ac332d6c2d2",
   "metadata": {},
   "outputs": [
    {
     "name": "stdout",
     "output_type": "stream",
     "text": [
      "True입니다\n"
     ]
    }
   ],
   "source": [
    "if True:\n",
    "    print(\"True입니다\")"
   ]
  },
  {
   "cell_type": "code",
   "execution_count": 17,
   "id": "a34d777e-eee9-4277-b05d-096751a8a101",
   "metadata": {},
   "outputs": [],
   "source": [
    "if False:\n",
    "    print(\"False입니다\")"
   ]
  },
  {
   "cell_type": "markdown",
   "id": "ab240bc9-e18a-4d9d-aa74-7d6584b3e7a1",
   "metadata": {},
   "source": [
    "## if-else 문\n",
    "\n",
    "- 조건식을 만족하는 경우와 만족하지 않는 경우를 구분하여 코드를 작성할 때 사용\n",
    "\n",
    "\n",
    "- 조건문이 두 가지로만 구분될 때 if-else문을 사용하면 비교를 한 번만 하기 때문에 if만 사용할 때 보다 더 효율적\n",
    "```\n",
    "if 조건식(불 값이 나오는 표현식):\n",
    "    조건식의 결과가 True 일 때 실행문 \n",
    "else:\n",
    "    조건식의 결과가 False 일 때 실행문\n",
    "```"
   ]
  },
  {
   "cell_type": "code",
   "execution_count": 20,
   "id": "40b3df85-bc26-490f-899d-e593d737dd06",
   "metadata": {},
   "outputs": [
    {
     "name": "stdout",
     "output_type": "stream",
     "text": [
      "택시를 타고 가라\n"
     ]
    }
   ],
   "source": [
    "money = True\n",
    "\n",
    "if money:\n",
    "    print(\"택시를 타고 가라\")\n",
    "    \n",
    "else:\n",
    "    print(\"걸어 가라\")"
   ]
  },
  {
   "cell_type": "markdown",
   "id": "7b27dc5c-1d16-4d38-b32e-c35f6bea9a52",
   "metadata": {},
   "source": [
    "- 비교연산자\n",
    "    - x < y, x > y, x <= y, x >= y\n",
    "    \n",
    "    - x == y\n",
    "        - x와 y가 같다\n",
    "        \n",
    "    - x != y\n",
    "        - x와 y가 같지 않다"
   ]
  },
  {
   "cell_type": "code",
   "execution_count": 21,
   "id": "13f22fa0-5910-416e-bfa4-dc029d612b07",
   "metadata": {},
   "outputs": [
    {
     "name": "stdout",
     "output_type": "stream",
     "text": [
      "False\n",
      "True\n",
      "False\n",
      "True\n"
     ]
    }
   ],
   "source": [
    "print(3 < 2)\n",
    "print(3 > 2)\n",
    "print(3 == 2)\n",
    "print(3 != 2)"
   ]
  },
  {
   "cell_type": "code",
   "execution_count": 24,
   "id": "4006ed1c-0049-432a-85b3-5cc915fbf26b",
   "metadata": {},
   "outputs": [
    {
     "name": "stdout",
     "output_type": "stream",
     "text": [
      "걸어 가라\n"
     ]
    }
   ],
   "source": [
    "money = 20000\n",
    "pay = 30000\n",
    "\n",
    "if money >= pay:\n",
    "    print(\"택시를 타고 가라\")\n",
    "    \n",
    "else:\n",
    "    print(\"걸어 가라\")"
   ]
  },
  {
   "cell_type": "markdown",
   "id": "a883e582-6062-41c0-bf0f-abbed48f760d",
   "metadata": {},
   "source": [
    "- and, or, not\n",
    "    - x or y\n",
    "        - x와 y 둘 중에 하나만 참이어도 참\n",
    "        \n",
    "    - x and y\n",
    "        - x와 y 모두 참이어야 참\n",
    "        \n",
    "    - not x\n",
    "        - x가 거짓이면 참"
   ]
  },
  {
   "cell_type": "code",
   "execution_count": 25,
   "id": "53cadf90-477a-4822-ab25-2c3bf1717706",
   "metadata": {},
   "outputs": [
    {
     "name": "stdout",
     "output_type": "stream",
     "text": [
      "택시를 타고 가라\n"
     ]
    }
   ],
   "source": [
    "money = 20000\n",
    "pay = 30000\n",
    "card = True\n",
    "\n",
    "if money >= pay or card:\n",
    "    print(\"택시를 타고 가라\")\n",
    "    \n",
    "else:\n",
    "    print(\"걸어가라\")"
   ]
  },
  {
   "cell_type": "markdown",
   "id": "b6584736-9ff7-4c03-86a5-835ee080bf72",
   "metadata": {},
   "source": [
    "- in, not in\n",
    "    - x in 반복가능한 객체\n",
    "    - x not in 반복가능한 객체"
   ]
  },
  {
   "cell_type": "code",
   "execution_count": 28,
   "id": "2dfa74e2-6097-499f-901d-6452ea058fc9",
   "metadata": {},
   "outputs": [
    {
     "name": "stdout",
     "output_type": "stream",
     "text": [
      "True\n",
      "False\n",
      "True\n",
      "True\n"
     ]
    }
   ],
   "source": [
    "print(1 in [1, 2, 3])\n",
    "print(1 not in [1, 2, 3])\n",
    "print(\"a\" in (\"a\", \"b\", \"c\"))\n",
    "print(\"j\" not in \"python\")"
   ]
  },
  {
   "cell_type": "code",
   "execution_count": 29,
   "id": "62605629-bf21-454d-9c3a-e66ee0077d3b",
   "metadata": {},
   "outputs": [
    {
     "name": "stdout",
     "output_type": "stream",
     "text": [
      "택시를 타고 가라\n"
     ]
    }
   ],
   "source": [
    "pocket = [\"paper\", \"cellphone\", \"money\"]\n",
    "\n",
    "if \"money\" in pocket:\n",
    "    print(\"택시를 타고 가라\")\n",
    "    \n",
    "else:\n",
    "    print(\"걸어가라\")"
   ]
  },
  {
   "cell_type": "markdown",
   "id": "75bd5978-42b3-4418-b3c9-e3e43398e082",
   "metadata": {},
   "source": [
    "## if-elif 문\n",
    "\n",
    "- 특정 조건에 따라 3가지 이상으로 구분해야 할 때 사용\n",
    "```\n",
    "if 조건식1:\n",
    "    조건식1의 결과가 True일 때 실행문\n",
    "elif 조건식2:\n",
    "    조건식1의 결과가 False이고, 조건식2의 결과가 True일 때 실행문\n",
    "elif 조건식3:\n",
    "    조건식1, 2의 결과가 모두 False이고, 조건식3의 결과가 True일 때 실행문\n",
    "else:\n",
    "    조건식1, 2, 3의 결과가 모두 False일 때 실행문\n",
    "```"
   ]
  },
  {
   "cell_type": "code",
   "execution_count": 31,
   "id": "54e01989-9393-43c4-92d6-6df2f8f5b833",
   "metadata": {},
   "outputs": [
    {
     "name": "stdout",
     "output_type": "stream",
     "text": [
      "카드로 택시를 타고 가라\n"
     ]
    }
   ],
   "source": [
    "# 예) 주머니에 돈이 있으면 택시를 타고,\n",
    "# 주머니에 돈은 없지만 카드가 있으면 택시를 타고\n",
    "# 돈도 없고 카드도 없으면 걸어 가라\n",
    "pocket = [\"cellphone\"]\n",
    "card = True\n",
    "\n",
    "if \"money\" in pocket:\n",
    "    print(\"현금으로 택시를 타고 가라\")\n",
    "    \n",
    "else:\n",
    "    if card:\n",
    "        print(\"카드로 택시를 타고 가라\")\n",
    "        \n",
    "    else:\n",
    "        print(\"걸어가라\")"
   ]
  },
  {
   "cell_type": "code",
   "execution_count": 32,
   "id": "2c2157e5-e0bd-441b-8799-bb90ae1c9d2f",
   "metadata": {},
   "outputs": [
    {
     "name": "stdout",
     "output_type": "stream",
     "text": [
      "카드로 택시를 타고 가라\n"
     ]
    }
   ],
   "source": [
    "pocket = [\"cellphone\"]\n",
    "card = True\n",
    "\n",
    "if \"money\" in pocket:\n",
    "    print(\"현금으로 택시를 타고 가라\")\n",
    "    \n",
    "elif card:\n",
    "    print(\"카드로 택시를 타고 가라\")\n",
    "    \n",
    "else:\n",
    "    print(\"걸어가라\")"
   ]
  },
  {
   "cell_type": "markdown",
   "id": "677c034d-3079-4822-b6a6-af09ed42b3f6",
   "metadata": {},
   "source": [
    "- if 조건문에 불이 아닌 다른 값이 올 때는 자동으로 불로 변환해서 처리함\n",
    "    - 따라서 어떤 값이 True로 변환되고 어떤 값이 False로 변환되는지 파악하고 있어야 함"
   ]
  },
  {
   "cell_type": "code",
   "execution_count": 33,
   "id": "453b1eb1-d44d-4ad6-ad1c-8513c5c32df6",
   "metadata": {},
   "outputs": [
    {
     "name": "stdout",
     "output_type": "stream",
     "text": [
      "거짓\n"
     ]
    }
   ],
   "source": [
    "if None:\n",
    "    print(\"참\")\n",
    "    \n",
    "else:\n",
    "    print(\"거짓\")"
   ]
  },
  {
   "cell_type": "code",
   "execution_count": 34,
   "id": "0787e309-fb9f-418e-9e17-d180267b04f5",
   "metadata": {},
   "outputs": [
    {
     "name": "stdout",
     "output_type": "stream",
     "text": [
      "거짓\n"
     ]
    }
   ],
   "source": [
    "if 0:\n",
    "    print(\"참\")\n",
    "    \n",
    "else:\n",
    "    print(\"거짓\")"
   ]
  },
  {
   "cell_type": "code",
   "execution_count": 35,
   "id": "72d8c8a5-9b5e-4b6a-a8d2-679e0e61c86b",
   "metadata": {},
   "outputs": [
    {
     "name": "stdout",
     "output_type": "stream",
     "text": [
      "참\n"
     ]
    }
   ],
   "source": [
    "if 1:\n",
    "    print(\"참\")\n",
    "    \n",
    "else:\n",
    "    print(\"거짓\")"
   ]
  },
  {
   "cell_type": "code",
   "execution_count": 36,
   "id": "ece4e68a-d6da-45d6-a21d-5e61d56237e7",
   "metadata": {},
   "outputs": [
    {
     "name": "stdout",
     "output_type": "stream",
     "text": [
      "참\n"
     ]
    }
   ],
   "source": [
    "if \"Hello\":\n",
    "    print(\"참\")\n",
    "    \n",
    "else:\n",
    "    print(\"거짓\")"
   ]
  },
  {
   "cell_type": "code",
   "execution_count": 37,
   "id": "292daa5e-986b-4f34-a1c1-7552c5e55665",
   "metadata": {},
   "outputs": [
    {
     "name": "stdout",
     "output_type": "stream",
     "text": [
      "거짓\n"
     ]
    }
   ],
   "source": [
    "if \"\":\n",
    "    print(\"참\")\n",
    "    \n",
    "else:\n",
    "    print(\"거짓\")"
   ]
  },
  {
   "cell_type": "markdown",
   "id": "bfe9dfa5-8f36-43c2-ac11-6ea2b02fa3f8",
   "metadata": {},
   "source": [
    "# pass\n",
    "\n",
    "- 일단 프로그램의 전체 골격을 잡아 놓고 내부에서 처리할 내용은 차근차근 만들어가고 싶은 경우 사용\n",
    "    - \"아무것도 안함\" 또는 \"곧 개발하겠음\"의 의미"
   ]
  },
  {
   "cell_type": "code",
   "execution_count": 39,
   "id": "29f9bd44-9e5c-426a-8516-8af86a6769f7",
   "metadata": {},
   "outputs": [],
   "source": [
    "if False:\n",
    "    pass\n",
    "\n",
    "else:\n",
    "    pass"
   ]
  },
  {
   "cell_type": "markdown",
   "id": "ec743543-0ef3-490a-bbba-964b491178cf",
   "metadata": {},
   "source": [
    "# 조건부 표현식\n",
    "\n",
    "- <조건문이 참인 경우의 값> if <조건문> else <조건문이 거짓인 경우의 값>"
   ]
  },
  {
   "cell_type": "code",
   "execution_count": 40,
   "id": "b37213bd-3919-4194-b62d-84977f5a80f6",
   "metadata": {},
   "outputs": [
    {
     "name": "stdout",
     "output_type": "stream",
     "text": [
      "success\n"
     ]
    }
   ],
   "source": [
    "score = 60\n",
    "\n",
    "if score >= 60:\n",
    "    message = \"success\"\n",
    "    \n",
    "else:\n",
    "    message = \"failure\"\n",
    "    \n",
    "print(message)"
   ]
  },
  {
   "cell_type": "code",
   "execution_count": 43,
   "id": "1ba3d1ce-51b1-49da-a064-b619e21ea9ff",
   "metadata": {},
   "outputs": [
    {
     "name": "stdout",
     "output_type": "stream",
     "text": [
      "success\n"
     ]
    }
   ],
   "source": [
    "score = 60\n",
    "message = \"success\" if score >= 60 else \"failure\"\n",
    "print(message)"
   ]
  },
  {
   "cell_type": "markdown",
   "id": "d7e48172-1ca7-4a79-bca1-518b51a87a0a",
   "metadata": {},
   "source": [
    "# 확인문제"
   ]
  },
  {
   "cell_type": "code",
   "execution_count": 47,
   "id": "0512ddfc-0807-42e2-9db1-426f5d0d334f",
   "metadata": {},
   "outputs": [
    {
     "name": "stdout",
     "output_type": "stream",
     "text": [
      "일반인\n"
     ]
    }
   ],
   "source": [
    "# 학점을 입력받아 다음의 조건에 따라 적절한 문장을 출력하기\n",
    "# 학점이 4.2 이상이면 \"교수님의 사랑\"\n",
    "# 학점이 2.8 이상이고 4.2미만이면 \"일반인\"\n",
    "# 학점이 2.8 미만이면 \"오락문화의 선구자\"\n",
    "score = 3.4\n",
    "\n",
    "if score >= 4.2:\n",
    "    print(\"교수님의 사랑\")\n",
    "    \n",
    "elif score >= 2.8:\n",
    "    print(\"일반인\")\n",
    "    \n",
    "else:\n",
    "    print(\"오락문화의 선구자\")"
   ]
  },
  {
   "cell_type": "markdown",
   "id": "132c1d3d-aadb-4955-afaa-8351ce5fbad1",
   "metadata": {},
   "source": [
    "# while 문\n",
    "\n",
    "- 특정 조건을 만족하는 동안 반복해서 수행해야 할 때 사용\n",
    "- 조건이 True인 동안 반복해서 실행\n",
    "- 반복해야 하는 횟수나 값의 범위가 명확하지 않은 경우에 주로 사용\n",
    "\n",
    "```\n",
    "while 조건식:\n",
    "    반복 실행문\n",
    "```"
   ]
  },
  {
   "cell_type": "code",
   "execution_count": 51,
   "id": "4cafa171-ea04-4249-948d-f9b69b039ddc",
   "metadata": {},
   "outputs": [
    {
     "name": "stdout",
     "output_type": "stream",
     "text": [
      "나무를 1번째 찍었습니다\n",
      "나무를 2번째 찍었습니다\n",
      "나무를 3번째 찍었습니다\n",
      "나무를 4번째 찍었습니다\n",
      "나무를 5번째 찍었습니다\n",
      "나무를 6번째 찍었습니다\n",
      "나무를 7번째 찍었습니다\n",
      "나무를 8번째 찍었습니다\n",
      "나무를 9번째 찍었습니다\n",
      "나무를 10번째 찍었습니다\n",
      "나무가 넘어갑니다\n"
     ]
    }
   ],
   "source": [
    "hits = 0\n",
    "tree_hp = 10\n",
    "\n",
    "while hits < tree_hp:\n",
    "    hits += 1\n",
    "    print(f\"나무를 {hits}번째 찍었습니다\")\n",
    "    \n",
    "    if hits == 10:\n",
    "        print(\"나무가 넘어갑니다\")"
   ]
  },
  {
   "cell_type": "markdown",
   "id": "f85d9ac9-40e2-407c-b97d-680924ba7b63",
   "metadata": {},
   "source": [
    "## while문 중첩"
   ]
  },
  {
   "cell_type": "code",
   "execution_count": 52,
   "id": "2b54329b-8fd3-4be7-83c6-5a31904e03d3",
   "metadata": {},
   "outputs": [
    {
     "name": "stdout",
     "output_type": "stream",
     "text": [
      "1일차 1교시입니다.\n",
      "1일차 2교시입니다.\n",
      "1일차 3교시입니다.\n",
      "2일차 1교시입니다.\n",
      "2일차 2교시입니다.\n",
      "2일차 3교시입니다.\n",
      "3일차 1교시입니다.\n",
      "3일차 2교시입니다.\n",
      "3일차 3교시입니다.\n",
      "4일차 1교시입니다.\n",
      "4일차 2교시입니다.\n",
      "4일차 3교시입니다.\n",
      "5일차 1교시입니다.\n",
      "5일차 2교시입니다.\n",
      "5일차 3교시입니다.\n"
     ]
    }
   ],
   "source": [
    "day = 1\n",
    "\n",
    "while day <= 5:\n",
    "    hour = 1\n",
    "    \n",
    "    while hour <= 3:\n",
    "        print(f\"{day}일차 {hour}교시입니다.\")\n",
    "        hour += 1\n",
    "        \n",
    "    day += 1"
   ]
  },
  {
   "cell_type": "code",
   "execution_count": 53,
   "id": "c19f9248-78c2-4f1f-814c-5733fab7dcc8",
   "metadata": {},
   "outputs": [
    {
     "data": {
      "text/plain": [
       "4"
      ]
     },
     "execution_count": 53,
     "metadata": {},
     "output_type": "execute_result"
    }
   ],
   "source": [
    "hour"
   ]
  },
  {
   "cell_type": "code",
   "execution_count": 54,
   "id": "feb83ffb-59d0-4fdb-8283-471949e9edd6",
   "metadata": {},
   "outputs": [
    {
     "data": {
      "text/plain": [
       "6"
      ]
     },
     "execution_count": 54,
     "metadata": {},
     "output_type": "execute_result"
    }
   ],
   "source": [
    "day"
   ]
  },
  {
   "cell_type": "markdown",
   "id": "86bae1d9-ee2e-43bb-84c4-935a5733accd",
   "metadata": {},
   "source": [
    "## break\n",
    "\n",
    "- 반복문을 강제로 종료시킬 때 사용"
   ]
  },
  {
   "cell_type": "code",
   "execution_count": 55,
   "id": "0f54f083-0977-4a95-bbe9-24a69b4c2b3f",
   "metadata": {},
   "outputs": [
    {
     "name": "stdout",
     "output_type": "stream",
     "text": [
      "1\n",
      "2\n",
      "3\n",
      "4\n",
      "5\n",
      "6\n",
      "7\n",
      "8\n",
      "9\n",
      "10\n"
     ]
    }
   ],
   "source": [
    "n = 1\n",
    "\n",
    "while True:\n",
    "    print(n)\n",
    "    \n",
    "    if n == 10:\n",
    "        break\n",
    "    \n",
    "    n += 1"
   ]
  },
  {
   "cell_type": "code",
   "execution_count": 56,
   "id": "4573e050-8b88-4b18-b80f-ce67edb94e52",
   "metadata": {},
   "outputs": [
    {
     "data": {
      "text/plain": [
       "10"
      ]
     },
     "execution_count": 56,
     "metadata": {},
     "output_type": "execute_result"
    }
   ],
   "source": [
    "n"
   ]
  },
  {
   "cell_type": "markdown",
   "id": "6aec9a41-410e-4be1-90e4-24b01ecd0195",
   "metadata": {},
   "source": [
    "## continue\n",
    "\n",
    "- 반복문의 시작 지점으로 이동\n",
    "- 반복에서 제외하거나 생략하고 싶은 코드가 있을 때 사용"
   ]
  },
  {
   "cell_type": "code",
   "execution_count": 57,
   "id": "71f9a019-bc5f-4939-a491-b86f92ea601d",
   "metadata": {},
   "outputs": [
    {
     "name": "stdout",
     "output_type": "stream",
     "text": [
      "1\n",
      "3\n",
      "5\n",
      "7\n",
      "9\n"
     ]
    }
   ],
   "source": [
    "a = 0\n",
    "\n",
    "while a < 10:\n",
    "    a += 1\n",
    "    \n",
    "    if a % 2 == 0:\n",
    "        continue\n",
    "        \n",
    "    print(a)"
   ]
  },
  {
   "cell_type": "markdown",
   "id": "ad62d819-093e-4bca-bedc-060b0caef242",
   "metadata": {},
   "source": [
    "# for문\n",
    "\n",
    "- 값의 범위나 반복 횟수가 정해져 있을 때 주로 사용하는 반복문\n",
    "\n",
    "- 반복 가능 객체 : 문자열, 리스트, 튜플, range, 세트, 딕셔너리\n",
    "\n",
    "```\n",
    "for 변수 in 반복가능객체:\n",
    "    반복실행문\n",
    "```"
   ]
  },
  {
   "cell_type": "code",
   "execution_count": 60,
   "id": "ce6fd5ee-4d8a-45a5-bc44-2a4746ff897b",
   "metadata": {},
   "outputs": [
    {
     "name": "stdout",
     "output_type": "stream",
     "text": [
      "one\n",
      "two\n",
      "three\n"
     ]
    }
   ],
   "source": [
    "test = [\"one\", \"two\", \"three\"]\n",
    "\n",
    "for i in test:\n",
    "    print(i)\n",
    "    \n",
    "# 리스트에 있는 요소 하나하나가 i 라는 변수에 들어가며, 차례차례 반복"
   ]
  },
  {
   "cell_type": "code",
   "execution_count": 61,
   "id": "42823d68-fcd9-4d67-977b-f356c6bbd2f1",
   "metadata": {},
   "outputs": [
    {
     "name": "stdout",
     "output_type": "stream",
     "text": [
      "안\n",
      "녕\n",
      "하\n",
      "세\n",
      "요\n"
     ]
    }
   ],
   "source": [
    "# for 반복문은 문자열을 함께 사용할 수도 있음\n",
    "for char in \"안녕하세요\":\n",
    "    print(char)"
   ]
  },
  {
   "cell_type": "code",
   "execution_count": 62,
   "id": "53df600f-4f89-48a7-80f4-8e740350bfc7",
   "metadata": {},
   "outputs": [
    {
     "name": "stdout",
     "output_type": "stream",
     "text": [
      "1번 학생은 합격입니다\n",
      "2번 학생은 불합격입니다\n",
      "3번 학생은 합격입니다\n",
      "4번 학생은 불합격입니다\n",
      "5번 학생은 합격입니다\n"
     ]
    }
   ],
   "source": [
    "# 5명의 학생이 시험을 보았는데 시험 점수가 60점을 넘으면 합격이고 그렇지 않으면 불합격\n",
    "# 학생들의 시험점수를 차례로 검사해서 합격인지 불합격인지 통보해주는 프로그램 만들기\n",
    "\n",
    "scores = [90, 25, 67, 45, 80]\n",
    "number = 0\n",
    "\n",
    "for score in scores:\n",
    "    number += 1\n",
    "    \n",
    "    if score >= 60:\n",
    "        print(f\"{number}번 학생은 합격입니다\")\n",
    "        \n",
    "    else:\n",
    "        print(f\"{number}번 학생은 불합격입니다\")"
   ]
  },
  {
   "cell_type": "markdown",
   "id": "6ec8ff03-8414-4e2f-8bd1-e7b8ae0459b2",
   "metadata": {},
   "source": [
    "## for문 중첩\n",
    "\n",
    "- 일반적으로 n차원 처리를 할 때 사용\n",
    "    - 리스트가 한 겹으로 감싸지면 1차원 리스트\n",
    "        - [1, 2, 3]\n",
    "        \n",
    "    - 리스트가 두 겹으로 감싸지면 2차원 리스트\n",
    "        - [[1, 2, 3], [4, 5, 6]]\n",
    "        \n",
    "    - 위와 같은 n차원 리스트 요소를 모두 확인하려면 반복문을 n번 중첩해야함"
   ]
  },
  {
   "cell_type": "code",
   "execution_count": 63,
   "id": "df7392ae-63ab-495c-b859-6c1475eaff09",
   "metadata": {},
   "outputs": [
    {
     "name": "stdout",
     "output_type": "stream",
     "text": [
      "1\n",
      "2\n",
      "3\n",
      "4\n",
      "5\n",
      "6\n",
      "7\n",
      "8\n",
      "9\n"
     ]
    }
   ],
   "source": [
    "over_list = [\n",
    "    [1, 2, 3],\n",
    "    [4, 5, 6, 7],\n",
    "    [8, 9]\n",
    "]\n",
    "\n",
    "for items in over_list:\n",
    "    for item in items:\n",
    "        print(item)"
   ]
  },
  {
   "cell_type": "markdown",
   "id": "6601fcc5-cb2a-4980-84be-f4f017f9b7d9",
   "metadata": {},
   "source": [
    "## continue"
   ]
  },
  {
   "cell_type": "code",
   "execution_count": 64,
   "id": "3c036ada-c101-4827-a203-aa13e21f1481",
   "metadata": {},
   "outputs": [
    {
     "name": "stdout",
     "output_type": "stream",
     "text": [
      "1번 학생은 합격입니다\n",
      "3번 학생은 합격입니다\n",
      "5번 학생은 합격입니다\n"
     ]
    }
   ],
   "source": [
    "scores = [90, 25, 67, 45, 80]\n",
    "number = 0\n",
    "\n",
    "for score in scores:\n",
    "    number += 1\n",
    "    \n",
    "    if score < 60:\n",
    "        continue\n",
    "        \n",
    "    print(f\"{number}번 학생은 합격입니다\")"
   ]
  },
  {
   "cell_type": "markdown",
   "id": "bf209afd-b9b9-4915-87c5-240d85d3d0a5",
   "metadata": {},
   "source": [
    "## range\n",
    "\n",
    "- 수열을 자동으로 만들어주는 함수\n",
    "- range(시작 인덱스, 종료 인덱스, 증감값)"
   ]
  },
  {
   "cell_type": "code",
   "execution_count": 66,
   "id": "fa8291f4-f9fd-443b-8f97-f61d31a0d1d6",
   "metadata": {},
   "outputs": [
    {
     "name": "stdout",
     "output_type": "stream",
     "text": [
      "0 1 2 3 4 5 6 7 8 9 "
     ]
    }
   ],
   "source": [
    "for i in range(10):\n",
    "    print(i, end = \" \")"
   ]
  },
  {
   "cell_type": "code",
   "execution_count": 67,
   "id": "eb7cbb57-0428-4a44-8167-6273398ac20c",
   "metadata": {},
   "outputs": [
    {
     "name": "stdout",
     "output_type": "stream",
     "text": [
      "1 2 3 4 5 6 7 8 9 10 "
     ]
    }
   ],
   "source": [
    "for i in range(1, 11):\n",
    "    print(i, end = \" \")"
   ]
  },
  {
   "cell_type": "code",
   "execution_count": 71,
   "id": "504781f7-f92c-48d1-ade3-c48194e8e16d",
   "metadata": {},
   "outputs": [
    {
     "name": "stdout",
     "output_type": "stream",
     "text": [
      "1 3 5 7 9 "
     ]
    }
   ],
   "source": [
    "for i in range(1, 11, 2):\n",
    "    print(i, end = \" \")"
   ]
  },
  {
   "cell_type": "code",
   "execution_count": 73,
   "id": "5de68023-83f2-4a35-80da-a0105afd04df",
   "metadata": {},
   "outputs": [
    {
     "name": "stdout",
     "output_type": "stream",
     "text": [
      "55\n"
     ]
    }
   ],
   "source": [
    "# 1부터 10까지의 누적합\n",
    "tot = 0\n",
    "\n",
    "for i in range(1, 11):\n",
    "    tot += i\n",
    "    \n",
    "print(tot)"
   ]
  },
  {
   "cell_type": "code",
   "execution_count": 3,
   "id": "39ec63d8-252d-4455-b6b6-4b6aaacae0f2",
   "metadata": {},
   "outputs": [
    {
     "name": "stdout",
     "output_type": "stream",
     "text": [
      "2 * 1 = 2\n",
      "2 * 2 = 4\n",
      "2 * 3 = 6\n",
      "2 * 4 = 8\n",
      "2 * 5 = 10\n",
      "2 * 6 = 12\n",
      "2 * 7 = 14\n",
      "2 * 8 = 16\n",
      "2 * 9 = 18\n"
     ]
    }
   ],
   "source": [
    "# 구구단 출력\n",
    "gugu = 2\n",
    "for i in range(1, 10):\n",
    "    print(f\"{gugu} * {i} = {gugu * i}\")"
   ]
  },
  {
   "cell_type": "markdown",
   "id": "69baebc3-647f-4001-a0de-cf84f2f89d81",
   "metadata": {},
   "source": [
    "## for 반복문과 딕셔너리 조합\n",
    "- for 반복문과 딕셔너리를 조합하면 딕셔너리의 키가 변수로 들어감"
   ]
  },
  {
   "cell_type": "code",
   "execution_count": 5,
   "id": "e744f198-9209-489e-8c51-cec1697894ae",
   "metadata": {},
   "outputs": [],
   "source": [
    "dic1 = {\"name\" : \"건조 망고\",\n",
    "        \"type\" : \"당 절임\",\n",
    "        \"ingredient\" : [\"망고\", \"설탕\", \"나트륨\", \"색소\"],\n",
    "        \"origin\" : \"필리핀\"}"
   ]
  },
  {
   "cell_type": "code",
   "execution_count": 6,
   "id": "e354fe9e-33fc-4637-b379-40e339078285",
   "metadata": {},
   "outputs": [
    {
     "name": "stdout",
     "output_type": "stream",
     "text": [
      "name\n",
      "건조 망고\n",
      "----------\n",
      "type\n",
      "당 절임\n",
      "----------\n",
      "ingredient\n",
      "['망고', '설탕', '나트륨', '색소']\n",
      "----------\n",
      "origin\n",
      "필리핀\n",
      "----------\n"
     ]
    }
   ],
   "source": [
    "for key in dic1:\n",
    "    print(key)\n",
    "    print(dic1[key])\n",
    "    print(\"-\" * 10)"
   ]
  },
  {
   "cell_type": "markdown",
   "id": "24904c29-0c38-42b0-b94e-09634071f598",
   "metadata": {},
   "source": [
    "## enumerate 함수\n",
    "- 리스트의 요소를 반복할 때 요소의 인덱스를 함꼐 반환\n",
    "- 현재 인덱스가 몇 번째인지 확인하고 싶은 경우 사용"
   ]
  },
  {
   "cell_type": "code",
   "execution_count": 9,
   "id": "fcfaeb3f-6a96-4620-97ed-0308725a968f",
   "metadata": {},
   "outputs": [
    {
     "name": "stdout",
     "output_type": "stream",
     "text": [
      "0번째 요소는 요소1입니다.\n",
      "1번째 요소는 요소2입니다.\n",
      "2번째 요소는 요소3입니다.\n"
     ]
    }
   ],
   "source": [
    "exList = [\"요소1\", \"요소2\", \"요소3\"]\n",
    "for i, value in enumerate(exList):\n",
    "    print(f\"{i}번째 요소는 {value}입니다.\")"
   ]
  },
  {
   "cell_type": "markdown",
   "id": "ba8ede2b-59df-4613-b9ae-8d1b7e65c9ad",
   "metadata": {},
   "source": [
    "# 리스트 내포(List comprehension)"
   ]
  },
  {
   "cell_type": "code",
   "execution_count": 19,
   "id": "d02b1f71-5b24-41bd-b0b5-f5d4e2019a52",
   "metadata": {},
   "outputs": [
    {
     "name": "stdout",
     "output_type": "stream",
     "text": [
      "658 ns ± 1.73 ns per loop (mean ± std. dev. of 7 runs, 1,000,000 loops each)\n"
     ]
    }
   ],
   "source": [
    "%%timeit\n",
    "result1 = []\n",
    "for num in range(10):\n",
    "    result1.append(num * 3)\n",
    "\n",
    "result1"
   ]
  },
  {
   "cell_type": "code",
   "execution_count": 20,
   "id": "b4bf32a3-a23b-481f-a7e9-94f22cb617a7",
   "metadata": {},
   "outputs": [
    {
     "name": "stdout",
     "output_type": "stream",
     "text": [
      "572 ns ± 6.31 ns per loop (mean ± std. dev. of 7 runs, 1,000,000 loops each)\n"
     ]
    }
   ],
   "source": [
    "%%timeit\n",
    "# 리스트 내포를 사용\n",
    "result2 = [num * 3 for num in range(10)]\n",
    "result2"
   ]
  },
  {
   "cell_type": "code",
   "execution_count": 18,
   "id": "51fe099c-39c4-4114-bef6-abf9f66174a7",
   "metadata": {},
   "outputs": [
    {
     "data": {
      "text/plain": [
       "[0, 6, 12, 18, 24]"
      ]
     },
     "execution_count": 18,
     "metadata": {},
     "output_type": "execute_result"
    }
   ],
   "source": [
    "# 리스트 내포에 조건식 추가\n",
    "result = [num * 3 for num in range(10) if num % 2 == 0]\n",
    "result"
   ]
  }
 ],
 "metadata": {
  "kernelspec": {
   "display_name": "Python 3 (ipykernel)",
   "language": "python",
   "name": "python3"
  },
  "language_info": {
   "codemirror_mode": {
    "name": "ipython",
    "version": 3
   },
   "file_extension": ".py",
   "mimetype": "text/x-python",
   "name": "python",
   "nbconvert_exporter": "python",
   "pygments_lexer": "ipython3",
   "version": "3.10.9"
  }
 },
 "nbformat": 4,
 "nbformat_minor": 5
}
