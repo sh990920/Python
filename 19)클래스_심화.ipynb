{
 "cells": [
  {
   "cell_type": "markdown",
   "id": "34f1774c-0497-4666-a572-b95597a8aefd",
   "metadata": {},
   "source": [
    "# 소멸자(destructor)\n",
    "- 인스턴스가 소멸될 때 자동으로 호출되는 메서드"
   ]
  },
  {
   "cell_type": "code",
   "execution_count": 1,
   "id": "e21c7e6a-86cf-42e9-b972-8c83bf2b9273",
   "metadata": {},
   "outputs": [],
   "source": [
    "class Sample:\n",
    "    def __del__(self):\n",
    "        print(\"인스턴스가 소멸됩니다\")"
   ]
  },
  {
   "cell_type": "code",
   "execution_count": 2,
   "id": "c651d742-de69-4fa8-a59c-53d834231994",
   "metadata": {},
   "outputs": [],
   "source": [
    "sample = Sample()"
   ]
  },
  {
   "cell_type": "code",
   "execution_count": 3,
   "id": "bba1ac81-cb80-42f5-bddd-a79aa8be3dec",
   "metadata": {},
   "outputs": [
    {
     "name": "stdout",
     "output_type": "stream",
     "text": [
      "인스턴스가 소멸됩니다\n"
     ]
    }
   ],
   "source": [
    "del sample"
   ]
  },
  {
   "cell_type": "markdown",
   "id": "e41b5ca4-ead9-430e-bce5-b040e6ebff5e",
   "metadata": {
    "tags": []
   },
   "source": [
    "# isinstance()\n",
    "- 객체가 어떤 클래스로부터 만들어졌는지 확인할 수 있는 함수\n",
    "- 첫 번째 매개변수에 객체, 두번째 매개변수에 클래스를 입력\n",
    "    - isinstance(객체, 클래스)\n",
    "    \n",
    "- 객체가 해당 클래스를 기반으로 만들어졌으면 True, 관계 없으면 False반환"
   ]
  },
  {
   "cell_type": "code",
   "execution_count": 4,
   "id": "69bd2dc2-66a7-4fbb-98d9-464afdce8c6f",
   "metadata": {},
   "outputs": [],
   "source": [
    "class Student:\n",
    "    def __init__(self):\n",
    "        pass"
   ]
  },
  {
   "cell_type": "code",
   "execution_count": 5,
   "id": "511676ac-a8cf-4c44-93ec-0e58aa7c8018",
   "metadata": {},
   "outputs": [],
   "source": [
    "student = Student()"
   ]
  },
  {
   "cell_type": "code",
   "execution_count": 6,
   "id": "68e08b4a-fcbc-4b87-b3cb-83ea7f25f70c",
   "metadata": {},
   "outputs": [
    {
     "data": {
      "text/plain": [
       "True"
      ]
     },
     "execution_count": 6,
     "metadata": {},
     "output_type": "execute_result"
    }
   ],
   "source": [
    "isinstance(student, Student)"
   ]
  },
  {
   "cell_type": "markdown",
   "id": "288ef847-666a-4a8c-b9dd-e7010c413234",
   "metadata": {},
   "source": [
    "- student는 Student 클래스를 기반으로 만들었으므로 True\n",
    "- 리스트 내부에 여러 종류의 객체가 들어있을 때 인스턴스들을 구분하여 속성과 기능을 사용할 때 사용"
   ]
  },
  {
   "cell_type": "code",
   "execution_count": 9,
   "id": "77cfdcb1-bfab-4787-813d-0ec5b14481d9",
   "metadata": {},
   "outputs": [],
   "source": [
    "class Student:\n",
    "    def study(self):\n",
    "        print(\"공부를 합니다.\")\n",
    "        \n",
    "class Teacher:\n",
    "    def teach(self):\n",
    "        print(\"학생을 가르칩니다.\")"
   ]
  },
  {
   "cell_type": "code",
   "execution_count": 10,
   "id": "12af9130-d1d7-424b-bc2f-99672321897e",
   "metadata": {},
   "outputs": [],
   "source": [
    "classroom = [Student(), Student(), Teacher(), Student(), Student()]"
   ]
  },
  {
   "cell_type": "code",
   "execution_count": 11,
   "id": "e2754ef0-26c6-4395-9443-7afc73310416",
   "metadata": {},
   "outputs": [
    {
     "name": "stdout",
     "output_type": "stream",
     "text": [
      "공부를 합니다.\n",
      "공부를 합니다.\n",
      "학생을 가르칩니다.\n",
      "공부를 합니다.\n",
      "공부를 합니다.\n"
     ]
    }
   ],
   "source": [
    "# 반복을 적용해서 적절한 함수를 호출\n",
    "for person in classroom:\n",
    "    if isinstance(person, Student):\n",
    "        person.study()\n",
    "    elif isinstance(person, Teacher):\n",
    "        person.teach()"
   ]
  },
  {
   "cell_type": "markdown",
   "id": "c8309e30-d6ca-4658-9aaf-95c46e5e81cf",
   "metadata": {},
   "source": [
    "# 특수한 이름의 메서드\n",
    "- \\_\\_이름\\_\\_() 형태의 메서드들은 특수한 상황에 자동으로 호출되도록 만들어짐\n",
    "- 파이썬이 클래스를 사용할 때 제공해주는 보조 기능"
   ]
  },
  {
   "cell_type": "markdown",
   "id": "7fb1c743-a6c6-4706-9df8-a859db50eb54",
   "metadata": {},
   "source": [
    "## \\_\\_str\\_\\_\n",
    "- str()함수의 매개변수로 객체를 넣으면 호출되는 메서드\n",
    "- 객체를 문자열로 변환"
   ]
  },
  {
   "cell_type": "code",
   "execution_count": null,
   "id": "9465cb79-fcc8-4ade-9729-f6eedae8bd50",
   "metadata": {},
   "outputs": [],
   "source": [
    "class Student:\n",
    "    def __init__(self, name, korean, math, english, science):\n",
    "        self.name = name\n",
    "        self.korean = korean\n",
    "        self.math = math\n",
    "        self.english = english\n",
    "        self.science = science\n",
    "        \n",
    "    def get_sum(self):\n",
    "        return self.korean + self.math + self.english + self.science\n",
    "    \n",
    "    def get_average(self):\n",
    "        return self.get_sum() / 4\n",
    "    \n",
    "    def __str__(self):\n",
    "        return f\"{self.name}\\t{self.get_sum()}\\t{self.get_average()}\""
   ]
  },
  {
   "cell_type": "code",
   "execution_count": null,
   "id": "c6753f29-b0ce-46c8-9065-84f18310ab5e",
   "metadata": {},
   "outputs": [],
   "source": [
    "students = [Student(\"윤인성\", 87, 98, 88, 95),\n",
    "            Student(\"연하진\", 95, 98, 96, 98),\n",
    "            Student(\"구지연\", 76, 96, 94, 90)]"
   ]
  },
  {
   "cell_type": "code",
   "execution_count": null,
   "id": "3ed29fa7-8403-4184-a911-8d02bda1d339",
   "metadata": {},
   "outputs": [
    {
     "ename": "TypeError",
     "evalue": "'<=' not supported between instances of 'Student' and 'Student'",
     "output_type": "error",
     "traceback": [
      "\u001b[0;31m---------------------------------------------------------------------------\u001b[0m",
      "\u001b[0;31mTypeError\u001b[0m                                 Traceback (most recent call last)",
      "Cell \u001b[0;32mIn[143], line 1\u001b[0m\n\u001b[0;32m----> 1\u001b[0m \u001b[43mstudents\u001b[49m\u001b[43m[\u001b[49m\u001b[38;5;241;43m0\u001b[39;49m\u001b[43m]\u001b[49m\u001b[43m \u001b[49m\u001b[38;5;241;43m<\u001b[39;49m\u001b[38;5;241;43m=\u001b[39;49m\u001b[43m \u001b[49m\u001b[43mstudents\u001b[49m\u001b[43m[\u001b[49m\u001b[38;5;241;43m1\u001b[39;49m\u001b[43m]\u001b[49m\n",
      "\u001b[0;31mTypeError\u001b[0m: '<=' not supported between instances of 'Student' and 'Student'"
     ]
    }
   ],
   "source": [
    "students[0] <= students[1]"
   ]
  },
  {
   "cell_type": "code",
   "execution_count": null,
   "id": "971cf38d-848c-43e7-a8c4-e065f9b6531f",
   "metadata": {},
   "outputs": [
    {
     "name": "stdout",
     "output_type": "stream",
     "text": [
      "이름\t총점\t평균\n",
      "윤인성\t368\t92.0\n",
      "연하진\t387\t96.75\n",
      "구지연\t356\t89.0\n"
     ]
    }
   ],
   "source": [
    "print(\"이름\", \"총점\", \"평균\", sep = \"\\t\")\n",
    "for student in students:\n",
    "    print(str(student))"
   ]
  },
  {
   "cell_type": "markdown",
   "id": "990d8395-6f94-4b19-87f5-5f3c18f95d43",
   "metadata": {},
   "source": [
    "## 크기 비교 메서드\n",
    "\n",
    "| 이름 | 영어 | 설명 |\n",
    "| :-- | :-- | :-- |\n",
    "| eq| equal| 같다|\n",
    "| ne | not equal| 다르다 |\n",
    "| gt | greater than| 크다 |\n",
    "| ge | greater than or equal| 크거나 같다 |\n",
    "| lt | less than | 작다 |\n",
    "| le | less than or equal| 작거나 같다 |"
   ]
  },
  {
   "cell_type": "code",
   "execution_count": 30,
   "id": "3b726342-3632-4bae-9882-7350985ee1d8",
   "metadata": {},
   "outputs": [],
   "source": [
    "class Student:\n",
    "    def __init__(self, name, korean, math, english, science):\n",
    "        self.name = name\n",
    "        self.korean = korean\n",
    "        self.math = math\n",
    "        self.english = english\n",
    "        self.science = science\n",
    "        \n",
    "    def get_sum(self):\n",
    "        return self.korean + self.math + self.english + self.science\n",
    "    \n",
    "    def get_average(self):\n",
    "        return self.get_sum() / 4\n",
    "    \n",
    "    def __str__(self):\n",
    "        return f\"{self.name}\\t{self.get_sum()}\\t{self.get_average()}\"\n",
    "    \n",
    "    def __eq__(self, value):\n",
    "        return self.get_sum() == value.get_sum()\n",
    "    \n",
    "    def __ne__(self, value):\n",
    "        return self.get_sum() != value.get_sum()\n",
    "    \n",
    "    def __gt__(self, value):\n",
    "        return self.get_sum() > value.get_sum()\n",
    "    \n",
    "    def __ge__(self, value):\n",
    "        return self.get_sum() >= value.get_sum()\n",
    "    \n",
    "    def __lt__(self, value):\n",
    "        return self.get_sum() < value.get_sum()\n",
    "    \n",
    "    def __le__(self, value):\n",
    "        return self.get_sum() <= value.get_sum()"
   ]
  },
  {
   "cell_type": "code",
   "execution_count": 31,
   "id": "885e1da9-7793-4a7a-9167-dac55dcec2ea",
   "metadata": {},
   "outputs": [],
   "source": [
    "# 비교할 학생 선언\n",
    "student_a = Student(\"나선주\", 98, 92, 96, 92)\n",
    "student_b = Student(\"윤아린\", 95, 98, 98, 98)"
   ]
  },
  {
   "cell_type": "code",
   "execution_count": 32,
   "id": "8a7e2536-aee4-4913-a7d0-b7fe3012e51c",
   "metadata": {},
   "outputs": [
    {
     "data": {
      "text/plain": [
       "False"
      ]
     },
     "execution_count": 32,
     "metadata": {},
     "output_type": "execute_result"
    }
   ],
   "source": [
    "student_a == student_b"
   ]
  },
  {
   "cell_type": "code",
   "execution_count": 33,
   "id": "f31c7bcc-d070-4e6a-8f2f-cff4a5cb3a86",
   "metadata": {},
   "outputs": [
    {
     "data": {
      "text/plain": [
       "True"
      ]
     },
     "execution_count": 33,
     "metadata": {},
     "output_type": "execute_result"
    }
   ],
   "source": [
    "student_a != student_b"
   ]
  },
  {
   "cell_type": "code",
   "execution_count": 34,
   "id": "a4d3ef7c-1544-4dee-b8d2-c4bca8105baf",
   "metadata": {},
   "outputs": [
    {
     "data": {
      "text/plain": [
       "False"
      ]
     },
     "execution_count": 34,
     "metadata": {},
     "output_type": "execute_result"
    }
   ],
   "source": [
    "student_a > student_b"
   ]
  },
  {
   "cell_type": "code",
   "execution_count": 35,
   "id": "33c26d0c-2787-4b19-af5b-494ec03ba867",
   "metadata": {},
   "outputs": [
    {
     "data": {
      "text/plain": [
       "True"
      ]
     },
     "execution_count": 35,
     "metadata": {},
     "output_type": "execute_result"
    }
   ],
   "source": [
    "student_a < student_b"
   ]
  },
  {
   "cell_type": "markdown",
   "id": "1ce07b34-92c2-4c87-9d6a-a7f55c6c42d3",
   "metadata": {},
   "source": [
    "- 비교할 때 사용하는 자료형을 한정하고 싶다면 예외발생을 활용할 수도 있음"
   ]
  },
  {
   "cell_type": "code",
   "execution_count": 37,
   "id": "1bae48dd-0ba7-430e-b2e4-661c165022b3",
   "metadata": {},
   "outputs": [],
   "source": [
    "class Student:\n",
    "    def __init__(self, name, korean, math, english, science):\n",
    "        self.name = name\n",
    "        self.korean = korean\n",
    "        self.math = math\n",
    "        self.english = english\n",
    "        self.science = science\n",
    "        \n",
    "    def get_sum(self):\n",
    "        return self.korean + self.math + self.english + self.science\n",
    "    \n",
    "    def get_average(self):\n",
    "        return self.get_sum() / 4\n",
    "    \n",
    "    def __str__(self):\n",
    "        return f\"{self.name}\\t{self.get_sum()}\\t{self.get_average()}\"\n",
    "    \n",
    "    def __eq__(self, value):\n",
    "        if not isinstance(value, Student):\n",
    "            raise TypeError(\"Student 클래스의 인스턴스만 비교할 수 있습니다.\")\n",
    "        return self.get_sum() == value.get_sum()\n",
    "    \n",
    "    def __ne__(self, value):\n",
    "        return self.get_sum() != value.get_sum()\n",
    "    \n",
    "    def __gt__(self, value):\n",
    "        return self.get_sum() > value.get_sum()\n",
    "    \n",
    "    def __ge__(self, value):\n",
    "        return self.get_sum() >= value.get_sum()\n",
    "    \n",
    "    def __lt__(self, value):\n",
    "        return self.get_sum() < value.get_sum()\n",
    "    \n",
    "    def __le__(self, value):\n",
    "        return self.get_sum() <= value.get_sum()"
   ]
  },
  {
   "cell_type": "code",
   "execution_count": 43,
   "id": "96d438c3-0b15-4879-969a-59727fd669bc",
   "metadata": {},
   "outputs": [],
   "source": [
    "# 비교할 학생 선언\n",
    "student_a = Student(\"나선주\", 98, 92, 96, 92)"
   ]
  },
  {
   "cell_type": "code",
   "execution_count": 44,
   "id": "c56fd92b-1758-470d-b8b2-a2593c3bbe27",
   "metadata": {},
   "outputs": [
    {
     "ename": "TypeError",
     "evalue": "Student 클래스의 인스턴스만 비교할 수 있습니다.",
     "output_type": "error",
     "traceback": [
      "\u001b[0;31m---------------------------------------------------------------------------\u001b[0m",
      "\u001b[0;31mTypeError\u001b[0m                                 Traceback (most recent call last)",
      "Cell \u001b[0;32mIn[44], line 1\u001b[0m\n\u001b[0;32m----> 1\u001b[0m \u001b[43mstudent_a\u001b[49m\u001b[43m \u001b[49m\u001b[38;5;241;43m==\u001b[39;49m\u001b[43m \u001b[49m\u001b[38;5;241;43m10\u001b[39;49m\n",
      "Cell \u001b[0;32mIn[37], line 20\u001b[0m, in \u001b[0;36mStudent.__eq__\u001b[0;34m(self, value)\u001b[0m\n\u001b[1;32m     18\u001b[0m \u001b[38;5;28;01mdef\u001b[39;00m \u001b[38;5;21m__eq__\u001b[39m(\u001b[38;5;28mself\u001b[39m, value):\n\u001b[1;32m     19\u001b[0m     \u001b[38;5;28;01mif\u001b[39;00m \u001b[38;5;129;01mnot\u001b[39;00m \u001b[38;5;28misinstance\u001b[39m(value, Student):\n\u001b[0;32m---> 20\u001b[0m         \u001b[38;5;28;01mraise\u001b[39;00m \u001b[38;5;167;01mTypeError\u001b[39;00m(\u001b[38;5;124m\"\u001b[39m\u001b[38;5;124mStudent 클래스의 인스턴스만 비교할 수 있습니다.\u001b[39m\u001b[38;5;124m\"\u001b[39m)\n\u001b[1;32m     21\u001b[0m     \u001b[38;5;28;01mreturn\u001b[39;00m \u001b[38;5;28mself\u001b[39m\u001b[38;5;241m.\u001b[39mget_sum() \u001b[38;5;241m==\u001b[39m value\u001b[38;5;241m.\u001b[39mget_sum()\n",
      "\u001b[0;31mTypeError\u001b[0m: Student 클래스의 인스턴스만 비교할 수 있습니다."
     ]
    }
   ],
   "source": [
    "student_a == 10"
   ]
  },
  {
   "cell_type": "markdown",
   "id": "fb2d9730-ec09-4db2-bb1d-594b6928f2ef",
   "metadata": {},
   "source": [
    "# 클래스 변수와 클래스 메서드\n",
    "- 객체가 변수와 메서드를 가지는 것 처럼 클래스도 변수와 메서드를 가질 수 있음\n",
    "- 표현법\n",
    "    - class 클래스이름:\n",
    "        - 클래스 변수 = 값\n",
    "        \n",
    "- 클래스 변수에 접근\n",
    "    - 클래스이름.변수이름"
   ]
  },
  {
   "cell_type": "code",
   "execution_count": 45,
   "id": "3ae9696c-5c13-42bf-bbc8-a57d6d7b9000",
   "metadata": {},
   "outputs": [],
   "source": [
    "class Korean:\n",
    "    country = \"한국\" # 클래스 변수 country\n",
    "    \n",
    "    def __init__(self, name, age, address):\n",
    "        self.name = name # 인스턴스변수 self.name\n",
    "        self.age = age # 인스턴스변수 self.age\n",
    "        self.address = address # 인스턴스변수 self.address"
   ]
  },
  {
   "cell_type": "code",
   "execution_count": 46,
   "id": "c4ccbbb4-d52c-422b-8d7f-ca27f53d1de1",
   "metadata": {},
   "outputs": [],
   "source": [
    "man = Korean(\"홍길동\", 35, \"서울\")"
   ]
  },
  {
   "cell_type": "code",
   "execution_count": 47,
   "id": "fd51dff0-daa9-4c46-b15d-65c9df70005b",
   "metadata": {},
   "outputs": [
    {
     "data": {
      "text/plain": [
       "'홍길동'"
      ]
     },
     "execution_count": 47,
     "metadata": {},
     "output_type": "execute_result"
    }
   ],
   "source": [
    "man.name"
   ]
  },
  {
   "cell_type": "code",
   "execution_count": 48,
   "id": "54c7c33c-4ffa-457e-bed5-1598ecd304fa",
   "metadata": {},
   "outputs": [
    {
     "ename": "AttributeError",
     "evalue": "type object 'Korean' has no attribute 'name'",
     "output_type": "error",
     "traceback": [
      "\u001b[0;31m---------------------------------------------------------------------------\u001b[0m",
      "\u001b[0;31mAttributeError\u001b[0m                            Traceback (most recent call last)",
      "Cell \u001b[0;32mIn[48], line 1\u001b[0m\n\u001b[0;32m----> 1\u001b[0m \u001b[43mKorean\u001b[49m\u001b[38;5;241;43m.\u001b[39;49m\u001b[43mname\u001b[49m\n",
      "\u001b[0;31mAttributeError\u001b[0m: type object 'Korean' has no attribute 'name'"
     ]
    }
   ],
   "source": [
    "Korean.name"
   ]
  },
  {
   "cell_type": "code",
   "execution_count": 49,
   "id": "e217e886-078d-478e-b8ff-477877368460",
   "metadata": {},
   "outputs": [
    {
     "data": {
      "text/plain": [
       "'한국'"
      ]
     },
     "execution_count": 49,
     "metadata": {},
     "output_type": "execute_result"
    }
   ],
   "source": [
    "man.country"
   ]
  },
  {
   "cell_type": "code",
   "execution_count": 51,
   "id": "6740a457-e8ce-4f7f-9dbc-96afd00180ac",
   "metadata": {},
   "outputs": [
    {
     "data": {
      "text/plain": [
       "'한국'"
      ]
     },
     "execution_count": 51,
     "metadata": {},
     "output_type": "execute_result"
    }
   ],
   "source": [
    "Korean.country"
   ]
  },
  {
   "cell_type": "code",
   "execution_count": 52,
   "id": "79ba161f-0554-483c-bdf2-5857f79505c1",
   "metadata": {},
   "outputs": [],
   "source": [
    "class Person:\n",
    "    bag = []\n",
    "    \n",
    "    def put_bag(self, stuff):\n",
    "        Person.bag.append(stuff)"
   ]
  },
  {
   "cell_type": "code",
   "execution_count": 53,
   "id": "2284a435-b53d-4132-b5d8-34220b78af92",
   "metadata": {},
   "outputs": [],
   "source": [
    "james = Person()\n",
    "james.put_bag(\"책\")"
   ]
  },
  {
   "cell_type": "code",
   "execution_count": 54,
   "id": "a4d9d28d-69a6-4983-9dca-395b6c2248f9",
   "metadata": {},
   "outputs": [],
   "source": [
    "maria = Person()\n",
    "maria.put_bag(\"열쇠\")"
   ]
  },
  {
   "cell_type": "code",
   "execution_count": 55,
   "id": "46d58af5-6322-40be-84e4-823cac358406",
   "metadata": {},
   "outputs": [
    {
     "name": "stdout",
     "output_type": "stream",
     "text": [
      "['책', '열쇠']\n",
      "['책', '열쇠']\n",
      "['책', '열쇠']\n"
     ]
    }
   ],
   "source": [
    "print(james.bag)\n",
    "print(maria.bag)\n",
    "print(Person.bag)"
   ]
  },
  {
   "cell_type": "code",
   "execution_count": 57,
   "id": "b7f27b6b-bc15-4d46-b1e1-a7945f7121ee",
   "metadata": {},
   "outputs": [],
   "source": [
    "class Person:\n",
    "    bag = []\n",
    "    \n",
    "    def __init__(self):\n",
    "        self.bag = []\n",
    "        \n",
    "    def put_bag(self, stuff):\n",
    "        Person.bag.append(stuff)\n",
    "        \n",
    "    def put_mybag(self, stuff):\n",
    "        self.bag.append(stuff)"
   ]
  },
  {
   "cell_type": "code",
   "execution_count": 58,
   "id": "de5f6ef0-909f-4c1e-95a2-afd07fb6fcf4",
   "metadata": {},
   "outputs": [],
   "source": [
    "james = Person()\n",
    "james.put_mybag(\"책\")\n",
    "james.put_bag(\"사전\")"
   ]
  },
  {
   "cell_type": "code",
   "execution_count": 59,
   "id": "a603a045-66c1-4794-91df-b3ecb21b18a1",
   "metadata": {},
   "outputs": [],
   "source": [
    "maria = Person()\n",
    "maria.put_mybag(\"열쇠\")\n",
    "maria.put_bag(\"자물쇠\")"
   ]
  },
  {
   "cell_type": "code",
   "execution_count": 62,
   "id": "366b5255-f962-45d7-97e5-12fff63c6d5b",
   "metadata": {},
   "outputs": [
    {
     "name": "stdout",
     "output_type": "stream",
     "text": [
      "['책']\n",
      "['열쇠']\n",
      "['사전', '자물쇠']\n"
     ]
    }
   ],
   "source": [
    "# 같은 이름의 인스턴스 변수와 클래스 변수가 존재할 때는 인스턴스 변수 우선\n",
    "print(james.bag)\n",
    "print(maria.bag)\n",
    "print(Person.bag)"
   ]
  },
  {
   "cell_type": "code",
   "execution_count": 64,
   "id": "15ab0a50-45aa-4a55-ae12-78e60624ab35",
   "metadata": {},
   "outputs": [],
   "source": [
    "class Student:\n",
    "    count = 0\n",
    "    \n",
    "    def __init__(self, name, korean, math, english, science):\n",
    "        self.name = name\n",
    "        self.korean = korean\n",
    "        self.math = math\n",
    "        self.english = english\n",
    "        self.science = science\n",
    "        \n",
    "        # 클래스 변수 설정\n",
    "        Student.count += 1\n",
    "        print(f\"{Student.count}번째 학생이 생성되었습니다.\")"
   ]
  },
  {
   "cell_type": "code",
   "execution_count": 65,
   "id": "fc21e703-56e6-4add-9207-0182eadc2681",
   "metadata": {},
   "outputs": [
    {
     "name": "stdout",
     "output_type": "stream",
     "text": [
      "1번째 학생이 생성되었습니다.\n",
      "2번째 학생이 생성되었습니다.\n",
      "3번째 학생이 생성되었습니다.\n"
     ]
    }
   ],
   "source": [
    "students = [Student(\"윤인성\", 87, 98, 88, 95),\n",
    "            Student(\"연하진\", 95, 98, 96, 98),\n",
    "            Student(\"구지연\", 76, 96, 94, 90)]"
   ]
  },
  {
   "cell_type": "code",
   "execution_count": 67,
   "id": "e4e26620-d078-4492-9b4b-0d47450daa4f",
   "metadata": {},
   "outputs": [
    {
     "name": "stdout",
     "output_type": "stream",
     "text": [
      "현재 생성된 총 학생수는 3명 입니다.\n"
     ]
    }
   ],
   "source": [
    "print(f\"현재 생성된 총 학생수는 {Student.count}명 입니다.\")"
   ]
  },
  {
   "cell_type": "markdown",
   "id": "8ab556f4-54b2-4f77-a287-47201315219a",
   "metadata": {},
   "source": [
    "## 클래스 메서드\n",
    "- 인스턴스 또는 클래스로 호출\n",
    "- 생성된 인스턴스가 없어도 호출 가능\n",
    "- @classmethod 데코레이터를 표시하고 작성\n",
    "- 매개변수 cls를 사용\n",
    "- 클래스.메서드() 의 형태로 사용\n",
    "- 인스턴스 변수에 접근할 수 없지만 클래스 변수에는 접근 가능\n",
    "    - 인스터스의 상태를 변화시키지 않는 메서드를 만들 때\n",
    "    \n",
    "- 표현법\n",
    "    - class 클래스이름:\n",
    "        - @classmethod\n",
    "        - def 클래스함수(cls, 매개변수):\n",
    "            - pass"
   ]
  },
  {
   "cell_type": "code",
   "execution_count": 68,
   "id": "920756d3-d843-4d0a-970c-62d9887900b9",
   "metadata": {},
   "outputs": [],
   "source": [
    "class Korean:\n",
    "    country = \"한국\"\n",
    "    \n",
    "    @classmethod\n",
    "    def trip(cls, country):\n",
    "        if cls.country == country:\n",
    "            print(\"국내 여행\")\n",
    "        else:\n",
    "            print(\"해외 여행\")"
   ]
  },
  {
   "cell_type": "code",
   "execution_count": 69,
   "id": "ab831225-c0da-43f3-8327-6a75f5ae2b85",
   "metadata": {},
   "outputs": [
    {
     "name": "stdout",
     "output_type": "stream",
     "text": [
      "국내 여행\n"
     ]
    }
   ],
   "source": [
    "Korean.trip(\"한국\")"
   ]
  },
  {
   "cell_type": "code",
   "execution_count": 70,
   "id": "b159db6a-7007-4e40-b5be-e7ce6291d9b2",
   "metadata": {},
   "outputs": [
    {
     "name": "stdout",
     "output_type": "stream",
     "text": [
      "해외 여행\n"
     ]
    }
   ],
   "source": [
    "Korean.trip(\"미국\")"
   ]
  },
  {
   "cell_type": "code",
   "execution_count": 74,
   "id": "c88be719-21ce-4fe8-bbb8-850f683a59d7",
   "metadata": {},
   "outputs": [],
   "source": [
    "class Person:\n",
    "    count = 0 # 클래스 변수\n",
    "    \n",
    "    def __init__(self):\n",
    "        Person.count += 1 # 인스턴스가 만들어질 때 클래스 변수 count에 1 더하기\n",
    "        \n",
    "    @classmethod\n",
    "    def print_count(cls):\n",
    "        print(f\"{cls.count}명 생성됨\") # cls로 클래스 속성에 접근\n",
    "        \n",
    "    @classmethod\n",
    "    def create(cls):\n",
    "        p = cls() # cls() 는 Person()과 같다\n",
    "        return p"
   ]
  },
  {
   "cell_type": "code",
   "execution_count": 75,
   "id": "18445992-757c-4efe-a23b-8fd6e4d773b5",
   "metadata": {},
   "outputs": [],
   "source": [
    "james = Person()\n",
    "maria = Person()"
   ]
  },
  {
   "cell_type": "code",
   "execution_count": 76,
   "id": "858d118c-7e21-4bd4-8dfb-a21d4e27b4dc",
   "metadata": {},
   "outputs": [
    {
     "name": "stdout",
     "output_type": "stream",
     "text": [
      "2명 생성됨\n"
     ]
    }
   ],
   "source": [
    "Person.print_count()"
   ]
  },
  {
   "cell_type": "code",
   "execution_count": 77,
   "id": "ed5d91d4-bc56-4b32-86b9-d7910a202f0c",
   "metadata": {},
   "outputs": [
    {
     "name": "stdout",
     "output_type": "stream",
     "text": [
      "3명 생성됨\n"
     ]
    }
   ],
   "source": [
    "julia = Person.create()\n",
    "Person.print_count()"
   ]
  },
  {
   "cell_type": "code",
   "execution_count": 84,
   "id": "3f39edd1-72b3-4b9f-b405-1398e69bba14",
   "metadata": {},
   "outputs": [],
   "source": [
    "class Student:\n",
    "    # 클래스 변수\n",
    "    count = 0\n",
    "    students = []\n",
    "    \n",
    "    @classmethod\n",
    "    def print(cls):\n",
    "        print(\"------ 학생 목록 ------\")\n",
    "        print(\"이름\\t총점\\t평균\")\n",
    "        for student in cls.students:\n",
    "            print(str(student))\n",
    "        print(\"------ ------ ------\")\n",
    "    \n",
    "    def __init__(self, name, korean, math, english, science):\n",
    "        self.name = name\n",
    "        self.korean = korean\n",
    "        self.math = math\n",
    "        self.english = english\n",
    "        self.science = science\n",
    "        Student.count += 1\n",
    "        Student.students.append(self)\n",
    "        \n",
    "    def get_sum(self):\n",
    "        return self.korean + self.math + self.english + self.science\n",
    "    \n",
    "    def get_average(self):\n",
    "        return self.get_sum() / 4\n",
    "    \n",
    "    def __str__(self):\n",
    "        return f\"{self.name}\\t{self.get_sum()}\\t{self.get_average()}\""
   ]
  },
  {
   "cell_type": "code",
   "execution_count": 85,
   "id": "9acb5595-a9c5-4e8a-8268-af32b3e003a1",
   "metadata": {},
   "outputs": [],
   "source": [
    "students = [Student(\"윤인성\", 87, 98, 88, 95),\n",
    "            Student(\"연하진\", 95, 98, 96, 98),\n",
    "            Student(\"구지연\", 76, 96, 94, 90)]"
   ]
  },
  {
   "cell_type": "code",
   "execution_count": 86,
   "id": "1f059554-5738-49b7-b9cb-931b95ff52f9",
   "metadata": {},
   "outputs": [
    {
     "name": "stdout",
     "output_type": "stream",
     "text": [
      "------ 학생 목록 ------\n",
      "이름\t총점\t평균\n",
      "윤인성\t368\t92.0\n",
      "연하진\t387\t96.75\n",
      "구지연\t356\t89.0\n",
      "------ ------ ------\n"
     ]
    }
   ],
   "source": [
    "# 현재 생성된 학생을 모두 출력\n",
    "Student.print()"
   ]
  },
  {
   "cell_type": "markdown",
   "id": "3ef6ad84-3653-447e-9d44-99a905aac86c",
   "metadata": {},
   "source": [
    "# 가비지 컬렉터(garbage collector)\n",
    "- 프로그램 내부에서 무언가 생성한다는 것은 메모리에 올린다는 의미\n",
    "    - 메모리가 부족해지면 컴퓨터는 하드디스크를 메모리처럼 사용\n",
    "        - 이런 동작을 스왑(swap)이라고 함\n",
    "        - 하드디스크는 메모리보다 훨씬 느리기 때문에 스왑을 처리하는 속도도 느림\n",
    "    - 프로그램에서 변수를 만들면 메모리에 데이터가 올라가고, 계속 만들게되면 메모리가 가득 참\n",
    "        - 파이썬에서는 가비지 컬렉터가 더 사용할 가능성이 없는 데이터를 메모리에서 제거해서 메모리를 정리"
   ]
  },
  {
   "cell_type": "markdown",
   "id": "2fdc6205-eaf5-4569-8a2c-52b5957c4ca1",
   "metadata": {},
   "source": [
    "## 변수에 저장하지 않은 경우"
   ]
  },
  {
   "cell_type": "code",
   "execution_count": 9,
   "id": "59fc446b-fa3e-46e5-90c4-1346dc4cb671",
   "metadata": {},
   "outputs": [],
   "source": [
    "class Test:\n",
    "    def __init__(self, name):\n",
    "        self.name = name\n",
    "        print(f\"{self.name} - 생성되었습니다.\")\n",
    "        \n",
    "    def __del__(self):\n",
    "        print(f\"{self.name} - 파괴되었습니다.\")"
   ]
  },
  {
   "cell_type": "code",
   "execution_count": 10,
   "id": "6476396a-0f75-4850-b197-8ff6c66540de",
   "metadata": {},
   "outputs": [
    {
     "name": "stdout",
     "output_type": "stream",
     "text": [
      "A - 생성되었습니다.\n",
      "A - 파괴되었습니다.\n",
      "B - 생성되었습니다.\n",
      "B - 파괴되었습니다.\n",
      "C - 생성되었습니다.\n"
     ]
    },
    {
     "data": {
      "text/plain": [
       "<__main__.Test at 0x7fc08921b820>"
      ]
     },
     "execution_count": 10,
     "metadata": {},
     "output_type": "execute_result"
    }
   ],
   "source": [
    "Test(\"A\")\n",
    "Test(\"B\")\n",
    "Test(\"C\")"
   ]
  },
  {
   "cell_type": "markdown",
   "id": "99085d46-adcf-4845-aad7-45718f53f846",
   "metadata": {},
   "source": [
    "## 변수에 저장한 경우"
   ]
  },
  {
   "cell_type": "code",
   "execution_count": 11,
   "id": "7f12c71e-a6ce-4118-b5ae-48b6234e5278",
   "metadata": {},
   "outputs": [
    {
     "name": "stdout",
     "output_type": "stream",
     "text": [
      "A - 생성되었습니다.\n",
      "A - 파괴되었습니다.\n",
      "B - 생성되었습니다.\n",
      "B - 파괴되었습니다.\n",
      "C - 생성되었습니다.\n",
      "C - 파괴되었습니다.\n"
     ]
    }
   ],
   "source": [
    "a = Test(\"A\")\n",
    "b = Test(\"B\")\n",
    "c = Test(\"C\")"
   ]
  },
  {
   "cell_type": "markdown",
   "id": "1c1263c1-93fa-408f-ab91-76bde368c218",
   "metadata": {
    "tags": []
   },
   "source": [
    "- 변수에 저장했으면 나중에 활용한다는 의미이므로 프로그램이 종료되는 순간까지 메모리에서 제거하지 않음"
   ]
  },
  {
   "cell_type": "markdown",
   "id": "c94f2e14-17af-4003-9d3b-c93e2b9e5439",
   "metadata": {},
   "source": [
    "# 프라이빗 변수\n",
    "- 클래스 내부의 변수를 외부에서 사용하는 것을 막고 싶을 때 사용\n",
    "- 표현법\n",
    "    - \\_\\_변수이름"
   ]
  },
  {
   "cell_type": "code",
   "execution_count": 12,
   "id": "48e81514-d580-443f-946d-a45ec2a01c37",
   "metadata": {},
   "outputs": [
    {
     "name": "stdout",
     "output_type": "stream",
     "text": [
      "AA\n"
     ]
    }
   ],
   "source": [
    "a.name = \"AA\"\n",
    "print(a.name)"
   ]
  },
  {
   "cell_type": "code",
   "execution_count": 14,
   "id": "fdb1c581-c9e8-4734-ab7b-ab32c6f4dd26",
   "metadata": {},
   "outputs": [],
   "source": [
    "class Person:\n",
    "    def __init__(self, name, age, address):\n",
    "        self.hello = \"안녕하세요\"\n",
    "        self.name = name\n",
    "        self.age = age\n",
    "        self.address = address"
   ]
  },
  {
   "cell_type": "code",
   "execution_count": 15,
   "id": "3d0eb573-3565-4e88-b306-873325a3bf4c",
   "metadata": {},
   "outputs": [
    {
     "data": {
      "text/plain": [
       "'마리아'"
      ]
     },
     "execution_count": 15,
     "metadata": {},
     "output_type": "execute_result"
    }
   ],
   "source": [
    "maria = Person(\"마리아\", 20, \"서울시 마포구\")\n",
    "maria.name"
   ]
  },
  {
   "cell_type": "code",
   "execution_count": 16,
   "id": "b0d528a7-c080-400a-81e2-4f90372a4a0c",
   "metadata": {},
   "outputs": [],
   "source": [
    "class Person:\n",
    "    def __init__(self, name, age, address, wallet):\n",
    "        self.hello = \"안녕하세요\"\n",
    "        self.name = name\n",
    "        self.age = age\n",
    "        self.address = address\n",
    "        self.__wallet = wallet"
   ]
  },
  {
   "cell_type": "code",
   "execution_count": 17,
   "id": "302a0a18-32a8-4c32-bdb0-59eca872c347",
   "metadata": {},
   "outputs": [],
   "source": [
    "maria = Person(\"마리아\", 20, \"서울시 마포구\", 10000)"
   ]
  },
  {
   "cell_type": "code",
   "execution_count": 19,
   "id": "8f2a89b5-763a-4a97-963b-b73dd85d3e96",
   "metadata": {},
   "outputs": [
    {
     "ename": "AttributeError",
     "evalue": "'Person' object has no attribute '__wallet'",
     "output_type": "error",
     "traceback": [
      "\u001b[0;31m---------------------------------------------------------------------------\u001b[0m",
      "\u001b[0;31mAttributeError\u001b[0m                            Traceback (most recent call last)",
      "Cell \u001b[0;32mIn[19], line 1\u001b[0m\n\u001b[0;32m----> 1\u001b[0m \u001b[43mmaria\u001b[49m\u001b[38;5;241;43m.\u001b[39;49m\u001b[43m__wallet\u001b[49m\n",
      "\u001b[0;31mAttributeError\u001b[0m: 'Person' object has no attribute '__wallet'"
     ]
    }
   ],
   "source": [
    "maria.__wallet # 클래스 바깥에서 비공개 속성에 접근하면 에러가 발생"
   ]
  },
  {
   "cell_type": "code",
   "execution_count": 20,
   "id": "2d5754e1-2910-47fa-82a6-d80586cad02f",
   "metadata": {},
   "outputs": [],
   "source": [
    "class Person:\n",
    "    def __init__(self, name, age, address, wallet):\n",
    "        self.hello = \"안녕하세요\"\n",
    "        self.name = name\n",
    "        self.age = age\n",
    "        self.address = address\n",
    "        self.__wallet = wallet\n",
    "        \n",
    "    def pay(self, amount):\n",
    "        self.__wallet -= amount\n",
    "        print(f\"{self.__wallet}원 남음\")"
   ]
  },
  {
   "cell_type": "code",
   "execution_count": 21,
   "id": "e809b027-333f-4d87-b7b3-11ab98a3a1b6",
   "metadata": {},
   "outputs": [],
   "source": [
    "maria = Person(\"마리아\", 20, \"서울시 마포구\", 10000)"
   ]
  },
  {
   "cell_type": "code",
   "execution_count": 22,
   "id": "5ac1a410-db1b-483a-a1af-334c9415e8ef",
   "metadata": {},
   "outputs": [
    {
     "name": "stdout",
     "output_type": "stream",
     "text": [
      "7000원 남음\n"
     ]
    }
   ],
   "source": [
    "maria.pay(3000)"
   ]
  },
  {
   "cell_type": "code",
   "execution_count": 24,
   "id": "8585fc42-6231-4d86-9447-0c56dbb3689e",
   "metadata": {},
   "outputs": [],
   "source": [
    "import math\n",
    "class Circle:\n",
    "    def __init__(self, radius):\n",
    "        self.__radius = radius\n",
    "        \n",
    "    def get_ciucumference(self):\n",
    "        return 2 * math.pi * self.__radius\n",
    "    \n",
    "    def get_area(self):\n",
    "        return math.pi * (self.__radius ** 2)"
   ]
  },
  {
   "cell_type": "code",
   "execution_count": 25,
   "id": "1c540cfb-437b-4e69-852e-0aca3de001c9",
   "metadata": {},
   "outputs": [
    {
     "name": "stdout",
     "output_type": "stream",
     "text": [
      "원의 둘레 62.83185307179586\n",
      "원의 넓이 314.1592653589793\n"
     ]
    },
    {
     "ename": "AttributeError",
     "evalue": "'Circle' object has no attribute '__radius'",
     "output_type": "error",
     "traceback": [
      "\u001b[0;31m---------------------------------------------------------------------------\u001b[0m",
      "\u001b[0;31mAttributeError\u001b[0m                            Traceback (most recent call last)",
      "Cell \u001b[0;32mIn[25], line 5\u001b[0m\n\u001b[1;32m      3\u001b[0m \u001b[38;5;28mprint\u001b[39m(\u001b[38;5;124m\"\u001b[39m\u001b[38;5;124m원의 둘레\u001b[39m\u001b[38;5;124m\"\u001b[39m, circle\u001b[38;5;241m.\u001b[39mget_ciucumference())\n\u001b[1;32m      4\u001b[0m \u001b[38;5;28mprint\u001b[39m(\u001b[38;5;124m\"\u001b[39m\u001b[38;5;124m원의 넓이\u001b[39m\u001b[38;5;124m\"\u001b[39m, circle\u001b[38;5;241m.\u001b[39mget_area())\n\u001b[0;32m----> 5\u001b[0m \u001b[38;5;28mprint\u001b[39m(\u001b[38;5;124m\"\u001b[39m\u001b[38;5;124m반지름\u001b[39m\u001b[38;5;124m\"\u001b[39m, \u001b[43mcircle\u001b[49m\u001b[38;5;241;43m.\u001b[39;49m\u001b[43m__radius\u001b[49m)\n",
      "\u001b[0;31mAttributeError\u001b[0m: 'Circle' object has no attribute '__radius'"
     ]
    }
   ],
   "source": [
    "# 원의 둘레와 넓이 구하기\n",
    "circle = Circle(10)\n",
    "print(\"원의 둘레\", circle.get_ciucumference())\n",
    "print(\"원의 넓이\", circle.get_area())\n",
    "print(\"반지름\", circle.__radius)"
   ]
  },
  {
   "cell_type": "markdown",
   "id": "777163db-763f-44d8-bfa2-b4133c68ccae",
   "metadata": {},
   "source": [
    "## 게터(getter), 세터(setter)\n",
    "- 위와 같은 예제에서 원의 반지름을 변경하고 싶다면 \\_\\_radius 에 직접 접근할 수 없기 때문에 간접적인 방법을 사용해야함\n",
    "- 게터와 세터는 프라이빗 변수의 값을 추출하거나 변경할 목적으로 간접적으로 속성에 접근하도록 해주는 함수"
   ]
  },
  {
   "cell_type": "code",
   "execution_count": 28,
   "id": "f897bbad-00a7-4246-9708-58e682eaaf95",
   "metadata": {},
   "outputs": [],
   "source": [
    "import math\n",
    "class Circle:\n",
    "    def __init__(self, radius):\n",
    "        self.__radius = radius\n",
    "        \n",
    "    def get_ciucumference(self):\n",
    "        return 2 * math.pi * self.__radius\n",
    "    \n",
    "    def get_area(self):\n",
    "        return math.pi * (self.__radius ** 2)\n",
    "    \n",
    "    # getter\n",
    "    def get_radius(self):\n",
    "        return self.__radius\n",
    "    \n",
    "    # setterf\n",
    "    def set_radius(self, value):\n",
    "        self.__radius = value"
   ]
  },
  {
   "cell_type": "code",
   "execution_count": 29,
   "id": "42e5dafa-d9d1-4236-bb2f-cb7388da6a7f",
   "metadata": {},
   "outputs": [
    {
     "name": "stdout",
     "output_type": "stream",
     "text": [
      "원의 둘레 62.83185307179586\n",
      "원의 넓이 314.1592653589793\n",
      "반지름 10\n"
     ]
    }
   ],
   "source": [
    "circle = Circle(10)\n",
    "print(\"원의 둘레\", circle.get_ciucumference())\n",
    "print(\"원의 넓이\", circle.get_area())\n",
    "print(\"반지름\", circle.get_radius())"
   ]
  },
  {
   "cell_type": "code",
   "execution_count": 31,
   "id": "1985014c-fe38-408f-91b8-ca2df5b1ed27",
   "metadata": {},
   "outputs": [
    {
     "name": "stdout",
     "output_type": "stream",
     "text": [
      "원의 둘레 12.566370614359172\n",
      "원의 넓이 12.566370614359172\n",
      "반지름 2\n"
     ]
    }
   ],
   "source": [
    "circle.set_radius(2)\n",
    "print(\"원의 둘레\", circle.get_ciucumference())\n",
    "print(\"원의 넓이\", circle.get_area())\n",
    "print(\"반지름\", circle.get_radius())"
   ]
  },
  {
   "cell_type": "markdown",
   "id": "0d85527a-28a9-4988-abee-34d3447df624",
   "metadata": {},
   "source": [
    "- 함수를 사용해 값을 변경하게 하면 여러가지 추가 처리를 할 수 있음\n",
    "    - 예) 반지름의 값을 양의 숫자로만 한정"
   ]
  },
  {
   "cell_type": "code",
   "execution_count": 35,
   "id": "9cfdea8e-3699-47d5-b922-a703f208fadf",
   "metadata": {},
   "outputs": [],
   "source": [
    "import math\n",
    "class Circle:\n",
    "    def __init__(self, radius):\n",
    "        self.__radius = radius\n",
    "        \n",
    "    def get_ciucumference(self):\n",
    "        return 2 * math.pi * self.__radius\n",
    "    \n",
    "    def get_area(self):\n",
    "        return math.pi * (self.__radius ** 2)\n",
    "    \n",
    "    # getter\n",
    "    def get_radius(self):\n",
    "        return self.__radius\n",
    "    \n",
    "    # setter\n",
    "    def set_radius(self, value):\n",
    "        if value <= 0:\n",
    "            raise TypeError(\"반지름은 양의 숫자여야 합니다\")\n",
    "        self.__radius = value"
   ]
  },
  {
   "cell_type": "code",
   "execution_count": 34,
   "id": "0a7ced0f-c008-40f0-90e5-a562d6668138",
   "metadata": {},
   "outputs": [
    {
     "ename": "TypeError",
     "evalue": "반지름은 양의 숫자여야 합니다",
     "output_type": "error",
     "traceback": [
      "\u001b[0;31m---------------------------------------------------------------------------\u001b[0m",
      "\u001b[0;31mTypeError\u001b[0m                                 Traceback (most recent call last)",
      "Cell \u001b[0;32mIn[34], line 2\u001b[0m\n\u001b[1;32m      1\u001b[0m circle \u001b[38;5;241m=\u001b[39m Circle(\u001b[38;5;241m10\u001b[39m)\n\u001b[0;32m----> 2\u001b[0m \u001b[43mcircle\u001b[49m\u001b[38;5;241;43m.\u001b[39;49m\u001b[43mset_radius\u001b[49m\u001b[43m(\u001b[49m\u001b[38;5;241;43m0\u001b[39;49m\u001b[43m)\u001b[49m\n",
      "Cell \u001b[0;32mIn[33], line 19\u001b[0m, in \u001b[0;36mCircle.set_radius\u001b[0;34m(self, value)\u001b[0m\n\u001b[1;32m     17\u001b[0m \u001b[38;5;28;01mdef\u001b[39;00m \u001b[38;5;21mset_radius\u001b[39m(\u001b[38;5;28mself\u001b[39m, value):\n\u001b[1;32m     18\u001b[0m     \u001b[38;5;28;01mif\u001b[39;00m value \u001b[38;5;241m<\u001b[39m\u001b[38;5;241m=\u001b[39m \u001b[38;5;241m0\u001b[39m:\n\u001b[0;32m---> 19\u001b[0m         \u001b[38;5;28;01mraise\u001b[39;00m \u001b[38;5;167;01mTypeError\u001b[39;00m(\u001b[38;5;124m\"\u001b[39m\u001b[38;5;124m반지름은 양의 숫자여야 합니다\u001b[39m\u001b[38;5;124m\"\u001b[39m)\n\u001b[1;32m     20\u001b[0m     \u001b[38;5;28mself\u001b[39m\u001b[38;5;241m.\u001b[39m__radius \u001b[38;5;241m=\u001b[39m value\n",
      "\u001b[0;31mTypeError\u001b[0m: 반지름은 양의 숫자여야 합니다"
     ]
    }
   ],
   "source": [
    "circle = Circle(10)\n",
    "circle.set_radius(0)"
   ]
  },
  {
   "cell_type": "markdown",
   "id": "3528c6fd-484c-4a68-9f0c-e79fcb0b0884",
   "metadata": {},
   "source": [
    "## 데코레이터를 사용한 게터와 세터\n",
    "- 게터와 세터를 함수로 만드는 일이 많아져서 게터와 세터를 쉽게 만들 수 있는 기능을 제공\n",
    "- 표현법\n",
    "    - @property\n",
    "    - @게터함수이름.setter"
   ]
  },
  {
   "cell_type": "code",
   "execution_count": 39,
   "id": "4631c41f-7cf2-4fba-94db-a487da269452",
   "metadata": {},
   "outputs": [],
   "source": [
    "import math\n",
    "class Circle:\n",
    "    def __init__(self, radius):\n",
    "        self.__radius = radius\n",
    "        \n",
    "    def get_ciucumference(self):\n",
    "        return 2 * math.pi * self.__radius\n",
    "    \n",
    "    def get_area(self):\n",
    "        return math.pi * (self.__radius ** 2)\n",
    "    \n",
    "    # getter\n",
    "    @property\n",
    "    def radius(self):\n",
    "        return self.__radius\n",
    "    \n",
    "    # setter\n",
    "    @radius.setter\n",
    "    def radius(self, value):\n",
    "        if value <= 0:\n",
    "            raise TypeError(\"반지름은 양의 숫자여야 합니다\")\n",
    "        self.__radius = value"
   ]
  },
  {
   "cell_type": "code",
   "execution_count": 40,
   "id": "d6b36a4f-e798-4815-9288-0ddeab03f810",
   "metadata": {},
   "outputs": [
    {
     "name": "stdout",
     "output_type": "stream",
     "text": [
      "원래 원의 반지름 10\n",
      "변경된 원의 반지름 2\n"
     ]
    }
   ],
   "source": [
    "circle = Circle(10)\n",
    "print(\"원래 원의 반지름\", circle.radius)\n",
    "circle.radius = 2\n",
    "print(\"변경된 원의 반지름\", circle.radius)"
   ]
  },
  {
   "cell_type": "code",
   "execution_count": 41,
   "id": "4f38ddfa-23c0-4e72-a52d-10e621e70985",
   "metadata": {},
   "outputs": [
    {
     "ename": "TypeError",
     "evalue": "반지름은 양의 숫자여야 합니다",
     "output_type": "error",
     "traceback": [
      "\u001b[0;31m---------------------------------------------------------------------------\u001b[0m",
      "\u001b[0;31mTypeError\u001b[0m                                 Traceback (most recent call last)",
      "Cell \u001b[0;32mIn[41], line 1\u001b[0m\n\u001b[0;32m----> 1\u001b[0m circle\u001b[38;5;241m.\u001b[39mradius \u001b[38;5;241m=\u001b[39m \u001b[38;5;241m-\u001b[39m\u001b[38;5;241m10\u001b[39m\n",
      "Cell \u001b[0;32mIn[39], line 21\u001b[0m, in \u001b[0;36mCircle.radius\u001b[0;34m(self, value)\u001b[0m\n\u001b[1;32m     18\u001b[0m \u001b[38;5;129m@radius\u001b[39m\u001b[38;5;241m.\u001b[39msetter\n\u001b[1;32m     19\u001b[0m \u001b[38;5;28;01mdef\u001b[39;00m \u001b[38;5;21mradius\u001b[39m(\u001b[38;5;28mself\u001b[39m, value):\n\u001b[1;32m     20\u001b[0m     \u001b[38;5;28;01mif\u001b[39;00m value \u001b[38;5;241m<\u001b[39m\u001b[38;5;241m=\u001b[39m \u001b[38;5;241m0\u001b[39m:\n\u001b[0;32m---> 21\u001b[0m         \u001b[38;5;28;01mraise\u001b[39;00m \u001b[38;5;167;01mTypeError\u001b[39;00m(\u001b[38;5;124m\"\u001b[39m\u001b[38;5;124m반지름은 양의 숫자여야 합니다\u001b[39m\u001b[38;5;124m\"\u001b[39m)\n\u001b[1;32m     22\u001b[0m     \u001b[38;5;28mself\u001b[39m\u001b[38;5;241m.\u001b[39m__radius \u001b[38;5;241m=\u001b[39m value\n",
      "\u001b[0;31mTypeError\u001b[0m: 반지름은 양의 숫자여야 합니다"
     ]
    }
   ],
   "source": [
    "circle.radius = -10"
   ]
  },
  {
   "cell_type": "markdown",
   "id": "82719b02-3b97-4c05-b415-ffac073af27e",
   "metadata": {},
   "source": [
    "- 데코레이터를 이용하면 객체.변수를 사용하는 것만으로 자동으로 게터와 세터가 호출되도록 할 수 있음"
   ]
  },
  {
   "cell_type": "markdown",
   "id": "b74119f0-7e35-4f61-a1b4-692b72336e1d",
   "metadata": {},
   "source": [
    "# 상속(inheritance)\n",
    "- 다른 누군가가 만들어 놓은 기본 형태에 내가 원하는 것만 추가하거나 교체하는 것\n",
    "\n",
    "- 다중 상속\n",
    "    - 다른 누군가가 만들어 놓은 형태들을 조립해서 내가 원하는 것을 만드는 것\n",
    "\n",
    "- 기반이 되는 것을 부모(parent)라고 부르고, 이를 기반으로 생성된 것을 자식(child)라고 부름\n",
    "    - 부모가 자식에게 자신의 기반을 물려주시는 것이기 때문에 상속이라고 부름"
   ]
  },
  {
   "cell_type": "code",
   "execution_count": 52,
   "id": "423ab97e-1df6-480f-88f0-8649643803c9",
   "metadata": {},
   "outputs": [],
   "source": [
    "class Person: # 부모 클래스\n",
    "    def __init__(self, name):\n",
    "        self.name = name\n",
    "        \n",
    "    def eat(self, food):\n",
    "        print(self.name + \"가 \" + food + \"를 먹습니다.\")"
   ]
  },
  {
   "cell_type": "code",
   "execution_count": 53,
   "id": "907a96fa-3720-432a-b3d8-953787c79d2b",
   "metadata": {},
   "outputs": [],
   "source": [
    "class Student(Person): # 자식 클래스\n",
    "    def __init__(self, name, school):\n",
    "        super().__init__(name)\n",
    "        self.school = school\n",
    "        \n",
    "    def study(self):\n",
    "        print(self.name + \"는 \" + self.school + \"에서 공부합니다.\")"
   ]
  },
  {
   "cell_type": "code",
   "execution_count": 54,
   "id": "96eb8099-fa59-4c80-b209-ffecfb4fd30d",
   "metadata": {},
   "outputs": [],
   "source": [
    "potter = Student(\"해리포터\", \"호그와트\")"
   ]
  },
  {
   "cell_type": "code",
   "execution_count": 55,
   "id": "276f8bbd-4545-404f-a485-4afa7d54e87c",
   "metadata": {},
   "outputs": [
    {
     "name": "stdout",
     "output_type": "stream",
     "text": [
      "해리포터는 호그와트에서 공부합니다.\n"
     ]
    }
   ],
   "source": [
    "potter.study()"
   ]
  },
  {
   "cell_type": "code",
   "execution_count": 56,
   "id": "d7c781e6-eb66-4d06-8792-a5c920a4fdff",
   "metadata": {},
   "outputs": [
    {
     "name": "stdout",
     "output_type": "stream",
     "text": [
      "해리포터가 감자를 먹습니다.\n"
     ]
    }
   ],
   "source": [
    "potter.eat(\"감자\")"
   ]
  },
  {
   "cell_type": "code",
   "execution_count": 59,
   "id": "4439bd2c-83de-4fe8-8d07-ade164b8d09e",
   "metadata": {},
   "outputs": [],
   "source": [
    "# 부모클래스 선언\n",
    "class Parent: \n",
    "    def __init__(self):\n",
    "        self.value = \"테스트\"\n",
    "        print(\"Parent 클래스의 __init__() 메서드가 호출되었습니다.\")\n",
    "        \n",
    "    def test(self):\n",
    "        print(\"Parent 클래스의 test() 매서드 입니다.\")"
   ]
  },
  {
   "cell_type": "code",
   "execution_count": 60,
   "id": "0551df86-89c8-4837-9467-c6441853f961",
   "metadata": {},
   "outputs": [],
   "source": [
    "# 자식 클래스 선언\n",
    "class Child(Parent):\n",
    "    def __init__(self):\n",
    "        super().__init__() # 부모의 생성자 호출\n",
    "        print(\"Child 클래스의 __init__() 메서드가 호출되었습니다.\")"
   ]
  },
  {
   "cell_type": "code",
   "execution_count": 61,
   "id": "ebbb505b-cbe2-4846-bd57-29a3af371908",
   "metadata": {},
   "outputs": [
    {
     "name": "stdout",
     "output_type": "stream",
     "text": [
      "Parent 클래스의 __init__() 메서드가 호출되었습니다.\n",
      "Child 클래스의 __init__() 메서드가 호출되었습니다.\n",
      "Parent 클래스의 test() 매서드 입니다.\n",
      "테스트\n"
     ]
    }
   ],
   "source": [
    "child = Child()\n",
    "child.test()\n",
    "print(child.value)"
   ]
  },
  {
   "cell_type": "markdown",
   "id": "b9e5cbe3-d16a-4ff5-be8b-93a49c7820b0",
   "metadata": {},
   "source": [
    "## 자식 클래스의 생성자\n",
    "- 자식 클래스는 부모 클래스가 없으면 존재할 수 없음\n",
    "- 따라서 자식 클래스의 생성자를 구현할 때는 부모 클래스의 생성자를 먼저 호출해야함\n",
    "- 자식 클래스에서 생성자를 생략한다면 부모 클래스의 생성자가 자동으로 호출되기 떄문에 super()를 사용하지 않아도 됨"
   ]
  },
  {
   "cell_type": "code",
   "execution_count": 62,
   "id": "79ba042b-369d-449e-bc4a-80cb9bd864e2",
   "metadata": {},
   "outputs": [],
   "source": [
    "class Person:\n",
    "    def __init__(self):\n",
    "        self.hello = \"안녕하세요\""
   ]
  },
  {
   "cell_type": "code",
   "execution_count": 63,
   "id": "f5a73074-6127-42af-b156-b4fd75661ddd",
   "metadata": {},
   "outputs": [],
   "source": [
    "class Student(Person):\n",
    "    pass"
   ]
  },
  {
   "cell_type": "code",
   "execution_count": 64,
   "id": "bf5d3c9f-f7e5-4fc1-8cf4-8ac06af775bb",
   "metadata": {},
   "outputs": [
    {
     "name": "stdout",
     "output_type": "stream",
     "text": [
      "안녕하세요\n"
     ]
    }
   ],
   "source": [
    "james = Student()\n",
    "print(james.hello)"
   ]
  },
  {
   "cell_type": "markdown",
   "id": "0d232a03-6a19-4df9-b317-f50d5990ed57",
   "metadata": {},
   "source": [
    "## 자식 클래스의 인스턴스 자료형\n",
    "- 자식 클래스 객체는 자식 클래스의 객체임과 동시에 부모 클래스의 객체"
   ]
  },
  {
   "cell_type": "code",
   "execution_count": 65,
   "id": "5c5d36ed-0e3f-402e-a91d-da4d6bdd04cb",
   "metadata": {},
   "outputs": [
    {
     "name": "stdout",
     "output_type": "stream",
     "text": [
      "True\n",
      "True\n"
     ]
    }
   ],
   "source": [
    "print(isinstance(james, Student))\n",
    "print(isinstance(james, Person))"
   ]
  },
  {
   "cell_type": "code",
   "execution_count": 67,
   "id": "967a1669-1cea-437b-b3bd-5074868dfe42",
   "metadata": {},
   "outputs": [
    {
     "name": "stdout",
     "output_type": "stream",
     "text": [
      "<class '__main__.Student'>\n"
     ]
    }
   ],
   "source": [
    "print(type(james))"
   ]
  },
  {
   "cell_type": "markdown",
   "id": "56e17254-5a8c-47f4-8b94-fd7e258968c3",
   "metadata": {},
   "source": [
    "## 클래스 상속의 활용"
   ]
  },
  {
   "cell_type": "code",
   "execution_count": 70,
   "id": "42f79edb-a11a-4d23-8a2a-b348f4583a4f",
   "metadata": {},
   "outputs": [],
   "source": [
    "class CustomException(Exception):\n",
    "    def __init__(self):\n",
    "        super().__init__()\n",
    "        print(\"내가 만든 오류가 생성되었습니다.\")\n",
    "        \n",
    "    def __str__(self):\n",
    "        return \"오류 발생\""
   ]
  },
  {
   "cell_type": "code",
   "execution_count": 71,
   "id": "662ba125-28bd-4281-890d-1b8bf284b366",
   "metadata": {},
   "outputs": [
    {
     "name": "stdout",
     "output_type": "stream",
     "text": [
      "내가 만든 오류가 생성되었습니다.\n"
     ]
    },
    {
     "ename": "CustomException",
     "evalue": "오류 발생",
     "output_type": "error",
     "traceback": [
      "\u001b[0;31m---------------------------------------------------------------------------\u001b[0m",
      "\u001b[0;31mCustomException\u001b[0m                           Traceback (most recent call last)",
      "Cell \u001b[0;32mIn[71], line 1\u001b[0m\n\u001b[0;32m----> 1\u001b[0m \u001b[38;5;28;01mraise\u001b[39;00m CustomException\n",
      "\u001b[0;31mCustomException\u001b[0m: 오류 발생"
     ]
    }
   ],
   "source": [
    "raise CustomException"
   ]
  },
  {
   "cell_type": "markdown",
   "id": "0b9336c1-0bed-4232-bfba-2178d6c02558",
   "metadata": {},
   "source": [
    "- 이때 \\_\\_str\\_\\_() 함수는 부모 클래스(Exception)에도 정의되어 있음\n",
    "    - 부모에 정의되어 있는 함수를 자식에서 다시 정의하는 것을 재정의 또는 오버라이드(override)라고 부름\n",
    "    - 기존 함수/변수 이외의 것을 완전히 새로 정의하는 것도 가능"
   ]
  },
  {
   "cell_type": "code",
   "execution_count": 72,
   "id": "ac7d9cba-d658-46de-b89c-582627f0a048",
   "metadata": {},
   "outputs": [],
   "source": [
    "class CustomException(Exception):\n",
    "    def __init__(self, message, value):\n",
    "        super().__init__()\n",
    "        self.message = message\n",
    "        self.value = value\n",
    "        \n",
    "    def __str__(self):\n",
    "        return self.message\n",
    "    \n",
    "    def print(self):\n",
    "        print(\"오류 정보\")\n",
    "        print(\"메세지 :\", self.message)\n",
    "        print(\"값 :\", self.value)"
   ]
  },
  {
   "cell_type": "code",
   "execution_count": 74,
   "id": "59233a24-3e81-4531-88b0-1fad9c1eb6ea",
   "metadata": {},
   "outputs": [
    {
     "name": "stdout",
     "output_type": "stream",
     "text": [
      "오류 정보\n",
      "메세지 : 이유없음\n",
      "값 : 273\n"
     ]
    }
   ],
   "source": [
    "try:\n",
    "    raise CustomException(\"이유없음\", 273)\n",
    "except CustomException as e:\n",
    "    e.print()"
   ]
  },
  {
   "cell_type": "code",
   "execution_count": 76,
   "id": "f8f375f7-8d2a-49ec-9265-d7bab5f88e7b",
   "metadata": {},
   "outputs": [],
   "source": [
    "class Person:\n",
    "    def greeting(self):\n",
    "        print(\"안녕하세요\")"
   ]
  },
  {
   "cell_type": "code",
   "execution_count": 77,
   "id": "dba4f457-bcac-4415-8350-20eb0ce16b6f",
   "metadata": {},
   "outputs": [],
   "source": [
    "class Student(Person):\n",
    "    def greeting(self):\n",
    "        print(\"안녕하세요. 인스턴스 메서드입니다.\")"
   ]
  },
  {
   "cell_type": "code",
   "execution_count": 80,
   "id": "f615fb39-83c4-413f-8a3b-39814d50e109",
   "metadata": {},
   "outputs": [
    {
     "name": "stdout",
     "output_type": "stream",
     "text": [
      "안녕하세요. 인스턴스 메서드입니다.\n"
     ]
    }
   ],
   "source": [
    "james = Student()\n",
    "james.greeting()"
   ]
  },
  {
   "cell_type": "code",
   "execution_count": 83,
   "id": "94be0c4d-a53f-4546-ac62-5ed57b0b1224",
   "metadata": {},
   "outputs": [],
   "source": [
    "class Student(Person):\n",
    "    def greeting(self):\n",
    "        super().greeting() # 부모클래스의 메서드를 이용하여 중복을 줄임\n",
    "        print(\"인스턴스 메서드입니다.\")"
   ]
  },
  {
   "cell_type": "code",
   "execution_count": 84,
   "id": "aba62269-68d9-48fc-b433-36a388fdaad1",
   "metadata": {},
   "outputs": [
    {
     "name": "stdout",
     "output_type": "stream",
     "text": [
      "안녕하세요\n",
      "인스턴스 메서드입니다.\n"
     ]
    }
   ],
   "source": [
    "james = Student()\n",
    "james.greeting()"
   ]
  },
  {
   "cell_type": "markdown",
   "id": "554501e8-e6dd-4b58-89e9-ab09839b9c01",
   "metadata": {},
   "source": [
    "## 다중 상속"
   ]
  },
  {
   "cell_type": "code",
   "execution_count": 85,
   "id": "af3243a0-ac36-488c-8d99-2fd55e8aab2e",
   "metadata": {},
   "outputs": [],
   "source": [
    "class Person:\n",
    "    def greeting(self):\n",
    "        print(\"안녕하세요\")"
   ]
  },
  {
   "cell_type": "code",
   "execution_count": 86,
   "id": "11613f10-6643-4e8c-8707-69b737cc0c73",
   "metadata": {},
   "outputs": [],
   "source": [
    "class University:\n",
    "    def manage_credit(self):\n",
    "        print(\"학점 관리\")"
   ]
  },
  {
   "cell_type": "code",
   "execution_count": 87,
   "id": "57109333-7a76-4bb4-b14d-3a86322882c4",
   "metadata": {},
   "outputs": [],
   "source": [
    "class Undergraduate(Person, University):\n",
    "    def study(self):\n",
    "        print(\"공부하기\")"
   ]
  },
  {
   "cell_type": "code",
   "execution_count": 88,
   "id": "44b69966-63fa-48e5-addc-0591b34baa06",
   "metadata": {},
   "outputs": [
    {
     "name": "stdout",
     "output_type": "stream",
     "text": [
      "안녕하세요\n",
      "학점 관리\n",
      "공부하기\n"
     ]
    }
   ],
   "source": [
    "james = Undergraduate()\n",
    "james.greeting()\n",
    "james.manage_credit()\n",
    "james.study()"
   ]
  },
  {
   "cell_type": "markdown",
   "id": "5bcba5c8-8a63-4ea1-b6ae-af2315d30343",
   "metadata": {},
   "source": [
    "# 연습문제"
   ]
  },
  {
   "cell_type": "code",
   "execution_count": 92,
   "id": "b37b8c69-adf5-4813-93f5-2960a5760be8",
   "metadata": {},
   "outputs": [
    {
     "name": "stdout",
     "output_type": "stream",
     "text": [
      "542.4 210.3 38\n",
      "베기\n"
     ]
    }
   ],
   "source": [
    "# 1. 코드를 보고 정상적으로 실행되도록 클래스를 작성하기\n",
    "class Knight:\n",
    "    def __init__(self, health, mana, armor):\n",
    "        self.health = health\n",
    "        self.mana = mana\n",
    "        self.armor = armor\n",
    "        \n",
    "    def slash(self):\n",
    "        print(\"베기\")\n",
    "\n",
    "x = Knight(health = 542.4, mana = 210.3, armor = 38)\n",
    "\n",
    "print(x.health, x.mana, x.armor)\n",
    "\n",
    "x.slash() # \"베기\" 라는 문자열 출력되는 메서드"
   ]
  },
  {
   "cell_type": "code",
   "execution_count": 95,
   "id": "2ae500a1-6c25-42e1-819f-39492d5d5f3a",
   "metadata": {},
   "outputs": [],
   "source": [
    "# 2. Animal 클래스와 wing 클래스를 상속받아 Bird 클래스를 만들어\n",
    "# \"날다\"를 출력하는 fly() 메소드를 작성\n",
    "class Animal:\n",
    "    def eat(self):\n",
    "        print(\"먹다\")\n",
    "        \n",
    "class Wing:\n",
    "    def flap(self):\n",
    "        print(\"파닥거리다\")\n",
    "\n",
    "class Bird(Animal, Wing):\n",
    "    def fly(self):\n",
    "        print(\"날다\")"
   ]
  },
  {
   "cell_type": "code",
   "execution_count": 97,
   "id": "fd012c39-7356-4f0e-93ee-105663c29e1c",
   "metadata": {},
   "outputs": [
    {
     "name": "stdout",
     "output_type": "stream",
     "text": [
      "먹다\n",
      "파닥거리다\n",
      "날다\n"
     ]
    }
   ],
   "source": [
    "b = Bird()\n",
    "b.eat()\n",
    "b.flap()\n",
    "b.fly()"
   ]
  },
  {
   "cell_type": "code",
   "execution_count": 98,
   "id": "921796ce-71d0-4280-bb81-74c4e43d59d8",
   "metadata": {},
   "outputs": [
    {
     "name": "stdout",
     "output_type": "stream",
     "text": [
      "True\n",
      "True\n"
     ]
    }
   ],
   "source": [
    "print(issubclass(Bird, Animal))\n",
    "print(issubclass(Bird, Wing))"
   ]
  },
  {
   "cell_type": "code",
   "execution_count": null,
   "id": "417f271c-285d-4dce-a3a9-f8c1c8375aff",
   "metadata": {},
   "outputs": [],
   "source": [
    "# 3. List를 상속받아서 AdvancedList 클래스를 작성하고\n",
    "# 리스트에서 특정 값으로 된 요소를 찾아서 다른 값으로 바꾸는 replace 메서드 만들기\n",
    "x = AdvancedList([1, 2, 3, 1, 2, 3, 1, 2, 3])\n",
    "x.replace(1, 100)\n",
    "print(x) # [100, 2, 3, 100, 2, 3, 100, 2, 3]"
   ]
  },
  {
   "cell_type": "code",
   "execution_count": 152,
   "id": "f8803fbf-798b-45c9-ac4d-fd6a14167570",
   "metadata": {},
   "outputs": [],
   "source": [
    "class AdvancedList(list):\n",
    "    def __init__(self, list):\n",
    "        super().__init__()\n",
    "        self.list = list\n",
    "        \n",
    "    def replace(self, value1, value2):\n",
    "        for i in range(len(self.list)):\n",
    "            if self.list[i] == value1:\n",
    "                self.list[i] = value2\n",
    "        print(self.list)\n",
    "    \n",
    "    # 출력을 어떻게 해야되는지 모르겠음"
   ]
  },
  {
   "cell_type": "code",
   "execution_count": 154,
   "id": "74bc58d3-251b-4ffc-a41d-454f56fbf342",
   "metadata": {},
   "outputs": [
    {
     "name": "stdout",
     "output_type": "stream",
     "text": [
      "[100, 2, 3, 100, 2, 3, 100, 2, 3]\n",
      "[100, 2, 3, 100, 2, 3, 100, 2, 3]\n"
     ]
    }
   ],
   "source": [
    "x = AdvancedList([1, 2, 3, 1, 2, 3, 1, 2, 3])\n",
    "x.replace(1, 100)\n",
    "print(x.list) # [100, 2, 3, 100, 2, 3, 100, 2, 3]"
   ]
  },
  {
   "cell_type": "code",
   "execution_count": 150,
   "id": "34876e6d-5bec-4620-bde3-1ae7e27d0094",
   "metadata": {},
   "outputs": [],
   "source": [
    "class AdvancedList(list):\n",
    "    def replace(self, old, new):\n",
    "        while old in self:\n",
    "            self[self.index(old)] = new"
   ]
  },
  {
   "cell_type": "code",
   "execution_count": 151,
   "id": "7f0e754f-f52e-45bb-8267-538bbc701d77",
   "metadata": {},
   "outputs": [
    {
     "name": "stdout",
     "output_type": "stream",
     "text": [
      "[100, 2, 3, 100, 2, 3, 100, 2, 3]\n"
     ]
    }
   ],
   "source": [
    "x = AdvancedList([1, 2, 3, 1, 2, 3, 1, 2, 3])\n",
    "x.replace(1, 100)\n",
    "print(x) # [100, 2, 3, 100, 2, 3, 100, 2, 3]"
   ]
  },
  {
   "cell_type": "code",
   "execution_count": 1,
   "id": "4f41de1b-adb1-4c90-98c9-ac32da11a542",
   "metadata": {},
   "outputs": [
    {
     "name": "stdout",
     "output_type": "stream",
     "text": [
      "[100, 2, 3, 100, 2, 3, 100, 2, 3]\n"
     ]
    }
   ],
   "source": [
    "class AdvancedList(list):\n",
    "    def replace(self, value1, value2):\n",
    "        for i in range(len(self)):\n",
    "            if self[i] == value1:\n",
    "                self[i] = value2\n",
    "\n",
    "x = AdvancedList([1, 2, 3, 1, 2, 3, 1, 2, 3])\n",
    "x.replace(1, 100)\n",
    "print(x)"
   ]
  }
 ],
 "metadata": {
  "kernelspec": {
   "display_name": "Python 3 (ipykernel)",
   "language": "python",
   "name": "python3"
  },
  "language_info": {
   "codemirror_mode": {
    "name": "ipython",
    "version": 3
   },
   "file_extension": ".py",
   "mimetype": "text/x-python",
   "name": "python",
   "nbconvert_exporter": "python",
   "pygments_lexer": "ipython3",
   "version": "3.10.9"
  }
 },
 "nbformat": 4,
 "nbformat_minor": 5
}
