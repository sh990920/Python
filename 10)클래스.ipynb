{
 "cells": [
  {
   "cell_type": "markdown",
   "id": "fbb08fb7-5532-4003-b92e-9bcbed142435",
   "metadata": {},
   "source": [
    "# 객체\n",
    "- 프로그램을 만들 때는 우선 \"어떤 데이터를 활용하는가?\"를 생각해야함\n",
    "    - 예) 병원 업무 프로그램을 만든다면 의사, 간호사, 환자, 예약기록, 진료기록, 입퇴원기록과 같은 데이터를 고려해야함\n",
    "- 여러 가지 속성을 가질 수 있는 대상을 객체(object)라고 함"
   ]
  },
  {
   "cell_type": "markdown",
   "id": "cc49d623-68d4-4291-8d75-08b6dda4401d",
   "metadata": {},
   "source": [
    "# 클래스\n",
    "- 객체를 만드는 도구\n",
    "- 클래스를 통해 여러 개의 객체를 만들 수 있음\n",
    "- 동일한 클래스에서도 서로 다른 값을 가진 객체가 만들어질 수 있음"
   ]
  },
  {
   "cell_type": "code",
   "execution_count": 8,
   "id": "048588c2-1c5e-414c-84ba-156c4c3eb2e1",
   "metadata": {},
   "outputs": [
    {
     "name": "stdout",
     "output_type": "stream",
     "text": [
      "3\n",
      "7\n",
      "3\n"
     ]
    }
   ],
   "source": [
    "# 계산기 예시 코드\n",
    "result = 0\n",
    "result2 = 0\n",
    "def cal_add(num):\n",
    "    global result\n",
    "    result += num\n",
    "    return result\n",
    "def cal_add2(num):\n",
    "    global result2\n",
    "    result2 += num\n",
    "    return result2\n",
    "print(cal_add(3))\n",
    "print(cal_add(4))\n",
    "print(cal_add2(3))"
   ]
  },
  {
   "cell_type": "code",
   "execution_count": 11,
   "id": "5ab8877c-79cf-4e01-8597-b7d93ddb0808",
   "metadata": {},
   "outputs": [
    {
     "name": "stdout",
     "output_type": "stream",
     "text": [
      "3\n",
      "7\n",
      "3\n",
      "10\n"
     ]
    }
   ],
   "source": [
    "class Calculator:\n",
    "    def __init__(self):\n",
    "        self.result = 0\n",
    "    \n",
    "    def add(self, num):\n",
    "        self.result += num\n",
    "        return self.result\n",
    "    \n",
    "cal1 = Calculator()\n",
    "cal2 = Calculator()\n",
    "\n",
    "print(cal1.add(3))\n",
    "print(cal1.add(4))\n",
    "print(cal2.add(3))\n",
    "print(cal2.add(7))"
   ]
  },
  {
   "cell_type": "code",
   "execution_count": 12,
   "id": "ae491bec-76b0-422f-8de0-73fe2168f060",
   "metadata": {},
   "outputs": [],
   "source": [
    "# 클래스 생성\n",
    "class WaffleMachine:\n",
    "    pass"
   ]
  },
  {
   "cell_type": "code",
   "execution_count": 13,
   "id": "947a9956-cc6d-4dfe-b8e5-37647c8f4bcf",
   "metadata": {},
   "outputs": [],
   "source": [
    "# 객체  = 클래스()\n",
    "waffle = WaffleMachine()"
   ]
  },
  {
   "cell_type": "code",
   "execution_count": 15,
   "id": "7197cc85-08ac-48c6-83d1-c2f1f9e1ebc5",
   "metadata": {},
   "outputs": [
    {
     "data": {
      "text/plain": [
       "<__main__.WaffleMachine at 0x7fecb80c0c10>"
      ]
     },
     "execution_count": 15,
     "metadata": {},
     "output_type": "execute_result"
    }
   ],
   "source": [
    "# 메모리의 0x7fecb80c0c10에 저장된 WaffleMachine 객체\n",
    "waffle"
   ]
  },
  {
   "cell_type": "markdown",
   "id": "abbb10c9-5860-43a5-9f86-e74cf72d4872",
   "metadata": {},
   "source": [
    "## 클래스의 구성\n",
    "- 클래스는 객체가 가져야 할 구성요소를 모두 가지고 있어야함\n",
    "    - 객체가 가져야할 값, 기능\n",
    "        - 값: 이름, 나이, 연락처, 주소 등(변수)\n",
    "        - 기능 : 잔다, 먹는다, 공부한다, 달린다 등 (함수)"
   ]
  },
  {
   "cell_type": "markdown",
   "id": "4ed65b45-5bab-48a4-bb51-ba119389eb60",
   "metadata": {},
   "source": [
    "### 인스턴스 변수와 인스턴스 메소드\n",
    "- 인스턴스 변수 : 클래스를 기반으로 만들어지는 모든 객체들이 각각 따로 저장하는 변수\n",
    "    - 모든 인스턴스 변수는 self라는 키워드를 붙인다.\n",
    "    - self는 자기 자신을 나타내는 의미로 사용한다.\n",
    "        - 자신이 가지고 있는 속성과 기능에 접근할 때에는 self.식별자 형태로 접근한다.\n",
    "        \n",
    "- 인스턴스 메소드 : 각 객체가 사용할 수 있는 기능\n",
    "    - 인스턴스 변수값에 따라서 각 객체마다 다르게 동작\n",
    "        - 첫 번째 매개변수로 self를 추가"
   ]
  },
  {
   "cell_type": "code",
   "execution_count": 16,
   "id": "f9ff5de4-716d-4793-81f7-a1bab4a58996",
   "metadata": {},
   "outputs": [],
   "source": [
    "# 예시 1. Person 클래스를 정의\n",
    "class Person:\n",
    "    # 인스턴스 메소드 who_am_i\n",
    "    # 모든 person클래스의 객체는 who_am_i() 메소드를 호출할 수 있다\n",
    "    # self를 제외한 나머지 매개변수에 실제로 사용될 데이터가 전달된다\n",
    "    def who_am_i(self, name, age, tel, address):\n",
    "        # 인스턴스 변수 name\n",
    "        # = 오른쪽에 있는 name은 매개변수의 name\n",
    "        # who_am_i() 메소드를 전달할 때 전달된 name이 객체의 name이 된다\n",
    "        self.name = name\n",
    "        self.age = age\n",
    "        self.tel = tel\n",
    "        self.address = address"
   ]
  },
  {
   "cell_type": "code",
   "execution_count": 18,
   "id": "71d40103-bc42-45e3-a54c-712c5699baa4",
   "metadata": {},
   "outputs": [],
   "source": [
    "# 객체 bay가 생성\n",
    "boy = Person()"
   ]
  },
  {
   "cell_type": "code",
   "execution_count": 20,
   "id": "0b6a903e-0316-491f-9294-4c1008ed4351",
   "metadata": {},
   "outputs": [],
   "source": [
    "boy.who_am_i(\"john\", 15, \"010-1234-1234\", \"seoul\")"
   ]
  },
  {
   "cell_type": "code",
   "execution_count": 21,
   "id": "e5168a42-28fd-41ca-87ea-9c21d0db256f",
   "metadata": {},
   "outputs": [
    {
     "data": {
      "text/plain": [
       "'john'"
      ]
     },
     "execution_count": 21,
     "metadata": {},
     "output_type": "execute_result"
    }
   ],
   "source": [
    "boy.name"
   ]
  },
  {
   "cell_type": "code",
   "execution_count": 22,
   "id": "7e6e46c5-cff7-414a-b11f-c88c3840b297",
   "metadata": {},
   "outputs": [
    {
     "data": {
      "text/plain": [
       "15"
      ]
     },
     "execution_count": 22,
     "metadata": {},
     "output_type": "execute_result"
    }
   ],
   "source": [
    "boy.age"
   ]
  },
  {
   "cell_type": "code",
   "execution_count": 23,
   "id": "b9702403-3348-4b3b-bbf5-024fee4d93e1",
   "metadata": {},
   "outputs": [
    {
     "data": {
      "text/plain": [
       "'010-1234-1234'"
      ]
     },
     "execution_count": 23,
     "metadata": {},
     "output_type": "execute_result"
    }
   ],
   "source": [
    "boy.tel"
   ]
  },
  {
   "cell_type": "code",
   "execution_count": 24,
   "id": "f50ccf9e-35c9-4dee-b2e1-af17f327ee50",
   "metadata": {},
   "outputs": [
    {
     "data": {
      "text/plain": [
       "'seoul'"
      ]
     },
     "execution_count": 24,
     "metadata": {},
     "output_type": "execute_result"
    }
   ],
   "source": [
    "boy.address"
   ]
  },
  {
   "cell_type": "code",
   "execution_count": 26,
   "id": "84e94435-dabc-47a0-af61-56f53ecdb70d",
   "metadata": {},
   "outputs": [],
   "source": [
    "# 예시 2\n",
    "class Computer:\n",
    "    def set_spec(self, cpu, ram, vga, ssd):\n",
    "        self.cpu = cpu\n",
    "        self.ram = ram\n",
    "        self.vga = vga\n",
    "        self.ssd = ssd\n",
    "    \n",
    "    def hardware_info(self):\n",
    "        print(f\"CPU = {self.cpu}\")\n",
    "        print(f\"RAM = {self.ram}\")\n",
    "        print(f\"VGA = {self.vga}\")\n",
    "        print(f\"SSD = {self.ssd}\")"
   ]
  },
  {
   "cell_type": "code",
   "execution_count": 27,
   "id": "a06462a6-8bd0-4439-b24e-240e8a82d2eb",
   "metadata": {},
   "outputs": [],
   "source": [
    "desktop = Computer()"
   ]
  },
  {
   "cell_type": "code",
   "execution_count": 28,
   "id": "a133188e-9870-4990-a208-721104f2b458",
   "metadata": {},
   "outputs": [],
   "source": [
    "desktop.set_spec(\"i7\", \"16GB\", \"GTX3060\", \"512GB\")"
   ]
  },
  {
   "cell_type": "code",
   "execution_count": 29,
   "id": "f66aaebf-376c-4b4c-a81e-c40be4bf410b",
   "metadata": {},
   "outputs": [
    {
     "name": "stdout",
     "output_type": "stream",
     "text": [
      "CPU = i7\n",
      "RAM = 16GB\n",
      "VGA = GTX3060\n",
      "SSD = 512GB\n"
     ]
    }
   ],
   "source": [
    "desktop.hardware_info()"
   ]
  },
  {
   "cell_type": "code",
   "execution_count": 31,
   "id": "ebb15314-2a8d-4bf1-97ec-b9854c2cd9f2",
   "metadata": {},
   "outputs": [],
   "source": [
    "notebook = Computer()"
   ]
  },
  {
   "cell_type": "code",
   "execution_count": 32,
   "id": "a3fa3755-90c4-4dd2-936a-9d436582d351",
   "metadata": {},
   "outputs": [],
   "source": [
    "notebook.set_spec(\"i5\", \"8GB\", \"MX300\", \"256GB\")"
   ]
  },
  {
   "cell_type": "code",
   "execution_count": 33,
   "id": "0521a472-faf3-4888-9f0c-d47bfbbd819f",
   "metadata": {},
   "outputs": [
    {
     "name": "stdout",
     "output_type": "stream",
     "text": [
      "CPU = i5\n",
      "RAM = 8GB\n",
      "VGA = MX300\n",
      "SSD = 256GB\n"
     ]
    }
   ],
   "source": [
    "notebook.hardware_info()"
   ]
  },
  {
   "cell_type": "code",
   "execution_count": 38,
   "id": "3a427be2-31e3-4330-8ab6-29de0b139d29",
   "metadata": {},
   "outputs": [],
   "source": [
    "# 객체에서 사용할 인스턴스 변수 생성\n",
    "class FourCal:\n",
    "    def set_data(self, first, second): # 메소드의 매개변수\n",
    "        # 메소드의 수행문\n",
    "        self.first = first\n",
    "        self.second = second"
   ]
  },
  {
   "cell_type": "code",
   "execution_count": 40,
   "id": "ecebcd5e-5bdd-4e64-856e-05f6ea50b9c0",
   "metadata": {},
   "outputs": [
    {
     "name": "stdout",
     "output_type": "stream",
     "text": [
      "4\n",
      "2\n"
     ]
    }
   ],
   "source": [
    "cal = FourCal()\n",
    "cal.set_data(4, 2)\n",
    "print(cal.first)\n",
    "print(cal.second)"
   ]
  },
  {
   "cell_type": "code",
   "execution_count": 45,
   "id": "eb80b7af-0a45-42ef-aaec-af092e9c1128",
   "metadata": {},
   "outputs": [
    {
     "name": "stdout",
     "output_type": "stream",
     "text": [
      "3\n",
      "7\n"
     ]
    }
   ],
   "source": [
    "test_cal = FourCal()\n",
    "test_cal.set_data(3, 7)\n",
    "print(test_cal.first)\n",
    "print(test_cal.second)"
   ]
  },
  {
   "cell_type": "code",
   "execution_count": 47,
   "id": "72be9bd4-dcc1-42cc-99c1-90925b11ad44",
   "metadata": {},
   "outputs": [
    {
     "name": "stdout",
     "output_type": "stream",
     "text": [
      "4\n"
     ]
    }
   ],
   "source": [
    "# 다른 객체의 영향을 받지 않고 원래읙 밧을 유지함\n",
    "print(cal.first)"
   ]
  },
  {
   "cell_type": "code",
   "execution_count": 49,
   "id": "7f9c3ab6-a772-40b2-8c10-46b47766ef98",
   "metadata": {},
   "outputs": [],
   "source": [
    "# 더하기 기능 추가\n",
    "class FourCal:\n",
    "    def set_data(self, first, second): # 메소드의 매개변수\n",
    "        # 메소드의 수행문\n",
    "        self.first = first\n",
    "        self.second = second\n",
    "    \n",
    "    def add(self):\n",
    "        result = self.first + self.second\n",
    "        return result"
   ]
  },
  {
   "cell_type": "code",
   "execution_count": 50,
   "id": "351ab42a-e91c-44f4-bdae-dd3240d13555",
   "metadata": {},
   "outputs": [
    {
     "name": "stdout",
     "output_type": "stream",
     "text": [
      "6\n"
     ]
    }
   ],
   "source": [
    "cal = FourCal()\n",
    "cal.set_data(4, 2)\n",
    "print(cal.add())"
   ]
  },
  {
   "cell_type": "code",
   "execution_count": 51,
   "id": "8520ebf5-1879-4d5d-9209-4323e6084951",
   "metadata": {},
   "outputs": [
    {
     "ename": "AttributeError",
     "evalue": "'FourCal' object has no attribute 'result'",
     "output_type": "error",
     "traceback": [
      "\u001b[0;31m---------------------------------------------------------------------------\u001b[0m",
      "\u001b[0;31mAttributeError\u001b[0m                            Traceback (most recent call last)",
      "Cell \u001b[0;32mIn[51], line 1\u001b[0m\n\u001b[0;32m----> 1\u001b[0m \u001b[43mcal\u001b[49m\u001b[38;5;241;43m.\u001b[39;49m\u001b[43mresult\u001b[49m\n",
      "\u001b[0;31mAttributeError\u001b[0m: 'FourCal' object has no attribute 'result'"
     ]
    }
   ],
   "source": [
    "# result 는 지역변수이기 때문에 cal.result로 찾을 수 없다.\n",
    "cal.result"
   ]
  },
  {
   "cell_type": "code",
   "execution_count": 53,
   "id": "169163f3-61d8-4015-b019-91d8fe2e78f4",
   "metadata": {},
   "outputs": [],
   "source": [
    "# 사칙연산 기능 추가하기\n",
    "class FourCal:\n",
    "    def set_data(self, first, second): # 메소드의 매개변수\n",
    "        # 메소드의 수행문\n",
    "        self.first = first\n",
    "        self.second = second\n",
    "    \n",
    "    def add(self):\n",
    "        result = self.first + self.second\n",
    "        return result\n",
    "    \n",
    "    def mul(self):\n",
    "        result = self.first - self.second\n",
    "        return result\n",
    "    \n",
    "    def sub(self):\n",
    "        result = self.first * self.second\n",
    "        return result\n",
    "    \n",
    "    def div(self):\n",
    "        result = self.first / self.second\n",
    "        return result"
   ]
  },
  {
   "cell_type": "code",
   "execution_count": 54,
   "id": "6827c1b9-89e5-408b-a9da-2d021f8f1ee6",
   "metadata": {},
   "outputs": [
    {
     "name": "stdout",
     "output_type": "stream",
     "text": [
      "4\n",
      "2\n",
      "6\n",
      "2\n",
      "8\n",
      "2.0\n"
     ]
    }
   ],
   "source": [
    "cal = FourCal()\n",
    "cal.set_data(4, 2)\n",
    "print(cal.first)\n",
    "print(cal.second)\n",
    "print(cal.add())\n",
    "print(cal.mul())\n",
    "print(cal.sub())\n",
    "print(cal.div())"
   ]
  },
  {
   "cell_type": "code",
   "execution_count": 55,
   "id": "b765704f-101a-4d03-b928-c568652186b0",
   "metadata": {},
   "outputs": [
    {
     "name": "stdout",
     "output_type": "stream",
     "text": [
      "3\n",
      "7\n",
      "10\n",
      "-4\n",
      "21\n",
      "0.42857142857142855\n"
     ]
    }
   ],
   "source": [
    "test_cal = FourCal()\n",
    "test_cal.set_data(3, 7)\n",
    "print(test_cal.first)\n",
    "print(test_cal.second)\n",
    "print(test_cal.add())\n",
    "print(test_cal.mul())\n",
    "print(test_cal.sub())\n",
    "print(test_cal.div())"
   ]
  },
  {
   "cell_type": "code",
   "execution_count": 56,
   "id": "2e741cda-192b-4d41-add3-1056fb9ab741",
   "metadata": {},
   "outputs": [],
   "source": [
    "cal1 = FourCal()\n",
    "cal2 = FourCal()\n",
    "cal1.set_data(4, 2)\n",
    "cal2.set_data(3, 8)"
   ]
  },
  {
   "cell_type": "code",
   "execution_count": 58,
   "id": "7b5d7571-88e9-4cc5-9c0d-7a1d0b31118b",
   "metadata": {},
   "outputs": [
    {
     "name": "stdout",
     "output_type": "stream",
     "text": [
      "6\n",
      "2\n",
      "8\n",
      "2.0\n"
     ]
    }
   ],
   "source": [
    "print(cal1.add())\n",
    "print(cal1.mul())\n",
    "print(cal1.sub())\n",
    "print(cal1.div())"
   ]
  },
  {
   "cell_type": "code",
   "execution_count": 59,
   "id": "55430dfc-fe79-4a40-8e1a-ea3f8820f6f2",
   "metadata": {},
   "outputs": [
    {
     "name": "stdout",
     "output_type": "stream",
     "text": [
      "11\n",
      "-5\n",
      "24\n",
      "0.375\n"
     ]
    }
   ],
   "source": [
    "print(cal2.add())\n",
    "print(cal2.mul())\n",
    "print(cal2.sub())\n",
    "print(cal2.div())"
   ]
  },
  {
   "cell_type": "markdown",
   "id": "962418f9-800f-4a07-b3a7-dee9a6775c36",
   "metadata": {},
   "source": [
    "# 생성자\n",
    "- 객체가 생성될 때 자동으로 호출되는 메소드"
   ]
  },
  {
   "cell_type": "code",
   "execution_count": 61,
   "id": "6328d2ed-5f80-427c-9b5a-0d8601d907c0",
   "metadata": {},
   "outputs": [
    {
     "ename": "AttributeError",
     "evalue": "'FourCal' object has no attribute 'first'",
     "output_type": "error",
     "traceback": [
      "\u001b[0;31m---------------------------------------------------------------------------\u001b[0m",
      "\u001b[0;31mAttributeError\u001b[0m                            Traceback (most recent call last)",
      "Cell \u001b[0;32mIn[61], line 3\u001b[0m\n\u001b[1;32m      1\u001b[0m \u001b[38;5;66;03m# set_data() 메소드를 실행해야만 fisrt 와 second가 생성됨\u001b[39;00m\n\u001b[1;32m      2\u001b[0m test_const \u001b[38;5;241m=\u001b[39m FourCal()\n\u001b[0;32m----> 3\u001b[0m \u001b[43mtest_const\u001b[49m\u001b[38;5;241;43m.\u001b[39;49m\u001b[43madd\u001b[49m\u001b[43m(\u001b[49m\u001b[43m)\u001b[49m\n",
      "Cell \u001b[0;32mIn[53], line 9\u001b[0m, in \u001b[0;36mFourCal.add\u001b[0;34m(self)\u001b[0m\n\u001b[1;32m      8\u001b[0m \u001b[38;5;28;01mdef\u001b[39;00m \u001b[38;5;21madd\u001b[39m(\u001b[38;5;28mself\u001b[39m):\n\u001b[0;32m----> 9\u001b[0m     result \u001b[38;5;241m=\u001b[39m \u001b[38;5;28;43mself\u001b[39;49m\u001b[38;5;241;43m.\u001b[39;49m\u001b[43mfirst\u001b[49m \u001b[38;5;241m+\u001b[39m \u001b[38;5;28mself\u001b[39m\u001b[38;5;241m.\u001b[39msecond\n\u001b[1;32m     10\u001b[0m     \u001b[38;5;28;01mreturn\u001b[39;00m result\n",
      "\u001b[0;31mAttributeError\u001b[0m: 'FourCal' object has no attribute 'first'"
     ]
    }
   ],
   "source": [
    "# set_data() 메소드를 실행해야만 fisrt 와 second가 생성됨\n",
    "test_const = FourCal()\n",
    "test_const.add()"
   ]
  },
  {
   "cell_type": "code",
   "execution_count": 62,
   "id": "bd2a92c0-da29-4500-8e89-5232ab32812f",
   "metadata": {},
   "outputs": [],
   "source": [
    "class FourCal:\n",
    "    def __init__(self, first, second): # 생성자\n",
    "        self.first = first\n",
    "        self.second = second\n",
    "        \n",
    "    def set_data(self, first, second): # 메소드의 매개변수\n",
    "        # 메소드의 수행문\n",
    "        self.first = first\n",
    "        self.second = second\n",
    "    \n",
    "    def add(self):\n",
    "        result = self.first + self.second\n",
    "        return result\n",
    "    \n",
    "    def mul(self):\n",
    "        result = self.first - self.second\n",
    "        return result\n",
    "    \n",
    "    def sub(self):\n",
    "        result = self.first * self.second\n",
    "        return result\n",
    "    \n",
    "    def div(self):\n",
    "        result = self.first / self.second\n",
    "        return result"
   ]
  },
  {
   "cell_type": "code",
   "execution_count": 63,
   "id": "82229600-e246-4595-acb7-625d32135739",
   "metadata": {},
   "outputs": [
    {
     "ename": "TypeError",
     "evalue": "FourCal.__init__() missing 2 required positional arguments: 'first' and 'second'",
     "output_type": "error",
     "traceback": [
      "\u001b[0;31m---------------------------------------------------------------------------\u001b[0m",
      "\u001b[0;31mTypeError\u001b[0m                                 Traceback (most recent call last)",
      "Cell \u001b[0;32mIn[63], line 2\u001b[0m\n\u001b[1;32m      1\u001b[0m \u001b[38;5;66;03m# 생성자의 매개변수를 전달해야 객체를 생성할 수 있음\u001b[39;00m\n\u001b[0;32m----> 2\u001b[0m test_const \u001b[38;5;241m=\u001b[39m \u001b[43mFourCal\u001b[49m\u001b[43m(\u001b[49m\u001b[43m)\u001b[49m\n",
      "\u001b[0;31mTypeError\u001b[0m: FourCal.__init__() missing 2 required positional arguments: 'first' and 'second'"
     ]
    }
   ],
   "source": [
    "# 생성자의 매개변수를 전달해야 객체를 생성할 수 있음\n",
    "test_const = FourCal()"
   ]
  },
  {
   "cell_type": "code",
   "execution_count": 65,
   "id": "1cf44cf8-4453-4cf2-8524-27c19e2492a4",
   "metadata": {},
   "outputs": [],
   "source": [
    "test_const = FourCal(4, 2)"
   ]
  },
  {
   "cell_type": "code",
   "execution_count": 66,
   "id": "850d6154-8153-4783-b13f-86a3b03dc056",
   "metadata": {},
   "outputs": [
    {
     "name": "stdout",
     "output_type": "stream",
     "text": [
      "4\n",
      "2\n",
      "6\n",
      "2\n",
      "8\n",
      "2.0\n"
     ]
    }
   ],
   "source": [
    "print(test_const.first)\n",
    "print(test_const.second)\n",
    "print(test_const.add())\n",
    "print(test_const.mul())\n",
    "print(test_const.sub())\n",
    "print(test_const.div())"
   ]
  },
  {
   "cell_type": "code",
   "execution_count": 78,
   "id": "af508b49-53d7-409e-8c2a-820c00acaf6f",
   "metadata": {},
   "outputs": [],
   "source": [
    "class Student:\n",
    "    def __init__(self, name, korean, math, english, science):\n",
    "        self.name = name\n",
    "        self.korean = korean\n",
    "        self.math = math\n",
    "        self.english = english\n",
    "        self.science = science"
   ]
  },
  {
   "cell_type": "code",
   "execution_count": 79,
   "id": "f788ae27-38a0-44b4-9e60-0afe6254f714",
   "metadata": {},
   "outputs": [],
   "source": [
    "students = [\n",
    "    Student(\"윤인성\", 87, 98, 88, 95),\n",
    "    Student(\"연하진\", 92, 98, 96, 98),\n",
    "    Student(\"구지연\", 76, 96, 94, 90)\n",
    "]"
   ]
  },
  {
   "cell_type": "code",
   "execution_count": 80,
   "id": "6f1978a3-ffac-4264-9d6a-c25dae9e37cf",
   "metadata": {},
   "outputs": [
    {
     "data": {
      "text/plain": [
       "'윤인성'"
      ]
     },
     "execution_count": 80,
     "metadata": {},
     "output_type": "execute_result"
    }
   ],
   "source": [
    "students[0].name"
   ]
  },
  {
   "cell_type": "code",
   "execution_count": 81,
   "id": "a41ff503-045b-490d-985b-6ccb53077d10",
   "metadata": {},
   "outputs": [
    {
     "data": {
      "text/plain": [
       "87"
      ]
     },
     "execution_count": 81,
     "metadata": {},
     "output_type": "execute_result"
    }
   ],
   "source": [
    "students[0].korean"
   ]
  },
  {
   "cell_type": "code",
   "execution_count": 82,
   "id": "9fe0ae39-8e71-4e35-8536-27bda8dfa422",
   "metadata": {},
   "outputs": [
    {
     "data": {
      "text/plain": [
       "98"
      ]
     },
     "execution_count": 82,
     "metadata": {},
     "output_type": "execute_result"
    }
   ],
   "source": [
    "students[0].math"
   ]
  },
  {
   "cell_type": "code",
   "execution_count": 83,
   "id": "8f749c08-5aaf-4d11-8bcb-005e43e59c22",
   "metadata": {},
   "outputs": [
    {
     "data": {
      "text/plain": [
       "88"
      ]
     },
     "execution_count": 83,
     "metadata": {},
     "output_type": "execute_result"
    }
   ],
   "source": [
    "students[0].english"
   ]
  },
  {
   "cell_type": "code",
   "execution_count": 84,
   "id": "3943fe05-326c-4e80-a5c3-58aa43df34e0",
   "metadata": {},
   "outputs": [
    {
     "data": {
      "text/plain": [
       "95"
      ]
     },
     "execution_count": 84,
     "metadata": {},
     "output_type": "execute_result"
    }
   ],
   "source": [
    "students[0].science"
   ]
  },
  {
   "cell_type": "markdown",
   "id": "ccdbf658-6491-4de6-8361-05f341e08fb2",
   "metadata": {},
   "source": [
    "## 연습문제"
   ]
  },
  {
   "cell_type": "code",
   "execution_count": 88,
   "id": "85457854-1fa2-461b-8ced-64d1d3621a18",
   "metadata": {},
   "outputs": [],
   "source": [
    "# 1. Human 클래스에 이름, 나이, 성별을 받는 생성자를 정의하여\n",
    "# 아래의 코드를 통해 areum 객체 생성하기\n",
    "class Human:\n",
    "    def __init__(self, name, age, gender):\n",
    "        self.name = name\n",
    "        self.age = age\n",
    "        self.gender = gender\n",
    "\n",
    "areum = Human(\"아름\", 25, \"여자\")"
   ]
  },
  {
   "cell_type": "code",
   "execution_count": 95,
   "id": "9ca9cd9d-4e9c-49c2-9f33-d2da6c799c01",
   "metadata": {},
   "outputs": [],
   "source": [
    "# 1번 문제에서 생성한 areum객체에서 이름, 나이, 성별을 출력하기"
   ]
  },
  {
   "cell_type": "code",
   "execution_count": 96,
   "id": "fa1e10f3-68c6-4bbf-96fc-82d0a15e4ffe",
   "metadata": {},
   "outputs": [
    {
     "name": "stdout",
     "output_type": "stream",
     "text": [
      "아름\n"
     ]
    }
   ],
   "source": [
    "print(areum.name)"
   ]
  },
  {
   "cell_type": "code",
   "execution_count": 97,
   "id": "a036487b-c78d-4eec-91da-bba906f89508",
   "metadata": {},
   "outputs": [
    {
     "name": "stdout",
     "output_type": "stream",
     "text": [
      "25\n"
     ]
    }
   ],
   "source": [
    "print(areum.age)"
   ]
  },
  {
   "cell_type": "code",
   "execution_count": 98,
   "id": "396061cf-ec79-471c-bc65-a1567b295c55",
   "metadata": {},
   "outputs": [
    {
     "name": "stdout",
     "output_type": "stream",
     "text": [
      "여자\n"
     ]
    }
   ],
   "source": [
    "print(areum.gender)"
   ]
  },
  {
   "cell_type": "code",
   "execution_count": 3,
   "id": "9a12d34c-3ac0-4163-a451-df4816bf80d5",
   "metadata": {},
   "outputs": [],
   "source": [
    "# 1번 문저에서 만든 Human클레스에 (이름, 나이, 성별)을 받는 setinfo메소드 추가\n",
    "class Human:\n",
    "    def __init__(self, name, age, gender):\n",
    "        self.name = name\n",
    "        self.age = age\n",
    "        self.gender = gender\n",
    "    \n",
    "    def set_info(self, name, age, gender):\n",
    "        self.name = name\n",
    "        self.age = age\n",
    "        self.gender = gender"
   ]
  },
  {
   "cell_type": "code",
   "execution_count": 8,
   "id": "e178681a-fa21-403a-9dc5-a32141ddd8cc",
   "metadata": {},
   "outputs": [
    {
     "name": "stdout",
     "output_type": "stream",
     "text": [
      "아름\n",
      "27\n",
      "여자\n"
     ]
    }
   ],
   "source": [
    "areum = Human(\"아름\", 25, \"여자\")\n",
    "areum.set_info(\"아름\", 27, \"여자\")\n",
    "print(areum.name)\n",
    "print(areum.age)\n",
    "print(areum.gender)"
   ]
  },
  {
   "cell_type": "code",
   "execution_count": 13,
   "id": "3f748ce9-e932-43c4-b3f4-6192b0698087",
   "metadata": {
    "tags": []
   },
   "outputs": [],
   "source": [
    "# stock 클래스에 종목명과 종목코드를 받는 생성자를 정의하여 아래의 코드를 통해\n",
    "# samsung 객체 생성\n",
    "class Stock:\n",
    "    def __init__(self, name, code):\n",
    "        self.name = name\n",
    "        self.code = code\n",
    "        \n",
    "samsung = Stock(\"삼성전자\", \"005930\")"
   ]
  },
  {
   "cell_type": "code",
   "execution_count": 20,
   "id": "3d1a957e-11ff-4305-af08-bc78c1979a98",
   "metadata": {},
   "outputs": [
    {
     "name": "stdout",
     "output_type": "stream",
     "text": [
      "삼성전자\n",
      "None\n"
     ]
    }
   ],
   "source": [
    "# Stock 클래스에 객체의 종목명을 입력할 수 있는 set_name 매서드 추가\n",
    "class Stock:\n",
    "    def __init__(self, name, code):\n",
    "        self.name = name\n",
    "        self.code = code\n",
    "        \n",
    "    def set_name(self, name):\n",
    "        self.name = name\n",
    "        \n",
    "a = Stock(None, None)\n",
    "a.set_name(\"삼성전자\")\n",
    "print(a.name)\n",
    "print(a.code)"
   ]
  },
  {
   "cell_type": "code",
   "execution_count": 26,
   "id": "3047c234-bb3c-4934-9895-c5a3ba382676",
   "metadata": {},
   "outputs": [],
   "source": [
    "# Stock 클래스에 set_name과 set_code 메서드를 이용해서\n",
    "# 종목명과 종목코드를 입력하는 set_info 만들기\n",
    "class Stock:\n",
    "    def __init__(self, name, code):\n",
    "        self.name = name\n",
    "        self.code = code\n",
    "        \n",
    "    def set_name(self, name):\n",
    "        self.name = name\n",
    "    \n",
    "    def set_code(self, code):\n",
    "        self.code = code\n",
    "        \n",
    "    def set_info(self, name, code):\n",
    "        self.set_name(name)\n",
    "        self.set_code(code)"
   ]
  },
  {
   "cell_type": "code",
   "execution_count": null,
   "id": "3e16e8eb-43dd-489d-95c8-6b8f5831c4fd",
   "metadata": {},
   "outputs": [],
   "source": []
  },
  {
   "cell_type": "code",
   "execution_count": null,
   "id": "89607b5e-420d-4b5b-b0b1-d107ef31b49f",
   "metadata": {},
   "outputs": [],
   "source": []
  },
  {
   "cell_type": "code",
   "execution_count": null,
   "id": "76d0f00c-9b7d-4a24-bde3-5e9be97134c2",
   "metadata": {},
   "outputs": [],
   "source": []
  },
  {
   "cell_type": "code",
   "execution_count": null,
   "id": "a0893e93-a5e1-40f5-bd82-f7a5d87f6c2c",
   "metadata": {},
   "outputs": [],
   "source": []
  },
  {
   "cell_type": "code",
   "execution_count": null,
   "id": "cb047ad5-5146-4be2-a584-e0b8ceb564b3",
   "metadata": {},
   "outputs": [],
   "source": []
  },
  {
   "cell_type": "code",
   "execution_count": null,
   "id": "65740266-be47-4858-b14b-d80d28f86f95",
   "metadata": {},
   "outputs": [],
   "source": []
  },
  {
   "cell_type": "code",
   "execution_count": null,
   "id": "56524d5d-5378-4b90-a757-5c25c02f3d02",
   "metadata": {},
   "outputs": [],
   "source": []
  },
  {
   "cell_type": "code",
   "execution_count": null,
   "id": "5a0e84c6-87b5-4171-b999-99daac836214",
   "metadata": {},
   "outputs": [],
   "source": []
  },
  {
   "cell_type": "code",
   "execution_count": null,
   "id": "0f33ff2c-1f68-4a0e-a188-4e6c3df6a009",
   "metadata": {},
   "outputs": [],
   "source": []
  },
  {
   "cell_type": "code",
   "execution_count": null,
   "id": "216e5eed-237a-401b-ab38-4fa481000690",
   "metadata": {},
   "outputs": [],
   "source": []
  },
  {
   "cell_type": "code",
   "execution_count": null,
   "id": "e4df9df1-d98e-412e-9148-67da0af20fe0",
   "metadata": {},
   "outputs": [],
   "source": []
  },
  {
   "cell_type": "code",
   "execution_count": null,
   "id": "4bec7296-6cb1-4341-9a01-469f7d4c6e8f",
   "metadata": {},
   "outputs": [],
   "source": []
  },
  {
   "cell_type": "code",
   "execution_count": null,
   "id": "158c39f0-973d-496c-972f-fa9fce7c0b03",
   "metadata": {},
   "outputs": [],
   "source": []
  },
  {
   "cell_type": "code",
   "execution_count": null,
   "id": "f6080e4c-13ad-442d-81d2-186f3079bb43",
   "metadata": {},
   "outputs": [],
   "source": []
  },
  {
   "cell_type": "code",
   "execution_count": null,
   "id": "d6d4ab46-6ee2-4895-9b09-aa4ccc43f3b3",
   "metadata": {},
   "outputs": [],
   "source": []
  },
  {
   "cell_type": "code",
   "execution_count": null,
   "id": "9bc6da04-4808-4d36-ac33-7bcd53600da3",
   "metadata": {},
   "outputs": [],
   "source": []
  }
 ],
 "metadata": {
  "kernelspec": {
   "display_name": "Python 3 (ipykernel)",
   "language": "python",
   "name": "python3"
  },
  "language_info": {
   "codemirror_mode": {
    "name": "ipython",
    "version": 3
   },
   "file_extension": ".py",
   "mimetype": "text/x-python",
   "name": "python",
   "nbconvert_exporter": "python",
   "pygments_lexer": "ipython3",
   "version": "3.10.9"
  }
 },
 "nbformat": 4,
 "nbformat_minor": 5
}
